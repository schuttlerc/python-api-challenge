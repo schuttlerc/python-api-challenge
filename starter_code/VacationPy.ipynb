{
 "cells": [
  {
   "cell_type": "markdown",
   "metadata": {},
   "source": [
    "# VacationPy\n",
    "---\n",
    "\n",
    "## Starter Code to Import Libraries and Load the Weather and Coordinates Data"
   ]
  },
  {
   "cell_type": "code",
   "execution_count": 1,
   "metadata": {
    "tags": []
   },
   "outputs": [
    {
     "data": {
      "application/javascript": [
       "(function(root) {\n",
       "  function now() {\n",
       "    return new Date();\n",
       "  }\n",
       "\n",
       "  var force = true;\n",
       "  var py_version = '3.2.1'.replace('rc', '-rc.').replace('.dev', '-dev.');\n",
       "  var is_dev = py_version.indexOf(\"+\") !== -1 || py_version.indexOf(\"-\") !== -1;\n",
       "  var reloading = false;\n",
       "  var Bokeh = root.Bokeh;\n",
       "  var bokeh_loaded = Bokeh != null && (Bokeh.version === py_version || (Bokeh.versions !== undefined && Bokeh.versions.has(py_version)));\n",
       "\n",
       "  if (typeof (root._bokeh_timeout) === \"undefined\" || force) {\n",
       "    root._bokeh_timeout = Date.now() + 5000;\n",
       "    root._bokeh_failed_load = false;\n",
       "  }\n",
       "\n",
       "  function run_callbacks() {\n",
       "    try {\n",
       "      root._bokeh_onload_callbacks.forEach(function(callback) {\n",
       "        if (callback != null)\n",
       "          callback();\n",
       "      });\n",
       "    } finally {\n",
       "      delete root._bokeh_onload_callbacks;\n",
       "    }\n",
       "    console.debug(\"Bokeh: all callbacks have finished\");\n",
       "  }\n",
       "\n",
       "  function load_libs(css_urls, js_urls, js_modules, js_exports, callback) {\n",
       "    if (css_urls == null) css_urls = [];\n",
       "    if (js_urls == null) js_urls = [];\n",
       "    if (js_modules == null) js_modules = [];\n",
       "    if (js_exports == null) js_exports = {};\n",
       "\n",
       "    root._bokeh_onload_callbacks.push(callback);\n",
       "\n",
       "    if (root._bokeh_is_loading > 0) {\n",
       "      console.debug(\"Bokeh: BokehJS is being loaded, scheduling callback at\", now());\n",
       "      return null;\n",
       "    }\n",
       "    if (js_urls.length === 0 && js_modules.length === 0 && Object.keys(js_exports).length === 0) {\n",
       "      run_callbacks();\n",
       "      return null;\n",
       "    }\n",
       "    if (!reloading) {\n",
       "      console.debug(\"Bokeh: BokehJS not loaded, scheduling load and callback at\", now());\n",
       "    }\n",
       "\n",
       "    function on_load() {\n",
       "      root._bokeh_is_loading--;\n",
       "      if (root._bokeh_is_loading === 0) {\n",
       "        console.debug(\"Bokeh: all BokehJS libraries/stylesheets loaded\");\n",
       "        run_callbacks()\n",
       "      }\n",
       "    }\n",
       "    window._bokeh_on_load = on_load\n",
       "\n",
       "    function on_error() {\n",
       "      console.error(\"failed to load \" + url);\n",
       "    }\n",
       "\n",
       "    var skip = [];\n",
       "    if (window.requirejs) {\n",
       "      window.requirejs.config({'packages': {}, 'paths': {'jspanel': 'https://cdn.jsdelivr.net/npm/jspanel4@4.12.0/dist/jspanel', 'jspanel-modal': 'https://cdn.jsdelivr.net/npm/jspanel4@4.12.0/dist/extensions/modal/jspanel.modal', 'jspanel-tooltip': 'https://cdn.jsdelivr.net/npm/jspanel4@4.12.0/dist/extensions/tooltip/jspanel.tooltip', 'jspanel-hint': 'https://cdn.jsdelivr.net/npm/jspanel4@4.12.0/dist/extensions/hint/jspanel.hint', 'jspanel-layout': 'https://cdn.jsdelivr.net/npm/jspanel4@4.12.0/dist/extensions/layout/jspanel.layout', 'jspanel-contextmenu': 'https://cdn.jsdelivr.net/npm/jspanel4@4.12.0/dist/extensions/contextmenu/jspanel.contextmenu', 'jspanel-dock': 'https://cdn.jsdelivr.net/npm/jspanel4@4.12.0/dist/extensions/dock/jspanel.dock', 'gridstack': 'https://cdn.jsdelivr.net/npm/gridstack@7.2.3/dist/gridstack-all', 'notyf': 'https://cdn.jsdelivr.net/npm/notyf@3/notyf.min'}, 'shim': {'jspanel': {'exports': 'jsPanel'}, 'gridstack': {'exports': 'GridStack'}}});\n",
       "      require([\"jspanel\"], function(jsPanel) {\n",
       "\twindow.jsPanel = jsPanel\n",
       "\ton_load()\n",
       "      })\n",
       "      require([\"jspanel-modal\"], function() {\n",
       "\ton_load()\n",
       "      })\n",
       "      require([\"jspanel-tooltip\"], function() {\n",
       "\ton_load()\n",
       "      })\n",
       "      require([\"jspanel-hint\"], function() {\n",
       "\ton_load()\n",
       "      })\n",
       "      require([\"jspanel-layout\"], function() {\n",
       "\ton_load()\n",
       "      })\n",
       "      require([\"jspanel-contextmenu\"], function() {\n",
       "\ton_load()\n",
       "      })\n",
       "      require([\"jspanel-dock\"], function() {\n",
       "\ton_load()\n",
       "      })\n",
       "      require([\"gridstack\"], function(GridStack) {\n",
       "\twindow.GridStack = GridStack\n",
       "\ton_load()\n",
       "      })\n",
       "      require([\"notyf\"], function() {\n",
       "\ton_load()\n",
       "      })\n",
       "      root._bokeh_is_loading = css_urls.length + 9;\n",
       "    } else {\n",
       "      root._bokeh_is_loading = css_urls.length + js_urls.length + js_modules.length + Object.keys(js_exports).length;\n",
       "    }\n",
       "\n",
       "    var existing_stylesheets = []\n",
       "    var links = document.getElementsByTagName('link')\n",
       "    for (var i = 0; i < links.length; i++) {\n",
       "      var link = links[i]\n",
       "      if (link.href != null) {\n",
       "\texisting_stylesheets.push(link.href)\n",
       "      }\n",
       "    }\n",
       "    for (var i = 0; i < css_urls.length; i++) {\n",
       "      var url = css_urls[i];\n",
       "      if (existing_stylesheets.indexOf(url) !== -1) {\n",
       "\ton_load()\n",
       "\tcontinue;\n",
       "      }\n",
       "      const element = document.createElement(\"link\");\n",
       "      element.onload = on_load;\n",
       "      element.onerror = on_error;\n",
       "      element.rel = \"stylesheet\";\n",
       "      element.type = \"text/css\";\n",
       "      element.href = url;\n",
       "      console.debug(\"Bokeh: injecting link tag for BokehJS stylesheet: \", url);\n",
       "      document.body.appendChild(element);\n",
       "    }    if (((window['jsPanel'] !== undefined) && (!(window['jsPanel'] instanceof HTMLElement))) || window.requirejs) {\n",
       "      var urls = ['https://cdn.holoviz.org/panel/1.2.1/dist/bundled/floatpanel/jspanel4@4.12.0/dist/jspanel.js', 'https://cdn.holoviz.org/panel/1.2.1/dist/bundled/floatpanel/jspanel4@4.12.0/dist/extensions/modal/jspanel.modal.js', 'https://cdn.holoviz.org/panel/1.2.1/dist/bundled/floatpanel/jspanel4@4.12.0/dist/extensions/tooltip/jspanel.tooltip.js', 'https://cdn.holoviz.org/panel/1.2.1/dist/bundled/floatpanel/jspanel4@4.12.0/dist/extensions/hint/jspanel.hint.js', 'https://cdn.holoviz.org/panel/1.2.1/dist/bundled/floatpanel/jspanel4@4.12.0/dist/extensions/layout/jspanel.layout.js', 'https://cdn.holoviz.org/panel/1.2.1/dist/bundled/floatpanel/jspanel4@4.12.0/dist/extensions/contextmenu/jspanel.contextmenu.js', 'https://cdn.holoviz.org/panel/1.2.1/dist/bundled/floatpanel/jspanel4@4.12.0/dist/extensions/dock/jspanel.dock.js'];\n",
       "      for (var i = 0; i < urls.length; i++) {\n",
       "        skip.push(urls[i])\n",
       "      }\n",
       "    }    if (((window['GridStack'] !== undefined) && (!(window['GridStack'] instanceof HTMLElement))) || window.requirejs) {\n",
       "      var urls = ['https://cdn.holoviz.org/panel/1.2.1/dist/bundled/gridstack/gridstack@7.2.3/dist/gridstack-all.js'];\n",
       "      for (var i = 0; i < urls.length; i++) {\n",
       "        skip.push(urls[i])\n",
       "      }\n",
       "    }    if (((window['Notyf'] !== undefined) && (!(window['Notyf'] instanceof HTMLElement))) || window.requirejs) {\n",
       "      var urls = ['https://cdn.holoviz.org/panel/1.2.1/dist/bundled/notificationarea/notyf@3/notyf.min.js'];\n",
       "      for (var i = 0; i < urls.length; i++) {\n",
       "        skip.push(urls[i])\n",
       "      }\n",
       "    }    var existing_scripts = []\n",
       "    var scripts = document.getElementsByTagName('script')\n",
       "    for (var i = 0; i < scripts.length; i++) {\n",
       "      var script = scripts[i]\n",
       "      if (script.src != null) {\n",
       "\texisting_scripts.push(script.src)\n",
       "      }\n",
       "    }\n",
       "    for (var i = 0; i < js_urls.length; i++) {\n",
       "      var url = js_urls[i];\n",
       "      if (skip.indexOf(url) !== -1 || existing_scripts.indexOf(url) !== -1) {\n",
       "\tif (!window.requirejs) {\n",
       "\t  on_load();\n",
       "\t}\n",
       "\tcontinue;\n",
       "      }\n",
       "      var element = document.createElement('script');\n",
       "      element.onload = on_load;\n",
       "      element.onerror = on_error;\n",
       "      element.async = false;\n",
       "      element.src = url;\n",
       "      console.debug(\"Bokeh: injecting script tag for BokehJS library: \", url);\n",
       "      document.head.appendChild(element);\n",
       "    }\n",
       "    for (var i = 0; i < js_modules.length; i++) {\n",
       "      var url = js_modules[i];\n",
       "      if (skip.indexOf(url) !== -1 || existing_scripts.indexOf(url) !== -1) {\n",
       "\tif (!window.requirejs) {\n",
       "\t  on_load();\n",
       "\t}\n",
       "\tcontinue;\n",
       "      }\n",
       "      var element = document.createElement('script');\n",
       "      element.onload = on_load;\n",
       "      element.onerror = on_error;\n",
       "      element.async = false;\n",
       "      element.src = url;\n",
       "      element.type = \"module\";\n",
       "      console.debug(\"Bokeh: injecting script tag for BokehJS library: \", url);\n",
       "      document.head.appendChild(element);\n",
       "    }\n",
       "    for (const name in js_exports) {\n",
       "      var url = js_exports[name];\n",
       "      if (skip.indexOf(url) >= 0 || root[name] != null) {\n",
       "\tif (!window.requirejs) {\n",
       "\t  on_load();\n",
       "\t}\n",
       "\tcontinue;\n",
       "      }\n",
       "      var element = document.createElement('script');\n",
       "      element.onerror = on_error;\n",
       "      element.async = false;\n",
       "      element.type = \"module\";\n",
       "      console.debug(\"Bokeh: injecting script tag for BokehJS library: \", url);\n",
       "      element.textContent = `\n",
       "      import ${name} from \"${url}\"\n",
       "      window.${name} = ${name}\n",
       "      window._bokeh_on_load()\n",
       "      `\n",
       "      document.head.appendChild(element);\n",
       "    }\n",
       "    if (!js_urls.length && !js_modules.length) {\n",
       "      on_load()\n",
       "    }\n",
       "  };\n",
       "\n",
       "  function inject_raw_css(css) {\n",
       "    const element = document.createElement(\"style\");\n",
       "    element.appendChild(document.createTextNode(css));\n",
       "    document.body.appendChild(element);\n",
       "  }\n",
       "\n",
       "  var js_urls = [\"https://cdn.bokeh.org/bokeh/release/bokeh-3.2.1.min.js\", \"https://cdn.bokeh.org/bokeh/release/bokeh-gl-3.2.1.min.js\", \"https://cdn.bokeh.org/bokeh/release/bokeh-widgets-3.2.1.min.js\", \"https://cdn.bokeh.org/bokeh/release/bokeh-tables-3.2.1.min.js\", \"https://cdn.holoviz.org/panel/1.2.1/dist/panel.min.js\"];\n",
       "  var js_modules = [];\n",
       "  var js_exports = {};\n",
       "  var css_urls = [];\n",
       "  var inline_js = [    function(Bokeh) {\n",
       "      Bokeh.set_log_level(\"info\");\n",
       "    },\n",
       "function(Bokeh) {} // ensure no trailing comma for IE\n",
       "  ];\n",
       "\n",
       "  function run_inline_js() {\n",
       "    if ((root.Bokeh !== undefined) || (force === true)) {\n",
       "      for (var i = 0; i < inline_js.length; i++) {\n",
       "        inline_js[i].call(root, root.Bokeh);\n",
       "      }\n",
       "      // Cache old bokeh versions\n",
       "      if (Bokeh != undefined && !reloading) {\n",
       "\tvar NewBokeh = root.Bokeh;\n",
       "\tif (Bokeh.versions === undefined) {\n",
       "\t  Bokeh.versions = new Map();\n",
       "\t}\n",
       "\tif (NewBokeh.version !== Bokeh.version) {\n",
       "\t  Bokeh.versions.set(NewBokeh.version, NewBokeh)\n",
       "\t}\n",
       "\troot.Bokeh = Bokeh;\n",
       "      }} else if (Date.now() < root._bokeh_timeout) {\n",
       "      setTimeout(run_inline_js, 100);\n",
       "    } else if (!root._bokeh_failed_load) {\n",
       "      console.log(\"Bokeh: BokehJS failed to load within specified timeout.\");\n",
       "      root._bokeh_failed_load = true;\n",
       "    }\n",
       "    root._bokeh_is_initializing = false\n",
       "  }\n",
       "\n",
       "  function load_or_wait() {\n",
       "    // Implement a backoff loop that tries to ensure we do not load multiple\n",
       "    // versions of Bokeh and its dependencies at the same time.\n",
       "    // In recent versions we use the root._bokeh_is_initializing flag\n",
       "    // to determine whether there is an ongoing attempt to initialize\n",
       "    // bokeh, however for backward compatibility we also try to ensure\n",
       "    // that we do not start loading a newer (Panel>=1.0 and Bokeh>3) version\n",
       "    // before older versions are fully initialized.\n",
       "    if (root._bokeh_is_initializing && Date.now() > root._bokeh_timeout) {\n",
       "      root._bokeh_is_initializing = false;\n",
       "      root._bokeh_onload_callbacks = undefined;\n",
       "      console.log(\"Bokeh: BokehJS was loaded multiple times but one version failed to initialize.\");\n",
       "      load_or_wait();\n",
       "    } else if (root._bokeh_is_initializing || (typeof root._bokeh_is_initializing === \"undefined\" && root._bokeh_onload_callbacks !== undefined)) {\n",
       "      setTimeout(load_or_wait, 100);\n",
       "    } else {\n",
       "      Bokeh = root.Bokeh;\n",
       "      bokeh_loaded = Bokeh != null && (Bokeh.version === py_version || (Bokeh.versions !== undefined && Bokeh.versions.has(py_version)));\n",
       "      root._bokeh_is_initializing = true\n",
       "      root._bokeh_onload_callbacks = []\n",
       "      if (!reloading && (!bokeh_loaded || is_dev)) {\n",
       "\troot.Bokeh = undefined;\n",
       "      }\n",
       "      load_libs(css_urls, js_urls, js_modules, js_exports, function() {\n",
       "\tconsole.debug(\"Bokeh: BokehJS plotting callback run at\", now());\n",
       "\trun_inline_js();\n",
       "      });\n",
       "    }\n",
       "  }\n",
       "  // Give older versions of the autoload script a head-start to ensure\n",
       "  // they initialize before we start loading newer version.\n",
       "  setTimeout(load_or_wait, 100)\n",
       "}(window));"
      ],
      "application/vnd.holoviews_load.v0+json": "(function(root) {\n  function now() {\n    return new Date();\n  }\n\n  var force = true;\n  var py_version = '3.2.1'.replace('rc', '-rc.').replace('.dev', '-dev.');\n  var is_dev = py_version.indexOf(\"+\") !== -1 || py_version.indexOf(\"-\") !== -1;\n  var reloading = false;\n  var Bokeh = root.Bokeh;\n  var bokeh_loaded = Bokeh != null && (Bokeh.version === py_version || (Bokeh.versions !== undefined && Bokeh.versions.has(py_version)));\n\n  if (typeof (root._bokeh_timeout) === \"undefined\" || force) {\n    root._bokeh_timeout = Date.now() + 5000;\n    root._bokeh_failed_load = false;\n  }\n\n  function run_callbacks() {\n    try {\n      root._bokeh_onload_callbacks.forEach(function(callback) {\n        if (callback != null)\n          callback();\n      });\n    } finally {\n      delete root._bokeh_onload_callbacks;\n    }\n    console.debug(\"Bokeh: all callbacks have finished\");\n  }\n\n  function load_libs(css_urls, js_urls, js_modules, js_exports, callback) {\n    if (css_urls == null) css_urls = [];\n    if (js_urls == null) js_urls = [];\n    if (js_modules == null) js_modules = [];\n    if (js_exports == null) js_exports = {};\n\n    root._bokeh_onload_callbacks.push(callback);\n\n    if (root._bokeh_is_loading > 0) {\n      console.debug(\"Bokeh: BokehJS is being loaded, scheduling callback at\", now());\n      return null;\n    }\n    if (js_urls.length === 0 && js_modules.length === 0 && Object.keys(js_exports).length === 0) {\n      run_callbacks();\n      return null;\n    }\n    if (!reloading) {\n      console.debug(\"Bokeh: BokehJS not loaded, scheduling load and callback at\", now());\n    }\n\n    function on_load() {\n      root._bokeh_is_loading--;\n      if (root._bokeh_is_loading === 0) {\n        console.debug(\"Bokeh: all BokehJS libraries/stylesheets loaded\");\n        run_callbacks()\n      }\n    }\n    window._bokeh_on_load = on_load\n\n    function on_error() {\n      console.error(\"failed to load \" + url);\n    }\n\n    var skip = [];\n    if (window.requirejs) {\n      window.requirejs.config({'packages': {}, 'paths': {'jspanel': 'https://cdn.jsdelivr.net/npm/jspanel4@4.12.0/dist/jspanel', 'jspanel-modal': 'https://cdn.jsdelivr.net/npm/jspanel4@4.12.0/dist/extensions/modal/jspanel.modal', 'jspanel-tooltip': 'https://cdn.jsdelivr.net/npm/jspanel4@4.12.0/dist/extensions/tooltip/jspanel.tooltip', 'jspanel-hint': 'https://cdn.jsdelivr.net/npm/jspanel4@4.12.0/dist/extensions/hint/jspanel.hint', 'jspanel-layout': 'https://cdn.jsdelivr.net/npm/jspanel4@4.12.0/dist/extensions/layout/jspanel.layout', 'jspanel-contextmenu': 'https://cdn.jsdelivr.net/npm/jspanel4@4.12.0/dist/extensions/contextmenu/jspanel.contextmenu', 'jspanel-dock': 'https://cdn.jsdelivr.net/npm/jspanel4@4.12.0/dist/extensions/dock/jspanel.dock', 'gridstack': 'https://cdn.jsdelivr.net/npm/gridstack@7.2.3/dist/gridstack-all', 'notyf': 'https://cdn.jsdelivr.net/npm/notyf@3/notyf.min'}, 'shim': {'jspanel': {'exports': 'jsPanel'}, 'gridstack': {'exports': 'GridStack'}}});\n      require([\"jspanel\"], function(jsPanel) {\n\twindow.jsPanel = jsPanel\n\ton_load()\n      })\n      require([\"jspanel-modal\"], function() {\n\ton_load()\n      })\n      require([\"jspanel-tooltip\"], function() {\n\ton_load()\n      })\n      require([\"jspanel-hint\"], function() {\n\ton_load()\n      })\n      require([\"jspanel-layout\"], function() {\n\ton_load()\n      })\n      require([\"jspanel-contextmenu\"], function() {\n\ton_load()\n      })\n      require([\"jspanel-dock\"], function() {\n\ton_load()\n      })\n      require([\"gridstack\"], function(GridStack) {\n\twindow.GridStack = GridStack\n\ton_load()\n      })\n      require([\"notyf\"], function() {\n\ton_load()\n      })\n      root._bokeh_is_loading = css_urls.length + 9;\n    } else {\n      root._bokeh_is_loading = css_urls.length + js_urls.length + js_modules.length + Object.keys(js_exports).length;\n    }\n\n    var existing_stylesheets = []\n    var links = document.getElementsByTagName('link')\n    for (var i = 0; i < links.length; i++) {\n      var link = links[i]\n      if (link.href != null) {\n\texisting_stylesheets.push(link.href)\n      }\n    }\n    for (var i = 0; i < css_urls.length; i++) {\n      var url = css_urls[i];\n      if (existing_stylesheets.indexOf(url) !== -1) {\n\ton_load()\n\tcontinue;\n      }\n      const element = document.createElement(\"link\");\n      element.onload = on_load;\n      element.onerror = on_error;\n      element.rel = \"stylesheet\";\n      element.type = \"text/css\";\n      element.href = url;\n      console.debug(\"Bokeh: injecting link tag for BokehJS stylesheet: \", url);\n      document.body.appendChild(element);\n    }    if (((window['jsPanel'] !== undefined) && (!(window['jsPanel'] instanceof HTMLElement))) || window.requirejs) {\n      var urls = ['https://cdn.holoviz.org/panel/1.2.1/dist/bundled/floatpanel/jspanel4@4.12.0/dist/jspanel.js', 'https://cdn.holoviz.org/panel/1.2.1/dist/bundled/floatpanel/jspanel4@4.12.0/dist/extensions/modal/jspanel.modal.js', 'https://cdn.holoviz.org/panel/1.2.1/dist/bundled/floatpanel/jspanel4@4.12.0/dist/extensions/tooltip/jspanel.tooltip.js', 'https://cdn.holoviz.org/panel/1.2.1/dist/bundled/floatpanel/jspanel4@4.12.0/dist/extensions/hint/jspanel.hint.js', 'https://cdn.holoviz.org/panel/1.2.1/dist/bundled/floatpanel/jspanel4@4.12.0/dist/extensions/layout/jspanel.layout.js', 'https://cdn.holoviz.org/panel/1.2.1/dist/bundled/floatpanel/jspanel4@4.12.0/dist/extensions/contextmenu/jspanel.contextmenu.js', 'https://cdn.holoviz.org/panel/1.2.1/dist/bundled/floatpanel/jspanel4@4.12.0/dist/extensions/dock/jspanel.dock.js'];\n      for (var i = 0; i < urls.length; i++) {\n        skip.push(urls[i])\n      }\n    }    if (((window['GridStack'] !== undefined) && (!(window['GridStack'] instanceof HTMLElement))) || window.requirejs) {\n      var urls = ['https://cdn.holoviz.org/panel/1.2.1/dist/bundled/gridstack/gridstack@7.2.3/dist/gridstack-all.js'];\n      for (var i = 0; i < urls.length; i++) {\n        skip.push(urls[i])\n      }\n    }    if (((window['Notyf'] !== undefined) && (!(window['Notyf'] instanceof HTMLElement))) || window.requirejs) {\n      var urls = ['https://cdn.holoviz.org/panel/1.2.1/dist/bundled/notificationarea/notyf@3/notyf.min.js'];\n      for (var i = 0; i < urls.length; i++) {\n        skip.push(urls[i])\n      }\n    }    var existing_scripts = []\n    var scripts = document.getElementsByTagName('script')\n    for (var i = 0; i < scripts.length; i++) {\n      var script = scripts[i]\n      if (script.src != null) {\n\texisting_scripts.push(script.src)\n      }\n    }\n    for (var i = 0; i < js_urls.length; i++) {\n      var url = js_urls[i];\n      if (skip.indexOf(url) !== -1 || existing_scripts.indexOf(url) !== -1) {\n\tif (!window.requirejs) {\n\t  on_load();\n\t}\n\tcontinue;\n      }\n      var element = document.createElement('script');\n      element.onload = on_load;\n      element.onerror = on_error;\n      element.async = false;\n      element.src = url;\n      console.debug(\"Bokeh: injecting script tag for BokehJS library: \", url);\n      document.head.appendChild(element);\n    }\n    for (var i = 0; i < js_modules.length; i++) {\n      var url = js_modules[i];\n      if (skip.indexOf(url) !== -1 || existing_scripts.indexOf(url) !== -1) {\n\tif (!window.requirejs) {\n\t  on_load();\n\t}\n\tcontinue;\n      }\n      var element = document.createElement('script');\n      element.onload = on_load;\n      element.onerror = on_error;\n      element.async = false;\n      element.src = url;\n      element.type = \"module\";\n      console.debug(\"Bokeh: injecting script tag for BokehJS library: \", url);\n      document.head.appendChild(element);\n    }\n    for (const name in js_exports) {\n      var url = js_exports[name];\n      if (skip.indexOf(url) >= 0 || root[name] != null) {\n\tif (!window.requirejs) {\n\t  on_load();\n\t}\n\tcontinue;\n      }\n      var element = document.createElement('script');\n      element.onerror = on_error;\n      element.async = false;\n      element.type = \"module\";\n      console.debug(\"Bokeh: injecting script tag for BokehJS library: \", url);\n      element.textContent = `\n      import ${name} from \"${url}\"\n      window.${name} = ${name}\n      window._bokeh_on_load()\n      `\n      document.head.appendChild(element);\n    }\n    if (!js_urls.length && !js_modules.length) {\n      on_load()\n    }\n  };\n\n  function inject_raw_css(css) {\n    const element = document.createElement(\"style\");\n    element.appendChild(document.createTextNode(css));\n    document.body.appendChild(element);\n  }\n\n  var js_urls = [\"https://cdn.bokeh.org/bokeh/release/bokeh-3.2.1.min.js\", \"https://cdn.bokeh.org/bokeh/release/bokeh-gl-3.2.1.min.js\", \"https://cdn.bokeh.org/bokeh/release/bokeh-widgets-3.2.1.min.js\", \"https://cdn.bokeh.org/bokeh/release/bokeh-tables-3.2.1.min.js\", \"https://cdn.holoviz.org/panel/1.2.1/dist/panel.min.js\"];\n  var js_modules = [];\n  var js_exports = {};\n  var css_urls = [];\n  var inline_js = [    function(Bokeh) {\n      Bokeh.set_log_level(\"info\");\n    },\nfunction(Bokeh) {} // ensure no trailing comma for IE\n  ];\n\n  function run_inline_js() {\n    if ((root.Bokeh !== undefined) || (force === true)) {\n      for (var i = 0; i < inline_js.length; i++) {\n        inline_js[i].call(root, root.Bokeh);\n      }\n      // Cache old bokeh versions\n      if (Bokeh != undefined && !reloading) {\n\tvar NewBokeh = root.Bokeh;\n\tif (Bokeh.versions === undefined) {\n\t  Bokeh.versions = new Map();\n\t}\n\tif (NewBokeh.version !== Bokeh.version) {\n\t  Bokeh.versions.set(NewBokeh.version, NewBokeh)\n\t}\n\troot.Bokeh = Bokeh;\n      }} else if (Date.now() < root._bokeh_timeout) {\n      setTimeout(run_inline_js, 100);\n    } else if (!root._bokeh_failed_load) {\n      console.log(\"Bokeh: BokehJS failed to load within specified timeout.\");\n      root._bokeh_failed_load = true;\n    }\n    root._bokeh_is_initializing = false\n  }\n\n  function load_or_wait() {\n    // Implement a backoff loop that tries to ensure we do not load multiple\n    // versions of Bokeh and its dependencies at the same time.\n    // In recent versions we use the root._bokeh_is_initializing flag\n    // to determine whether there is an ongoing attempt to initialize\n    // bokeh, however for backward compatibility we also try to ensure\n    // that we do not start loading a newer (Panel>=1.0 and Bokeh>3) version\n    // before older versions are fully initialized.\n    if (root._bokeh_is_initializing && Date.now() > root._bokeh_timeout) {\n      root._bokeh_is_initializing = false;\n      root._bokeh_onload_callbacks = undefined;\n      console.log(\"Bokeh: BokehJS was loaded multiple times but one version failed to initialize.\");\n      load_or_wait();\n    } else if (root._bokeh_is_initializing || (typeof root._bokeh_is_initializing === \"undefined\" && root._bokeh_onload_callbacks !== undefined)) {\n      setTimeout(load_or_wait, 100);\n    } else {\n      Bokeh = root.Bokeh;\n      bokeh_loaded = Bokeh != null && (Bokeh.version === py_version || (Bokeh.versions !== undefined && Bokeh.versions.has(py_version)));\n      root._bokeh_is_initializing = true\n      root._bokeh_onload_callbacks = []\n      if (!reloading && (!bokeh_loaded || is_dev)) {\n\troot.Bokeh = undefined;\n      }\n      load_libs(css_urls, js_urls, js_modules, js_exports, function() {\n\tconsole.debug(\"Bokeh: BokehJS plotting callback run at\", now());\n\trun_inline_js();\n      });\n    }\n  }\n  // Give older versions of the autoload script a head-start to ensure\n  // they initialize before we start loading newer version.\n  setTimeout(load_or_wait, 100)\n}(window));"
     },
     "metadata": {},
     "output_type": "display_data"
    },
    {
     "data": {
      "application/javascript": [
       "\n",
       "if ((window.PyViz === undefined) || (window.PyViz instanceof HTMLElement)) {\n",
       "  window.PyViz = {comms: {}, comm_status:{}, kernels:{}, receivers: {}, plot_index: []}\n",
       "}\n",
       "\n",
       "\n",
       "    function JupyterCommManager() {\n",
       "    }\n",
       "\n",
       "    JupyterCommManager.prototype.register_target = function(plot_id, comm_id, msg_handler) {\n",
       "      if (window.comm_manager || ((window.Jupyter !== undefined) && (Jupyter.notebook.kernel != null))) {\n",
       "        var comm_manager = window.comm_manager || Jupyter.notebook.kernel.comm_manager;\n",
       "        comm_manager.register_target(comm_id, function(comm) {\n",
       "          comm.on_msg(msg_handler);\n",
       "        });\n",
       "      } else if ((plot_id in window.PyViz.kernels) && (window.PyViz.kernels[plot_id])) {\n",
       "        window.PyViz.kernels[plot_id].registerCommTarget(comm_id, function(comm) {\n",
       "          comm.onMsg = msg_handler;\n",
       "        });\n",
       "      } else if (typeof google != 'undefined' && google.colab.kernel != null) {\n",
       "        google.colab.kernel.comms.registerTarget(comm_id, (comm) => {\n",
       "          var messages = comm.messages[Symbol.asyncIterator]();\n",
       "          function processIteratorResult(result) {\n",
       "            var message = result.value;\n",
       "            console.log(message)\n",
       "            var content = {data: message.data, comm_id};\n",
       "            var buffers = []\n",
       "            for (var buffer of message.buffers || []) {\n",
       "              buffers.push(new DataView(buffer))\n",
       "            }\n",
       "            var metadata = message.metadata || {};\n",
       "            var msg = {content, buffers, metadata}\n",
       "            msg_handler(msg);\n",
       "            return messages.next().then(processIteratorResult);\n",
       "          }\n",
       "          return messages.next().then(processIteratorResult);\n",
       "        })\n",
       "      }\n",
       "    }\n",
       "\n",
       "    JupyterCommManager.prototype.get_client_comm = function(plot_id, comm_id, msg_handler) {\n",
       "      if (comm_id in window.PyViz.comms) {\n",
       "        return window.PyViz.comms[comm_id];\n",
       "      } else if (window.comm_manager || ((window.Jupyter !== undefined) && (Jupyter.notebook.kernel != null))) {\n",
       "        var comm_manager = window.comm_manager || Jupyter.notebook.kernel.comm_manager;\n",
       "        var comm = comm_manager.new_comm(comm_id, {}, {}, {}, comm_id);\n",
       "        if (msg_handler) {\n",
       "          comm.on_msg(msg_handler);\n",
       "        }\n",
       "      } else if ((plot_id in window.PyViz.kernels) && (window.PyViz.kernels[plot_id])) {\n",
       "        var comm = window.PyViz.kernels[plot_id].connectToComm(comm_id);\n",
       "        comm.open();\n",
       "        if (msg_handler) {\n",
       "          comm.onMsg = msg_handler;\n",
       "        }\n",
       "      } else if (typeof google != 'undefined' && google.colab.kernel != null) {\n",
       "        var comm_promise = google.colab.kernel.comms.open(comm_id)\n",
       "        comm_promise.then((comm) => {\n",
       "          window.PyViz.comms[comm_id] = comm;\n",
       "          if (msg_handler) {\n",
       "            var messages = comm.messages[Symbol.asyncIterator]();\n",
       "            function processIteratorResult(result) {\n",
       "              var message = result.value;\n",
       "              var content = {data: message.data};\n",
       "              var metadata = message.metadata || {comm_id};\n",
       "              var msg = {content, metadata}\n",
       "              msg_handler(msg);\n",
       "              return messages.next().then(processIteratorResult);\n",
       "            }\n",
       "            return messages.next().then(processIteratorResult);\n",
       "          }\n",
       "        }) \n",
       "        var sendClosure = (data, metadata, buffers, disposeOnDone) => {\n",
       "          return comm_promise.then((comm) => {\n",
       "            comm.send(data, metadata, buffers, disposeOnDone);\n",
       "          });\n",
       "        };\n",
       "        var comm = {\n",
       "          send: sendClosure\n",
       "        };\n",
       "      }\n",
       "      window.PyViz.comms[comm_id] = comm;\n",
       "      return comm;\n",
       "    }\n",
       "    window.PyViz.comm_manager = new JupyterCommManager();\n",
       "    \n",
       "\n",
       "\n",
       "var JS_MIME_TYPE = 'application/javascript';\n",
       "var HTML_MIME_TYPE = 'text/html';\n",
       "var EXEC_MIME_TYPE = 'application/vnd.holoviews_exec.v0+json';\n",
       "var CLASS_NAME = 'output';\n",
       "\n",
       "/**\n",
       " * Render data to the DOM node\n",
       " */\n",
       "function render(props, node) {\n",
       "  var div = document.createElement(\"div\");\n",
       "  var script = document.createElement(\"script\");\n",
       "  node.appendChild(div);\n",
       "  node.appendChild(script);\n",
       "}\n",
       "\n",
       "/**\n",
       " * Handle when a new output is added\n",
       " */\n",
       "function handle_add_output(event, handle) {\n",
       "  var output_area = handle.output_area;\n",
       "  var output = handle.output;\n",
       "  if ((output.data == undefined) || (!output.data.hasOwnProperty(EXEC_MIME_TYPE))) {\n",
       "    return\n",
       "  }\n",
       "  var id = output.metadata[EXEC_MIME_TYPE][\"id\"];\n",
       "  var toinsert = output_area.element.find(\".\" + CLASS_NAME.split(' ')[0]);\n",
       "  if (id !== undefined) {\n",
       "    var nchildren = toinsert.length;\n",
       "    var html_node = toinsert[nchildren-1].children[0];\n",
       "    html_node.innerHTML = output.data[HTML_MIME_TYPE];\n",
       "    var scripts = [];\n",
       "    var nodelist = html_node.querySelectorAll(\"script\");\n",
       "    for (var i in nodelist) {\n",
       "      if (nodelist.hasOwnProperty(i)) {\n",
       "        scripts.push(nodelist[i])\n",
       "      }\n",
       "    }\n",
       "\n",
       "    scripts.forEach( function (oldScript) {\n",
       "      var newScript = document.createElement(\"script\");\n",
       "      var attrs = [];\n",
       "      var nodemap = oldScript.attributes;\n",
       "      for (var j in nodemap) {\n",
       "        if (nodemap.hasOwnProperty(j)) {\n",
       "          attrs.push(nodemap[j])\n",
       "        }\n",
       "      }\n",
       "      attrs.forEach(function(attr) { newScript.setAttribute(attr.name, attr.value) });\n",
       "      newScript.appendChild(document.createTextNode(oldScript.innerHTML));\n",
       "      oldScript.parentNode.replaceChild(newScript, oldScript);\n",
       "    });\n",
       "    if (JS_MIME_TYPE in output.data) {\n",
       "      toinsert[nchildren-1].children[1].textContent = output.data[JS_MIME_TYPE];\n",
       "    }\n",
       "    output_area._hv_plot_id = id;\n",
       "    if ((window.Bokeh !== undefined) && (id in Bokeh.index)) {\n",
       "      window.PyViz.plot_index[id] = Bokeh.index[id];\n",
       "    } else {\n",
       "      window.PyViz.plot_index[id] = null;\n",
       "    }\n",
       "  } else if (output.metadata[EXEC_MIME_TYPE][\"server_id\"] !== undefined) {\n",
       "    var bk_div = document.createElement(\"div\");\n",
       "    bk_div.innerHTML = output.data[HTML_MIME_TYPE];\n",
       "    var script_attrs = bk_div.children[0].attributes;\n",
       "    for (var i = 0; i < script_attrs.length; i++) {\n",
       "      toinsert[toinsert.length - 1].childNodes[1].setAttribute(script_attrs[i].name, script_attrs[i].value);\n",
       "    }\n",
       "    // store reference to server id on output_area\n",
       "    output_area._bokeh_server_id = output.metadata[EXEC_MIME_TYPE][\"server_id\"];\n",
       "  }\n",
       "}\n",
       "\n",
       "/**\n",
       " * Handle when an output is cleared or removed\n",
       " */\n",
       "function handle_clear_output(event, handle) {\n",
       "  var id = handle.cell.output_area._hv_plot_id;\n",
       "  var server_id = handle.cell.output_area._bokeh_server_id;\n",
       "  if (((id === undefined) || !(id in PyViz.plot_index)) && (server_id !== undefined)) { return; }\n",
       "  var comm = window.PyViz.comm_manager.get_client_comm(\"hv-extension-comm\", \"hv-extension-comm\", function () {});\n",
       "  if (server_id !== null) {\n",
       "    comm.send({event_type: 'server_delete', 'id': server_id});\n",
       "    return;\n",
       "  } else if (comm !== null) {\n",
       "    comm.send({event_type: 'delete', 'id': id});\n",
       "  }\n",
       "  delete PyViz.plot_index[id];\n",
       "  if ((window.Bokeh !== undefined) & (id in window.Bokeh.index)) {\n",
       "    var doc = window.Bokeh.index[id].model.document\n",
       "    doc.clear();\n",
       "    const i = window.Bokeh.documents.indexOf(doc);\n",
       "    if (i > -1) {\n",
       "      window.Bokeh.documents.splice(i, 1);\n",
       "    }\n",
       "  }\n",
       "}\n",
       "\n",
       "/**\n",
       " * Handle kernel restart event\n",
       " */\n",
       "function handle_kernel_cleanup(event, handle) {\n",
       "  delete PyViz.comms[\"hv-extension-comm\"];\n",
       "  window.PyViz.plot_index = {}\n",
       "}\n",
       "\n",
       "/**\n",
       " * Handle update_display_data messages\n",
       " */\n",
       "function handle_update_output(event, handle) {\n",
       "  handle_clear_output(event, {cell: {output_area: handle.output_area}})\n",
       "  handle_add_output(event, handle)\n",
       "}\n",
       "\n",
       "function register_renderer(events, OutputArea) {\n",
       "  function append_mime(data, metadata, element) {\n",
       "    // create a DOM node to render to\n",
       "    var toinsert = this.create_output_subarea(\n",
       "    metadata,\n",
       "    CLASS_NAME,\n",
       "    EXEC_MIME_TYPE\n",
       "    );\n",
       "    this.keyboard_manager.register_events(toinsert);\n",
       "    // Render to node\n",
       "    var props = {data: data, metadata: metadata[EXEC_MIME_TYPE]};\n",
       "    render(props, toinsert[0]);\n",
       "    element.append(toinsert);\n",
       "    return toinsert\n",
       "  }\n",
       "\n",
       "  events.on('output_added.OutputArea', handle_add_output);\n",
       "  events.on('output_updated.OutputArea', handle_update_output);\n",
       "  events.on('clear_output.CodeCell', handle_clear_output);\n",
       "  events.on('delete.Cell', handle_clear_output);\n",
       "  events.on('kernel_ready.Kernel', handle_kernel_cleanup);\n",
       "\n",
       "  OutputArea.prototype.register_mime_type(EXEC_MIME_TYPE, append_mime, {\n",
       "    safe: true,\n",
       "    index: 0\n",
       "  });\n",
       "}\n",
       "\n",
       "if (window.Jupyter !== undefined) {\n",
       "  try {\n",
       "    var events = require('base/js/events');\n",
       "    var OutputArea = require('notebook/js/outputarea').OutputArea;\n",
       "    if (OutputArea.prototype.mime_types().indexOf(EXEC_MIME_TYPE) == -1) {\n",
       "      register_renderer(events, OutputArea);\n",
       "    }\n",
       "  } catch(err) {\n",
       "  }\n",
       "}\n"
      ],
      "application/vnd.holoviews_load.v0+json": "\nif ((window.PyViz === undefined) || (window.PyViz instanceof HTMLElement)) {\n  window.PyViz = {comms: {}, comm_status:{}, kernels:{}, receivers: {}, plot_index: []}\n}\n\n\n    function JupyterCommManager() {\n    }\n\n    JupyterCommManager.prototype.register_target = function(plot_id, comm_id, msg_handler) {\n      if (window.comm_manager || ((window.Jupyter !== undefined) && (Jupyter.notebook.kernel != null))) {\n        var comm_manager = window.comm_manager || Jupyter.notebook.kernel.comm_manager;\n        comm_manager.register_target(comm_id, function(comm) {\n          comm.on_msg(msg_handler);\n        });\n      } else if ((plot_id in window.PyViz.kernels) && (window.PyViz.kernels[plot_id])) {\n        window.PyViz.kernels[plot_id].registerCommTarget(comm_id, function(comm) {\n          comm.onMsg = msg_handler;\n        });\n      } else if (typeof google != 'undefined' && google.colab.kernel != null) {\n        google.colab.kernel.comms.registerTarget(comm_id, (comm) => {\n          var messages = comm.messages[Symbol.asyncIterator]();\n          function processIteratorResult(result) {\n            var message = result.value;\n            console.log(message)\n            var content = {data: message.data, comm_id};\n            var buffers = []\n            for (var buffer of message.buffers || []) {\n              buffers.push(new DataView(buffer))\n            }\n            var metadata = message.metadata || {};\n            var msg = {content, buffers, metadata}\n            msg_handler(msg);\n            return messages.next().then(processIteratorResult);\n          }\n          return messages.next().then(processIteratorResult);\n        })\n      }\n    }\n\n    JupyterCommManager.prototype.get_client_comm = function(plot_id, comm_id, msg_handler) {\n      if (comm_id in window.PyViz.comms) {\n        return window.PyViz.comms[comm_id];\n      } else if (window.comm_manager || ((window.Jupyter !== undefined) && (Jupyter.notebook.kernel != null))) {\n        var comm_manager = window.comm_manager || Jupyter.notebook.kernel.comm_manager;\n        var comm = comm_manager.new_comm(comm_id, {}, {}, {}, comm_id);\n        if (msg_handler) {\n          comm.on_msg(msg_handler);\n        }\n      } else if ((plot_id in window.PyViz.kernels) && (window.PyViz.kernels[plot_id])) {\n        var comm = window.PyViz.kernels[plot_id].connectToComm(comm_id);\n        comm.open();\n        if (msg_handler) {\n          comm.onMsg = msg_handler;\n        }\n      } else if (typeof google != 'undefined' && google.colab.kernel != null) {\n        var comm_promise = google.colab.kernel.comms.open(comm_id)\n        comm_promise.then((comm) => {\n          window.PyViz.comms[comm_id] = comm;\n          if (msg_handler) {\n            var messages = comm.messages[Symbol.asyncIterator]();\n            function processIteratorResult(result) {\n              var message = result.value;\n              var content = {data: message.data};\n              var metadata = message.metadata || {comm_id};\n              var msg = {content, metadata}\n              msg_handler(msg);\n              return messages.next().then(processIteratorResult);\n            }\n            return messages.next().then(processIteratorResult);\n          }\n        }) \n        var sendClosure = (data, metadata, buffers, disposeOnDone) => {\n          return comm_promise.then((comm) => {\n            comm.send(data, metadata, buffers, disposeOnDone);\n          });\n        };\n        var comm = {\n          send: sendClosure\n        };\n      }\n      window.PyViz.comms[comm_id] = comm;\n      return comm;\n    }\n    window.PyViz.comm_manager = new JupyterCommManager();\n    \n\n\nvar JS_MIME_TYPE = 'application/javascript';\nvar HTML_MIME_TYPE = 'text/html';\nvar EXEC_MIME_TYPE = 'application/vnd.holoviews_exec.v0+json';\nvar CLASS_NAME = 'output';\n\n/**\n * Render data to the DOM node\n */\nfunction render(props, node) {\n  var div = document.createElement(\"div\");\n  var script = document.createElement(\"script\");\n  node.appendChild(div);\n  node.appendChild(script);\n}\n\n/**\n * Handle when a new output is added\n */\nfunction handle_add_output(event, handle) {\n  var output_area = handle.output_area;\n  var output = handle.output;\n  if ((output.data == undefined) || (!output.data.hasOwnProperty(EXEC_MIME_TYPE))) {\n    return\n  }\n  var id = output.metadata[EXEC_MIME_TYPE][\"id\"];\n  var toinsert = output_area.element.find(\".\" + CLASS_NAME.split(' ')[0]);\n  if (id !== undefined) {\n    var nchildren = toinsert.length;\n    var html_node = toinsert[nchildren-1].children[0];\n    html_node.innerHTML = output.data[HTML_MIME_TYPE];\n    var scripts = [];\n    var nodelist = html_node.querySelectorAll(\"script\");\n    for (var i in nodelist) {\n      if (nodelist.hasOwnProperty(i)) {\n        scripts.push(nodelist[i])\n      }\n    }\n\n    scripts.forEach( function (oldScript) {\n      var newScript = document.createElement(\"script\");\n      var attrs = [];\n      var nodemap = oldScript.attributes;\n      for (var j in nodemap) {\n        if (nodemap.hasOwnProperty(j)) {\n          attrs.push(nodemap[j])\n        }\n      }\n      attrs.forEach(function(attr) { newScript.setAttribute(attr.name, attr.value) });\n      newScript.appendChild(document.createTextNode(oldScript.innerHTML));\n      oldScript.parentNode.replaceChild(newScript, oldScript);\n    });\n    if (JS_MIME_TYPE in output.data) {\n      toinsert[nchildren-1].children[1].textContent = output.data[JS_MIME_TYPE];\n    }\n    output_area._hv_plot_id = id;\n    if ((window.Bokeh !== undefined) && (id in Bokeh.index)) {\n      window.PyViz.plot_index[id] = Bokeh.index[id];\n    } else {\n      window.PyViz.plot_index[id] = null;\n    }\n  } else if (output.metadata[EXEC_MIME_TYPE][\"server_id\"] !== undefined) {\n    var bk_div = document.createElement(\"div\");\n    bk_div.innerHTML = output.data[HTML_MIME_TYPE];\n    var script_attrs = bk_div.children[0].attributes;\n    for (var i = 0; i < script_attrs.length; i++) {\n      toinsert[toinsert.length - 1].childNodes[1].setAttribute(script_attrs[i].name, script_attrs[i].value);\n    }\n    // store reference to server id on output_area\n    output_area._bokeh_server_id = output.metadata[EXEC_MIME_TYPE][\"server_id\"];\n  }\n}\n\n/**\n * Handle when an output is cleared or removed\n */\nfunction handle_clear_output(event, handle) {\n  var id = handle.cell.output_area._hv_plot_id;\n  var server_id = handle.cell.output_area._bokeh_server_id;\n  if (((id === undefined) || !(id in PyViz.plot_index)) && (server_id !== undefined)) { return; }\n  var comm = window.PyViz.comm_manager.get_client_comm(\"hv-extension-comm\", \"hv-extension-comm\", function () {});\n  if (server_id !== null) {\n    comm.send({event_type: 'server_delete', 'id': server_id});\n    return;\n  } else if (comm !== null) {\n    comm.send({event_type: 'delete', 'id': id});\n  }\n  delete PyViz.plot_index[id];\n  if ((window.Bokeh !== undefined) & (id in window.Bokeh.index)) {\n    var doc = window.Bokeh.index[id].model.document\n    doc.clear();\n    const i = window.Bokeh.documents.indexOf(doc);\n    if (i > -1) {\n      window.Bokeh.documents.splice(i, 1);\n    }\n  }\n}\n\n/**\n * Handle kernel restart event\n */\nfunction handle_kernel_cleanup(event, handle) {\n  delete PyViz.comms[\"hv-extension-comm\"];\n  window.PyViz.plot_index = {}\n}\n\n/**\n * Handle update_display_data messages\n */\nfunction handle_update_output(event, handle) {\n  handle_clear_output(event, {cell: {output_area: handle.output_area}})\n  handle_add_output(event, handle)\n}\n\nfunction register_renderer(events, OutputArea) {\n  function append_mime(data, metadata, element) {\n    // create a DOM node to render to\n    var toinsert = this.create_output_subarea(\n    metadata,\n    CLASS_NAME,\n    EXEC_MIME_TYPE\n    );\n    this.keyboard_manager.register_events(toinsert);\n    // Render to node\n    var props = {data: data, metadata: metadata[EXEC_MIME_TYPE]};\n    render(props, toinsert[0]);\n    element.append(toinsert);\n    return toinsert\n  }\n\n  events.on('output_added.OutputArea', handle_add_output);\n  events.on('output_updated.OutputArea', handle_update_output);\n  events.on('clear_output.CodeCell', handle_clear_output);\n  events.on('delete.Cell', handle_clear_output);\n  events.on('kernel_ready.Kernel', handle_kernel_cleanup);\n\n  OutputArea.prototype.register_mime_type(EXEC_MIME_TYPE, append_mime, {\n    safe: true,\n    index: 0\n  });\n}\n\nif (window.Jupyter !== undefined) {\n  try {\n    var events = require('base/js/events');\n    var OutputArea = require('notebook/js/outputarea').OutputArea;\n    if (OutputArea.prototype.mime_types().indexOf(EXEC_MIME_TYPE) == -1) {\n      register_renderer(events, OutputArea);\n    }\n  } catch(err) {\n  }\n}\n"
     },
     "metadata": {},
     "output_type": "display_data"
    },
    {
     "data": {
      "text/html": [
       "<style>*[data-root-id],\n",
       "*[data-root-id] > * {\n",
       "  box-sizing: border-box;\n",
       "  font-family: var(--jp-ui-font-family);\n",
       "  font-size: var(--jp-ui-font-size1);\n",
       "  color: var(--vscode-editor-foreground, var(--jp-ui-font-color1));\n",
       "}\n",
       "\n",
       "/* Override VSCode background color */\n",
       ".cell-output-ipywidget-background:has(\n",
       "    > .cell-output-ipywidget-background > .lm-Widget > *[data-root-id]\n",
       "  ),\n",
       ".cell-output-ipywidget-background:has(> .lm-Widget > *[data-root-id]) {\n",
       "  background-color: transparent !important;\n",
       "}\n",
       "</style>"
      ]
     },
     "metadata": {},
     "output_type": "display_data"
    }
   ],
   "source": [
    "# Dependencies and Setup\n",
    "import hvplot.pandas\n",
    "import pandas as pd\n",
    "import requests\n",
    "\n",
    "# Import API key\n",
    "from api_keys import geoapify_key"
   ]
  },
  {
   "cell_type": "code",
   "execution_count": 2,
   "metadata": {
    "tags": []
   },
   "outputs": [
    {
     "data": {
      "text/html": [
       "<div>\n",
       "<style scoped>\n",
       "    .dataframe tbody tr th:only-of-type {\n",
       "        vertical-align: middle;\n",
       "    }\n",
       "\n",
       "    .dataframe tbody tr th {\n",
       "        vertical-align: top;\n",
       "    }\n",
       "\n",
       "    .dataframe thead th {\n",
       "        text-align: right;\n",
       "    }\n",
       "</style>\n",
       "<table border=\"1\" class=\"dataframe\">\n",
       "  <thead>\n",
       "    <tr style=\"text-align: right;\">\n",
       "      <th></th>\n",
       "      <th>City_ID</th>\n",
       "      <th>City</th>\n",
       "      <th>Lat</th>\n",
       "      <th>Lng</th>\n",
       "      <th>Max Temp</th>\n",
       "      <th>Humidity</th>\n",
       "      <th>Cloudiness</th>\n",
       "      <th>Wind Speed</th>\n",
       "      <th>Country</th>\n",
       "      <th>Date</th>\n",
       "    </tr>\n",
       "  </thead>\n",
       "  <tbody>\n",
       "    <tr>\n",
       "      <th>0</th>\n",
       "      <td>0</td>\n",
       "      <td>chui</td>\n",
       "      <td>-33.6971</td>\n",
       "      <td>-53.4616</td>\n",
       "      <td>15.84</td>\n",
       "      <td>95</td>\n",
       "      <td>100</td>\n",
       "      <td>2.40</td>\n",
       "      <td>UY</td>\n",
       "      <td>1691720494</td>\n",
       "    </tr>\n",
       "    <tr>\n",
       "      <th>1</th>\n",
       "      <td>1</td>\n",
       "      <td>bilibino</td>\n",
       "      <td>68.0546</td>\n",
       "      <td>166.4372</td>\n",
       "      <td>13.78</td>\n",
       "      <td>66</td>\n",
       "      <td>99</td>\n",
       "      <td>1.64</td>\n",
       "      <td>RU</td>\n",
       "      <td>1691720494</td>\n",
       "    </tr>\n",
       "    <tr>\n",
       "      <th>2</th>\n",
       "      <td>2</td>\n",
       "      <td>ust-nera</td>\n",
       "      <td>64.5667</td>\n",
       "      <td>143.2000</td>\n",
       "      <td>23.65</td>\n",
       "      <td>35</td>\n",
       "      <td>59</td>\n",
       "      <td>0.56</td>\n",
       "      <td>RU</td>\n",
       "      <td>1691720494</td>\n",
       "    </tr>\n",
       "    <tr>\n",
       "      <th>3</th>\n",
       "      <td>3</td>\n",
       "      <td>ribeira grande</td>\n",
       "      <td>38.5167</td>\n",
       "      <td>-28.7000</td>\n",
       "      <td>21.54</td>\n",
       "      <td>88</td>\n",
       "      <td>0</td>\n",
       "      <td>3.58</td>\n",
       "      <td>PT</td>\n",
       "      <td>1691720495</td>\n",
       "    </tr>\n",
       "    <tr>\n",
       "      <th>4</th>\n",
       "      <td>4</td>\n",
       "      <td>atafu village</td>\n",
       "      <td>-8.5421</td>\n",
       "      <td>-172.5159</td>\n",
       "      <td>28.13</td>\n",
       "      <td>75</td>\n",
       "      <td>72</td>\n",
       "      <td>4.61</td>\n",
       "      <td>TK</td>\n",
       "      <td>1691720495</td>\n",
       "    </tr>\n",
       "  </tbody>\n",
       "</table>\n",
       "</div>"
      ],
      "text/plain": [
       "   City_ID            City      Lat       Lng  Max Temp  Humidity  Cloudiness  \\\n",
       "0        0            chui -33.6971  -53.4616     15.84        95         100   \n",
       "1        1        bilibino  68.0546  166.4372     13.78        66          99   \n",
       "2        2        ust-nera  64.5667  143.2000     23.65        35          59   \n",
       "3        3  ribeira grande  38.5167  -28.7000     21.54        88           0   \n",
       "4        4   atafu village  -8.5421 -172.5159     28.13        75          72   \n",
       "\n",
       "   Wind Speed Country        Date  \n",
       "0        2.40      UY  1691720494  \n",
       "1        1.64      RU  1691720494  \n",
       "2        0.56      RU  1691720494  \n",
       "3        3.58      PT  1691720495  \n",
       "4        4.61      TK  1691720495  "
      ]
     },
     "execution_count": 2,
     "metadata": {},
     "output_type": "execute_result"
    }
   ],
   "source": [
    "# Load the CSV file created in Part 1 into a Pandas DataFrame\n",
    "city_data_df = pd.read_csv(\"../output_data/cities.csv\")\n",
    "\n",
    "# Display sample data\n",
    "city_data_df.head()"
   ]
  },
  {
   "cell_type": "markdown",
   "metadata": {},
   "source": [
    "---\n",
    "\n",
    "### Step 1: Create a map that displays a point for every city in the `city_data_df` DataFrame. The size of the point should be the humidity in each city."
   ]
  },
  {
   "cell_type": "code",
   "execution_count": 3,
   "metadata": {
    "tags": []
   },
   "outputs": [
    {
     "data": {},
     "metadata": {},
     "output_type": "display_data"
    },
    {
     "data": {
      "application/vnd.holoviews_exec.v0+json": "",
      "text/html": [
       "<div id='p1005'>\n",
       "  <div id=\"ff1063c6-a435-4113-88f0-d5439f9307d5\" data-root-id=\"p1005\" style=\"display: contents;\"></div>\n",
       "</div>\n",
       "<script type=\"application/javascript\">(function(root) {\n",
       "  var docs_json = {\"3751e657-73e0-4991-bc85-627aae99df63\":{\"version\":\"3.2.1\",\"title\":\"Bokeh Application\",\"roots\":[{\"type\":\"object\",\"name\":\"Row\",\"id\":\"p1005\",\"attributes\":{\"name\":\"Row01579\",\"tags\":[\"embedded\"],\"stylesheets\":[\"\\n:host(.pn-loading.pn-arc):before, .pn-loading.pn-arc:before {\\n  background-image: url(\\\"data:image/svg+xml;base64,PHN2ZyB4bWxucz0iaHR0cDovL3d3dy53My5vcmcvMjAwMC9zdmciIHN0eWxlPSJtYXJnaW46IGF1dG87IGJhY2tncm91bmQ6IG5vbmU7IGRpc3BsYXk6IGJsb2NrOyBzaGFwZS1yZW5kZXJpbmc6IGF1dG87IiB2aWV3Qm94PSIwIDAgMTAwIDEwMCIgcHJlc2VydmVBc3BlY3RSYXRpbz0ieE1pZFlNaWQiPiAgPGNpcmNsZSBjeD0iNTAiIGN5PSI1MCIgZmlsbD0ibm9uZSIgc3Ryb2tlPSIjYzNjM2MzIiBzdHJva2Utd2lkdGg9IjEwIiByPSIzNSIgc3Ryb2tlLWRhc2hhcnJheT0iMTY0LjkzMzYxNDMxMzQ2NDE1IDU2Ljk3Nzg3MTQzNzgyMTM4Ij4gICAgPGFuaW1hdGVUcmFuc2Zvcm0gYXR0cmlidXRlTmFtZT0idHJhbnNmb3JtIiB0eXBlPSJyb3RhdGUiIHJlcGVhdENvdW50PSJpbmRlZmluaXRlIiBkdXI9IjFzIiB2YWx1ZXM9IjAgNTAgNTA7MzYwIDUwIDUwIiBrZXlUaW1lcz0iMDsxIj48L2FuaW1hdGVUcmFuc2Zvcm0+ICA8L2NpcmNsZT48L3N2Zz4=\\\");\\n  background-size: auto calc(min(50%, 400px));\\n}\",{\"type\":\"object\",\"name\":\"ImportedStyleSheet\",\"id\":\"p1008\",\"attributes\":{\"url\":\"https://cdn.holoviz.org/panel/1.2.1/dist/css/loading.css\"}},{\"type\":\"object\",\"name\":\"ImportedStyleSheet\",\"id\":\"p1085\",\"attributes\":{\"url\":\"https://cdn.holoviz.org/panel/1.2.1/dist/css/listpanel.css\"}},{\"type\":\"object\",\"name\":\"ImportedStyleSheet\",\"id\":\"p1006\",\"attributes\":{\"url\":\"https://cdn.holoviz.org/panel/1.2.1/dist/bundled/theme/default.css\"}},{\"type\":\"object\",\"name\":\"ImportedStyleSheet\",\"id\":\"p1007\",\"attributes\":{\"url\":\"https://cdn.holoviz.org/panel/1.2.1/dist/bundled/theme/native.css\"}}],\"margin\":0,\"sizing_mode\":\"stretch_width\",\"align\":\"start\",\"children\":[{\"type\":\"object\",\"name\":\"Spacer\",\"id\":\"p1009\",\"attributes\":{\"name\":\"HSpacer01589\",\"stylesheets\":[\"\\n:host(.pn-loading.pn-arc):before, .pn-loading.pn-arc:before {\\n  background-image: url(\\\"data:image/svg+xml;base64,PHN2ZyB4bWxucz0iaHR0cDovL3d3dy53My5vcmcvMjAwMC9zdmciIHN0eWxlPSJtYXJnaW46IGF1dG87IGJhY2tncm91bmQ6IG5vbmU7IGRpc3BsYXk6IGJsb2NrOyBzaGFwZS1yZW5kZXJpbmc6IGF1dG87IiB2aWV3Qm94PSIwIDAgMTAwIDEwMCIgcHJlc2VydmVBc3BlY3RSYXRpbz0ieE1pZFlNaWQiPiAgPGNpcmNsZSBjeD0iNTAiIGN5PSI1MCIgZmlsbD0ibm9uZSIgc3Ryb2tlPSIjYzNjM2MzIiBzdHJva2Utd2lkdGg9IjEwIiByPSIzNSIgc3Ryb2tlLWRhc2hhcnJheT0iMTY0LjkzMzYxNDMxMzQ2NDE1IDU2Ljk3Nzg3MTQzNzgyMTM4Ij4gICAgPGFuaW1hdGVUcmFuc2Zvcm0gYXR0cmlidXRlTmFtZT0idHJhbnNmb3JtIiB0eXBlPSJyb3RhdGUiIHJlcGVhdENvdW50PSJpbmRlZmluaXRlIiBkdXI9IjFzIiB2YWx1ZXM9IjAgNTAgNTA7MzYwIDUwIDUwIiBrZXlUaW1lcz0iMDsxIj48L2FuaW1hdGVUcmFuc2Zvcm0+ICA8L2NpcmNsZT48L3N2Zz4=\\\");\\n  background-size: auto calc(min(50%, 400px));\\n}\",{\"id\":\"p1008\"},{\"id\":\"p1006\"},{\"id\":\"p1007\"}],\"margin\":0,\"sizing_mode\":\"stretch_width\",\"align\":\"start\"}},{\"type\":\"object\",\"name\":\"Figure\",\"id\":\"p1026\",\"attributes\":{\"width\":null,\"height\":null,\"margin\":[5,10],\"sizing_mode\":\"fixed\",\"align\":\"start\",\"x_range\":{\"type\":\"object\",\"name\":\"Range1d\",\"id\":\"p1016\",\"attributes\":{\"tags\":[[[\"Lng\",\"Lng\",null]],[]],\"start\":-22610427.25651504,\"end\":22713241.938211706,\"reset_start\":-22610427.25651504,\"reset_end\":22713241.938211706,\"min_interval\":5}},\"y_range\":{\"type\":\"object\",\"name\":\"Range1d\",\"id\":\"p1017\",\"attributes\":{\"tags\":[[[\"Lat\",\"Lat\",null]],{\"type\":\"map\",\"entries\":[[\"invert_yaxis\",false],[\"autorange\",false]]}],\"start\":-13414554.428424798,\"end\":20578197.46762027,\"reset_start\":-13414554.428424798,\"reset_end\":20578197.46762027,\"min_interval\":5}},\"x_scale\":{\"type\":\"object\",\"name\":\"LinearScale\",\"id\":\"p1036\"},\"y_scale\":{\"type\":\"object\",\"name\":\"LinearScale\",\"id\":\"p1037\"},\"title\":{\"type\":\"object\",\"name\":\"Title\",\"id\":\"p1029\",\"attributes\":{\"text_color\":\"black\",\"text_font_size\":\"12pt\"}},\"renderers\":[{\"type\":\"object\",\"name\":\"TileRenderer\",\"id\":\"p1061\",\"attributes\":{\"level\":\"glyph\",\"tile_source\":{\"type\":\"object\",\"name\":\"WMTSTileSource\",\"id\":\"p1057\",\"attributes\":{\"url\":\"https://c.tile.openstreetmap.org/{Z}/{X}/{Y}.png\",\"attribution\":\"&copy; <a href=\\\"https://www.openstreetmap.org/copyright\\\">OpenStreetMap</a> contributors\"}}}},{\"type\":\"object\",\"name\":\"GlyphRenderer\",\"id\":\"p1075\",\"attributes\":{\"name\":\"color\",\"data_source\":{\"type\":\"object\",\"name\":\"ColumnDataSource\",\"id\":\"p1064\",\"attributes\":{\"selected\":{\"type\":\"object\",\"name\":\"Selection\",\"id\":\"p1065\",\"attributes\":{\"indices\":[],\"line_indices\":[]}},\"selection_policy\":{\"type\":\"object\",\"name\":\"UnionRenderers\",\"id\":\"p1066\"},\"data\":{\"type\":\"map\",\"entries\":[[\"Lng\",{\"type\":\"ndarray\",\"array\":{\"type\":\"bytes\",\"data\":\"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\"},\"shape\":[549],\"dtype\":\"float64\",\"order\":\"little\"}],[\"Lat\",{\"type\":\"ndarray\",\"array\":{\"type\":\"bytes\",\"data\":\"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\"},\"shape\":[549],\"dtype\":\"float64\",\"order\":\"little\"}],[\"City\",{\"type\":\"ndarray\",\"array\":[\"chui\",\"bilibino\",\"ust-nera\",\"ribeira grande\",\"atafu village\",\"tolanaro\",\"kuacjok\",\"grytviken\",\"puerto natales\",\"takoradi\",\"tiksi\",\"hefei\",\"port-aux-francais\",\"iqaluit\",\"kyren\",\"olonkinbyen\",\"avarua\",\"edinburgh of the seven seas\",\"aasiaat\",\"port elizabeth\",\"st. john's\",\"keyser\",\"vorgashor\",\"salinas\",\"weno\",\"es castell\",\"poyarkovo\",\"georgetown\",\"pionerskiy\",\"whitehorse\",\"ves'yegonsk\",\"flying fish cove\",\"alo\",\"waitangi\",\"khorinsk\",\"tazacorte\",\"rosales\",\"vilyuchinsk\",\"novaya ladoga\",\"west island\",\"cotoca\",\"geraldton\",\"anadyr\",\"saint-philippe\",\"bethel\",\"adamstown\",\"la passe\",\"suwayr\",\"kingston\",\"sanya\",\"bardai\",\"hamilton\",\"bredasdorp\",\"papatowai\",\"steinbach\",\"albany\",\"hillvue\",\"constantia\",\"tura\",\"eloi mendes\",\"nuku'alofa\",\"thompson\",\"saint-pierre\",\"blackmans bay\",\"margaret river\",\"alaghsas\",\"port mathurin\",\"nova sintra\",\"plettenberg bay\",\"myshkin\",\"kone\",\"howard springs\",\"udachny\",\"quellon\",\"piti village\",\"kuanda\",\"mount gambier\",\"mahenge\",\"antsiranana\",\"puerto ayora\",\"magadan\",\"sitka\",\"alice springs\",\"longyearbyen\",\"uturoa\",\"dunedin\",\"ilulissat\",\"colonia\",\"narasannapeta\",\"hermanus\",\"tongeren\",\"nabire\",\"yellowknife\",\"nadi\",\"fort bragg\",\"wailua homesteads\",\"buala\",\"gwanda\",\"bougouni\",\"vorkuta\",\"dampit\",\"kerikeri\",\"kavaratti\",\"kununurra\",\"iskateley\",\"dhidhdhoo\",\"isafjordur\",\"talnakh\",\"kourou\",\"kayenta\",\"bel ombre\",\"kavieng\",\"nalut\",\"sigli\",\"menongue\",\"nemuro\",\"severo-yeniseyskiy\",\"polyarnyy\",\"anchorage\",\"yung shue wan\",\"nago\",\"cururupu\",\"ushuaia\",\"tonghae\",\"okha\",\"kamaishi\",\"boende\",\"enewetak\",\"bojnurd\",\"santa ana de yacuma\",\"tazovsky\",\"ola\",\"marka\",\"qarayeri\",\"toliara\",\"malaya vishera\",\"sovetskaya gavan'\",\"petropavlovsk-kamchatsky\",\"chinhoyi\",\"sao desiderio\",\"sandnessjoen\",\"la ronge\",\"chapayevsk\",\"lompoc\",\"hawaiian paradise park\",\"cold lake\",\"orange\",\"tanda\",\"dharampuri\",\"ruiz\",\"badger\",\"mwene-ditu\",\"altay\",\"arraial do cabo\",\"victorica\",\"lebu\",\"bikenibeu village\",\"invercargill\",\"saipan\",\"kodiak\",\"nar'yan-mar\",\"taos\",\"krasnogorskoye\",\"chonchi\",\"touros\",\"marsh harbour\",\"mayma\",\"chillicothe\",\"guelmim\",\"vryburg\",\"callao\",\"tvoroyri\",\"ubinskoye\",\"punta arenas\",\"lihue\",\"gorom-gorom\",\"khandyga\",\"dudinka\",\"kapuskasing\",\"ulysses\",\"bejaia\",\"shaowu\",\"laguna\",\"tezu\",\"port alfred\",\"kupang\",\"batang\",\"betio village\",\"banff\",\"siwa oasis\",\"santiago\",\"riberalta\",\"holualoa\",\"cidreira\",\"borogontsy\",\"ust'-barguzin\",\"kailua-kona\",\"ancud\",\"kiseljak\",\"kruisfontein\",\"malindi\",\"college\",\"berdyaush\",\"zheshart\",\"aleg\",\"zaysan\",\"katsuren-haebaru\",\"novyy urgal\",\"stanley\",\"luganville\",\"taroa\",\"zhanaozen\",\"awjilah\",\"port douglas\",\"bratsk\",\"port lincoln\",\"acarau\",\"nuuk\",\"kidal\",\"ciudad lazaro cardenas\",\"banda aceh\",\"rongelap\",\"tual\",\"lamarque\",\"afaahiti\",\"miajadas\",\"freetown\",\"adrar\",\"namibe\",\"mejit\",\"iguatu\",\"palmer\",\"al bawiti\",\"new norfolk\",\"klyuchi\",\"olyokminsk\",\"igarka\",\"kapa'a\",\"keflavik\",\"palikir - national government center\",\"lazaro cardenas\",\"whitecourt\",\"cabinda\",\"bubaque\",\"sao joao da barra\",\"hepo\",\"gazipasa\",\"luderitz\",\"modimolle\",\"grand falls-windsor\",\"naze\",\"hithadhoo\",\"paracuru\",\"codajas\",\"olutanga\",\"miri\",\"conception bay south\",\"sovetskiy\",\"qaqortoq\",\"chilmari\",\"mikun'\",\"jamestown\",\"qarazhal\",\"holbrook\",\"tame\",\"santa rosalia\",\"gulf shores\",\"rovaniemi\",\"yarmouth\",\"chardara\",\"ceres\",\"bintulu\",\"natal\",\"robore\",\"broken hill\",\"goroka\",\"san patricio\",\"tejen\",\"bhimunipatnam\",\"turkmenbasy\",\"isangel\",\"luwuk\",\"brookings\",\"vernon\",\"onega\",\"vila franca do campo\",\"sumenep\",\"erenhot\",\"codrington\",\"cooper's town\",\"taoudenni\",\"hasaki\",\"msowero\",\"valparaiso\",\"gadzhiyevo\",\"san salvador\",\"bryne\",\"bentota\",\"lycksele\",\"kirakira\",\"carutapera\",\"salalah\",\"bobo-dioulasso\",\"talakan\",\"gorontalo\",\"troitsko-pechorsk\",\"carnarvon\",\"sumbe\",\"la paz\",\"yanggu\",\"aliwal north\",\"general cabrera\",\"mil'kovo\",\"alesund\",\"pachino\",\"corn island\",\"tinogasta\",\"berrahal\",\"bucerias\",\"remire-montjoly\",\"mount isa\",\"sinop\",\"nova vicosa\",\"tsiombe\",\"chitungwiza\",\"newman\",\"lydenburg\",\"cill airne\",\"burang\",\"kasongo-lunda\",\"tindouf\",\"glace bay\",\"susuman\",\"marquelia\",\"bonthe\",\"prado\",\"shalqar\",\"mayqayyng\",\"beira\",\"laojunmiao\",\"hermosillo\",\"malinyi\",\"sidi bennour\",\"martapura\",\"misawa\",\"antonio enes\",\"boa vista\",\"kayangel\",\"kaihua\",\"chilca\",\"ibadan\",\"tobelo\",\"minas de marcona\",\"port blair\",\"hadibu\",\"lakatoro\",\"muisne\",\"ugoofaaru\",\"colipapa\",\"sekong\",\"ankazoabo\",\"happy valley-goose bay\",\"nova zagora\",\"inirida\",\"thinadhoo\",\"puerto ayacucho\",\"kemnath\",\"mar del plata\",\"rio grande\",\"balqash\",\"bhag\",\"launceston\",\"aban\",\"aykhal\",\"bang saphan\",\"da lat\",\"barcelos\",\"coquimbo\",\"nguigmi\",\"brandon\",\"santa maria da vitoria\",\"owen sound\",\"kota tinggi\",\"sur\",\"margate\",\"haiku-pauwela\",\"ust'-kut\",\"palu\",\"kodinsk\",\"nogliki\",\"fortuna\",\"tobruk\",\"dalandzadgad\",\"santa cruz\",\"sligo\",\"belel\",\"muroto-misakicho\",\"orapa\",\"lisakovsk\",\"sechura\",\"tamandare\",\"fort morgan\",\"forster\",\"nadym\",\"at-bashi\",\"hammerfest\",\"velez rubio\",\"queenstown\",\"pitkyaranta\",\"sao paulo de olivenca\",\"kolosovka\",\"sao gabriel da cachoeira\",\"souillac\",\"chibougamau\",\"prince rupert\",\"novodvinsk\",\"port macquarie\",\"jayapura\",\"kolonia\",\"sinjai\",\"vadso\",\"fale old settlement\",\"ponta delgada\",\"naryn\",\"kribi\",\"masterton\",\"kantunilkin\",\"creel\",\"mo i rana\",\"an nuhud\",\"sola\",\"mahibadhoo\",\"miquelon\",\"qulsary\",\"guiuan\",\"hilo\",\"laibin\",\"buka\",\"pikalevo\",\"fisterra\",\"sinabang\",\"altai\",\"khovd\",\"papao\",\"utrik\",\"san antonio de pale\",\"utete\",\"goba\",\"quelimane\",\"korsakov\",\"banlung\",\"guerrero negro\",\"saint-louis\",\"smithers\",\"yaren\",\"sisimiut\",\"cumbum\",\"hassi messaoud\",\"vikulovo\",\"kudahuvadhoo\",\"brisas de zicatela\",\"priozersk\",\"port augusta\",\"vuktyl\",\"shohimardon\",\"leh\",\"lao cai\",\"faro\",\"jindrichuv hradec\",\"morondava\",\"santana\",\"nagqu\",\"hong kong\",\"luorong\",\"puerto baquerizo moreno\",\"garden city\",\"aransas pass\",\"yuzhno-kurilsk\",\"cidade velha\",\"huilong\",\"olinda\",\"cukai\",\"san isidro de curuguaty\",\"wynyard\",\"montepuez\",\"shumerlya\",\"asilah\",\"kittila\",\"tortoli\",\"kapit\",\"kudat\",\"sao felix do xingu\",\"nova xavantina\",\"plav\",\"faya-largeau\",\"malakal\",\"coxen hole\",\"yakeshi\",\"corato\",\"kouroussa\",\"seven pagodas\",\"illizi\",\"pacific grove\",\"saint-jean-de-maurienne\",\"datong\",\"metlili chaamba\",\"cangzhou\",\"chichibu\",\"izberbash\",\"walvis bay\",\"yeppoon\",\"ondjiva\",\"boguchany\",\"sevastopol\",\"lagunas\",\"alfredo v. bonfil\",\"galle\",\"kitui\",\"vila velha\",\"sergeyevka\",\"nanchang\",\"mogadishu\",\"leesville\",\"richards bay\",\"fauske\",\"marina di massa\",\"kiunga\",\"dwarka\",\"ulimang\",\"boi\",\"araguari\",\"kirensk\",\"bozeman\",\"ventspils\",\"puerto escondido\",\"resplendor\",\"adler\",\"coahuayana de hidalgo\",\"barra dos coqueiros\",\"la sarre\",\"greymouth\",\"seminole\",\"marathon\",\"tinajo\",\"akureyri\",\"manaure\",\"richmond hill\",\"lyubim\",\"banaz\"],\"shape\":[549],\"dtype\":\"object\",\"order\":\"little\"}],[\"Humidity\",{\"type\":\"ndarray\",\"array\":{\"type\":\"bytes\",\"data\":\"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\"},\"shape\":[549],\"dtype\":\"int32\",\"order\":\"little\"}],[\"color\",{\"type\":\"ndarray\",\"array\":[\"chui\",\"bilibino\",\"ust-nera\",\"ribeira grande\",\"atafu village\",\"tolanaro\",\"kuacjok\",\"grytviken\",\"puerto natales\",\"takoradi\",\"tiksi\",\"hefei\",\"port-aux-francais\",\"iqaluit\",\"kyren\",\"olonkinbyen\",\"avarua\",\"edinburgh of the seven seas\",\"aasiaat\",\"port elizabeth\",\"st. john's\",\"keyser\",\"vorgashor\",\"salinas\",\"weno\",\"es castell\",\"poyarkovo\",\"georgetown\",\"pionerskiy\",\"whitehorse\",\"ves'yegonsk\",\"flying fish cove\",\"alo\",\"waitangi\",\"khorinsk\",\"tazacorte\",\"rosales\",\"vilyuchinsk\",\"novaya ladoga\",\"west island\",\"cotoca\",\"geraldton\",\"anadyr\",\"saint-philippe\",\"bethel\",\"adamstown\",\"la passe\",\"suwayr\",\"kingston\",\"sanya\",\"bardai\",\"hamilton\",\"bredasdorp\",\"papatowai\",\"steinbach\",\"albany\",\"hillvue\",\"constantia\",\"tura\",\"eloi mendes\",\"nuku'alofa\",\"thompson\",\"saint-pierre\",\"blackmans bay\",\"margaret river\",\"alaghsas\",\"port mathurin\",\"nova sintra\",\"plettenberg bay\",\"myshkin\",\"kone\",\"howard springs\",\"udachny\",\"quellon\",\"piti village\",\"kuanda\",\"mount gambier\",\"mahenge\",\"antsiranana\",\"puerto ayora\",\"magadan\",\"sitka\",\"alice springs\",\"longyearbyen\",\"uturoa\",\"dunedin\",\"ilulissat\",\"colonia\",\"narasannapeta\",\"hermanus\",\"tongeren\",\"nabire\",\"yellowknife\",\"nadi\",\"fort bragg\",\"wailua homesteads\",\"buala\",\"gwanda\",\"bougouni\",\"vorkuta\",\"dampit\",\"kerikeri\",\"kavaratti\",\"kununurra\",\"iskateley\",\"dhidhdhoo\",\"isafjordur\",\"talnakh\",\"kourou\",\"kayenta\",\"bel ombre\",\"kavieng\",\"nalut\",\"sigli\",\"menongue\",\"nemuro\",\"severo-yeniseyskiy\",\"polyarnyy\",\"anchorage\",\"yung shue wan\",\"nago\",\"cururupu\",\"ushuaia\",\"tonghae\",\"okha\",\"kamaishi\",\"boende\",\"enewetak\",\"bojnurd\",\"santa ana de yacuma\",\"tazovsky\",\"ola\",\"marka\",\"qarayeri\",\"toliara\",\"malaya vishera\",\"sovetskaya gavan'\",\"petropavlovsk-kamchatsky\",\"chinhoyi\",\"sao desiderio\",\"sandnessjoen\",\"la ronge\",\"chapayevsk\",\"lompoc\",\"hawaiian paradise park\",\"cold lake\",\"orange\",\"tanda\",\"dharampuri\",\"ruiz\",\"badger\",\"mwene-ditu\",\"altay\",\"arraial do cabo\",\"victorica\",\"lebu\",\"bikenibeu village\",\"invercargill\",\"saipan\",\"kodiak\",\"nar'yan-mar\",\"taos\",\"krasnogorskoye\",\"chonchi\",\"touros\",\"marsh harbour\",\"mayma\",\"chillicothe\",\"guelmim\",\"vryburg\",\"callao\",\"tvoroyri\",\"ubinskoye\",\"punta arenas\",\"lihue\",\"gorom-gorom\",\"khandyga\",\"dudinka\",\"kapuskasing\",\"ulysses\",\"bejaia\",\"shaowu\",\"laguna\",\"tezu\",\"port alfred\",\"kupang\",\"batang\",\"betio village\",\"banff\",\"siwa oasis\",\"santiago\",\"riberalta\",\"holualoa\",\"cidreira\",\"borogontsy\",\"ust'-barguzin\",\"kailua-kona\",\"ancud\",\"kiseljak\",\"kruisfontein\",\"malindi\",\"college\",\"berdyaush\",\"zheshart\",\"aleg\",\"zaysan\",\"katsuren-haebaru\",\"novyy urgal\",\"stanley\",\"luganville\",\"taroa\",\"zhanaozen\",\"awjilah\",\"port douglas\",\"bratsk\",\"port lincoln\",\"acarau\",\"nuuk\",\"kidal\",\"ciudad lazaro cardenas\",\"banda aceh\",\"rongelap\",\"tual\",\"lamarque\",\"afaahiti\",\"miajadas\",\"freetown\",\"adrar\",\"namibe\",\"mejit\",\"iguatu\",\"palmer\",\"al bawiti\",\"new norfolk\",\"klyuchi\",\"olyokminsk\",\"igarka\",\"kapa'a\",\"keflavik\",\"palikir - national government center\",\"lazaro cardenas\",\"whitecourt\",\"cabinda\",\"bubaque\",\"sao joao da barra\",\"hepo\",\"gazipasa\",\"luderitz\",\"modimolle\",\"grand falls-windsor\",\"naze\",\"hithadhoo\",\"paracuru\",\"codajas\",\"olutanga\",\"miri\",\"conception bay south\",\"sovetskiy\",\"qaqortoq\",\"chilmari\",\"mikun'\",\"jamestown\",\"qarazhal\",\"holbrook\",\"tame\",\"santa rosalia\",\"gulf shores\",\"rovaniemi\",\"yarmouth\",\"chardara\",\"ceres\",\"bintulu\",\"natal\",\"robore\",\"broken hill\",\"goroka\",\"san patricio\",\"tejen\",\"bhimunipatnam\",\"turkmenbasy\",\"isangel\",\"luwuk\",\"brookings\",\"vernon\",\"onega\",\"vila franca do campo\",\"sumenep\",\"erenhot\",\"codrington\",\"cooper's town\",\"taoudenni\",\"hasaki\",\"msowero\",\"valparaiso\",\"gadzhiyevo\",\"san salvador\",\"bryne\",\"bentota\",\"lycksele\",\"kirakira\",\"carutapera\",\"salalah\",\"bobo-dioulasso\",\"talakan\",\"gorontalo\",\"troitsko-pechorsk\",\"carnarvon\",\"sumbe\",\"la paz\",\"yanggu\",\"aliwal north\",\"general cabrera\",\"mil'kovo\",\"alesund\",\"pachino\",\"corn island\",\"tinogasta\",\"berrahal\",\"bucerias\",\"remire-montjoly\",\"mount isa\",\"sinop\",\"nova vicosa\",\"tsiombe\",\"chitungwiza\",\"newman\",\"lydenburg\",\"cill airne\",\"burang\",\"kasongo-lunda\",\"tindouf\",\"glace bay\",\"susuman\",\"marquelia\",\"bonthe\",\"prado\",\"shalqar\",\"mayqayyng\",\"beira\",\"laojunmiao\",\"hermosillo\",\"malinyi\",\"sidi bennour\",\"martapura\",\"misawa\",\"antonio enes\",\"boa vista\",\"kayangel\",\"kaihua\",\"chilca\",\"ibadan\",\"tobelo\",\"minas de marcona\",\"port blair\",\"hadibu\",\"lakatoro\",\"muisne\",\"ugoofaaru\",\"colipapa\",\"sekong\",\"ankazoabo\",\"happy valley-goose bay\",\"nova zagora\",\"inirida\",\"thinadhoo\",\"puerto ayacucho\",\"kemnath\",\"mar del plata\",\"rio grande\",\"balqash\",\"bhag\",\"launceston\",\"aban\",\"aykhal\",\"bang saphan\",\"da lat\",\"barcelos\",\"coquimbo\",\"nguigmi\",\"brandon\",\"santa maria da vitoria\",\"owen sound\",\"kota tinggi\",\"sur\",\"margate\",\"haiku-pauwela\",\"ust'-kut\",\"palu\",\"kodinsk\",\"nogliki\",\"fortuna\",\"tobruk\",\"dalandzadgad\",\"santa cruz\",\"sligo\",\"belel\",\"muroto-misakicho\",\"orapa\",\"lisakovsk\",\"sechura\",\"tamandare\",\"fort morgan\",\"forster\",\"nadym\",\"at-bashi\",\"hammerfest\",\"velez rubio\",\"queenstown\",\"pitkyaranta\",\"sao paulo de olivenca\",\"kolosovka\",\"sao gabriel da cachoeira\",\"souillac\",\"chibougamau\",\"prince rupert\",\"novodvinsk\",\"port macquarie\",\"jayapura\",\"kolonia\",\"sinjai\",\"vadso\",\"fale old settlement\",\"ponta delgada\",\"naryn\",\"kribi\",\"masterton\",\"kantunilkin\",\"creel\",\"mo i rana\",\"an nuhud\",\"sola\",\"mahibadhoo\",\"miquelon\",\"qulsary\",\"guiuan\",\"hilo\",\"laibin\",\"buka\",\"pikalevo\",\"fisterra\",\"sinabang\",\"altai\",\"khovd\",\"papao\",\"utrik\",\"san antonio de pale\",\"utete\",\"goba\",\"quelimane\",\"korsakov\",\"banlung\",\"guerrero negro\",\"saint-louis\",\"smithers\",\"yaren\",\"sisimiut\",\"cumbum\",\"hassi messaoud\",\"vikulovo\",\"kudahuvadhoo\",\"brisas de zicatela\",\"priozersk\",\"port augusta\",\"vuktyl\",\"shohimardon\",\"leh\",\"lao cai\",\"faro\",\"jindrichuv hradec\",\"morondava\",\"santana\",\"nagqu\",\"hong kong\",\"luorong\",\"puerto baquerizo moreno\",\"garden city\",\"aransas pass\",\"yuzhno-kurilsk\",\"cidade velha\",\"huilong\",\"olinda\",\"cukai\",\"san isidro de curuguaty\",\"wynyard\",\"montepuez\",\"shumerlya\",\"asilah\",\"kittila\",\"tortoli\",\"kapit\",\"kudat\",\"sao felix do xingu\",\"nova xavantina\",\"plav\",\"faya-largeau\",\"malakal\",\"coxen hole\",\"yakeshi\",\"corato\",\"kouroussa\",\"seven pagodas\",\"illizi\",\"pacific grove\",\"saint-jean-de-maurienne\",\"datong\",\"metlili chaamba\",\"cangzhou\",\"chichibu\",\"izberbash\",\"walvis bay\",\"yeppoon\",\"ondjiva\",\"boguchany\",\"sevastopol\",\"lagunas\",\"alfredo v. bonfil\",\"galle\",\"kitui\",\"vila velha\",\"sergeyevka\",\"nanchang\",\"mogadishu\",\"leesville\",\"richards bay\",\"fauske\",\"marina di massa\",\"kiunga\",\"dwarka\",\"ulimang\",\"boi\",\"araguari\",\"kirensk\",\"bozeman\",\"ventspils\",\"puerto escondido\",\"resplendor\",\"adler\",\"coahuayana de hidalgo\",\"barra dos coqueiros\",\"la sarre\",\"greymouth\",\"seminole\",\"marathon\",\"tinajo\",\"akureyri\",\"manaure\",\"richmond hill\",\"lyubim\",\"banaz\"],\"shape\":[549],\"dtype\":\"object\",\"order\":\"little\"}],[\"size\",{\"type\":\"ndarray\",\"array\":{\"type\":\"bytes\",\"data\":\"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\"},\"shape\":[549],\"dtype\":\"float64\",\"order\":\"little\"}]]}}},\"view\":{\"type\":\"object\",\"name\":\"CDSView\",\"id\":\"p1076\",\"attributes\":{\"filter\":{\"type\":\"object\",\"name\":\"AllIndices\",\"id\":\"p1077\"}}},\"glyph\":{\"type\":\"object\",\"name\":\"Scatter\",\"id\":\"p1070\",\"attributes\":{\"tags\":[\"apply_ranges\"],\"x\":{\"type\":\"field\",\"field\":\"Lng\"},\"y\":{\"type\":\"field\",\"field\":\"Lat\"},\"size\":{\"type\":\"field\",\"field\":\"size\"},\"line_color\":{\"type\":\"field\",\"field\":\"color\",\"transform\":{\"type\":\"object\",\"name\":\"CategoricalColorMapper\",\"id\":\"p1063\",\"attributes\":{\"palette\":[\"#1f77b3\",\"#ff7e0e\",\"#2ba02b\",\"#d62628\",\"#9367bc\",\"#8c564b\",\"#e277c1\",\"#7e7e7e\",\"#bcbc21\",\"#16bdcf\",\"#3a0182\",\"#004201\",\"#0fffa8\",\"#5d003f\",\"#bcbcff\",\"#d8afa1\",\"#b80080\",\"#004d52\",\"#6b6400\",\"#7c0100\",\"#6026ff\",\"#ffff9a\",\"#564964\",\"#8cb893\",\"#93fbff\",\"#018267\",\"#90ff00\",\"#8200a0\",\"#ac8944\",\"#5b3400\",\"#ffbff2\",\"#ff6e75\",\"#798cff\",\"#dd00ff\",\"#505646\",\"#004489\",\"#ffbf60\",\"#ff018c\",\"#bdc8cf\",\"#af97b5\",\"#b65600\",\"#017000\",\"#cd87ff\",\"#1cd646\",\"#bfebc3\",\"#7997b5\",\"#a56089\",\"#6e8956\",\"#bc7c75\",\"#8a2844\",\"#00acff\",\"#8ed4ff\",\"#4b6d77\",\"#00d4b1\",\"#9300f2\",\"#8a9500\",\"#5d5b9e\",\"#fddfba\",\"#00939e\",\"#ffdb00\",\"#00aa79\",\"#520067\",\"#000091\",\"#0a5d3d\",\"#a5e275\",\"#623b41\",\"#c6c689\",\"#ff9eb5\",\"#cd4f6b\",\"#ff07d6\",\"#8a3a05\",\"#7e3d70\",\"#ff4901\",\"#602ba5\",\"#1c00ff\",\"#e6dfff\",\"#aa3baf\",\"#d89c00\",\"#a3a39e\",\"#3f69ff\",\"#46490c\",\"#7b6985\",\"#6b978c\",\"#ff9a75\",\"#835bff\",\"#7c6b46\",\"#80b654\",\"#bc0049\",\"#fd93ff\",\"#5d0018\",\"#89d1d1\",\"#9c8cd3\",\"#da6d42\",\"#8a5700\",\"#3b5069\",\"#4b6b3b\",\"#edcfd8\",\"#cfedff\",\"#aa1500\",\"#dfff4f\",\"#ff2a56\",\"#d1499e\",\"#707cb8\",\"#598000\",\"#00e4fd\",\"#774b95\",\"#67d48c\",\"#3d3a72\",\"#ac413f\",\"#d6a166\",\"#c169cd\",\"#69595d\",\"#87aced\",\"#a0a569\",\"#d1aae6\",\"#870062\",\"#00fddb\",\"#672818\",\"#b342ff\",\"#0e59c4\",\"#168742\",\"#90d300\",\"#cd7900\",\"#f959ff\",\"#5b7466\",\"#8eaeb3\",\"#9c7c8c\",\"#4600c6\",\"#6b4d2d\",\"#a56d46\",\"#9e8972\",\"#a8afca\",\"#cd8ca7\",\"#00fd64\",\"#917900\",\"#ff62a1\",\"#f4ffd8\",\"#018cf0\",\"#13aca0\",\"#5b2d59\",\"#89859e\",\"#cfccba\",\"#d4afc4\",\"#dbdd6d\",\"#cffff4\",\"#006485\",\"#006962\",\"#a84167\",\"#2d97c4\",\"#a874ff\",\"#26ba5d\",\"#57b600\",\"#caffa7\",\"#a379aa\",\"#ffbc93\",\"#89e2c1\",\"#0fc8ff\",\"#d400c4\",\"#626d89\",\"#69858e\",\"#4b4d52\",\"#aa6067\",\"#79b5d4\",\"#2b5916\",\"#9a0024\",\"#bdd1f2\",\"#896e67\",\"#69a56b\",\"#855467\",\"#aecdba\",\"#87997e\",\"#cadb00\",\"#9a0390\",\"#ebbc1a\",\"#eb9cd1\",\"#70006e\",\"#b1a131\",\"#ca6b93\",\"#4146a3\",\"#e48c89\",\"#d44400\",\"#c68aca\",\"#b69597\",\"#d41f75\",\"#724bcc\",\"#674d00\",\"#672138\",\"#38564f\",\"#6ebaaa\",\"#853a31\",\"#a5d397\",\"#b8af8e\",\"#d8e4df\",\"#aa00df\",\"#cac1db\",\"#ffdf8c\",\"#e2524d\",\"#66696e\",\"#ff001c\",\"#522d72\",\"#4d906b\",\"#a86d11\",\"#ff9e26\",\"#5ea3af\",\"#c88556\",\"#915997\",\"#a3a1ff\",\"#fdbaba\",\"#242a87\",\"#dbe6a8\",\"#97f2a7\",\"#6793d6\",\"#ba5b3f\",\"#3a5d91\",\"#364f2f\",\"#267c95\",\"#89959a\",\"#cfb356\",\"#004664\",\"#5e5d2f\",\"#8e8e41\",\"#ac3f13\",\"#69953b\",\"#a13d85\",\"#bfb6ba\",\"#acc667\",\"#6469cf\",\"#91af00\",\"#2be2da\",\"#016e36\",\"#ff7952\",\"#42807e\",\"#4fe800\",\"#995428\",\"#5d0a00\",\"#a30057\",\"#0c8700\",\"#5982a7\",\"#ffebfb\",\"#4b6901\",\"#8775d4\",\"#e6c6ff\",\"#a5ffda\",\"#d86e77\",\"#df014b\",\"#69675b\",\"#776ba1\",\"#7e8067\",\"#594685\",\"#0000ca\",\"#7c002a\",\"#97ff72\",\"#b5e2e1\",\"#db52c8\",\"#777734\",\"#57bd8e\",\"#1f77b3\",\"#ff7e0e\",\"#2ba02b\",\"#d62628\",\"#9367bc\",\"#8c564b\",\"#e277c1\",\"#7e7e7e\",\"#bcbc21\",\"#16bdcf\",\"#3a0182\",\"#004201\",\"#0fffa8\",\"#5d003f\",\"#bcbcff\",\"#d8afa1\",\"#b80080\",\"#004d52\",\"#6b6400\",\"#7c0100\",\"#6026ff\",\"#ffff9a\",\"#564964\",\"#8cb893\",\"#93fbff\",\"#018267\",\"#90ff00\",\"#8200a0\",\"#ac8944\",\"#5b3400\",\"#ffbff2\",\"#ff6e75\",\"#798cff\",\"#dd00ff\",\"#505646\",\"#004489\",\"#ffbf60\",\"#ff018c\",\"#bdc8cf\",\"#af97b5\",\"#b65600\",\"#017000\",\"#cd87ff\",\"#1cd646\",\"#bfebc3\",\"#7997b5\",\"#a56089\",\"#6e8956\",\"#bc7c75\",\"#8a2844\",\"#00acff\",\"#8ed4ff\",\"#4b6d77\",\"#00d4b1\",\"#9300f2\",\"#8a9500\",\"#5d5b9e\",\"#fddfba\",\"#00939e\",\"#ffdb00\",\"#00aa79\",\"#520067\",\"#000091\",\"#0a5d3d\",\"#a5e275\",\"#623b41\",\"#c6c689\",\"#ff9eb5\",\"#cd4f6b\",\"#ff07d6\",\"#8a3a05\",\"#7e3d70\",\"#ff4901\",\"#602ba5\",\"#1c00ff\",\"#e6dfff\",\"#aa3baf\",\"#d89c00\",\"#a3a39e\",\"#3f69ff\",\"#46490c\",\"#7b6985\",\"#6b978c\",\"#ff9a75\",\"#835bff\",\"#7c6b46\",\"#80b654\",\"#bc0049\",\"#fd93ff\",\"#5d0018\",\"#89d1d1\",\"#9c8cd3\",\"#da6d42\",\"#8a5700\",\"#3b5069\",\"#4b6b3b\",\"#edcfd8\",\"#cfedff\",\"#aa1500\",\"#dfff4f\",\"#ff2a56\",\"#d1499e\",\"#707cb8\",\"#598000\",\"#00e4fd\",\"#774b95\",\"#67d48c\",\"#3d3a72\",\"#ac413f\",\"#d6a166\",\"#c169cd\",\"#69595d\",\"#87aced\",\"#a0a569\",\"#d1aae6\",\"#870062\",\"#00fddb\",\"#672818\",\"#b342ff\",\"#0e59c4\",\"#168742\",\"#90d300\",\"#cd7900\",\"#f959ff\",\"#5b7466\",\"#8eaeb3\",\"#9c7c8c\",\"#4600c6\",\"#6b4d2d\",\"#a56d46\",\"#9e8972\",\"#a8afca\",\"#cd8ca7\",\"#00fd64\",\"#917900\",\"#ff62a1\",\"#f4ffd8\",\"#018cf0\",\"#13aca0\",\"#5b2d59\",\"#89859e\",\"#cfccba\",\"#d4afc4\",\"#dbdd6d\",\"#cffff4\",\"#006485\",\"#006962\",\"#a84167\",\"#2d97c4\",\"#a874ff\",\"#26ba5d\",\"#57b600\",\"#caffa7\",\"#a379aa\",\"#ffbc93\",\"#89e2c1\",\"#0fc8ff\",\"#d400c4\",\"#626d89\",\"#69858e\",\"#4b4d52\",\"#aa6067\",\"#79b5d4\",\"#2b5916\",\"#9a0024\",\"#bdd1f2\",\"#896e67\",\"#69a56b\",\"#855467\",\"#aecdba\",\"#87997e\",\"#cadb00\",\"#9a0390\",\"#ebbc1a\",\"#eb9cd1\",\"#70006e\",\"#b1a131\",\"#ca6b93\",\"#4146a3\",\"#e48c89\",\"#d44400\",\"#c68aca\",\"#b69597\",\"#d41f75\",\"#724bcc\",\"#674d00\",\"#672138\",\"#38564f\",\"#6ebaaa\",\"#853a31\",\"#a5d397\",\"#b8af8e\",\"#d8e4df\",\"#aa00df\",\"#cac1db\",\"#ffdf8c\",\"#e2524d\",\"#66696e\",\"#ff001c\",\"#522d72\",\"#4d906b\",\"#a86d11\",\"#ff9e26\",\"#5ea3af\",\"#c88556\",\"#915997\",\"#a3a1ff\",\"#fdbaba\",\"#242a87\",\"#dbe6a8\",\"#97f2a7\",\"#6793d6\",\"#ba5b3f\",\"#3a5d91\",\"#364f2f\",\"#267c95\",\"#89959a\",\"#cfb356\",\"#004664\",\"#5e5d2f\",\"#8e8e41\",\"#ac3f13\",\"#69953b\",\"#a13d85\",\"#bfb6ba\",\"#acc667\",\"#6469cf\",\"#91af00\",\"#2be2da\",\"#016e36\",\"#ff7952\",\"#42807e\",\"#4fe800\",\"#995428\",\"#5d0a00\",\"#a30057\",\"#0c8700\",\"#5982a7\",\"#ffebfb\",\"#4b6901\",\"#8775d4\",\"#e6c6ff\",\"#a5ffda\",\"#d86e77\",\"#df014b\",\"#69675b\",\"#776ba1\",\"#7e8067\",\"#594685\",\"#0000ca\",\"#7c002a\",\"#97ff72\",\"#b5e2e1\",\"#db52c8\",\"#777734\",\"#57bd8e\",\"#1f77b3\",\"#ff7e0e\",\"#2ba02b\",\"#d62628\",\"#9367bc\",\"#8c564b\",\"#e277c1\",\"#7e7e7e\",\"#bcbc21\",\"#16bdcf\",\"#3a0182\",\"#004201\",\"#0fffa8\",\"#5d003f\",\"#bcbcff\",\"#d8afa1\",\"#b80080\",\"#004d52\",\"#6b6400\",\"#7c0100\",\"#6026ff\",\"#ffff9a\",\"#564964\",\"#8cb893\",\"#93fbff\",\"#018267\",\"#90ff00\",\"#8200a0\",\"#ac8944\",\"#5b3400\",\"#ffbff2\",\"#ff6e75\",\"#798cff\",\"#dd00ff\",\"#505646\",\"#004489\",\"#ffbf60\"],\"factors\":[\"chui\",\"bilibino\",\"ust-nera\",\"ribeira grande\",\"atafu village\",\"tolanaro\",\"kuacjok\",\"grytviken\",\"puerto natales\",\"takoradi\",\"tiksi\",\"hefei\",\"port-aux-francais\",\"iqaluit\",\"kyren\",\"olonkinbyen\",\"avarua\",\"edinburgh of the seven seas\",\"aasiaat\",\"port elizabeth\",\"st. john's\",\"keyser\",\"vorgashor\",\"salinas\",\"weno\",\"es castell\",\"poyarkovo\",\"georgetown\",\"pionerskiy\",\"whitehorse\",\"ves'yegonsk\",\"flying fish cove\",\"alo\",\"waitangi\",\"khorinsk\",\"tazacorte\",\"rosales\",\"vilyuchinsk\",\"novaya ladoga\",\"west island\",\"cotoca\",\"geraldton\",\"anadyr\",\"saint-philippe\",\"bethel\",\"adamstown\",\"la passe\",\"suwayr\",\"kingston\",\"sanya\",\"bardai\",\"hamilton\",\"bredasdorp\",\"papatowai\",\"steinbach\",\"albany\",\"hillvue\",\"constantia\",\"tura\",\"eloi mendes\",\"nuku'alofa\",\"thompson\",\"saint-pierre\",\"blackmans bay\",\"margaret river\",\"alaghsas\",\"port mathurin\",\"nova sintra\",\"plettenberg bay\",\"myshkin\",\"kone\",\"howard springs\",\"udachny\",\"quellon\",\"piti village\",\"kuanda\",\"mount gambier\",\"mahenge\",\"antsiranana\",\"puerto ayora\",\"magadan\",\"sitka\",\"alice springs\",\"longyearbyen\",\"uturoa\",\"dunedin\",\"ilulissat\",\"colonia\",\"narasannapeta\",\"hermanus\",\"tongeren\",\"nabire\",\"yellowknife\",\"nadi\",\"fort bragg\",\"wailua homesteads\",\"buala\",\"gwanda\",\"bougouni\",\"vorkuta\",\"dampit\",\"kerikeri\",\"kavaratti\",\"kununurra\",\"iskateley\",\"dhidhdhoo\",\"isafjordur\",\"talnakh\",\"kourou\",\"kayenta\",\"bel ombre\",\"kavieng\",\"nalut\",\"sigli\",\"menongue\",\"nemuro\",\"severo-yeniseyskiy\",\"polyarnyy\",\"anchorage\",\"yung shue wan\",\"nago\",\"cururupu\",\"ushuaia\",\"tonghae\",\"okha\",\"kamaishi\",\"boende\",\"enewetak\",\"bojnurd\",\"santa ana de yacuma\",\"tazovsky\",\"ola\",\"marka\",\"qarayeri\",\"toliara\",\"malaya vishera\",\"sovetskaya gavan'\",\"petropavlovsk-kamchatsky\",\"chinhoyi\",\"sao desiderio\",\"sandnessjoen\",\"la ronge\",\"chapayevsk\",\"lompoc\",\"hawaiian paradise park\",\"cold lake\",\"orange\",\"tanda\",\"dharampuri\",\"ruiz\",\"badger\",\"mwene-ditu\",\"altay\",\"arraial do cabo\",\"victorica\",\"lebu\",\"bikenibeu village\",\"invercargill\",\"saipan\",\"kodiak\",\"nar'yan-mar\",\"taos\",\"krasnogorskoye\",\"chonchi\",\"touros\",\"marsh harbour\",\"mayma\",\"chillicothe\",\"guelmim\",\"vryburg\",\"callao\",\"tvoroyri\",\"ubinskoye\",\"punta arenas\",\"lihue\",\"gorom-gorom\",\"khandyga\",\"dudinka\",\"kapuskasing\",\"ulysses\",\"bejaia\",\"shaowu\",\"laguna\",\"tezu\",\"port alfred\",\"kupang\",\"batang\",\"betio village\",\"banff\",\"siwa oasis\",\"santiago\",\"riberalta\",\"holualoa\",\"cidreira\",\"borogontsy\",\"ust'-barguzin\",\"kailua-kona\",\"ancud\",\"kiseljak\",\"kruisfontein\",\"malindi\",\"college\",\"berdyaush\",\"zheshart\",\"aleg\",\"zaysan\",\"katsuren-haebaru\",\"novyy urgal\",\"stanley\",\"luganville\",\"taroa\",\"zhanaozen\",\"awjilah\",\"port douglas\",\"bratsk\",\"port lincoln\",\"acarau\",\"nuuk\",\"kidal\",\"ciudad lazaro cardenas\",\"banda aceh\",\"rongelap\",\"tual\",\"lamarque\",\"afaahiti\",\"miajadas\",\"freetown\",\"adrar\",\"namibe\",\"mejit\",\"iguatu\",\"palmer\",\"al bawiti\",\"new norfolk\",\"klyuchi\",\"olyokminsk\",\"igarka\",\"kapa'a\",\"keflavik\",\"palikir - national government center\",\"lazaro cardenas\",\"whitecourt\",\"cabinda\",\"bubaque\",\"sao joao da barra\",\"hepo\",\"gazipasa\",\"luderitz\",\"modimolle\",\"grand falls-windsor\",\"naze\",\"hithadhoo\",\"paracuru\",\"codajas\",\"olutanga\",\"miri\",\"conception bay south\",\"sovetskiy\",\"qaqortoq\",\"chilmari\",\"mikun'\",\"jamestown\",\"qarazhal\",\"holbrook\",\"tame\",\"santa rosalia\",\"gulf shores\",\"rovaniemi\",\"yarmouth\",\"chardara\",\"ceres\",\"bintulu\",\"natal\",\"robore\",\"broken hill\",\"goroka\",\"san patricio\",\"tejen\",\"bhimunipatnam\",\"turkmenbasy\",\"isangel\",\"luwuk\",\"brookings\",\"vernon\",\"onega\",\"vila franca do campo\",\"sumenep\",\"erenhot\",\"codrington\",\"cooper's town\",\"taoudenni\",\"hasaki\",\"msowero\",\"valparaiso\",\"gadzhiyevo\",\"san salvador\",\"bryne\",\"bentota\",\"lycksele\",\"kirakira\",\"carutapera\",\"salalah\",\"bobo-dioulasso\",\"talakan\",\"gorontalo\",\"troitsko-pechorsk\",\"carnarvon\",\"sumbe\",\"la paz\",\"yanggu\",\"aliwal north\",\"general cabrera\",\"mil'kovo\",\"alesund\",\"pachino\",\"corn island\",\"tinogasta\",\"berrahal\",\"bucerias\",\"remire-montjoly\",\"mount isa\",\"sinop\",\"nova vicosa\",\"tsiombe\",\"chitungwiza\",\"newman\",\"lydenburg\",\"cill airne\",\"burang\",\"kasongo-lunda\",\"tindouf\",\"glace bay\",\"susuman\",\"marquelia\",\"bonthe\",\"prado\",\"shalqar\",\"mayqayyng\",\"beira\",\"laojunmiao\",\"hermosillo\",\"malinyi\",\"sidi bennour\",\"martapura\",\"misawa\",\"antonio enes\",\"boa vista\",\"kayangel\",\"kaihua\",\"chilca\",\"ibadan\",\"tobelo\",\"minas de marcona\",\"port blair\",\"hadibu\",\"lakatoro\",\"muisne\",\"ugoofaaru\",\"colipapa\",\"sekong\",\"ankazoabo\",\"happy valley-goose bay\",\"nova zagora\",\"inirida\",\"thinadhoo\",\"puerto ayacucho\",\"kemnath\",\"mar del plata\",\"rio grande\",\"balqash\",\"bhag\",\"launceston\",\"aban\",\"aykhal\",\"bang saphan\",\"da lat\",\"barcelos\",\"coquimbo\",\"nguigmi\",\"brandon\",\"santa maria da vitoria\",\"owen sound\",\"kota tinggi\",\"sur\",\"margate\",\"haiku-pauwela\",\"ust'-kut\",\"palu\",\"kodinsk\",\"nogliki\",\"fortuna\",\"tobruk\",\"dalandzadgad\",\"santa cruz\",\"sligo\",\"belel\",\"muroto-misakicho\",\"orapa\",\"lisakovsk\",\"sechura\",\"tamandare\",\"fort morgan\",\"forster\",\"nadym\",\"at-bashi\",\"hammerfest\",\"velez rubio\",\"queenstown\",\"pitkyaranta\",\"sao paulo de olivenca\",\"kolosovka\",\"sao gabriel da cachoeira\",\"souillac\",\"chibougamau\",\"prince rupert\",\"novodvinsk\",\"port macquarie\",\"jayapura\",\"kolonia\",\"sinjai\",\"vadso\",\"fale old settlement\",\"ponta delgada\",\"naryn\",\"kribi\",\"masterton\",\"kantunilkin\",\"creel\",\"mo i rana\",\"an nuhud\",\"sola\",\"mahibadhoo\",\"miquelon\",\"qulsary\",\"guiuan\",\"hilo\",\"laibin\",\"buka\",\"pikalevo\",\"fisterra\",\"sinabang\",\"altai\",\"khovd\",\"papao\",\"utrik\",\"san antonio de pale\",\"utete\",\"goba\",\"quelimane\",\"korsakov\",\"banlung\",\"guerrero negro\",\"saint-louis\",\"smithers\",\"yaren\",\"sisimiut\",\"cumbum\",\"hassi messaoud\",\"vikulovo\",\"kudahuvadhoo\",\"brisas de zicatela\",\"priozersk\",\"port augusta\",\"vuktyl\",\"shohimardon\",\"leh\",\"lao cai\",\"faro\",\"jindrichuv hradec\",\"morondava\",\"santana\",\"nagqu\",\"hong kong\",\"luorong\",\"puerto baquerizo moreno\",\"garden city\",\"aransas pass\",\"yuzhno-kurilsk\",\"cidade velha\",\"huilong\",\"olinda\",\"cukai\",\"san isidro de curuguaty\",\"wynyard\",\"montepuez\",\"shumerlya\",\"asilah\",\"kittila\",\"tortoli\",\"kapit\",\"kudat\",\"sao felix do xingu\",\"nova xavantina\",\"plav\",\"faya-largeau\",\"malakal\",\"coxen hole\",\"yakeshi\",\"corato\",\"kouroussa\",\"seven pagodas\",\"illizi\",\"pacific grove\",\"saint-jean-de-maurienne\",\"datong\",\"metlili chaamba\",\"cangzhou\",\"chichibu\",\"izberbash\",\"walvis bay\",\"yeppoon\",\"ondjiva\",\"boguchany\",\"sevastopol\",\"lagunas\",\"alfredo v. bonfil\",\"galle\",\"kitui\",\"vila velha\",\"sergeyevka\",\"nanchang\",\"mogadishu\",\"leesville\",\"richards bay\",\"fauske\",\"marina di massa\",\"kiunga\",\"dwarka\",\"ulimang\",\"boi\",\"araguari\",\"kirensk\",\"bozeman\",\"ventspils\",\"puerto escondido\",\"resplendor\",\"adler\",\"coahuayana de hidalgo\",\"barra dos coqueiros\",\"la sarre\",\"greymouth\",\"seminole\",\"marathon\",\"tinajo\",\"akureyri\",\"manaure\",\"richmond hill\",\"lyubim\",\"banaz\"]}}},\"fill_color\":{\"type\":\"field\",\"field\":\"color\",\"transform\":{\"id\":\"p1063\"}},\"hatch_color\":{\"type\":\"field\",\"field\":\"color\",\"transform\":{\"id\":\"p1063\"}}}},\"selection_glyph\":{\"type\":\"object\",\"name\":\"Scatter\",\"id\":\"p1072\",\"attributes\":{\"tags\":[\"apply_ranges\"],\"x\":{\"type\":\"field\",\"field\":\"Lng\"},\"y\":{\"type\":\"field\",\"field\":\"Lat\"},\"size\":{\"type\":\"field\",\"field\":\"size\"},\"line_color\":{\"type\":\"field\",\"field\":\"color\",\"transform\":{\"id\":\"p1063\"}},\"fill_color\":{\"type\":\"field\",\"field\":\"color\",\"transform\":{\"id\":\"p1063\"}},\"hatch_color\":{\"type\":\"field\",\"field\":\"color\",\"transform\":{\"id\":\"p1063\"}}}},\"nonselection_glyph\":{\"type\":\"object\",\"name\":\"Scatter\",\"id\":\"p1071\",\"attributes\":{\"tags\":[\"apply_ranges\"],\"x\":{\"type\":\"field\",\"field\":\"Lng\"},\"y\":{\"type\":\"field\",\"field\":\"Lat\"},\"size\":{\"type\":\"field\",\"field\":\"size\"},\"line_color\":{\"type\":\"field\",\"field\":\"color\",\"transform\":{\"id\":\"p1063\"}},\"line_alpha\":{\"type\":\"value\",\"value\":0.1},\"fill_color\":{\"type\":\"field\",\"field\":\"color\",\"transform\":{\"id\":\"p1063\"}},\"fill_alpha\":{\"type\":\"value\",\"value\":0.1},\"hatch_color\":{\"type\":\"field\",\"field\":\"color\",\"transform\":{\"id\":\"p1063\"}},\"hatch_alpha\":{\"type\":\"value\",\"value\":0.1}}},\"hover_glyph\":{\"type\":\"object\",\"name\":\"Scatter\",\"id\":\"p1073\",\"attributes\":{\"tags\":[\"apply_ranges\"],\"x\":{\"type\":\"field\",\"field\":\"Lng\"},\"y\":{\"type\":\"field\",\"field\":\"Lat\"},\"size\":{\"type\":\"field\",\"field\":\"size\"},\"line_color\":{\"type\":\"field\",\"field\":\"color\",\"transform\":{\"id\":\"p1063\"}},\"fill_color\":{\"type\":\"field\",\"field\":\"color\",\"transform\":{\"id\":\"p1063\"}},\"hatch_color\":{\"type\":\"field\",\"field\":\"color\",\"transform\":{\"id\":\"p1063\"}}}},\"muted_glyph\":{\"type\":\"object\",\"name\":\"Scatter\",\"id\":\"p1074\",\"attributes\":{\"tags\":[\"apply_ranges\"],\"x\":{\"type\":\"field\",\"field\":\"Lng\"},\"y\":{\"type\":\"field\",\"field\":\"Lat\"},\"size\":{\"type\":\"field\",\"field\":\"size\"},\"line_color\":{\"type\":\"field\",\"field\":\"color\",\"transform\":{\"id\":\"p1063\"}},\"line_alpha\":{\"type\":\"value\",\"value\":0.2},\"fill_color\":{\"type\":\"field\",\"field\":\"color\",\"transform\":{\"id\":\"p1063\"}},\"fill_alpha\":{\"type\":\"value\",\"value\":0.2},\"hatch_color\":{\"type\":\"field\",\"field\":\"color\",\"transform\":{\"id\":\"p1063\"}},\"hatch_alpha\":{\"type\":\"value\",\"value\":0.2}}}}}],\"toolbar\":{\"type\":\"object\",\"name\":\"Toolbar\",\"id\":\"p1035\",\"attributes\":{\"tools\":[{\"type\":\"object\",\"name\":\"WheelZoomTool\",\"id\":\"p1021\",\"attributes\":{\"tags\":[\"hv_created\"],\"zoom_on_axis\":false,\"zoom_together\":\"none\"}},{\"type\":\"object\",\"name\":\"HoverTool\",\"id\":\"p1025\",\"attributes\":{\"tags\":[\"hv_created\"],\"renderers\":[{\"id\":\"p1075\"}],\"tooltips\":[[\"Lng\",\"$x{custom}\"],[\"Lat\",\"$y{custom}\"],[\"City\",\"@{City}\"],[\"Humidity\",\"@{Humidity}\"]],\"formatters\":{\"type\":\"map\",\"entries\":[[\"$x\",{\"type\":\"object\",\"name\":\"CustomJSHover\",\"id\":\"p1080\",\"attributes\":{\"code\":\"\\n        const projections = Bokeh.require(\\\"core/util/projections\\\");\\n        const {snap_x, snap_y} = special_vars\\n        const coords = projections.wgs84_mercator.invert(snap_x, snap_y)\\n        return \\\"\\\" + (coords[0]).toFixed(4)\\n    \"}}],[\"$y\",{\"type\":\"object\",\"name\":\"CustomJSHover\",\"id\":\"p1081\",\"attributes\":{\"code\":\"\\n        const projections = Bokeh.require(\\\"core/util/projections\\\");\\n        const {snap_x, snap_y} = special_vars\\n        const coords = projections.wgs84_mercator.invert(snap_x, snap_y)\\n        return \\\"\\\" + (coords[1]).toFixed(4)\\n    \"}}]]}}},{\"type\":\"object\",\"name\":\"SaveTool\",\"id\":\"p1048\"},{\"type\":\"object\",\"name\":\"PanTool\",\"id\":\"p1049\"},{\"type\":\"object\",\"name\":\"BoxZoomTool\",\"id\":\"p1050\",\"attributes\":{\"overlay\":{\"type\":\"object\",\"name\":\"BoxAnnotation\",\"id\":\"p1051\",\"attributes\":{\"syncable\":false,\"level\":\"overlay\",\"visible\":false,\"left_units\":\"canvas\",\"right_units\":\"canvas\",\"bottom_units\":\"canvas\",\"top_units\":\"canvas\",\"line_color\":\"black\",\"line_alpha\":1.0,\"line_width\":2,\"line_dash\":[4,4],\"fill_color\":\"lightgrey\",\"fill_alpha\":0.5}},\"match_aspect\":true}},{\"type\":\"object\",\"name\":\"ResetTool\",\"id\":\"p1052\"}],\"active_drag\":{\"id\":\"p1049\"}}},\"left\":[{\"type\":\"object\",\"name\":\"LinearAxis\",\"id\":\"p1043\",\"attributes\":{\"ticker\":{\"type\":\"object\",\"name\":\"MercatorTicker\",\"id\":\"p1055\",\"attributes\":{\"mantissas\":[1,2,5],\"dimension\":\"lat\"}},\"formatter\":{\"type\":\"object\",\"name\":\"MercatorTickFormatter\",\"id\":\"p1056\",\"attributes\":{\"dimension\":\"lat\"}},\"axis_label\":\"y\",\"major_label_policy\":{\"type\":\"object\",\"name\":\"AllLabels\",\"id\":\"p1046\"}}}],\"right\":[{\"type\":\"object\",\"name\":\"Legend\",\"id\":\"p1078\",\"attributes\":{\"location\":[0,0],\"click_policy\":\"mute\",\"items\":[{\"type\":\"object\",\"name\":\"LegendItem\",\"id\":\"p1079\",\"attributes\":{\"label\":{\"type\":\"field\",\"field\":\"color\"},\"renderers\":[{\"id\":\"p1075\"}]}}]}}],\"below\":[{\"type\":\"object\",\"name\":\"LinearAxis\",\"id\":\"p1038\",\"attributes\":{\"ticker\":{\"type\":\"object\",\"name\":\"MercatorTicker\",\"id\":\"p1053\",\"attributes\":{\"mantissas\":[1,2,5],\"dimension\":\"lon\"}},\"formatter\":{\"type\":\"object\",\"name\":\"MercatorTickFormatter\",\"id\":\"p1054\",\"attributes\":{\"dimension\":\"lon\"}},\"axis_label\":\"x\",\"major_label_policy\":{\"type\":\"object\",\"name\":\"AllLabels\",\"id\":\"p1041\"}}}],\"center\":[{\"type\":\"object\",\"name\":\"Grid\",\"id\":\"p1042\",\"attributes\":{\"axis\":{\"id\":\"p1038\"},\"grid_line_color\":null}},{\"type\":\"object\",\"name\":\"Grid\",\"id\":\"p1047\",\"attributes\":{\"dimension\":1,\"axis\":{\"id\":\"p1043\"},\"grid_line_color\":null}}],\"frame_width\":800,\"frame_height\":600,\"min_border_top\":10,\"min_border_bottom\":10,\"min_border_left\":10,\"min_border_right\":10,\"output_backend\":\"webgl\",\"match_aspect\":true}},{\"type\":\"object\",\"name\":\"Spacer\",\"id\":\"p1083\",\"attributes\":{\"name\":\"HSpacer01592\",\"stylesheets\":[\"\\n:host(.pn-loading.pn-arc):before, .pn-loading.pn-arc:before {\\n  background-image: url(\\\"data:image/svg+xml;base64,PHN2ZyB4bWxucz0iaHR0cDovL3d3dy53My5vcmcvMjAwMC9zdmciIHN0eWxlPSJtYXJnaW46IGF1dG87IGJhY2tncm91bmQ6IG5vbmU7IGRpc3BsYXk6IGJsb2NrOyBzaGFwZS1yZW5kZXJpbmc6IGF1dG87IiB2aWV3Qm94PSIwIDAgMTAwIDEwMCIgcHJlc2VydmVBc3BlY3RSYXRpbz0ieE1pZFlNaWQiPiAgPGNpcmNsZSBjeD0iNTAiIGN5PSI1MCIgZmlsbD0ibm9uZSIgc3Ryb2tlPSIjYzNjM2MzIiBzdHJva2Utd2lkdGg9IjEwIiByPSIzNSIgc3Ryb2tlLWRhc2hhcnJheT0iMTY0LjkzMzYxNDMxMzQ2NDE1IDU2Ljk3Nzg3MTQzNzgyMTM4Ij4gICAgPGFuaW1hdGVUcmFuc2Zvcm0gYXR0cmlidXRlTmFtZT0idHJhbnNmb3JtIiB0eXBlPSJyb3RhdGUiIHJlcGVhdENvdW50PSJpbmRlZmluaXRlIiBkdXI9IjFzIiB2YWx1ZXM9IjAgNTAgNTA7MzYwIDUwIDUwIiBrZXlUaW1lcz0iMDsxIj48L2FuaW1hdGVUcmFuc2Zvcm0+ICA8L2NpcmNsZT48L3N2Zz4=\\\");\\n  background-size: auto calc(min(50%, 400px));\\n}\",{\"id\":\"p1008\"},{\"id\":\"p1006\"},{\"id\":\"p1007\"}],\"margin\":0,\"sizing_mode\":\"stretch_width\",\"align\":\"start\"}}]}}],\"defs\":[{\"type\":\"model\",\"name\":\"ReactiveHTML1\"},{\"type\":\"model\",\"name\":\"FlexBox1\",\"properties\":[{\"name\":\"align_content\",\"kind\":\"Any\",\"default\":\"flex-start\"},{\"name\":\"align_items\",\"kind\":\"Any\",\"default\":\"flex-start\"},{\"name\":\"flex_direction\",\"kind\":\"Any\",\"default\":\"row\"},{\"name\":\"flex_wrap\",\"kind\":\"Any\",\"default\":\"wrap\"},{\"name\":\"justify_content\",\"kind\":\"Any\",\"default\":\"flex-start\"}]},{\"type\":\"model\",\"name\":\"FloatPanel1\",\"properties\":[{\"name\":\"config\",\"kind\":\"Any\",\"default\":{\"type\":\"map\"}},{\"name\":\"contained\",\"kind\":\"Any\",\"default\":true},{\"name\":\"position\",\"kind\":\"Any\",\"default\":\"right-top\"},{\"name\":\"offsetx\",\"kind\":\"Any\",\"default\":null},{\"name\":\"offsety\",\"kind\":\"Any\",\"default\":null},{\"name\":\"theme\",\"kind\":\"Any\",\"default\":\"primary\"},{\"name\":\"status\",\"kind\":\"Any\",\"default\":\"normalized\"}]},{\"type\":\"model\",\"name\":\"GridStack1\",\"properties\":[{\"name\":\"mode\",\"kind\":\"Any\",\"default\":\"warn\"},{\"name\":\"ncols\",\"kind\":\"Any\",\"default\":null},{\"name\":\"nrows\",\"kind\":\"Any\",\"default\":null},{\"name\":\"allow_resize\",\"kind\":\"Any\",\"default\":true},{\"name\":\"allow_drag\",\"kind\":\"Any\",\"default\":true},{\"name\":\"state\",\"kind\":\"Any\",\"default\":[]}]},{\"type\":\"model\",\"name\":\"drag1\",\"properties\":[{\"name\":\"slider_width\",\"kind\":\"Any\",\"default\":5},{\"name\":\"slider_color\",\"kind\":\"Any\",\"default\":\"black\"},{\"name\":\"value\",\"kind\":\"Any\",\"default\":50}]},{\"type\":\"model\",\"name\":\"click1\",\"properties\":[{\"name\":\"terminal_output\",\"kind\":\"Any\",\"default\":\"\"},{\"name\":\"debug_name\",\"kind\":\"Any\",\"default\":\"\"},{\"name\":\"clears\",\"kind\":\"Any\",\"default\":0}]},{\"type\":\"model\",\"name\":\"FastWrapper1\",\"properties\":[{\"name\":\"object\",\"kind\":\"Any\",\"default\":null},{\"name\":\"style\",\"kind\":\"Any\",\"default\":null}]},{\"type\":\"model\",\"name\":\"NotificationAreaBase1\",\"properties\":[{\"name\":\"js_events\",\"kind\":\"Any\",\"default\":{\"type\":\"map\"}},{\"name\":\"position\",\"kind\":\"Any\",\"default\":\"bottom-right\"},{\"name\":\"_clear\",\"kind\":\"Any\",\"default\":0}]},{\"type\":\"model\",\"name\":\"NotificationArea1\",\"properties\":[{\"name\":\"js_events\",\"kind\":\"Any\",\"default\":{\"type\":\"map\"}},{\"name\":\"notifications\",\"kind\":\"Any\",\"default\":[]},{\"name\":\"position\",\"kind\":\"Any\",\"default\":\"bottom-right\"},{\"name\":\"_clear\",\"kind\":\"Any\",\"default\":0},{\"name\":\"types\",\"kind\":\"Any\",\"default\":[{\"type\":\"map\",\"entries\":[[\"type\",\"warning\"],[\"background\",\"#ffc107\"],[\"icon\",{\"type\":\"map\",\"entries\":[[\"className\",\"fas fa-exclamation-triangle\"],[\"tagName\",\"i\"],[\"color\",\"white\"]]}]]},{\"type\":\"map\",\"entries\":[[\"type\",\"info\"],[\"background\",\"#007bff\"],[\"icon\",{\"type\":\"map\",\"entries\":[[\"className\",\"fas fa-info-circle\"],[\"tagName\",\"i\"],[\"color\",\"white\"]]}]]}]}]},{\"type\":\"model\",\"name\":\"Notification\",\"properties\":[{\"name\":\"background\",\"kind\":\"Any\",\"default\":null},{\"name\":\"duration\",\"kind\":\"Any\",\"default\":3000},{\"name\":\"icon\",\"kind\":\"Any\",\"default\":null},{\"name\":\"message\",\"kind\":\"Any\",\"default\":\"\"},{\"name\":\"notification_type\",\"kind\":\"Any\",\"default\":null},{\"name\":\"_destroyed\",\"kind\":\"Any\",\"default\":false}]},{\"type\":\"model\",\"name\":\"TemplateActions1\",\"properties\":[{\"name\":\"open_modal\",\"kind\":\"Any\",\"default\":0},{\"name\":\"close_modal\",\"kind\":\"Any\",\"default\":0}]},{\"type\":\"model\",\"name\":\"BootstrapTemplateActions1\",\"properties\":[{\"name\":\"open_modal\",\"kind\":\"Any\",\"default\":0},{\"name\":\"close_modal\",\"kind\":\"Any\",\"default\":0}]},{\"type\":\"model\",\"name\":\"MaterialTemplateActions1\",\"properties\":[{\"name\":\"open_modal\",\"kind\":\"Any\",\"default\":0},{\"name\":\"close_modal\",\"kind\":\"Any\",\"default\":0}]}]}};\n",
       "  var render_items = [{\"docid\":\"3751e657-73e0-4991-bc85-627aae99df63\",\"roots\":{\"p1005\":\"ff1063c6-a435-4113-88f0-d5439f9307d5\"},\"root_ids\":[\"p1005\"]}];\n",
       "  var docs = Object.values(docs_json)\n",
       "  if (!docs) {\n",
       "    return\n",
       "  }\n",
       "  const py_version = docs[0].version.replace('rc', '-rc.').replace('.dev', '-dev.')\n",
       "  const is_dev = py_version.indexOf(\"+\") !== -1 || py_version.indexOf(\"-\") !== -1\n",
       "  function embed_document(root) {\n",
       "    var Bokeh = get_bokeh(root)\n",
       "    Bokeh.embed.embed_items_notebook(docs_json, render_items);\n",
       "    for (const render_item of render_items) {\n",
       "      for (const root_id of render_item.root_ids) {\n",
       "\tconst id_el = document.getElementById(root_id)\n",
       "\tif (id_el.children.length && (id_el.children[0].className === 'bk-root')) {\n",
       "\t  const root_el = id_el.children[0]\n",
       "\t  root_el.id = root_el.id + '-rendered'\n",
       "\t}\n",
       "      }\n",
       "    }\n",
       "  }\n",
       "  function get_bokeh(root) {\n",
       "    if (root.Bokeh === undefined) {\n",
       "      return null\n",
       "    } else if (root.Bokeh.version !== py_version && !is_dev) {\n",
       "      if (root.Bokeh.versions === undefined || !root.Bokeh.versions.has(py_version)) {\n",
       "\treturn null\n",
       "      }\n",
       "      return root.Bokeh.versions.get(py_version);\n",
       "    } else if (root.Bokeh.version === py_version) {\n",
       "      return root.Bokeh\n",
       "    }\n",
       "    return null\n",
       "  }\n",
       "  function is_loaded(root) {\n",
       "    var Bokeh = get_bokeh(root)\n",
       "    return (Bokeh != null && Bokeh.Panel !== undefined)\n",
       "  }\n",
       "  if (is_loaded(root)) {\n",
       "    embed_document(root);\n",
       "  } else {\n",
       "    var attempts = 0;\n",
       "    var timer = setInterval(function(root) {\n",
       "      if (is_loaded(root)) {\n",
       "        clearInterval(timer);\n",
       "        embed_document(root);\n",
       "      } else if (document.readyState == \"complete\") {\n",
       "        attempts++;\n",
       "        if (attempts > 200) {\n",
       "          clearInterval(timer);\n",
       "\t  var Bokeh = get_bokeh(root)\n",
       "\t  if (Bokeh == null || Bokeh.Panel == null) {\n",
       "            console.warn(\"Panel: ERROR: Unable to run Panel code because Bokeh or Panel library is missing\");\n",
       "\t  } else {\n",
       "\t    console.warn(\"Panel: WARNING: Attempting to render but not all required libraries could be resolved.\")\n",
       "\t    embed_document(root)\n",
       "\t  }\n",
       "        }\n",
       "      }\n",
       "    }, 25, root)\n",
       "  }\n",
       "})(window);</script>"
      ],
      "text/plain": [
       ":Overlay\n",
       "   .Tiles.I  :Tiles   [x,y]\n",
       "   .Points.I :Points   [Lng,Lat]   (City,Humidity)"
      ]
     },
     "execution_count": 3,
     "metadata": {
      "application/vnd.holoviews_exec.v0+json": {
       "id": "p1005"
      }
     },
     "output_type": "execute_result"
    }
   ],
   "source": [
    "%%capture --no-display\n",
    "\n",
    "# Configure the map plot, \n",
    "map_plot = city_data_df.hvplot.points(\"Lng\", \"Lat\", geo = True, tiles = \"OSM\", frame_width = 800, frame_height = 600, size = \"Humidity\", color = \"City\")\n",
    "                                      \n",
    "# Display the map\n",
    "map_plot"
   ]
  },
  {
   "cell_type": "markdown",
   "metadata": {},
   "source": [
    "### Step 2: Narrow down the `city_data_df` DataFrame to find your ideal weather condition"
   ]
  },
  {
   "cell_type": "code",
   "execution_count": 4,
   "metadata": {
    "tags": []
   },
   "outputs": [
    {
     "data": {
      "text/html": [
       "<div>\n",
       "<style scoped>\n",
       "    .dataframe tbody tr th:only-of-type {\n",
       "        vertical-align: middle;\n",
       "    }\n",
       "\n",
       "    .dataframe tbody tr th {\n",
       "        vertical-align: top;\n",
       "    }\n",
       "\n",
       "    .dataframe thead th {\n",
       "        text-align: right;\n",
       "    }\n",
       "</style>\n",
       "<table border=\"1\" class=\"dataframe\">\n",
       "  <thead>\n",
       "    <tr style=\"text-align: right;\">\n",
       "      <th></th>\n",
       "      <th>City_ID</th>\n",
       "      <th>City</th>\n",
       "      <th>Lat</th>\n",
       "      <th>Lng</th>\n",
       "      <th>Max Temp</th>\n",
       "      <th>Humidity</th>\n",
       "      <th>Cloudiness</th>\n",
       "      <th>Wind Speed</th>\n",
       "      <th>Country</th>\n",
       "      <th>Date</th>\n",
       "    </tr>\n",
       "  </thead>\n",
       "  <tbody>\n",
       "    <tr>\n",
       "      <th>40</th>\n",
       "      <td>40</td>\n",
       "      <td>cotoca</td>\n",
       "      <td>-17.8167</td>\n",
       "      <td>-63.0500</td>\n",
       "      <td>25.92</td>\n",
       "      <td>39</td>\n",
       "      <td>0</td>\n",
       "      <td>6.63</td>\n",
       "      <td>BO</td>\n",
       "      <td>1691720501</td>\n",
       "    </tr>\n",
       "    <tr>\n",
       "      <th>47</th>\n",
       "      <td>47</td>\n",
       "      <td>suwayr</td>\n",
       "      <td>30.1171</td>\n",
       "      <td>40.3893</td>\n",
       "      <td>29.52</td>\n",
       "      <td>13</td>\n",
       "      <td>0</td>\n",
       "      <td>1.47</td>\n",
       "      <td>SA</td>\n",
       "      <td>1691720502</td>\n",
       "    </tr>\n",
       "    <tr>\n",
       "      <th>56</th>\n",
       "      <td>56</td>\n",
       "      <td>hillvue</td>\n",
       "      <td>-31.1244</td>\n",
       "      <td>150.9150</td>\n",
       "      <td>18.95</td>\n",
       "      <td>30</td>\n",
       "      <td>0</td>\n",
       "      <td>3.09</td>\n",
       "      <td>AU</td>\n",
       "      <td>1691720504</td>\n",
       "    </tr>\n",
       "    <tr>\n",
       "      <th>68</th>\n",
       "      <td>68</td>\n",
       "      <td>plettenberg bay</td>\n",
       "      <td>-34.0527</td>\n",
       "      <td>23.3716</td>\n",
       "      <td>21.56</td>\n",
       "      <td>35</td>\n",
       "      <td>0</td>\n",
       "      <td>4.30</td>\n",
       "      <td>ZA</td>\n",
       "      <td>1691720506</td>\n",
       "    </tr>\n",
       "    <tr>\n",
       "      <th>70</th>\n",
       "      <td>70</td>\n",
       "      <td>kone</td>\n",
       "      <td>-21.0595</td>\n",
       "      <td>164.8658</td>\n",
       "      <td>23.74</td>\n",
       "      <td>37</td>\n",
       "      <td>0</td>\n",
       "      <td>4.40</td>\n",
       "      <td>NC</td>\n",
       "      <td>1691720506</td>\n",
       "    </tr>\n",
       "    <tr>\n",
       "      <th>82</th>\n",
       "      <td>82</td>\n",
       "      <td>alice springs</td>\n",
       "      <td>-23.7000</td>\n",
       "      <td>133.8833</td>\n",
       "      <td>24.75</td>\n",
       "      <td>16</td>\n",
       "      <td>0</td>\n",
       "      <td>3.60</td>\n",
       "      <td>AU</td>\n",
       "      <td>1691720508</td>\n",
       "    </tr>\n",
       "    <tr>\n",
       "      <th>128</th>\n",
       "      <td>128</td>\n",
       "      <td>bojnurd</td>\n",
       "      <td>37.4747</td>\n",
       "      <td>57.3290</td>\n",
       "      <td>15.97</td>\n",
       "      <td>44</td>\n",
       "      <td>0</td>\n",
       "      <td>1.03</td>\n",
       "      <td>IR</td>\n",
       "      <td>1691720515</td>\n",
       "    </tr>\n",
       "    <tr>\n",
       "      <th>139</th>\n",
       "      <td>139</td>\n",
       "      <td>sao desiderio</td>\n",
       "      <td>-12.3633</td>\n",
       "      <td>-44.9733</td>\n",
       "      <td>20.66</td>\n",
       "      <td>47</td>\n",
       "      <td>0</td>\n",
       "      <td>1.83</td>\n",
       "      <td>BR</td>\n",
       "      <td>1691720517</td>\n",
       "    </tr>\n",
       "    <tr>\n",
       "      <th>179</th>\n",
       "      <td>179</td>\n",
       "      <td>ulysses</td>\n",
       "      <td>37.5814</td>\n",
       "      <td>-101.3552</td>\n",
       "      <td>28.02</td>\n",
       "      <td>44</td>\n",
       "      <td>0</td>\n",
       "      <td>4.63</td>\n",
       "      <td>US</td>\n",
       "      <td>1691720524</td>\n",
       "    </tr>\n",
       "    <tr>\n",
       "      <th>180</th>\n",
       "      <td>180</td>\n",
       "      <td>bejaia</td>\n",
       "      <td>36.7559</td>\n",
       "      <td>5.0843</td>\n",
       "      <td>22.60</td>\n",
       "      <td>43</td>\n",
       "      <td>0</td>\n",
       "      <td>1.54</td>\n",
       "      <td>DZ</td>\n",
       "      <td>1691720524</td>\n",
       "    </tr>\n",
       "    <tr>\n",
       "      <th>182</th>\n",
       "      <td>182</td>\n",
       "      <td>laguna</td>\n",
       "      <td>38.4210</td>\n",
       "      <td>-121.4238</td>\n",
       "      <td>33.58</td>\n",
       "      <td>43</td>\n",
       "      <td>0</td>\n",
       "      <td>5.66</td>\n",
       "      <td>US</td>\n",
       "      <td>1691720524</td>\n",
       "    </tr>\n",
       "    <tr>\n",
       "      <th>184</th>\n",
       "      <td>184</td>\n",
       "      <td>port alfred</td>\n",
       "      <td>-33.5906</td>\n",
       "      <td>26.8910</td>\n",
       "      <td>19.14</td>\n",
       "      <td>48</td>\n",
       "      <td>0</td>\n",
       "      <td>4.33</td>\n",
       "      <td>ZA</td>\n",
       "      <td>1691720525</td>\n",
       "    </tr>\n",
       "    <tr>\n",
       "      <th>189</th>\n",
       "      <td>189</td>\n",
       "      <td>siwa oasis</td>\n",
       "      <td>29.2041</td>\n",
       "      <td>25.5195</td>\n",
       "      <td>27.20</td>\n",
       "      <td>49</td>\n",
       "      <td>0</td>\n",
       "      <td>4.33</td>\n",
       "      <td>EG</td>\n",
       "      <td>1691720525</td>\n",
       "    </tr>\n",
       "    <tr>\n",
       "      <th>199</th>\n",
       "      <td>199</td>\n",
       "      <td>kruisfontein</td>\n",
       "      <td>-34.0033</td>\n",
       "      <td>24.7314</td>\n",
       "      <td>19.38</td>\n",
       "      <td>33</td>\n",
       "      <td>0</td>\n",
       "      <td>5.86</td>\n",
       "      <td>ZA</td>\n",
       "      <td>1691720527</td>\n",
       "    </tr>\n",
       "    <tr>\n",
       "      <th>207</th>\n",
       "      <td>207</td>\n",
       "      <td>novyy urgal</td>\n",
       "      <td>51.0736</td>\n",
       "      <td>132.5642</td>\n",
       "      <td>25.12</td>\n",
       "      <td>48</td>\n",
       "      <td>0</td>\n",
       "      <td>1.02</td>\n",
       "      <td>RU</td>\n",
       "      <td>1691720529</td>\n",
       "    </tr>\n",
       "    <tr>\n",
       "      <th>225</th>\n",
       "      <td>225</td>\n",
       "      <td>miajadas</td>\n",
       "      <td>39.1513</td>\n",
       "      <td>-5.9084</td>\n",
       "      <td>22.84</td>\n",
       "      <td>36</td>\n",
       "      <td>0</td>\n",
       "      <td>1.19</td>\n",
       "      <td>ES</td>\n",
       "      <td>1691720532</td>\n",
       "    </tr>\n",
       "    <tr>\n",
       "      <th>269</th>\n",
       "      <td>269</td>\n",
       "      <td>chardara</td>\n",
       "      <td>41.2547</td>\n",
       "      <td>67.9692</td>\n",
       "      <td>25.31</td>\n",
       "      <td>36</td>\n",
       "      <td>0</td>\n",
       "      <td>3.30</td>\n",
       "      <td>KZ</td>\n",
       "      <td>1691720539</td>\n",
       "    </tr>\n",
       "    <tr>\n",
       "      <th>270</th>\n",
       "      <td>270</td>\n",
       "      <td>ceres</td>\n",
       "      <td>37.5949</td>\n",
       "      <td>-120.9577</td>\n",
       "      <td>31.14</td>\n",
       "      <td>41</td>\n",
       "      <td>0</td>\n",
       "      <td>4.63</td>\n",
       "      <td>US</td>\n",
       "      <td>1691720539</td>\n",
       "    </tr>\n",
       "    <tr>\n",
       "      <th>273</th>\n",
       "      <td>273</td>\n",
       "      <td>robore</td>\n",
       "      <td>-18.3333</td>\n",
       "      <td>-59.7500</td>\n",
       "      <td>26.60</td>\n",
       "      <td>42</td>\n",
       "      <td>0</td>\n",
       "      <td>2.18</td>\n",
       "      <td>BO</td>\n",
       "      <td>1691720540</td>\n",
       "    </tr>\n",
       "    <tr>\n",
       "      <th>274</th>\n",
       "      <td>274</td>\n",
       "      <td>broken hill</td>\n",
       "      <td>-31.9500</td>\n",
       "      <td>141.4333</td>\n",
       "      <td>16.12</td>\n",
       "      <td>41</td>\n",
       "      <td>0</td>\n",
       "      <td>2.67</td>\n",
       "      <td>AU</td>\n",
       "      <td>1691720540</td>\n",
       "    </tr>\n",
       "    <tr>\n",
       "      <th>277</th>\n",
       "      <td>277</td>\n",
       "      <td>tejen</td>\n",
       "      <td>37.3834</td>\n",
       "      <td>60.5054</td>\n",
       "      <td>29.66</td>\n",
       "      <td>25</td>\n",
       "      <td>0</td>\n",
       "      <td>3.02</td>\n",
       "      <td>TM</td>\n",
       "      <td>1691720541</td>\n",
       "    </tr>\n",
       "    <tr>\n",
       "      <th>290</th>\n",
       "      <td>290</td>\n",
       "      <td>taoudenni</td>\n",
       "      <td>22.6783</td>\n",
       "      <td>-3.9836</td>\n",
       "      <td>36.68</td>\n",
       "      <td>11</td>\n",
       "      <td>0</td>\n",
       "      <td>4.80</td>\n",
       "      <td>ML</td>\n",
       "      <td>1691720543</td>\n",
       "    </tr>\n",
       "    <tr>\n",
       "      <th>303</th>\n",
       "      <td>303</td>\n",
       "      <td>talakan</td>\n",
       "      <td>50.3167</td>\n",
       "      <td>130.3667</td>\n",
       "      <td>26.56</td>\n",
       "      <td>47</td>\n",
       "      <td>0</td>\n",
       "      <td>2.38</td>\n",
       "      <td>RU</td>\n",
       "      <td>1691720545</td>\n",
       "    </tr>\n",
       "    <tr>\n",
       "      <th>308</th>\n",
       "      <td>308</td>\n",
       "      <td>la paz</td>\n",
       "      <td>-16.5000</td>\n",
       "      <td>-68.1500</td>\n",
       "      <td>9.76</td>\n",
       "      <td>45</td>\n",
       "      <td>0</td>\n",
       "      <td>4.63</td>\n",
       "      <td>BO</td>\n",
       "      <td>1691720474</td>\n",
       "    </tr>\n",
       "    <tr>\n",
       "      <th>310</th>\n",
       "      <td>310</td>\n",
       "      <td>aliwal north</td>\n",
       "      <td>-30.6937</td>\n",
       "      <td>26.7114</td>\n",
       "      <td>7.94</td>\n",
       "      <td>49</td>\n",
       "      <td>0</td>\n",
       "      <td>1.84</td>\n",
       "      <td>ZA</td>\n",
       "      <td>1691720546</td>\n",
       "    </tr>\n",
       "    <tr>\n",
       "      <th>336</th>\n",
       "      <td>336</td>\n",
       "      <td>shalqar</td>\n",
       "      <td>47.8333</td>\n",
       "      <td>59.6000</td>\n",
       "      <td>22.87</td>\n",
       "      <td>46</td>\n",
       "      <td>0</td>\n",
       "      <td>3.39</td>\n",
       "      <td>KZ</td>\n",
       "      <td>1691720550</td>\n",
       "    </tr>\n",
       "    <tr>\n",
       "      <th>392</th>\n",
       "      <td>392</td>\n",
       "      <td>dalandzadgad</td>\n",
       "      <td>43.5708</td>\n",
       "      <td>104.4250</td>\n",
       "      <td>21.94</td>\n",
       "      <td>49</td>\n",
       "      <td>0</td>\n",
       "      <td>4.98</td>\n",
       "      <td>MN</td>\n",
       "      <td>1691720561</td>\n",
       "    </tr>\n",
       "    <tr>\n",
       "      <th>402</th>\n",
       "      <td>402</td>\n",
       "      <td>forster</td>\n",
       "      <td>-32.1667</td>\n",
       "      <td>152.5167</td>\n",
       "      <td>18.49</td>\n",
       "      <td>43</td>\n",
       "      <td>0</td>\n",
       "      <td>3.53</td>\n",
       "      <td>AU</td>\n",
       "      <td>1691720563</td>\n",
       "    </tr>\n",
       "    <tr>\n",
       "      <th>406</th>\n",
       "      <td>406</td>\n",
       "      <td>velez rubio</td>\n",
       "      <td>37.6484</td>\n",
       "      <td>-2.0769</td>\n",
       "      <td>27.41</td>\n",
       "      <td>25</td>\n",
       "      <td>0</td>\n",
       "      <td>2.18</td>\n",
       "      <td>ES</td>\n",
       "      <td>1691720564</td>\n",
       "    </tr>\n",
       "    <tr>\n",
       "      <th>407</th>\n",
       "      <td>407</td>\n",
       "      <td>queenstown</td>\n",
       "      <td>-31.8976</td>\n",
       "      <td>26.8753</td>\n",
       "      <td>10.01</td>\n",
       "      <td>49</td>\n",
       "      <td>0</td>\n",
       "      <td>2.99</td>\n",
       "      <td>ZA</td>\n",
       "      <td>1691720564</td>\n",
       "    </tr>\n",
       "    <tr>\n",
       "      <th>416</th>\n",
       "      <td>416</td>\n",
       "      <td>port macquarie</td>\n",
       "      <td>-31.4333</td>\n",
       "      <td>152.9167</td>\n",
       "      <td>19.94</td>\n",
       "      <td>42</td>\n",
       "      <td>0</td>\n",
       "      <td>3.55</td>\n",
       "      <td>AU</td>\n",
       "      <td>1691720565</td>\n",
       "    </tr>\n",
       "    <tr>\n",
       "      <th>433</th>\n",
       "      <td>433</td>\n",
       "      <td>qulsary</td>\n",
       "      <td>46.9531</td>\n",
       "      <td>54.0198</td>\n",
       "      <td>25.94</td>\n",
       "      <td>30</td>\n",
       "      <td>0</td>\n",
       "      <td>3.93</td>\n",
       "      <td>KZ</td>\n",
       "      <td>1691720568</td>\n",
       "    </tr>\n",
       "    <tr>\n",
       "      <th>437</th>\n",
       "      <td>437</td>\n",
       "      <td>buka</td>\n",
       "      <td>40.8108</td>\n",
       "      <td>69.1986</td>\n",
       "      <td>25.57</td>\n",
       "      <td>29</td>\n",
       "      <td>0</td>\n",
       "      <td>2.06</td>\n",
       "      <td>UZ</td>\n",
       "      <td>1691720569</td>\n",
       "    </tr>\n",
       "    <tr>\n",
       "      <th>441</th>\n",
       "      <td>441</td>\n",
       "      <td>altai</td>\n",
       "      <td>46.3722</td>\n",
       "      <td>96.2583</td>\n",
       "      <td>18.27</td>\n",
       "      <td>43</td>\n",
       "      <td>0</td>\n",
       "      <td>1.83</td>\n",
       "      <td>MN</td>\n",
       "      <td>1691720569</td>\n",
       "    </tr>\n",
       "    <tr>\n",
       "      <th>442</th>\n",
       "      <td>442</td>\n",
       "      <td>khovd</td>\n",
       "      <td>48.0056</td>\n",
       "      <td>91.6419</td>\n",
       "      <td>21.93</td>\n",
       "      <td>38</td>\n",
       "      <td>0</td>\n",
       "      <td>0.58</td>\n",
       "      <td>MN</td>\n",
       "      <td>1691720569</td>\n",
       "    </tr>\n",
       "    <tr>\n",
       "      <th>457</th>\n",
       "      <td>457</td>\n",
       "      <td>hassi messaoud</td>\n",
       "      <td>31.6804</td>\n",
       "      <td>6.0729</td>\n",
       "      <td>28.92</td>\n",
       "      <td>26</td>\n",
       "      <td>0</td>\n",
       "      <td>3.09</td>\n",
       "      <td>DZ</td>\n",
       "      <td>1691720571</td>\n",
       "    </tr>\n",
       "    <tr>\n",
       "      <th>462</th>\n",
       "      <td>462</td>\n",
       "      <td>port augusta</td>\n",
       "      <td>-32.5000</td>\n",
       "      <td>137.7667</td>\n",
       "      <td>17.04</td>\n",
       "      <td>45</td>\n",
       "      <td>0</td>\n",
       "      <td>2.32</td>\n",
       "      <td>AU</td>\n",
       "      <td>1691720572</td>\n",
       "    </tr>\n",
       "    <tr>\n",
       "      <th>464</th>\n",
       "      <td>464</td>\n",
       "      <td>shohimardon</td>\n",
       "      <td>39.9839</td>\n",
       "      <td>71.8028</td>\n",
       "      <td>23.43</td>\n",
       "      <td>46</td>\n",
       "      <td>0</td>\n",
       "      <td>0.94</td>\n",
       "      <td>UZ</td>\n",
       "      <td>1691720573</td>\n",
       "    </tr>\n",
       "    <tr>\n",
       "      <th>501</th>\n",
       "      <td>501</td>\n",
       "      <td>illizi</td>\n",
       "      <td>26.4833</td>\n",
       "      <td>8.4667</td>\n",
       "      <td>25.89</td>\n",
       "      <td>16</td>\n",
       "      <td>0</td>\n",
       "      <td>1.68</td>\n",
       "      <td>DZ</td>\n",
       "      <td>1691720579</td>\n",
       "    </tr>\n",
       "    <tr>\n",
       "      <th>505</th>\n",
       "      <td>505</td>\n",
       "      <td>metlili chaamba</td>\n",
       "      <td>32.2667</td>\n",
       "      <td>3.6333</td>\n",
       "      <td>27.52</td>\n",
       "      <td>21</td>\n",
       "      <td>0</td>\n",
       "      <td>2.57</td>\n",
       "      <td>DZ</td>\n",
       "      <td>1691720579</td>\n",
       "    </tr>\n",
       "    <tr>\n",
       "      <th>530</th>\n",
       "      <td>530</td>\n",
       "      <td>araguari</td>\n",
       "      <td>-18.6472</td>\n",
       "      <td>-48.1872</td>\n",
       "      <td>21.16</td>\n",
       "      <td>49</td>\n",
       "      <td>0</td>\n",
       "      <td>2.72</td>\n",
       "      <td>BR</td>\n",
       "      <td>1691720584</td>\n",
       "    </tr>\n",
       "    <tr>\n",
       "      <th>532</th>\n",
       "      <td>532</td>\n",
       "      <td>bozeman</td>\n",
       "      <td>45.6796</td>\n",
       "      <td>-111.0386</td>\n",
       "      <td>24.68</td>\n",
       "      <td>43</td>\n",
       "      <td>0</td>\n",
       "      <td>4.12</td>\n",
       "      <td>US</td>\n",
       "      <td>1691720584</td>\n",
       "    </tr>\n",
       "  </tbody>\n",
       "</table>\n",
       "</div>"
      ],
      "text/plain": [
       "     City_ID             City      Lat       Lng  Max Temp  Humidity  \\\n",
       "40        40           cotoca -17.8167  -63.0500     25.92        39   \n",
       "47        47           suwayr  30.1171   40.3893     29.52        13   \n",
       "56        56          hillvue -31.1244  150.9150     18.95        30   \n",
       "68        68  plettenberg bay -34.0527   23.3716     21.56        35   \n",
       "70        70             kone -21.0595  164.8658     23.74        37   \n",
       "82        82    alice springs -23.7000  133.8833     24.75        16   \n",
       "128      128          bojnurd  37.4747   57.3290     15.97        44   \n",
       "139      139    sao desiderio -12.3633  -44.9733     20.66        47   \n",
       "179      179          ulysses  37.5814 -101.3552     28.02        44   \n",
       "180      180           bejaia  36.7559    5.0843     22.60        43   \n",
       "182      182           laguna  38.4210 -121.4238     33.58        43   \n",
       "184      184      port alfred -33.5906   26.8910     19.14        48   \n",
       "189      189       siwa oasis  29.2041   25.5195     27.20        49   \n",
       "199      199     kruisfontein -34.0033   24.7314     19.38        33   \n",
       "207      207      novyy urgal  51.0736  132.5642     25.12        48   \n",
       "225      225         miajadas  39.1513   -5.9084     22.84        36   \n",
       "269      269         chardara  41.2547   67.9692     25.31        36   \n",
       "270      270            ceres  37.5949 -120.9577     31.14        41   \n",
       "273      273           robore -18.3333  -59.7500     26.60        42   \n",
       "274      274      broken hill -31.9500  141.4333     16.12        41   \n",
       "277      277            tejen  37.3834   60.5054     29.66        25   \n",
       "290      290        taoudenni  22.6783   -3.9836     36.68        11   \n",
       "303      303          talakan  50.3167  130.3667     26.56        47   \n",
       "308      308           la paz -16.5000  -68.1500      9.76        45   \n",
       "310      310     aliwal north -30.6937   26.7114      7.94        49   \n",
       "336      336          shalqar  47.8333   59.6000     22.87        46   \n",
       "392      392     dalandzadgad  43.5708  104.4250     21.94        49   \n",
       "402      402          forster -32.1667  152.5167     18.49        43   \n",
       "406      406      velez rubio  37.6484   -2.0769     27.41        25   \n",
       "407      407       queenstown -31.8976   26.8753     10.01        49   \n",
       "416      416   port macquarie -31.4333  152.9167     19.94        42   \n",
       "433      433          qulsary  46.9531   54.0198     25.94        30   \n",
       "437      437             buka  40.8108   69.1986     25.57        29   \n",
       "441      441            altai  46.3722   96.2583     18.27        43   \n",
       "442      442            khovd  48.0056   91.6419     21.93        38   \n",
       "457      457   hassi messaoud  31.6804    6.0729     28.92        26   \n",
       "462      462     port augusta -32.5000  137.7667     17.04        45   \n",
       "464      464      shohimardon  39.9839   71.8028     23.43        46   \n",
       "501      501           illizi  26.4833    8.4667     25.89        16   \n",
       "505      505  metlili chaamba  32.2667    3.6333     27.52        21   \n",
       "530      530         araguari -18.6472  -48.1872     21.16        49   \n",
       "532      532          bozeman  45.6796 -111.0386     24.68        43   \n",
       "\n",
       "     Cloudiness  Wind Speed Country        Date  \n",
       "40            0        6.63      BO  1691720501  \n",
       "47            0        1.47      SA  1691720502  \n",
       "56            0        3.09      AU  1691720504  \n",
       "68            0        4.30      ZA  1691720506  \n",
       "70            0        4.40      NC  1691720506  \n",
       "82            0        3.60      AU  1691720508  \n",
       "128           0        1.03      IR  1691720515  \n",
       "139           0        1.83      BR  1691720517  \n",
       "179           0        4.63      US  1691720524  \n",
       "180           0        1.54      DZ  1691720524  \n",
       "182           0        5.66      US  1691720524  \n",
       "184           0        4.33      ZA  1691720525  \n",
       "189           0        4.33      EG  1691720525  \n",
       "199           0        5.86      ZA  1691720527  \n",
       "207           0        1.02      RU  1691720529  \n",
       "225           0        1.19      ES  1691720532  \n",
       "269           0        3.30      KZ  1691720539  \n",
       "270           0        4.63      US  1691720539  \n",
       "273           0        2.18      BO  1691720540  \n",
       "274           0        2.67      AU  1691720540  \n",
       "277           0        3.02      TM  1691720541  \n",
       "290           0        4.80      ML  1691720543  \n",
       "303           0        2.38      RU  1691720545  \n",
       "308           0        4.63      BO  1691720474  \n",
       "310           0        1.84      ZA  1691720546  \n",
       "336           0        3.39      KZ  1691720550  \n",
       "392           0        4.98      MN  1691720561  \n",
       "402           0        3.53      AU  1691720563  \n",
       "406           0        2.18      ES  1691720564  \n",
       "407           0        2.99      ZA  1691720564  \n",
       "416           0        3.55      AU  1691720565  \n",
       "433           0        3.93      KZ  1691720568  \n",
       "437           0        2.06      UZ  1691720569  \n",
       "441           0        1.83      MN  1691720569  \n",
       "442           0        0.58      MN  1691720569  \n",
       "457           0        3.09      DZ  1691720571  \n",
       "462           0        2.32      AU  1691720572  \n",
       "464           0        0.94      UZ  1691720573  \n",
       "501           0        1.68      DZ  1691720579  \n",
       "505           0        2.57      DZ  1691720579  \n",
       "530           0        2.72      BR  1691720584  \n",
       "532           0        4.12      US  1691720584  "
      ]
     },
     "execution_count": 4,
     "metadata": {},
     "output_type": "execute_result"
    }
   ],
   "source": [
    "# Narrow down cities that fit criteria and drop any results with null values\n",
    "ideal_clouds_df = city_data_df.loc[(city_data_df[\"Cloudiness\"] == 0)]\n",
    "ideal_weather_df = ideal_clouds_df.loc[(ideal_clouds_df[\"Humidity\"] < 50)]\n",
    "\n",
    "# Drop any rows with null values\n",
    "ideal_weather_df.dropna()\n",
    "\n",
    "# Display sample data\n",
    "ideal_weather_df"
   ]
  },
  {
   "cell_type": "markdown",
   "metadata": {},
   "source": [
    "### Step 3: Create a new DataFrame called `hotel_df`."
   ]
  },
  {
   "cell_type": "code",
   "execution_count": 5,
   "metadata": {
    "tags": []
   },
   "outputs": [
    {
     "data": {
      "text/html": [
       "<div>\n",
       "<style scoped>\n",
       "    .dataframe tbody tr th:only-of-type {\n",
       "        vertical-align: middle;\n",
       "    }\n",
       "\n",
       "    .dataframe tbody tr th {\n",
       "        vertical-align: top;\n",
       "    }\n",
       "\n",
       "    .dataframe thead th {\n",
       "        text-align: right;\n",
       "    }\n",
       "</style>\n",
       "<table border=\"1\" class=\"dataframe\">\n",
       "  <thead>\n",
       "    <tr style=\"text-align: right;\">\n",
       "      <th></th>\n",
       "      <th>City</th>\n",
       "      <th>Country</th>\n",
       "      <th>Lat</th>\n",
       "      <th>Lng</th>\n",
       "      <th>Humidity</th>\n",
       "      <th>Hotel Name</th>\n",
       "    </tr>\n",
       "  </thead>\n",
       "  <tbody>\n",
       "    <tr>\n",
       "      <th>0</th>\n",
       "      <td>chui</td>\n",
       "      <td>UY</td>\n",
       "      <td>-33.6971</td>\n",
       "      <td>-53.4616</td>\n",
       "      <td>95</td>\n",
       "      <td></td>\n",
       "    </tr>\n",
       "    <tr>\n",
       "      <th>1</th>\n",
       "      <td>bilibino</td>\n",
       "      <td>RU</td>\n",
       "      <td>68.0546</td>\n",
       "      <td>166.4372</td>\n",
       "      <td>66</td>\n",
       "      <td></td>\n",
       "    </tr>\n",
       "    <tr>\n",
       "      <th>2</th>\n",
       "      <td>ust-nera</td>\n",
       "      <td>RU</td>\n",
       "      <td>64.5667</td>\n",
       "      <td>143.2000</td>\n",
       "      <td>35</td>\n",
       "      <td></td>\n",
       "    </tr>\n",
       "    <tr>\n",
       "      <th>3</th>\n",
       "      <td>ribeira grande</td>\n",
       "      <td>PT</td>\n",
       "      <td>38.5167</td>\n",
       "      <td>-28.7000</td>\n",
       "      <td>88</td>\n",
       "      <td></td>\n",
       "    </tr>\n",
       "    <tr>\n",
       "      <th>4</th>\n",
       "      <td>atafu village</td>\n",
       "      <td>TK</td>\n",
       "      <td>-8.5421</td>\n",
       "      <td>-172.5159</td>\n",
       "      <td>75</td>\n",
       "      <td></td>\n",
       "    </tr>\n",
       "    <tr>\n",
       "      <th>...</th>\n",
       "      <td>...</td>\n",
       "      <td>...</td>\n",
       "      <td>...</td>\n",
       "      <td>...</td>\n",
       "      <td>...</td>\n",
       "      <td>...</td>\n",
       "    </tr>\n",
       "    <tr>\n",
       "      <th>544</th>\n",
       "      <td>akureyri</td>\n",
       "      <td>IS</td>\n",
       "      <td>65.6835</td>\n",
       "      <td>-18.0878</td>\n",
       "      <td>87</td>\n",
       "      <td></td>\n",
       "    </tr>\n",
       "    <tr>\n",
       "      <th>545</th>\n",
       "      <td>manaure</td>\n",
       "      <td>CO</td>\n",
       "      <td>11.7751</td>\n",
       "      <td>-72.4445</td>\n",
       "      <td>67</td>\n",
       "      <td></td>\n",
       "    </tr>\n",
       "    <tr>\n",
       "      <th>546</th>\n",
       "      <td>richmond hill</td>\n",
       "      <td>CA</td>\n",
       "      <td>43.8711</td>\n",
       "      <td>-79.4372</td>\n",
       "      <td>75</td>\n",
       "      <td></td>\n",
       "    </tr>\n",
       "    <tr>\n",
       "      <th>547</th>\n",
       "      <td>lyubim</td>\n",
       "      <td>RU</td>\n",
       "      <td>58.3625</td>\n",
       "      <td>40.6843</td>\n",
       "      <td>97</td>\n",
       "      <td></td>\n",
       "    </tr>\n",
       "    <tr>\n",
       "      <th>548</th>\n",
       "      <td>banaz</td>\n",
       "      <td>TR</td>\n",
       "      <td>38.7371</td>\n",
       "      <td>29.7519</td>\n",
       "      <td>92</td>\n",
       "      <td></td>\n",
       "    </tr>\n",
       "  </tbody>\n",
       "</table>\n",
       "<p>549 rows × 6 columns</p>\n",
       "</div>"
      ],
      "text/plain": [
       "               City Country      Lat       Lng  Humidity Hotel Name\n",
       "0              chui      UY -33.6971  -53.4616        95           \n",
       "1          bilibino      RU  68.0546  166.4372        66           \n",
       "2          ust-nera      RU  64.5667  143.2000        35           \n",
       "3    ribeira grande      PT  38.5167  -28.7000        88           \n",
       "4     atafu village      TK  -8.5421 -172.5159        75           \n",
       "..              ...     ...      ...       ...       ...        ...\n",
       "544        akureyri      IS  65.6835  -18.0878        87           \n",
       "545         manaure      CO  11.7751  -72.4445        67           \n",
       "546   richmond hill      CA  43.8711  -79.4372        75           \n",
       "547          lyubim      RU  58.3625   40.6843        97           \n",
       "548           banaz      TR  38.7371   29.7519        92           \n",
       "\n",
       "[549 rows x 6 columns]"
      ]
     },
     "execution_count": 5,
     "metadata": {},
     "output_type": "execute_result"
    }
   ],
   "source": [
    "# Use the Pandas copy function to create DataFrame called hotel_df to store the city, country, coordinates, and humidity\n",
    "hotel_df = city_data_df[[\"City\", \"Country\", \"Lat\", \"Lng\", \"Humidity\"]].copy()\n",
    "\n",
    "# Add an empty column, \"Hotel Name,\" to the DataFrame so you can store the hotel found using the Geoapify API\n",
    "hotel_df[\"Hotel Name\"] = \"\"\n",
    "\n",
    "# Display sample data\n",
    "hotel_df"
   ]
  },
  {
   "cell_type": "markdown",
   "metadata": {},
   "source": [
    "### Step 4: For each city, use the Geoapify API to find the first hotel located within 10,000 metres of your coordinates."
   ]
  },
  {
   "cell_type": "code",
   "execution_count": 6,
   "metadata": {
    "tags": []
   },
   "outputs": [
    {
     "name": "stdout",
     "output_type": "stream",
     "text": [
      "Starting hotel search\n"
     ]
    },
    {
     "name": "stderr",
     "output_type": "stream",
     "text": [
      "c:\\Users\\cschuttler\\AppData\\Local\\anaconda3\\lib\\site-packages\\urllib3\\connectionpool.py:1056: InsecureRequestWarning: Unverified HTTPS request is being made to host 'api.geoapify.com'. Adding certificate verification is strongly advised. See: https://urllib3.readthedocs.io/en/1.26.x/advanced-usage.html#ssl-warnings\n",
      "  warnings.warn(\n"
     ]
    },
    {
     "name": "stdout",
     "output_type": "stream",
     "text": [
      "chui - nearest hotel: Alerces\n"
     ]
    },
    {
     "name": "stderr",
     "output_type": "stream",
     "text": [
      "c:\\Users\\cschuttler\\AppData\\Local\\anaconda3\\lib\\site-packages\\urllib3\\connectionpool.py:1056: InsecureRequestWarning: Unverified HTTPS request is being made to host 'api.geoapify.com'. Adding certificate verification is strongly advised. See: https://urllib3.readthedocs.io/en/1.26.x/advanced-usage.html#ssl-warnings\n",
      "  warnings.warn(\n"
     ]
    },
    {
     "name": "stdout",
     "output_type": "stream",
     "text": [
      "bilibino - nearest hotel: No hotel found\n"
     ]
    },
    {
     "name": "stderr",
     "output_type": "stream",
     "text": [
      "c:\\Users\\cschuttler\\AppData\\Local\\anaconda3\\lib\\site-packages\\urllib3\\connectionpool.py:1056: InsecureRequestWarning: Unverified HTTPS request is being made to host 'api.geoapify.com'. Adding certificate verification is strongly advised. See: https://urllib3.readthedocs.io/en/1.26.x/advanced-usage.html#ssl-warnings\n",
      "  warnings.warn(\n"
     ]
    },
    {
     "name": "stdout",
     "output_type": "stream",
     "text": [
      "ust-nera - nearest hotel: гостиница \"Солнечная\"\n"
     ]
    },
    {
     "name": "stderr",
     "output_type": "stream",
     "text": [
      "c:\\Users\\cschuttler\\AppData\\Local\\anaconda3\\lib\\site-packages\\urllib3\\connectionpool.py:1056: InsecureRequestWarning: Unverified HTTPS request is being made to host 'api.geoapify.com'. Adding certificate verification is strongly advised. See: https://urllib3.readthedocs.io/en/1.26.x/advanced-usage.html#ssl-warnings\n",
      "  warnings.warn(\n"
     ]
    },
    {
     "name": "stdout",
     "output_type": "stream",
     "text": [
      "ribeira grande - nearest hotel: Hospedaria JSF\n"
     ]
    },
    {
     "name": "stderr",
     "output_type": "stream",
     "text": [
      "c:\\Users\\cschuttler\\AppData\\Local\\anaconda3\\lib\\site-packages\\urllib3\\connectionpool.py:1056: InsecureRequestWarning: Unverified HTTPS request is being made to host 'api.geoapify.com'. Adding certificate verification is strongly advised. See: https://urllib3.readthedocs.io/en/1.26.x/advanced-usage.html#ssl-warnings\n",
      "  warnings.warn(\n"
     ]
    },
    {
     "name": "stdout",
     "output_type": "stream",
     "text": [
      "atafu village - nearest hotel: No hotel found\n"
     ]
    },
    {
     "name": "stderr",
     "output_type": "stream",
     "text": [
      "c:\\Users\\cschuttler\\AppData\\Local\\anaconda3\\lib\\site-packages\\urllib3\\connectionpool.py:1056: InsecureRequestWarning: Unverified HTTPS request is being made to host 'api.geoapify.com'. Adding certificate verification is strongly advised. See: https://urllib3.readthedocs.io/en/1.26.x/advanced-usage.html#ssl-warnings\n",
      "  warnings.warn(\n"
     ]
    },
    {
     "name": "stdout",
     "output_type": "stream",
     "text": [
      "tolanaro - nearest hotel: Hôtel Mahavokey\n"
     ]
    },
    {
     "name": "stderr",
     "output_type": "stream",
     "text": [
      "c:\\Users\\cschuttler\\AppData\\Local\\anaconda3\\lib\\site-packages\\urllib3\\connectionpool.py:1056: InsecureRequestWarning: Unverified HTTPS request is being made to host 'api.geoapify.com'. Adding certificate verification is strongly advised. See: https://urllib3.readthedocs.io/en/1.26.x/advanced-usage.html#ssl-warnings\n",
      "  warnings.warn(\n"
     ]
    },
    {
     "name": "stdout",
     "output_type": "stream",
     "text": [
      "kuacjok - nearest hotel: No hotel found\n"
     ]
    },
    {
     "name": "stderr",
     "output_type": "stream",
     "text": [
      "c:\\Users\\cschuttler\\AppData\\Local\\anaconda3\\lib\\site-packages\\urllib3\\connectionpool.py:1056: InsecureRequestWarning: Unverified HTTPS request is being made to host 'api.geoapify.com'. Adding certificate verification is strongly advised. See: https://urllib3.readthedocs.io/en/1.26.x/advanced-usage.html#ssl-warnings\n",
      "  warnings.warn(\n"
     ]
    },
    {
     "name": "stdout",
     "output_type": "stream",
     "text": [
      "grytviken - nearest hotel: No hotel found\n"
     ]
    },
    {
     "name": "stderr",
     "output_type": "stream",
     "text": [
      "c:\\Users\\cschuttler\\AppData\\Local\\anaconda3\\lib\\site-packages\\urllib3\\connectionpool.py:1056: InsecureRequestWarning: Unverified HTTPS request is being made to host 'api.geoapify.com'. Adding certificate verification is strongly advised. See: https://urllib3.readthedocs.io/en/1.26.x/advanced-usage.html#ssl-warnings\n",
      "  warnings.warn(\n"
     ]
    },
    {
     "name": "stdout",
     "output_type": "stream",
     "text": [
      "puerto natales - nearest hotel: Dorotea Patagonia Hostel\n"
     ]
    },
    {
     "name": "stderr",
     "output_type": "stream",
     "text": [
      "c:\\Users\\cschuttler\\AppData\\Local\\anaconda3\\lib\\site-packages\\urllib3\\connectionpool.py:1056: InsecureRequestWarning: Unverified HTTPS request is being made to host 'api.geoapify.com'. Adding certificate verification is strongly advised. See: https://urllib3.readthedocs.io/en/1.26.x/advanced-usage.html#ssl-warnings\n",
      "  warnings.warn(\n"
     ]
    },
    {
     "name": "stdout",
     "output_type": "stream",
     "text": [
      "takoradi - nearest hotel: Hillcrest\n"
     ]
    },
    {
     "name": "stderr",
     "output_type": "stream",
     "text": [
      "c:\\Users\\cschuttler\\AppData\\Local\\anaconda3\\lib\\site-packages\\urllib3\\connectionpool.py:1056: InsecureRequestWarning: Unverified HTTPS request is being made to host 'api.geoapify.com'. Adding certificate verification is strongly advised. See: https://urllib3.readthedocs.io/en/1.26.x/advanced-usage.html#ssl-warnings\n",
      "  warnings.warn(\n"
     ]
    },
    {
     "name": "stdout",
     "output_type": "stream",
     "text": [
      "tiksi - nearest hotel: Арктика\n"
     ]
    },
    {
     "name": "stderr",
     "output_type": "stream",
     "text": [
      "c:\\Users\\cschuttler\\AppData\\Local\\anaconda3\\lib\\site-packages\\urllib3\\connectionpool.py:1056: InsecureRequestWarning: Unverified HTTPS request is being made to host 'api.geoapify.com'. Adding certificate verification is strongly advised. See: https://urllib3.readthedocs.io/en/1.26.x/advanced-usage.html#ssl-warnings\n",
      "  warnings.warn(\n"
     ]
    },
    {
     "name": "stdout",
     "output_type": "stream",
     "text": [
      "hefei - nearest hotel: 合肥中心智选假日酒店\n"
     ]
    },
    {
     "name": "stderr",
     "output_type": "stream",
     "text": [
      "c:\\Users\\cschuttler\\AppData\\Local\\anaconda3\\lib\\site-packages\\urllib3\\connectionpool.py:1056: InsecureRequestWarning: Unverified HTTPS request is being made to host 'api.geoapify.com'. Adding certificate verification is strongly advised. See: https://urllib3.readthedocs.io/en/1.26.x/advanced-usage.html#ssl-warnings\n",
      "  warnings.warn(\n"
     ]
    },
    {
     "name": "stdout",
     "output_type": "stream",
     "text": [
      "port-aux-francais - nearest hotel: Keravel\n"
     ]
    },
    {
     "name": "stderr",
     "output_type": "stream",
     "text": [
      "c:\\Users\\cschuttler\\AppData\\Local\\anaconda3\\lib\\site-packages\\urllib3\\connectionpool.py:1056: InsecureRequestWarning: Unverified HTTPS request is being made to host 'api.geoapify.com'. Adding certificate verification is strongly advised. See: https://urllib3.readthedocs.io/en/1.26.x/advanced-usage.html#ssl-warnings\n",
      "  warnings.warn(\n"
     ]
    },
    {
     "name": "stdout",
     "output_type": "stream",
     "text": [
      "iqaluit - nearest hotel: Frobisher Inn\n"
     ]
    },
    {
     "name": "stderr",
     "output_type": "stream",
     "text": [
      "c:\\Users\\cschuttler\\AppData\\Local\\anaconda3\\lib\\site-packages\\urllib3\\connectionpool.py:1056: InsecureRequestWarning: Unverified HTTPS request is being made to host 'api.geoapify.com'. Adding certificate verification is strongly advised. See: https://urllib3.readthedocs.io/en/1.26.x/advanced-usage.html#ssl-warnings\n",
      "  warnings.warn(\n"
     ]
    },
    {
     "name": "stdout",
     "output_type": "stream",
     "text": [
      "kyren - nearest hotel: No hotel found\n"
     ]
    },
    {
     "name": "stderr",
     "output_type": "stream",
     "text": [
      "c:\\Users\\cschuttler\\AppData\\Local\\anaconda3\\lib\\site-packages\\urllib3\\connectionpool.py:1056: InsecureRequestWarning: Unverified HTTPS request is being made to host 'api.geoapify.com'. Adding certificate verification is strongly advised. See: https://urllib3.readthedocs.io/en/1.26.x/advanced-usage.html#ssl-warnings\n",
      "  warnings.warn(\n"
     ]
    },
    {
     "name": "stdout",
     "output_type": "stream",
     "text": [
      "olonkinbyen - nearest hotel: No hotel found\n"
     ]
    },
    {
     "name": "stderr",
     "output_type": "stream",
     "text": [
      "c:\\Users\\cschuttler\\AppData\\Local\\anaconda3\\lib\\site-packages\\urllib3\\connectionpool.py:1056: InsecureRequestWarning: Unverified HTTPS request is being made to host 'api.geoapify.com'. Adding certificate verification is strongly advised. See: https://urllib3.readthedocs.io/en/1.26.x/advanced-usage.html#ssl-warnings\n",
      "  warnings.warn(\n"
     ]
    },
    {
     "name": "stdout",
     "output_type": "stream",
     "text": [
      "avarua - nearest hotel: Paradise Inn\n"
     ]
    },
    {
     "name": "stderr",
     "output_type": "stream",
     "text": [
      "c:\\Users\\cschuttler\\AppData\\Local\\anaconda3\\lib\\site-packages\\urllib3\\connectionpool.py:1056: InsecureRequestWarning: Unverified HTTPS request is being made to host 'api.geoapify.com'. Adding certificate verification is strongly advised. See: https://urllib3.readthedocs.io/en/1.26.x/advanced-usage.html#ssl-warnings\n",
      "  warnings.warn(\n"
     ]
    },
    {
     "name": "stdout",
     "output_type": "stream",
     "text": [
      "edinburgh of the seven seas - nearest hotel: No hotel found\n"
     ]
    },
    {
     "name": "stderr",
     "output_type": "stream",
     "text": [
      "c:\\Users\\cschuttler\\AppData\\Local\\anaconda3\\lib\\site-packages\\urllib3\\connectionpool.py:1056: InsecureRequestWarning: Unverified HTTPS request is being made to host 'api.geoapify.com'. Adding certificate verification is strongly advised. See: https://urllib3.readthedocs.io/en/1.26.x/advanced-usage.html#ssl-warnings\n",
      "  warnings.warn(\n"
     ]
    },
    {
     "name": "stdout",
     "output_type": "stream",
     "text": [
      "aasiaat - nearest hotel: SØMA\n"
     ]
    },
    {
     "name": "stderr",
     "output_type": "stream",
     "text": [
      "c:\\Users\\cschuttler\\AppData\\Local\\anaconda3\\lib\\site-packages\\urllib3\\connectionpool.py:1056: InsecureRequestWarning: Unverified HTTPS request is being made to host 'api.geoapify.com'. Adding certificate verification is strongly advised. See: https://urllib3.readthedocs.io/en/1.26.x/advanced-usage.html#ssl-warnings\n",
      "  warnings.warn(\n"
     ]
    },
    {
     "name": "stdout",
     "output_type": "stream",
     "text": [
      "port elizabeth - nearest hotel: Waterford Hotel\n"
     ]
    },
    {
     "name": "stderr",
     "output_type": "stream",
     "text": [
      "c:\\Users\\cschuttler\\AppData\\Local\\anaconda3\\lib\\site-packages\\urllib3\\connectionpool.py:1056: InsecureRequestWarning: Unverified HTTPS request is being made to host 'api.geoapify.com'. Adding certificate verification is strongly advised. See: https://urllib3.readthedocs.io/en/1.26.x/advanced-usage.html#ssl-warnings\n",
      "  warnings.warn(\n"
     ]
    },
    {
     "name": "stdout",
     "output_type": "stream",
     "text": [
      "st. john's - nearest hotel: Alt Hotel\n"
     ]
    },
    {
     "name": "stderr",
     "output_type": "stream",
     "text": [
      "c:\\Users\\cschuttler\\AppData\\Local\\anaconda3\\lib\\site-packages\\urllib3\\connectionpool.py:1056: InsecureRequestWarning: Unverified HTTPS request is being made to host 'api.geoapify.com'. Adding certificate verification is strongly advised. See: https://urllib3.readthedocs.io/en/1.26.x/advanced-usage.html#ssl-warnings\n",
      "  warnings.warn(\n"
     ]
    },
    {
     "name": "stdout",
     "output_type": "stream",
     "text": [
      "keyser - nearest hotel: No hotel found\n"
     ]
    },
    {
     "name": "stderr",
     "output_type": "stream",
     "text": [
      "c:\\Users\\cschuttler\\AppData\\Local\\anaconda3\\lib\\site-packages\\urllib3\\connectionpool.py:1056: InsecureRequestWarning: Unverified HTTPS request is being made to host 'api.geoapify.com'. Adding certificate verification is strongly advised. See: https://urllib3.readthedocs.io/en/1.26.x/advanced-usage.html#ssl-warnings\n",
      "  warnings.warn(\n"
     ]
    },
    {
     "name": "stdout",
     "output_type": "stream",
     "text": [
      "vorgashor - nearest hotel: София\n"
     ]
    },
    {
     "name": "stderr",
     "output_type": "stream",
     "text": [
      "c:\\Users\\cschuttler\\AppData\\Local\\anaconda3\\lib\\site-packages\\urllib3\\connectionpool.py:1056: InsecureRequestWarning: Unverified HTTPS request is being made to host 'api.geoapify.com'. Adding certificate verification is strongly advised. See: https://urllib3.readthedocs.io/en/1.26.x/advanced-usage.html#ssl-warnings\n",
      "  warnings.warn(\n"
     ]
    },
    {
     "name": "stdout",
     "output_type": "stream",
     "text": [
      "salinas - nearest hotel: The Traveler's Hotel\n"
     ]
    },
    {
     "name": "stderr",
     "output_type": "stream",
     "text": [
      "c:\\Users\\cschuttler\\AppData\\Local\\anaconda3\\lib\\site-packages\\urllib3\\connectionpool.py:1056: InsecureRequestWarning: Unverified HTTPS request is being made to host 'api.geoapify.com'. Adding certificate verification is strongly advised. See: https://urllib3.readthedocs.io/en/1.26.x/advanced-usage.html#ssl-warnings\n",
      "  warnings.warn(\n"
     ]
    },
    {
     "name": "stdout",
     "output_type": "stream",
     "text": [
      "weno - nearest hotel: High Tide Hotel\n"
     ]
    },
    {
     "name": "stderr",
     "output_type": "stream",
     "text": [
      "c:\\Users\\cschuttler\\AppData\\Local\\anaconda3\\lib\\site-packages\\urllib3\\connectionpool.py:1056: InsecureRequestWarning: Unverified HTTPS request is being made to host 'api.geoapify.com'. Adding certificate verification is strongly advised. See: https://urllib3.readthedocs.io/en/1.26.x/advanced-usage.html#ssl-warnings\n",
      "  warnings.warn(\n"
     ]
    },
    {
     "name": "stdout",
     "output_type": "stream",
     "text": [
      "es castell - nearest hotel: Hotel Agamenon\n"
     ]
    },
    {
     "name": "stderr",
     "output_type": "stream",
     "text": [
      "c:\\Users\\cschuttler\\AppData\\Local\\anaconda3\\lib\\site-packages\\urllib3\\connectionpool.py:1056: InsecureRequestWarning: Unverified HTTPS request is being made to host 'api.geoapify.com'. Adding certificate verification is strongly advised. See: https://urllib3.readthedocs.io/en/1.26.x/advanced-usage.html#ssl-warnings\n",
      "  warnings.warn(\n"
     ]
    },
    {
     "name": "stdout",
     "output_type": "stream",
     "text": [
      "poyarkovo - nearest hotel: No hotel found\n"
     ]
    },
    {
     "name": "stderr",
     "output_type": "stream",
     "text": [
      "c:\\Users\\cschuttler\\AppData\\Local\\anaconda3\\lib\\site-packages\\urllib3\\connectionpool.py:1056: InsecureRequestWarning: Unverified HTTPS request is being made to host 'api.geoapify.com'. Adding certificate verification is strongly advised. See: https://urllib3.readthedocs.io/en/1.26.x/advanced-usage.html#ssl-warnings\n",
      "  warnings.warn(\n"
     ]
    },
    {
     "name": "stdout",
     "output_type": "stream",
     "text": [
      "georgetown - nearest hotel: Page 63 hostel\n"
     ]
    },
    {
     "name": "stderr",
     "output_type": "stream",
     "text": [
      "c:\\Users\\cschuttler\\AppData\\Local\\anaconda3\\lib\\site-packages\\urllib3\\connectionpool.py:1056: InsecureRequestWarning: Unverified HTTPS request is being made to host 'api.geoapify.com'. Adding certificate verification is strongly advised. See: https://urllib3.readthedocs.io/en/1.26.x/advanced-usage.html#ssl-warnings\n",
      "  warnings.warn(\n"
     ]
    },
    {
     "name": "stdout",
     "output_type": "stream",
     "text": [
      "pionerskiy - nearest hotel: No hotel found\n"
     ]
    },
    {
     "name": "stderr",
     "output_type": "stream",
     "text": [
      "c:\\Users\\cschuttler\\AppData\\Local\\anaconda3\\lib\\site-packages\\urllib3\\connectionpool.py:1056: InsecureRequestWarning: Unverified HTTPS request is being made to host 'api.geoapify.com'. Adding certificate verification is strongly advised. See: https://urllib3.readthedocs.io/en/1.26.x/advanced-usage.html#ssl-warnings\n",
      "  warnings.warn(\n"
     ]
    },
    {
     "name": "stdout",
     "output_type": "stream",
     "text": [
      "whitehorse - nearest hotel: Town & Mountain Hotel\n"
     ]
    },
    {
     "name": "stderr",
     "output_type": "stream",
     "text": [
      "c:\\Users\\cschuttler\\AppData\\Local\\anaconda3\\lib\\site-packages\\urllib3\\connectionpool.py:1056: InsecureRequestWarning: Unverified HTTPS request is being made to host 'api.geoapify.com'. Adding certificate verification is strongly advised. See: https://urllib3.readthedocs.io/en/1.26.x/advanced-usage.html#ssl-warnings\n",
      "  warnings.warn(\n"
     ]
    },
    {
     "name": "stdout",
     "output_type": "stream",
     "text": [
      "ves'yegonsk - nearest hotel: Гостиница Весь\n"
     ]
    },
    {
     "name": "stderr",
     "output_type": "stream",
     "text": [
      "c:\\Users\\cschuttler\\AppData\\Local\\anaconda3\\lib\\site-packages\\urllib3\\connectionpool.py:1056: InsecureRequestWarning: Unverified HTTPS request is being made to host 'api.geoapify.com'. Adding certificate verification is strongly advised. See: https://urllib3.readthedocs.io/en/1.26.x/advanced-usage.html#ssl-warnings\n",
      "  warnings.warn(\n"
     ]
    },
    {
     "name": "stdout",
     "output_type": "stream",
     "text": [
      "flying fish cove - nearest hotel: Christmas Island Lodge\n"
     ]
    },
    {
     "name": "stderr",
     "output_type": "stream",
     "text": [
      "c:\\Users\\cschuttler\\AppData\\Local\\anaconda3\\lib\\site-packages\\urllib3\\connectionpool.py:1056: InsecureRequestWarning: Unverified HTTPS request is being made to host 'api.geoapify.com'. Adding certificate verification is strongly advised. See: https://urllib3.readthedocs.io/en/1.26.x/advanced-usage.html#ssl-warnings\n",
      "  warnings.warn(\n"
     ]
    },
    {
     "name": "stdout",
     "output_type": "stream",
     "text": [
      "alo - nearest hotel: No hotel found\n"
     ]
    },
    {
     "name": "stderr",
     "output_type": "stream",
     "text": [
      "c:\\Users\\cschuttler\\AppData\\Local\\anaconda3\\lib\\site-packages\\urllib3\\connectionpool.py:1056: InsecureRequestWarning: Unverified HTTPS request is being made to host 'api.geoapify.com'. Adding certificate verification is strongly advised. See: https://urllib3.readthedocs.io/en/1.26.x/advanced-usage.html#ssl-warnings\n",
      "  warnings.warn(\n"
     ]
    },
    {
     "name": "stdout",
     "output_type": "stream",
     "text": [
      "waitangi - nearest hotel: Hotel Chathams\n"
     ]
    },
    {
     "name": "stderr",
     "output_type": "stream",
     "text": [
      "c:\\Users\\cschuttler\\AppData\\Local\\anaconda3\\lib\\site-packages\\urllib3\\connectionpool.py:1056: InsecureRequestWarning: Unverified HTTPS request is being made to host 'api.geoapify.com'. Adding certificate verification is strongly advised. See: https://urllib3.readthedocs.io/en/1.26.x/advanced-usage.html#ssl-warnings\n",
      "  warnings.warn(\n"
     ]
    },
    {
     "name": "stdout",
     "output_type": "stream",
     "text": [
      "khorinsk - nearest hotel: Уда\n"
     ]
    },
    {
     "name": "stderr",
     "output_type": "stream",
     "text": [
      "c:\\Users\\cschuttler\\AppData\\Local\\anaconda3\\lib\\site-packages\\urllib3\\connectionpool.py:1056: InsecureRequestWarning: Unverified HTTPS request is being made to host 'api.geoapify.com'. Adding certificate verification is strongly advised. See: https://urllib3.readthedocs.io/en/1.26.x/advanced-usage.html#ssl-warnings\n",
      "  warnings.warn(\n"
     ]
    },
    {
     "name": "stdout",
     "output_type": "stream",
     "text": [
      "tazacorte - nearest hotel: App Leyma\n"
     ]
    },
    {
     "name": "stderr",
     "output_type": "stream",
     "text": [
      "c:\\Users\\cschuttler\\AppData\\Local\\anaconda3\\lib\\site-packages\\urllib3\\connectionpool.py:1056: InsecureRequestWarning: Unverified HTTPS request is being made to host 'api.geoapify.com'. Adding certificate verification is strongly advised. See: https://urllib3.readthedocs.io/en/1.26.x/advanced-usage.html#ssl-warnings\n",
      "  warnings.warn(\n"
     ]
    },
    {
     "name": "stdout",
     "output_type": "stream",
     "text": [
      "rosales - nearest hotel: No hotel found\n"
     ]
    },
    {
     "name": "stderr",
     "output_type": "stream",
     "text": [
      "c:\\Users\\cschuttler\\AppData\\Local\\anaconda3\\lib\\site-packages\\urllib3\\connectionpool.py:1056: InsecureRequestWarning: Unverified HTTPS request is being made to host 'api.geoapify.com'. Adding certificate verification is strongly advised. See: https://urllib3.readthedocs.io/en/1.26.x/advanced-usage.html#ssl-warnings\n",
      "  warnings.warn(\n"
     ]
    },
    {
     "name": "stdout",
     "output_type": "stream",
     "text": [
      "vilyuchinsk - nearest hotel: Победа\n"
     ]
    },
    {
     "name": "stderr",
     "output_type": "stream",
     "text": [
      "c:\\Users\\cschuttler\\AppData\\Local\\anaconda3\\lib\\site-packages\\urllib3\\connectionpool.py:1056: InsecureRequestWarning: Unverified HTTPS request is being made to host 'api.geoapify.com'. Adding certificate verification is strongly advised. See: https://urllib3.readthedocs.io/en/1.26.x/advanced-usage.html#ssl-warnings\n",
      "  warnings.warn(\n"
     ]
    },
    {
     "name": "stdout",
     "output_type": "stream",
     "text": [
      "novaya ladoga - nearest hotel: Радуга\n"
     ]
    },
    {
     "name": "stderr",
     "output_type": "stream",
     "text": [
      "c:\\Users\\cschuttler\\AppData\\Local\\anaconda3\\lib\\site-packages\\urllib3\\connectionpool.py:1056: InsecureRequestWarning: Unverified HTTPS request is being made to host 'api.geoapify.com'. Adding certificate verification is strongly advised. See: https://urllib3.readthedocs.io/en/1.26.x/advanced-usage.html#ssl-warnings\n",
      "  warnings.warn(\n"
     ]
    },
    {
     "name": "stdout",
     "output_type": "stream",
     "text": [
      "west island - nearest hotel: Cocos Village Bungalows\n"
     ]
    },
    {
     "name": "stderr",
     "output_type": "stream",
     "text": [
      "c:\\Users\\cschuttler\\AppData\\Local\\anaconda3\\lib\\site-packages\\urllib3\\connectionpool.py:1056: InsecureRequestWarning: Unverified HTTPS request is being made to host 'api.geoapify.com'. Adding certificate verification is strongly advised. See: https://urllib3.readthedocs.io/en/1.26.x/advanced-usage.html#ssl-warnings\n",
      "  warnings.warn(\n"
     ]
    },
    {
     "name": "stdout",
     "output_type": "stream",
     "text": [
      "cotoca - nearest hotel: Alojamiento Indalo\n"
     ]
    },
    {
     "name": "stderr",
     "output_type": "stream",
     "text": [
      "c:\\Users\\cschuttler\\AppData\\Local\\anaconda3\\lib\\site-packages\\urllib3\\connectionpool.py:1056: InsecureRequestWarning: Unverified HTTPS request is being made to host 'api.geoapify.com'. Adding certificate verification is strongly advised. See: https://urllib3.readthedocs.io/en/1.26.x/advanced-usage.html#ssl-warnings\n",
      "  warnings.warn(\n"
     ]
    },
    {
     "name": "stdout",
     "output_type": "stream",
     "text": [
      "geraldton - nearest hotel: Ocean Centre Hotel\n"
     ]
    },
    {
     "name": "stderr",
     "output_type": "stream",
     "text": [
      "c:\\Users\\cschuttler\\AppData\\Local\\anaconda3\\lib\\site-packages\\urllib3\\connectionpool.py:1056: InsecureRequestWarning: Unverified HTTPS request is being made to host 'api.geoapify.com'. Adding certificate verification is strongly advised. See: https://urllib3.readthedocs.io/en/1.26.x/advanced-usage.html#ssl-warnings\n",
      "  warnings.warn(\n"
     ]
    },
    {
     "name": "stdout",
     "output_type": "stream",
     "text": [
      "anadyr - nearest hotel: Гостевой дом\n"
     ]
    },
    {
     "name": "stderr",
     "output_type": "stream",
     "text": [
      "c:\\Users\\cschuttler\\AppData\\Local\\anaconda3\\lib\\site-packages\\urllib3\\connectionpool.py:1056: InsecureRequestWarning: Unverified HTTPS request is being made to host 'api.geoapify.com'. Adding certificate verification is strongly advised. See: https://urllib3.readthedocs.io/en/1.26.x/advanced-usage.html#ssl-warnings\n",
      "  warnings.warn(\n"
     ]
    },
    {
     "name": "stdout",
     "output_type": "stream",
     "text": [
      "saint-philippe - nearest hotel: Le Baril\n"
     ]
    },
    {
     "name": "stderr",
     "output_type": "stream",
     "text": [
      "c:\\Users\\cschuttler\\AppData\\Local\\anaconda3\\lib\\site-packages\\urllib3\\connectionpool.py:1056: InsecureRequestWarning: Unverified HTTPS request is being made to host 'api.geoapify.com'. Adding certificate verification is strongly advised. See: https://urllib3.readthedocs.io/en/1.26.x/advanced-usage.html#ssl-warnings\n",
      "  warnings.warn(\n"
     ]
    },
    {
     "name": "stdout",
     "output_type": "stream",
     "text": [
      "bethel - nearest hotel: Hampton Inn Danbury\n"
     ]
    },
    {
     "name": "stderr",
     "output_type": "stream",
     "text": [
      "c:\\Users\\cschuttler\\AppData\\Local\\anaconda3\\lib\\site-packages\\urllib3\\connectionpool.py:1056: InsecureRequestWarning: Unverified HTTPS request is being made to host 'api.geoapify.com'. Adding certificate verification is strongly advised. See: https://urllib3.readthedocs.io/en/1.26.x/advanced-usage.html#ssl-warnings\n",
      "  warnings.warn(\n"
     ]
    },
    {
     "name": "stdout",
     "output_type": "stream",
     "text": [
      "adamstown - nearest hotel: No hotel found\n"
     ]
    },
    {
     "name": "stderr",
     "output_type": "stream",
     "text": [
      "c:\\Users\\cschuttler\\AppData\\Local\\anaconda3\\lib\\site-packages\\urllib3\\connectionpool.py:1056: InsecureRequestWarning: Unverified HTTPS request is being made to host 'api.geoapify.com'. Adding certificate verification is strongly advised. See: https://urllib3.readthedocs.io/en/1.26.x/advanced-usage.html#ssl-warnings\n",
      "  warnings.warn(\n"
     ]
    },
    {
     "name": "stdout",
     "output_type": "stream",
     "text": [
      "la passe - nearest hotel: L'Estuaire\n"
     ]
    },
    {
     "name": "stderr",
     "output_type": "stream",
     "text": [
      "c:\\Users\\cschuttler\\AppData\\Local\\anaconda3\\lib\\site-packages\\urllib3\\connectionpool.py:1056: InsecureRequestWarning: Unverified HTTPS request is being made to host 'api.geoapify.com'. Adding certificate verification is strongly advised. See: https://urllib3.readthedocs.io/en/1.26.x/advanced-usage.html#ssl-warnings\n",
      "  warnings.warn(\n"
     ]
    },
    {
     "name": "stdout",
     "output_type": "stream",
     "text": [
      "suwayr - nearest hotel: No hotel found\n"
     ]
    },
    {
     "name": "stderr",
     "output_type": "stream",
     "text": [
      "c:\\Users\\cschuttler\\AppData\\Local\\anaconda3\\lib\\site-packages\\urllib3\\connectionpool.py:1056: InsecureRequestWarning: Unverified HTTPS request is being made to host 'api.geoapify.com'. Adding certificate verification is strongly advised. See: https://urllib3.readthedocs.io/en/1.26.x/advanced-usage.html#ssl-warnings\n",
      "  warnings.warn(\n"
     ]
    },
    {
     "name": "stdout",
     "output_type": "stream",
     "text": [
      "kingston - nearest hotel: Aphrodite Hotel\n"
     ]
    },
    {
     "name": "stderr",
     "output_type": "stream",
     "text": [
      "c:\\Users\\cschuttler\\AppData\\Local\\anaconda3\\lib\\site-packages\\urllib3\\connectionpool.py:1056: InsecureRequestWarning: Unverified HTTPS request is being made to host 'api.geoapify.com'. Adding certificate verification is strongly advised. See: https://urllib3.readthedocs.io/en/1.26.x/advanced-usage.html#ssl-warnings\n",
      "  warnings.warn(\n"
     ]
    },
    {
     "name": "stdout",
     "output_type": "stream",
     "text": [
      "sanya - nearest hotel: Хубаёши\n"
     ]
    },
    {
     "name": "stderr",
     "output_type": "stream",
     "text": [
      "c:\\Users\\cschuttler\\AppData\\Local\\anaconda3\\lib\\site-packages\\urllib3\\connectionpool.py:1056: InsecureRequestWarning: Unverified HTTPS request is being made to host 'api.geoapify.com'. Adding certificate verification is strongly advised. See: https://urllib3.readthedocs.io/en/1.26.x/advanced-usage.html#ssl-warnings\n",
      "  warnings.warn(\n"
     ]
    },
    {
     "name": "stdout",
     "output_type": "stream",
     "text": [
      "bardai - nearest hotel: No hotel found\n"
     ]
    },
    {
     "name": "stderr",
     "output_type": "stream",
     "text": [
      "c:\\Users\\cschuttler\\AppData\\Local\\anaconda3\\lib\\site-packages\\urllib3\\connectionpool.py:1056: InsecureRequestWarning: Unverified HTTPS request is being made to host 'api.geoapify.com'. Adding certificate verification is strongly advised. See: https://urllib3.readthedocs.io/en/1.26.x/advanced-usage.html#ssl-warnings\n",
      "  warnings.warn(\n"
     ]
    },
    {
     "name": "stdout",
     "output_type": "stream",
     "text": [
      "hamilton - nearest hotel: North Vista Manor\n"
     ]
    },
    {
     "name": "stderr",
     "output_type": "stream",
     "text": [
      "c:\\Users\\cschuttler\\AppData\\Local\\anaconda3\\lib\\site-packages\\urllib3\\connectionpool.py:1056: InsecureRequestWarning: Unverified HTTPS request is being made to host 'api.geoapify.com'. Adding certificate verification is strongly advised. See: https://urllib3.readthedocs.io/en/1.26.x/advanced-usage.html#ssl-warnings\n",
      "  warnings.warn(\n"
     ]
    },
    {
     "name": "stdout",
     "output_type": "stream",
     "text": [
      "bredasdorp - nearest hotel: Victoria Hotel\n"
     ]
    },
    {
     "name": "stderr",
     "output_type": "stream",
     "text": [
      "c:\\Users\\cschuttler\\AppData\\Local\\anaconda3\\lib\\site-packages\\urllib3\\connectionpool.py:1056: InsecureRequestWarning: Unverified HTTPS request is being made to host 'api.geoapify.com'. Adding certificate verification is strongly advised. See: https://urllib3.readthedocs.io/en/1.26.x/advanced-usage.html#ssl-warnings\n",
      "  warnings.warn(\n"
     ]
    },
    {
     "name": "stdout",
     "output_type": "stream",
     "text": [
      "papatowai - nearest hotel: No hotel found\n"
     ]
    },
    {
     "name": "stderr",
     "output_type": "stream",
     "text": [
      "c:\\Users\\cschuttler\\AppData\\Local\\anaconda3\\lib\\site-packages\\urllib3\\connectionpool.py:1056: InsecureRequestWarning: Unverified HTTPS request is being made to host 'api.geoapify.com'. Adding certificate verification is strongly advised. See: https://urllib3.readthedocs.io/en/1.26.x/advanced-usage.html#ssl-warnings\n",
      "  warnings.warn(\n"
     ]
    },
    {
     "name": "stdout",
     "output_type": "stream",
     "text": [
      "steinbach - nearest hotel: Alt Steinbach\n"
     ]
    },
    {
     "name": "stderr",
     "output_type": "stream",
     "text": [
      "c:\\Users\\cschuttler\\AppData\\Local\\anaconda3\\lib\\site-packages\\urllib3\\connectionpool.py:1056: InsecureRequestWarning: Unverified HTTPS request is being made to host 'api.geoapify.com'. Adding certificate verification is strongly advised. See: https://urllib3.readthedocs.io/en/1.26.x/advanced-usage.html#ssl-warnings\n",
      "  warnings.warn(\n"
     ]
    },
    {
     "name": "stdout",
     "output_type": "stream",
     "text": [
      "albany - nearest hotel: No hotel found\n"
     ]
    },
    {
     "name": "stderr",
     "output_type": "stream",
     "text": [
      "c:\\Users\\cschuttler\\AppData\\Local\\anaconda3\\lib\\site-packages\\urllib3\\connectionpool.py:1056: InsecureRequestWarning: Unverified HTTPS request is being made to host 'api.geoapify.com'. Adding certificate verification is strongly advised. See: https://urllib3.readthedocs.io/en/1.26.x/advanced-usage.html#ssl-warnings\n",
      "  warnings.warn(\n"
     ]
    },
    {
     "name": "stdout",
     "output_type": "stream",
     "text": [
      "hillvue - nearest hotel: Longyard Hotel\n"
     ]
    },
    {
     "name": "stderr",
     "output_type": "stream",
     "text": [
      "c:\\Users\\cschuttler\\AppData\\Local\\anaconda3\\lib\\site-packages\\urllib3\\connectionpool.py:1056: InsecureRequestWarning: Unverified HTTPS request is being made to host 'api.geoapify.com'. Adding certificate verification is strongly advised. See: https://urllib3.readthedocs.io/en/1.26.x/advanced-usage.html#ssl-warnings\n",
      "  warnings.warn(\n"
     ]
    },
    {
     "name": "stdout",
     "output_type": "stream",
     "text": [
      "constantia - nearest hotel: Hotel Chérica\n"
     ]
    },
    {
     "name": "stderr",
     "output_type": "stream",
     "text": [
      "c:\\Users\\cschuttler\\AppData\\Local\\anaconda3\\lib\\site-packages\\urllib3\\connectionpool.py:1056: InsecureRequestWarning: Unverified HTTPS request is being made to host 'api.geoapify.com'. Adding certificate verification is strongly advised. See: https://urllib3.readthedocs.io/en/1.26.x/advanced-usage.html#ssl-warnings\n",
      "  warnings.warn(\n"
     ]
    },
    {
     "name": "stdout",
     "output_type": "stream",
     "text": [
      "tura - nearest hotel: No hotel found\n"
     ]
    },
    {
     "name": "stderr",
     "output_type": "stream",
     "text": [
      "c:\\Users\\cschuttler\\AppData\\Local\\anaconda3\\lib\\site-packages\\urllib3\\connectionpool.py:1056: InsecureRequestWarning: Unverified HTTPS request is being made to host 'api.geoapify.com'. Adding certificate verification is strongly advised. See: https://urllib3.readthedocs.io/en/1.26.x/advanced-usage.html#ssl-warnings\n",
      "  warnings.warn(\n"
     ]
    },
    {
     "name": "stdout",
     "output_type": "stream",
     "text": [
      "eloi mendes - nearest hotel: No hotel found\n"
     ]
    },
    {
     "name": "stderr",
     "output_type": "stream",
     "text": [
      "c:\\Users\\cschuttler\\AppData\\Local\\anaconda3\\lib\\site-packages\\urllib3\\connectionpool.py:1056: InsecureRequestWarning: Unverified HTTPS request is being made to host 'api.geoapify.com'. Adding certificate verification is strongly advised. See: https://urllib3.readthedocs.io/en/1.26.x/advanced-usage.html#ssl-warnings\n",
      "  warnings.warn(\n"
     ]
    },
    {
     "name": "stdout",
     "output_type": "stream",
     "text": [
      "nuku'alofa - nearest hotel: City Hotel\n"
     ]
    },
    {
     "name": "stderr",
     "output_type": "stream",
     "text": [
      "c:\\Users\\cschuttler\\AppData\\Local\\anaconda3\\lib\\site-packages\\urllib3\\connectionpool.py:1056: InsecureRequestWarning: Unverified HTTPS request is being made to host 'api.geoapify.com'. Adding certificate verification is strongly advised. See: https://urllib3.readthedocs.io/en/1.26.x/advanced-usage.html#ssl-warnings\n",
      "  warnings.warn(\n"
     ]
    },
    {
     "name": "stdout",
     "output_type": "stream",
     "text": [
      "thompson - nearest hotel: Thompson Inn\n"
     ]
    },
    {
     "name": "stderr",
     "output_type": "stream",
     "text": [
      "c:\\Users\\cschuttler\\AppData\\Local\\anaconda3\\lib\\site-packages\\urllib3\\connectionpool.py:1056: InsecureRequestWarning: Unverified HTTPS request is being made to host 'api.geoapify.com'. Adding certificate verification is strongly advised. See: https://urllib3.readthedocs.io/en/1.26.x/advanced-usage.html#ssl-warnings\n",
      "  warnings.warn(\n"
     ]
    },
    {
     "name": "stdout",
     "output_type": "stream",
     "text": [
      "saint-pierre - nearest hotel: Tropic Hotel\n"
     ]
    },
    {
     "name": "stderr",
     "output_type": "stream",
     "text": [
      "c:\\Users\\cschuttler\\AppData\\Local\\anaconda3\\lib\\site-packages\\urllib3\\connectionpool.py:1056: InsecureRequestWarning: Unverified HTTPS request is being made to host 'api.geoapify.com'. Adding certificate verification is strongly advised. See: https://urllib3.readthedocs.io/en/1.26.x/advanced-usage.html#ssl-warnings\n",
      "  warnings.warn(\n"
     ]
    },
    {
     "name": "stdout",
     "output_type": "stream",
     "text": [
      "blackmans bay - nearest hotel: Villa Howden\n"
     ]
    },
    {
     "name": "stderr",
     "output_type": "stream",
     "text": [
      "c:\\Users\\cschuttler\\AppData\\Local\\anaconda3\\lib\\site-packages\\urllib3\\connectionpool.py:1056: InsecureRequestWarning: Unverified HTTPS request is being made to host 'api.geoapify.com'. Adding certificate verification is strongly advised. See: https://urllib3.readthedocs.io/en/1.26.x/advanced-usage.html#ssl-warnings\n",
      "  warnings.warn(\n"
     ]
    },
    {
     "name": "stdout",
     "output_type": "stream",
     "text": [
      "margaret river - nearest hotel: Margaret River Hotel\n"
     ]
    },
    {
     "name": "stderr",
     "output_type": "stream",
     "text": [
      "c:\\Users\\cschuttler\\AppData\\Local\\anaconda3\\lib\\site-packages\\urllib3\\connectionpool.py:1056: InsecureRequestWarning: Unverified HTTPS request is being made to host 'api.geoapify.com'. Adding certificate verification is strongly advised. See: https://urllib3.readthedocs.io/en/1.26.x/advanced-usage.html#ssl-warnings\n",
      "  warnings.warn(\n"
     ]
    },
    {
     "name": "stdout",
     "output_type": "stream",
     "text": [
      "alaghsas - nearest hotel: Hôtel Zagado\n"
     ]
    },
    {
     "name": "stderr",
     "output_type": "stream",
     "text": [
      "c:\\Users\\cschuttler\\AppData\\Local\\anaconda3\\lib\\site-packages\\urllib3\\connectionpool.py:1056: InsecureRequestWarning: Unverified HTTPS request is being made to host 'api.geoapify.com'. Adding certificate verification is strongly advised. See: https://urllib3.readthedocs.io/en/1.26.x/advanced-usage.html#ssl-warnings\n",
      "  warnings.warn(\n"
     ]
    },
    {
     "name": "stdout",
     "output_type": "stream",
     "text": [
      "port mathurin - nearest hotel: Escale Vacances\n"
     ]
    },
    {
     "name": "stderr",
     "output_type": "stream",
     "text": [
      "c:\\Users\\cschuttler\\AppData\\Local\\anaconda3\\lib\\site-packages\\urllib3\\connectionpool.py:1056: InsecureRequestWarning: Unverified HTTPS request is being made to host 'api.geoapify.com'. Adding certificate verification is strongly advised. See: https://urllib3.readthedocs.io/en/1.26.x/advanced-usage.html#ssl-warnings\n",
      "  warnings.warn(\n"
     ]
    },
    {
     "name": "stdout",
     "output_type": "stream",
     "text": [
      "nova sintra - nearest hotel: Residência Ka Dencho\n"
     ]
    },
    {
     "name": "stderr",
     "output_type": "stream",
     "text": [
      "c:\\Users\\cschuttler\\AppData\\Local\\anaconda3\\lib\\site-packages\\urllib3\\connectionpool.py:1056: InsecureRequestWarning: Unverified HTTPS request is being made to host 'api.geoapify.com'. Adding certificate verification is strongly advised. See: https://urllib3.readthedocs.io/en/1.26.x/advanced-usage.html#ssl-warnings\n",
      "  warnings.warn(\n"
     ]
    },
    {
     "name": "stdout",
     "output_type": "stream",
     "text": [
      "plettenberg bay - nearest hotel: Milkwood Manor\n"
     ]
    },
    {
     "name": "stderr",
     "output_type": "stream",
     "text": [
      "c:\\Users\\cschuttler\\AppData\\Local\\anaconda3\\lib\\site-packages\\urllib3\\connectionpool.py:1056: InsecureRequestWarning: Unverified HTTPS request is being made to host 'api.geoapify.com'. Adding certificate verification is strongly advised. See: https://urllib3.readthedocs.io/en/1.26.x/advanced-usage.html#ssl-warnings\n",
      "  warnings.warn(\n"
     ]
    },
    {
     "name": "stdout",
     "output_type": "stream",
     "text": [
      "myshkin - nearest hotel: Кошкин дом\n"
     ]
    },
    {
     "name": "stderr",
     "output_type": "stream",
     "text": [
      "c:\\Users\\cschuttler\\AppData\\Local\\anaconda3\\lib\\site-packages\\urllib3\\connectionpool.py:1056: InsecureRequestWarning: Unverified HTTPS request is being made to host 'api.geoapify.com'. Adding certificate verification is strongly advised. See: https://urllib3.readthedocs.io/en/1.26.x/advanced-usage.html#ssl-warnings\n",
      "  warnings.warn(\n"
     ]
    },
    {
     "name": "stdout",
     "output_type": "stream",
     "text": [
      "kone - nearest hotel: Pacifik Appartels\n"
     ]
    },
    {
     "name": "stderr",
     "output_type": "stream",
     "text": [
      "c:\\Users\\cschuttler\\AppData\\Local\\anaconda3\\lib\\site-packages\\urllib3\\connectionpool.py:1056: InsecureRequestWarning: Unverified HTTPS request is being made to host 'api.geoapify.com'. Adding certificate verification is strongly advised. See: https://urllib3.readthedocs.io/en/1.26.x/advanced-usage.html#ssl-warnings\n",
      "  warnings.warn(\n"
     ]
    },
    {
     "name": "stdout",
     "output_type": "stream",
     "text": [
      "howard springs - nearest hotel: No hotel found\n"
     ]
    },
    {
     "name": "stderr",
     "output_type": "stream",
     "text": [
      "c:\\Users\\cschuttler\\AppData\\Local\\anaconda3\\lib\\site-packages\\urllib3\\connectionpool.py:1056: InsecureRequestWarning: Unverified HTTPS request is being made to host 'api.geoapify.com'. Adding certificate verification is strongly advised. See: https://urllib3.readthedocs.io/en/1.26.x/advanced-usage.html#ssl-warnings\n",
      "  warnings.warn(\n"
     ]
    },
    {
     "name": "stdout",
     "output_type": "stream",
     "text": [
      "udachny - nearest hotel: Вилюй\n"
     ]
    },
    {
     "name": "stderr",
     "output_type": "stream",
     "text": [
      "c:\\Users\\cschuttler\\AppData\\Local\\anaconda3\\lib\\site-packages\\urllib3\\connectionpool.py:1056: InsecureRequestWarning: Unverified HTTPS request is being made to host 'api.geoapify.com'. Adding certificate verification is strongly advised. See: https://urllib3.readthedocs.io/en/1.26.x/advanced-usage.html#ssl-warnings\n",
      "  warnings.warn(\n"
     ]
    },
    {
     "name": "stdout",
     "output_type": "stream",
     "text": [
      "quellon - nearest hotel: Aliwen\n"
     ]
    },
    {
     "name": "stderr",
     "output_type": "stream",
     "text": [
      "c:\\Users\\cschuttler\\AppData\\Local\\anaconda3\\lib\\site-packages\\urllib3\\connectionpool.py:1056: InsecureRequestWarning: Unverified HTTPS request is being made to host 'api.geoapify.com'. Adding certificate verification is strongly advised. See: https://urllib3.readthedocs.io/en/1.26.x/advanced-usage.html#ssl-warnings\n",
      "  warnings.warn(\n"
     ]
    },
    {
     "name": "stdout",
     "output_type": "stream",
     "text": [
      "piti village - nearest hotel: The Cliff Hotel\n"
     ]
    },
    {
     "name": "stderr",
     "output_type": "stream",
     "text": [
      "c:\\Users\\cschuttler\\AppData\\Local\\anaconda3\\lib\\site-packages\\urllib3\\connectionpool.py:1056: InsecureRequestWarning: Unverified HTTPS request is being made to host 'api.geoapify.com'. Adding certificate verification is strongly advised. See: https://urllib3.readthedocs.io/en/1.26.x/advanced-usage.html#ssl-warnings\n",
      "  warnings.warn(\n"
     ]
    },
    {
     "name": "stdout",
     "output_type": "stream",
     "text": [
      "kuanda - nearest hotel: No hotel found\n"
     ]
    },
    {
     "name": "stderr",
     "output_type": "stream",
     "text": [
      "c:\\Users\\cschuttler\\AppData\\Local\\anaconda3\\lib\\site-packages\\urllib3\\connectionpool.py:1056: InsecureRequestWarning: Unverified HTTPS request is being made to host 'api.geoapify.com'. Adding certificate verification is strongly advised. See: https://urllib3.readthedocs.io/en/1.26.x/advanced-usage.html#ssl-warnings\n",
      "  warnings.warn(\n"
     ]
    },
    {
     "name": "stdout",
     "output_type": "stream",
     "text": [
      "mount gambier - nearest hotel: The Old Mount Gambier Gaol\n"
     ]
    },
    {
     "name": "stderr",
     "output_type": "stream",
     "text": [
      "c:\\Users\\cschuttler\\AppData\\Local\\anaconda3\\lib\\site-packages\\urllib3\\connectionpool.py:1056: InsecureRequestWarning: Unverified HTTPS request is being made to host 'api.geoapify.com'. Adding certificate verification is strongly advised. See: https://urllib3.readthedocs.io/en/1.26.x/advanced-usage.html#ssl-warnings\n",
      "  warnings.warn(\n"
     ]
    },
    {
     "name": "stdout",
     "output_type": "stream",
     "text": [
      "mahenge - nearest hotel: No hotel found\n"
     ]
    },
    {
     "name": "stderr",
     "output_type": "stream",
     "text": [
      "c:\\Users\\cschuttler\\AppData\\Local\\anaconda3\\lib\\site-packages\\urllib3\\connectionpool.py:1056: InsecureRequestWarning: Unverified HTTPS request is being made to host 'api.geoapify.com'. Adding certificate verification is strongly advised. See: https://urllib3.readthedocs.io/en/1.26.x/advanced-usage.html#ssl-warnings\n",
      "  warnings.warn(\n"
     ]
    },
    {
     "name": "stdout",
     "output_type": "stream",
     "text": [
      "antsiranana - nearest hotel: Central\n"
     ]
    },
    {
     "name": "stderr",
     "output_type": "stream",
     "text": [
      "c:\\Users\\cschuttler\\AppData\\Local\\anaconda3\\lib\\site-packages\\urllib3\\connectionpool.py:1056: InsecureRequestWarning: Unverified HTTPS request is being made to host 'api.geoapify.com'. Adding certificate verification is strongly advised. See: https://urllib3.readthedocs.io/en/1.26.x/advanced-usage.html#ssl-warnings\n",
      "  warnings.warn(\n"
     ]
    },
    {
     "name": "stdout",
     "output_type": "stream",
     "text": [
      "puerto ayora - nearest hotel: Hostal La Mirada De Solitario George\n"
     ]
    },
    {
     "name": "stderr",
     "output_type": "stream",
     "text": [
      "c:\\Users\\cschuttler\\AppData\\Local\\anaconda3\\lib\\site-packages\\urllib3\\connectionpool.py:1056: InsecureRequestWarning: Unverified HTTPS request is being made to host 'api.geoapify.com'. Adding certificate verification is strongly advised. See: https://urllib3.readthedocs.io/en/1.26.x/advanced-usage.html#ssl-warnings\n",
      "  warnings.warn(\n"
     ]
    },
    {
     "name": "stdout",
     "output_type": "stream",
     "text": [
      "magadan - nearest hotel: Гостиница «ВМ-Центр»\n"
     ]
    },
    {
     "name": "stderr",
     "output_type": "stream",
     "text": [
      "c:\\Users\\cschuttler\\AppData\\Local\\anaconda3\\lib\\site-packages\\urllib3\\connectionpool.py:1056: InsecureRequestWarning: Unverified HTTPS request is being made to host 'api.geoapify.com'. Adding certificate verification is strongly advised. See: https://urllib3.readthedocs.io/en/1.26.x/advanced-usage.html#ssl-warnings\n",
      "  warnings.warn(\n"
     ]
    },
    {
     "name": "stdout",
     "output_type": "stream",
     "text": [
      "sitka - nearest hotel: Aspen Suites Hotel\n"
     ]
    },
    {
     "name": "stderr",
     "output_type": "stream",
     "text": [
      "c:\\Users\\cschuttler\\AppData\\Local\\anaconda3\\lib\\site-packages\\urllib3\\connectionpool.py:1056: InsecureRequestWarning: Unverified HTTPS request is being made to host 'api.geoapify.com'. Adding certificate verification is strongly advised. See: https://urllib3.readthedocs.io/en/1.26.x/advanced-usage.html#ssl-warnings\n",
      "  warnings.warn(\n"
     ]
    },
    {
     "name": "stdout",
     "output_type": "stream",
     "text": [
      "alice springs - nearest hotel: Aurora Alice Springs\n"
     ]
    },
    {
     "name": "stderr",
     "output_type": "stream",
     "text": [
      "c:\\Users\\cschuttler\\AppData\\Local\\anaconda3\\lib\\site-packages\\urllib3\\connectionpool.py:1056: InsecureRequestWarning: Unverified HTTPS request is being made to host 'api.geoapify.com'. Adding certificate verification is strongly advised. See: https://urllib3.readthedocs.io/en/1.26.x/advanced-usage.html#ssl-warnings\n",
      "  warnings.warn(\n"
     ]
    },
    {
     "name": "stdout",
     "output_type": "stream",
     "text": [
      "longyearbyen - nearest hotel: The Vault\n"
     ]
    },
    {
     "name": "stderr",
     "output_type": "stream",
     "text": [
      "c:\\Users\\cschuttler\\AppData\\Local\\anaconda3\\lib\\site-packages\\urllib3\\connectionpool.py:1056: InsecureRequestWarning: Unverified HTTPS request is being made to host 'api.geoapify.com'. Adding certificate verification is strongly advised. See: https://urllib3.readthedocs.io/en/1.26.x/advanced-usage.html#ssl-warnings\n",
      "  warnings.warn(\n"
     ]
    },
    {
     "name": "stdout",
     "output_type": "stream",
     "text": [
      "uturoa - nearest hotel: Hawaiki Nui hotel\n"
     ]
    },
    {
     "name": "stderr",
     "output_type": "stream",
     "text": [
      "c:\\Users\\cschuttler\\AppData\\Local\\anaconda3\\lib\\site-packages\\urllib3\\connectionpool.py:1056: InsecureRequestWarning: Unverified HTTPS request is being made to host 'api.geoapify.com'. Adding certificate verification is strongly advised. See: https://urllib3.readthedocs.io/en/1.26.x/advanced-usage.html#ssl-warnings\n",
      "  warnings.warn(\n"
     ]
    },
    {
     "name": "stdout",
     "output_type": "stream",
     "text": [
      "dunedin - nearest hotel: Scenic Hotel Dunedin City\n"
     ]
    },
    {
     "name": "stderr",
     "output_type": "stream",
     "text": [
      "c:\\Users\\cschuttler\\AppData\\Local\\anaconda3\\lib\\site-packages\\urllib3\\connectionpool.py:1056: InsecureRequestWarning: Unverified HTTPS request is being made to host 'api.geoapify.com'. Adding certificate verification is strongly advised. See: https://urllib3.readthedocs.io/en/1.26.x/advanced-usage.html#ssl-warnings\n",
      "  warnings.warn(\n"
     ]
    },
    {
     "name": "stdout",
     "output_type": "stream",
     "text": [
      "ilulissat - nearest hotel: Best Western Plus Hotel Ilulissat\n"
     ]
    },
    {
     "name": "stderr",
     "output_type": "stream",
     "text": [
      "c:\\Users\\cschuttler\\AppData\\Local\\anaconda3\\lib\\site-packages\\urllib3\\connectionpool.py:1056: InsecureRequestWarning: Unverified HTTPS request is being made to host 'api.geoapify.com'. Adding certificate verification is strongly advised. See: https://urllib3.readthedocs.io/en/1.26.x/advanced-usage.html#ssl-warnings\n",
      "  warnings.warn(\n"
     ]
    },
    {
     "name": "stdout",
     "output_type": "stream",
     "text": [
      "colonia - nearest hotel: Wasserturm Hotel Cologne\n"
     ]
    },
    {
     "name": "stderr",
     "output_type": "stream",
     "text": [
      "c:\\Users\\cschuttler\\AppData\\Local\\anaconda3\\lib\\site-packages\\urllib3\\connectionpool.py:1056: InsecureRequestWarning: Unverified HTTPS request is being made to host 'api.geoapify.com'. Adding certificate verification is strongly advised. See: https://urllib3.readthedocs.io/en/1.26.x/advanced-usage.html#ssl-warnings\n",
      "  warnings.warn(\n"
     ]
    },
    {
     "name": "stdout",
     "output_type": "stream",
     "text": [
      "narasannapeta - nearest hotel: No hotel found\n"
     ]
    },
    {
     "name": "stderr",
     "output_type": "stream",
     "text": [
      "c:\\Users\\cschuttler\\AppData\\Local\\anaconda3\\lib\\site-packages\\urllib3\\connectionpool.py:1056: InsecureRequestWarning: Unverified HTTPS request is being made to host 'api.geoapify.com'. Adding certificate verification is strongly advised. See: https://urllib3.readthedocs.io/en/1.26.x/advanced-usage.html#ssl-warnings\n",
      "  warnings.warn(\n"
     ]
    },
    {
     "name": "stdout",
     "output_type": "stream",
     "text": [
      "hermanus - nearest hotel: Aloe guest house\n"
     ]
    },
    {
     "name": "stderr",
     "output_type": "stream",
     "text": [
      "c:\\Users\\cschuttler\\AppData\\Local\\anaconda3\\lib\\site-packages\\urllib3\\connectionpool.py:1056: InsecureRequestWarning: Unverified HTTPS request is being made to host 'api.geoapify.com'. Adding certificate verification is strongly advised. See: https://urllib3.readthedocs.io/en/1.26.x/advanced-usage.html#ssl-warnings\n",
      "  warnings.warn(\n"
     ]
    },
    {
     "name": "stdout",
     "output_type": "stream",
     "text": [
      "tongeren - nearest hotel: Boutique Hotel Caelus VII\n"
     ]
    },
    {
     "name": "stderr",
     "output_type": "stream",
     "text": [
      "c:\\Users\\cschuttler\\AppData\\Local\\anaconda3\\lib\\site-packages\\urllib3\\connectionpool.py:1056: InsecureRequestWarning: Unverified HTTPS request is being made to host 'api.geoapify.com'. Adding certificate verification is strongly advised. See: https://urllib3.readthedocs.io/en/1.26.x/advanced-usage.html#ssl-warnings\n",
      "  warnings.warn(\n"
     ]
    },
    {
     "name": "stdout",
     "output_type": "stream",
     "text": [
      "nabire - nearest hotel: Hotel Anggrek\n"
     ]
    },
    {
     "name": "stderr",
     "output_type": "stream",
     "text": [
      "c:\\Users\\cschuttler\\AppData\\Local\\anaconda3\\lib\\site-packages\\urllib3\\connectionpool.py:1056: InsecureRequestWarning: Unverified HTTPS request is being made to host 'api.geoapify.com'. Adding certificate verification is strongly advised. See: https://urllib3.readthedocs.io/en/1.26.x/advanced-usage.html#ssl-warnings\n",
      "  warnings.warn(\n"
     ]
    },
    {
     "name": "stdout",
     "output_type": "stream",
     "text": [
      "yellowknife - nearest hotel: No hotel found\n"
     ]
    },
    {
     "name": "stderr",
     "output_type": "stream",
     "text": [
      "c:\\Users\\cschuttler\\AppData\\Local\\anaconda3\\lib\\site-packages\\urllib3\\connectionpool.py:1056: InsecureRequestWarning: Unverified HTTPS request is being made to host 'api.geoapify.com'. Adding certificate verification is strongly advised. See: https://urllib3.readthedocs.io/en/1.26.x/advanced-usage.html#ssl-warnings\n",
      "  warnings.warn(\n"
     ]
    },
    {
     "name": "stdout",
     "output_type": "stream",
     "text": [
      "nadi - nearest hotel: President Hotel\n"
     ]
    },
    {
     "name": "stderr",
     "output_type": "stream",
     "text": [
      "c:\\Users\\cschuttler\\AppData\\Local\\anaconda3\\lib\\site-packages\\urllib3\\connectionpool.py:1056: InsecureRequestWarning: Unverified HTTPS request is being made to host 'api.geoapify.com'. Adding certificate verification is strongly advised. See: https://urllib3.readthedocs.io/en/1.26.x/advanced-usage.html#ssl-warnings\n",
      "  warnings.warn(\n"
     ]
    },
    {
     "name": "stdout",
     "output_type": "stream",
     "text": [
      "fort bragg - nearest hotel: Airborne Inn Lodging\n"
     ]
    },
    {
     "name": "stderr",
     "output_type": "stream",
     "text": [
      "c:\\Users\\cschuttler\\AppData\\Local\\anaconda3\\lib\\site-packages\\urllib3\\connectionpool.py:1056: InsecureRequestWarning: Unverified HTTPS request is being made to host 'api.geoapify.com'. Adding certificate verification is strongly advised. See: https://urllib3.readthedocs.io/en/1.26.x/advanced-usage.html#ssl-warnings\n",
      "  warnings.warn(\n"
     ]
    },
    {
     "name": "stdout",
     "output_type": "stream",
     "text": [
      "wailua homesteads - nearest hotel: Hilton Garden Inn Kauai Wailua Bay\n"
     ]
    },
    {
     "name": "stderr",
     "output_type": "stream",
     "text": [
      "c:\\Users\\cschuttler\\AppData\\Local\\anaconda3\\lib\\site-packages\\urllib3\\connectionpool.py:1056: InsecureRequestWarning: Unverified HTTPS request is being made to host 'api.geoapify.com'. Adding certificate verification is strongly advised. See: https://urllib3.readthedocs.io/en/1.26.x/advanced-usage.html#ssl-warnings\n",
      "  warnings.warn(\n"
     ]
    },
    {
     "name": "stdout",
     "output_type": "stream",
     "text": [
      "buala - nearest hotel: No hotel found\n"
     ]
    },
    {
     "name": "stderr",
     "output_type": "stream",
     "text": [
      "c:\\Users\\cschuttler\\AppData\\Local\\anaconda3\\lib\\site-packages\\urllib3\\connectionpool.py:1056: InsecureRequestWarning: Unverified HTTPS request is being made to host 'api.geoapify.com'. Adding certificate verification is strongly advised. See: https://urllib3.readthedocs.io/en/1.26.x/advanced-usage.html#ssl-warnings\n",
      "  warnings.warn(\n"
     ]
    },
    {
     "name": "stdout",
     "output_type": "stream",
     "text": [
      "gwanda - nearest hotel: No hotel found\n"
     ]
    },
    {
     "name": "stderr",
     "output_type": "stream",
     "text": [
      "c:\\Users\\cschuttler\\AppData\\Local\\anaconda3\\lib\\site-packages\\urllib3\\connectionpool.py:1056: InsecureRequestWarning: Unverified HTTPS request is being made to host 'api.geoapify.com'. Adding certificate verification is strongly advised. See: https://urllib3.readthedocs.io/en/1.26.x/advanced-usage.html#ssl-warnings\n",
      "  warnings.warn(\n"
     ]
    },
    {
     "name": "stdout",
     "output_type": "stream",
     "text": [
      "bougouni - nearest hotel: Hotel Piemont\n"
     ]
    },
    {
     "name": "stderr",
     "output_type": "stream",
     "text": [
      "c:\\Users\\cschuttler\\AppData\\Local\\anaconda3\\lib\\site-packages\\urllib3\\connectionpool.py:1056: InsecureRequestWarning: Unverified HTTPS request is being made to host 'api.geoapify.com'. Adding certificate verification is strongly advised. See: https://urllib3.readthedocs.io/en/1.26.x/advanced-usage.html#ssl-warnings\n",
      "  warnings.warn(\n"
     ]
    },
    {
     "name": "stdout",
     "output_type": "stream",
     "text": [
      "vorkuta - nearest hotel: \"Мегаполис\"\n"
     ]
    },
    {
     "name": "stderr",
     "output_type": "stream",
     "text": [
      "c:\\Users\\cschuttler\\AppData\\Local\\anaconda3\\lib\\site-packages\\urllib3\\connectionpool.py:1056: InsecureRequestWarning: Unverified HTTPS request is being made to host 'api.geoapify.com'. Adding certificate verification is strongly advised. See: https://urllib3.readthedocs.io/en/1.26.x/advanced-usage.html#ssl-warnings\n",
      "  warnings.warn(\n"
     ]
    },
    {
     "name": "stdout",
     "output_type": "stream",
     "text": [
      "dampit - nearest hotel: No hotel found\n"
     ]
    },
    {
     "name": "stderr",
     "output_type": "stream",
     "text": [
      "c:\\Users\\cschuttler\\AppData\\Local\\anaconda3\\lib\\site-packages\\urllib3\\connectionpool.py:1056: InsecureRequestWarning: Unverified HTTPS request is being made to host 'api.geoapify.com'. Adding certificate verification is strongly advised. See: https://urllib3.readthedocs.io/en/1.26.x/advanced-usage.html#ssl-warnings\n",
      "  warnings.warn(\n"
     ]
    },
    {
     "name": "stdout",
     "output_type": "stream",
     "text": [
      "kerikeri - nearest hotel: Avalon Resort\n"
     ]
    },
    {
     "name": "stderr",
     "output_type": "stream",
     "text": [
      "c:\\Users\\cschuttler\\AppData\\Local\\anaconda3\\lib\\site-packages\\urllib3\\connectionpool.py:1056: InsecureRequestWarning: Unverified HTTPS request is being made to host 'api.geoapify.com'. Adding certificate verification is strongly advised. See: https://urllib3.readthedocs.io/en/1.26.x/advanced-usage.html#ssl-warnings\n",
      "  warnings.warn(\n"
     ]
    },
    {
     "name": "stdout",
     "output_type": "stream",
     "text": [
      "kavaratti - nearest hotel: No hotel found\n"
     ]
    },
    {
     "name": "stderr",
     "output_type": "stream",
     "text": [
      "c:\\Users\\cschuttler\\AppData\\Local\\anaconda3\\lib\\site-packages\\urllib3\\connectionpool.py:1056: InsecureRequestWarning: Unverified HTTPS request is being made to host 'api.geoapify.com'. Adding certificate verification is strongly advised. See: https://urllib3.readthedocs.io/en/1.26.x/advanced-usage.html#ssl-warnings\n",
      "  warnings.warn(\n"
     ]
    },
    {
     "name": "stdout",
     "output_type": "stream",
     "text": [
      "kununurra - nearest hotel: Kununurra Country Club Resort\n"
     ]
    },
    {
     "name": "stderr",
     "output_type": "stream",
     "text": [
      "c:\\Users\\cschuttler\\AppData\\Local\\anaconda3\\lib\\site-packages\\urllib3\\connectionpool.py:1056: InsecureRequestWarning: Unverified HTTPS request is being made to host 'api.geoapify.com'. Adding certificate verification is strongly advised. See: https://urllib3.readthedocs.io/en/1.26.x/advanced-usage.html#ssl-warnings\n",
      "  warnings.warn(\n"
     ]
    },
    {
     "name": "stdout",
     "output_type": "stream",
     "text": [
      "iskateley - nearest hotel: Авантаж\n"
     ]
    },
    {
     "name": "stderr",
     "output_type": "stream",
     "text": [
      "c:\\Users\\cschuttler\\AppData\\Local\\anaconda3\\lib\\site-packages\\urllib3\\connectionpool.py:1056: InsecureRequestWarning: Unverified HTTPS request is being made to host 'api.geoapify.com'. Adding certificate verification is strongly advised. See: https://urllib3.readthedocs.io/en/1.26.x/advanced-usage.html#ssl-warnings\n",
      "  warnings.warn(\n"
     ]
    },
    {
     "name": "stdout",
     "output_type": "stream",
     "text": [
      "dhidhdhoo - nearest hotel: Cinnamon Island\n"
     ]
    },
    {
     "name": "stderr",
     "output_type": "stream",
     "text": [
      "c:\\Users\\cschuttler\\AppData\\Local\\anaconda3\\lib\\site-packages\\urllib3\\connectionpool.py:1056: InsecureRequestWarning: Unverified HTTPS request is being made to host 'api.geoapify.com'. Adding certificate verification is strongly advised. See: https://urllib3.readthedocs.io/en/1.26.x/advanced-usage.html#ssl-warnings\n",
      "  warnings.warn(\n"
     ]
    },
    {
     "name": "stdout",
     "output_type": "stream",
     "text": [
      "isafjordur - nearest hotel: Hótel Horn\n"
     ]
    },
    {
     "name": "stderr",
     "output_type": "stream",
     "text": [
      "c:\\Users\\cschuttler\\AppData\\Local\\anaconda3\\lib\\site-packages\\urllib3\\connectionpool.py:1056: InsecureRequestWarning: Unverified HTTPS request is being made to host 'api.geoapify.com'. Adding certificate verification is strongly advised. See: https://urllib3.readthedocs.io/en/1.26.x/advanced-usage.html#ssl-warnings\n",
      "  warnings.warn(\n"
     ]
    },
    {
     "name": "stdout",
     "output_type": "stream",
     "text": [
      "talnakh - nearest hotel: Талнах\n"
     ]
    },
    {
     "name": "stderr",
     "output_type": "stream",
     "text": [
      "c:\\Users\\cschuttler\\AppData\\Local\\anaconda3\\lib\\site-packages\\urllib3\\connectionpool.py:1056: InsecureRequestWarning: Unverified HTTPS request is being made to host 'api.geoapify.com'. Adding certificate verification is strongly advised. See: https://urllib3.readthedocs.io/en/1.26.x/advanced-usage.html#ssl-warnings\n",
      "  warnings.warn(\n"
     ]
    },
    {
     "name": "stdout",
     "output_type": "stream",
     "text": [
      "kourou - nearest hotel: SCI Horizon\n"
     ]
    },
    {
     "name": "stderr",
     "output_type": "stream",
     "text": [
      "c:\\Users\\cschuttler\\AppData\\Local\\anaconda3\\lib\\site-packages\\urllib3\\connectionpool.py:1056: InsecureRequestWarning: Unverified HTTPS request is being made to host 'api.geoapify.com'. Adding certificate verification is strongly advised. See: https://urllib3.readthedocs.io/en/1.26.x/advanced-usage.html#ssl-warnings\n",
      "  warnings.warn(\n"
     ]
    },
    {
     "name": "stdout",
     "output_type": "stream",
     "text": [
      "kayenta - nearest hotel: Wetherill Inn\n"
     ]
    },
    {
     "name": "stderr",
     "output_type": "stream",
     "text": [
      "c:\\Users\\cschuttler\\AppData\\Local\\anaconda3\\lib\\site-packages\\urllib3\\connectionpool.py:1056: InsecureRequestWarning: Unverified HTTPS request is being made to host 'api.geoapify.com'. Adding certificate verification is strongly advised. See: https://urllib3.readthedocs.io/en/1.26.x/advanced-usage.html#ssl-warnings\n",
      "  warnings.warn(\n"
     ]
    },
    {
     "name": "stdout",
     "output_type": "stream",
     "text": [
      "bel ombre - nearest hotel: Villa La Cachette\n"
     ]
    },
    {
     "name": "stderr",
     "output_type": "stream",
     "text": [
      "c:\\Users\\cschuttler\\AppData\\Local\\anaconda3\\lib\\site-packages\\urllib3\\connectionpool.py:1056: InsecureRequestWarning: Unverified HTTPS request is being made to host 'api.geoapify.com'. Adding certificate verification is strongly advised. See: https://urllib3.readthedocs.io/en/1.26.x/advanced-usage.html#ssl-warnings\n",
      "  warnings.warn(\n"
     ]
    },
    {
     "name": "stdout",
     "output_type": "stream",
     "text": [
      "kavieng - nearest hotel: Kavieng Hotel\n"
     ]
    },
    {
     "name": "stderr",
     "output_type": "stream",
     "text": [
      "c:\\Users\\cschuttler\\AppData\\Local\\anaconda3\\lib\\site-packages\\urllib3\\connectionpool.py:1056: InsecureRequestWarning: Unverified HTTPS request is being made to host 'api.geoapify.com'. Adding certificate verification is strongly advised. See: https://urllib3.readthedocs.io/en/1.26.x/advanced-usage.html#ssl-warnings\n",
      "  warnings.warn(\n"
     ]
    },
    {
     "name": "stdout",
     "output_type": "stream",
     "text": [
      "nalut - nearest hotel: No hotel found\n"
     ]
    },
    {
     "name": "stderr",
     "output_type": "stream",
     "text": [
      "c:\\Users\\cschuttler\\AppData\\Local\\anaconda3\\lib\\site-packages\\urllib3\\connectionpool.py:1056: InsecureRequestWarning: Unverified HTTPS request is being made to host 'api.geoapify.com'. Adding certificate verification is strongly advised. See: https://urllib3.readthedocs.io/en/1.26.x/advanced-usage.html#ssl-warnings\n",
      "  warnings.warn(\n"
     ]
    },
    {
     "name": "stdout",
     "output_type": "stream",
     "text": [
      "sigli - nearest hotel: No hotel found\n"
     ]
    },
    {
     "name": "stderr",
     "output_type": "stream",
     "text": [
      "c:\\Users\\cschuttler\\AppData\\Local\\anaconda3\\lib\\site-packages\\urllib3\\connectionpool.py:1056: InsecureRequestWarning: Unverified HTTPS request is being made to host 'api.geoapify.com'. Adding certificate verification is strongly advised. See: https://urllib3.readthedocs.io/en/1.26.x/advanced-usage.html#ssl-warnings\n",
      "  warnings.warn(\n"
     ]
    },
    {
     "name": "stdout",
     "output_type": "stream",
     "text": [
      "menongue - nearest hotel: No hotel found\n"
     ]
    },
    {
     "name": "stderr",
     "output_type": "stream",
     "text": [
      "c:\\Users\\cschuttler\\AppData\\Local\\anaconda3\\lib\\site-packages\\urllib3\\connectionpool.py:1056: InsecureRequestWarning: Unverified HTTPS request is being made to host 'api.geoapify.com'. Adding certificate verification is strongly advised. See: https://urllib3.readthedocs.io/en/1.26.x/advanced-usage.html#ssl-warnings\n",
      "  warnings.warn(\n"
     ]
    },
    {
     "name": "stdout",
     "output_type": "stream",
     "text": [
      "nemuro - nearest hotel: イーストハーバーホテル\n"
     ]
    },
    {
     "name": "stderr",
     "output_type": "stream",
     "text": [
      "c:\\Users\\cschuttler\\AppData\\Local\\anaconda3\\lib\\site-packages\\urllib3\\connectionpool.py:1056: InsecureRequestWarning: Unverified HTTPS request is being made to host 'api.geoapify.com'. Adding certificate verification is strongly advised. See: https://urllib3.readthedocs.io/en/1.26.x/advanced-usage.html#ssl-warnings\n",
      "  warnings.warn(\n"
     ]
    },
    {
     "name": "stdout",
     "output_type": "stream",
     "text": [
      "severo-yeniseyskiy - nearest hotel: Актолик\n"
     ]
    },
    {
     "name": "stderr",
     "output_type": "stream",
     "text": [
      "c:\\Users\\cschuttler\\AppData\\Local\\anaconda3\\lib\\site-packages\\urllib3\\connectionpool.py:1056: InsecureRequestWarning: Unverified HTTPS request is being made to host 'api.geoapify.com'. Adding certificate verification is strongly advised. See: https://urllib3.readthedocs.io/en/1.26.x/advanced-usage.html#ssl-warnings\n",
      "  warnings.warn(\n"
     ]
    },
    {
     "name": "stdout",
     "output_type": "stream",
     "text": [
      "polyarnyy - nearest hotel: No hotel found\n"
     ]
    },
    {
     "name": "stderr",
     "output_type": "stream",
     "text": [
      "c:\\Users\\cschuttler\\AppData\\Local\\anaconda3\\lib\\site-packages\\urllib3\\connectionpool.py:1056: InsecureRequestWarning: Unverified HTTPS request is being made to host 'api.geoapify.com'. Adding certificate verification is strongly advised. See: https://urllib3.readthedocs.io/en/1.26.x/advanced-usage.html#ssl-warnings\n",
      "  warnings.warn(\n"
     ]
    },
    {
     "name": "stdout",
     "output_type": "stream",
     "text": [
      "anchorage - nearest hotel: Hotel Captain Cook\n"
     ]
    },
    {
     "name": "stderr",
     "output_type": "stream",
     "text": [
      "c:\\Users\\cschuttler\\AppData\\Local\\anaconda3\\lib\\site-packages\\urllib3\\connectionpool.py:1056: InsecureRequestWarning: Unverified HTTPS request is being made to host 'api.geoapify.com'. Adding certificate verification is strongly advised. See: https://urllib3.readthedocs.io/en/1.26.x/advanced-usage.html#ssl-warnings\n",
      "  warnings.warn(\n"
     ]
    },
    {
     "name": "stdout",
     "output_type": "stream",
     "text": [
      "yung shue wan - nearest hotel: 浪濤軒酒店 Concerto Inn\n"
     ]
    },
    {
     "name": "stderr",
     "output_type": "stream",
     "text": [
      "c:\\Users\\cschuttler\\AppData\\Local\\anaconda3\\lib\\site-packages\\urllib3\\connectionpool.py:1056: InsecureRequestWarning: Unverified HTTPS request is being made to host 'api.geoapify.com'. Adding certificate verification is strongly advised. See: https://urllib3.readthedocs.io/en/1.26.x/advanced-usage.html#ssl-warnings\n",
      "  warnings.warn(\n"
     ]
    },
    {
     "name": "stdout",
     "output_type": "stream",
     "text": [
      "nago - nearest hotel: グリーンリッチホテル\n"
     ]
    },
    {
     "name": "stderr",
     "output_type": "stream",
     "text": [
      "c:\\Users\\cschuttler\\AppData\\Local\\anaconda3\\lib\\site-packages\\urllib3\\connectionpool.py:1056: InsecureRequestWarning: Unverified HTTPS request is being made to host 'api.geoapify.com'. Adding certificate verification is strongly advised. See: https://urllib3.readthedocs.io/en/1.26.x/advanced-usage.html#ssl-warnings\n",
      "  warnings.warn(\n"
     ]
    },
    {
     "name": "stdout",
     "output_type": "stream",
     "text": [
      "cururupu - nearest hotel: No hotel found\n"
     ]
    },
    {
     "name": "stderr",
     "output_type": "stream",
     "text": [
      "c:\\Users\\cschuttler\\AppData\\Local\\anaconda3\\lib\\site-packages\\urllib3\\connectionpool.py:1056: InsecureRequestWarning: Unverified HTTPS request is being made to host 'api.geoapify.com'. Adding certificate verification is strongly advised. See: https://urllib3.readthedocs.io/en/1.26.x/advanced-usage.html#ssl-warnings\n",
      "  warnings.warn(\n"
     ]
    },
    {
     "name": "stdout",
     "output_type": "stream",
     "text": [
      "ushuaia - nearest hotel: Apart Hotel Aires del Beagle\n"
     ]
    },
    {
     "name": "stderr",
     "output_type": "stream",
     "text": [
      "c:\\Users\\cschuttler\\AppData\\Local\\anaconda3\\lib\\site-packages\\urllib3\\connectionpool.py:1056: InsecureRequestWarning: Unverified HTTPS request is being made to host 'api.geoapify.com'. Adding certificate verification is strongly advised. See: https://urllib3.readthedocs.io/en/1.26.x/advanced-usage.html#ssl-warnings\n",
      "  warnings.warn(\n"
     ]
    },
    {
     "name": "stdout",
     "output_type": "stream",
     "text": [
      "tonghae - nearest hotel: 뉴동해관광호텔\n"
     ]
    },
    {
     "name": "stderr",
     "output_type": "stream",
     "text": [
      "c:\\Users\\cschuttler\\AppData\\Local\\anaconda3\\lib\\site-packages\\urllib3\\connectionpool.py:1056: InsecureRequestWarning: Unverified HTTPS request is being made to host 'api.geoapify.com'. Adding certificate verification is strongly advised. See: https://urllib3.readthedocs.io/en/1.26.x/advanced-usage.html#ssl-warnings\n",
      "  warnings.warn(\n"
     ]
    },
    {
     "name": "stdout",
     "output_type": "stream",
     "text": [
      "okha - nearest hotel: Сфера\n"
     ]
    },
    {
     "name": "stderr",
     "output_type": "stream",
     "text": [
      "c:\\Users\\cschuttler\\AppData\\Local\\anaconda3\\lib\\site-packages\\urllib3\\connectionpool.py:1056: InsecureRequestWarning: Unverified HTTPS request is being made to host 'api.geoapify.com'. Adding certificate verification is strongly advised. See: https://urllib3.readthedocs.io/en/1.26.x/advanced-usage.html#ssl-warnings\n",
      "  warnings.warn(\n"
     ]
    },
    {
     "name": "stdout",
     "output_type": "stream",
     "text": [
      "kamaishi - nearest hotel: 釜石ベイシティホテル\n"
     ]
    },
    {
     "name": "stderr",
     "output_type": "stream",
     "text": [
      "c:\\Users\\cschuttler\\AppData\\Local\\anaconda3\\lib\\site-packages\\urllib3\\connectionpool.py:1056: InsecureRequestWarning: Unverified HTTPS request is being made to host 'api.geoapify.com'. Adding certificate verification is strongly advised. See: https://urllib3.readthedocs.io/en/1.26.x/advanced-usage.html#ssl-warnings\n",
      "  warnings.warn(\n"
     ]
    },
    {
     "name": "stdout",
     "output_type": "stream",
     "text": [
      "boende - nearest hotel: Hotel Reference\n"
     ]
    },
    {
     "name": "stderr",
     "output_type": "stream",
     "text": [
      "c:\\Users\\cschuttler\\AppData\\Local\\anaconda3\\lib\\site-packages\\urllib3\\connectionpool.py:1056: InsecureRequestWarning: Unverified HTTPS request is being made to host 'api.geoapify.com'. Adding certificate verification is strongly advised. See: https://urllib3.readthedocs.io/en/1.26.x/advanced-usage.html#ssl-warnings\n",
      "  warnings.warn(\n"
     ]
    },
    {
     "name": "stdout",
     "output_type": "stream",
     "text": [
      "enewetak - nearest hotel: No hotel found\n"
     ]
    },
    {
     "name": "stderr",
     "output_type": "stream",
     "text": [
      "c:\\Users\\cschuttler\\AppData\\Local\\anaconda3\\lib\\site-packages\\urllib3\\connectionpool.py:1056: InsecureRequestWarning: Unverified HTTPS request is being made to host 'api.geoapify.com'. Adding certificate verification is strongly advised. See: https://urllib3.readthedocs.io/en/1.26.x/advanced-usage.html#ssl-warnings\n",
      "  warnings.warn(\n"
     ]
    },
    {
     "name": "stdout",
     "output_type": "stream",
     "text": [
      "bojnurd - nearest hotel: مرکز آموزشی رفاهی فرهنگیان بجنورد\n"
     ]
    },
    {
     "name": "stderr",
     "output_type": "stream",
     "text": [
      "c:\\Users\\cschuttler\\AppData\\Local\\anaconda3\\lib\\site-packages\\urllib3\\connectionpool.py:1056: InsecureRequestWarning: Unverified HTTPS request is being made to host 'api.geoapify.com'. Adding certificate verification is strongly advised. See: https://urllib3.readthedocs.io/en/1.26.x/advanced-usage.html#ssl-warnings\n",
      "  warnings.warn(\n"
     ]
    },
    {
     "name": "stdout",
     "output_type": "stream",
     "text": [
      "santa ana de yacuma - nearest hotel: No hotel found\n"
     ]
    },
    {
     "name": "stderr",
     "output_type": "stream",
     "text": [
      "c:\\Users\\cschuttler\\AppData\\Local\\anaconda3\\lib\\site-packages\\urllib3\\connectionpool.py:1056: InsecureRequestWarning: Unverified HTTPS request is being made to host 'api.geoapify.com'. Adding certificate verification is strongly advised. See: https://urllib3.readthedocs.io/en/1.26.x/advanced-usage.html#ssl-warnings\n",
      "  warnings.warn(\n"
     ]
    },
    {
     "name": "stdout",
     "output_type": "stream",
     "text": [
      "tazovsky - nearest hotel: Тазовчанка\n"
     ]
    },
    {
     "name": "stderr",
     "output_type": "stream",
     "text": [
      "c:\\Users\\cschuttler\\AppData\\Local\\anaconda3\\lib\\site-packages\\urllib3\\connectionpool.py:1056: InsecureRequestWarning: Unverified HTTPS request is being made to host 'api.geoapify.com'. Adding certificate verification is strongly advised. See: https://urllib3.readthedocs.io/en/1.26.x/advanced-usage.html#ssl-warnings\n",
      "  warnings.warn(\n"
     ]
    },
    {
     "name": "stdout",
     "output_type": "stream",
     "text": [
      "ola - nearest hotel: No hotel found\n"
     ]
    },
    {
     "name": "stderr",
     "output_type": "stream",
     "text": [
      "c:\\Users\\cschuttler\\AppData\\Local\\anaconda3\\lib\\site-packages\\urllib3\\connectionpool.py:1056: InsecureRequestWarning: Unverified HTTPS request is being made to host 'api.geoapify.com'. Adding certificate verification is strongly advised. See: https://urllib3.readthedocs.io/en/1.26.x/advanced-usage.html#ssl-warnings\n",
      "  warnings.warn(\n"
     ]
    },
    {
     "name": "stdout",
     "output_type": "stream",
     "text": [
      "marka - nearest hotel: Salsabiil Hotel\n"
     ]
    },
    {
     "name": "stderr",
     "output_type": "stream",
     "text": [
      "c:\\Users\\cschuttler\\AppData\\Local\\anaconda3\\lib\\site-packages\\urllib3\\connectionpool.py:1056: InsecureRequestWarning: Unverified HTTPS request is being made to host 'api.geoapify.com'. Adding certificate verification is strongly advised. See: https://urllib3.readthedocs.io/en/1.26.x/advanced-usage.html#ssl-warnings\n",
      "  warnings.warn(\n"
     ]
    },
    {
     "name": "stdout",
     "output_type": "stream",
     "text": [
      "qarayeri - nearest hotel: No hotel found\n"
     ]
    },
    {
     "name": "stderr",
     "output_type": "stream",
     "text": [
      "c:\\Users\\cschuttler\\AppData\\Local\\anaconda3\\lib\\site-packages\\urllib3\\connectionpool.py:1056: InsecureRequestWarning: Unverified HTTPS request is being made to host 'api.geoapify.com'. Adding certificate verification is strongly advised. See: https://urllib3.readthedocs.io/en/1.26.x/advanced-usage.html#ssl-warnings\n",
      "  warnings.warn(\n"
     ]
    },
    {
     "name": "stdout",
     "output_type": "stream",
     "text": [
      "toliara - nearest hotel: Ambary\n"
     ]
    },
    {
     "name": "stderr",
     "output_type": "stream",
     "text": [
      "c:\\Users\\cschuttler\\AppData\\Local\\anaconda3\\lib\\site-packages\\urllib3\\connectionpool.py:1056: InsecureRequestWarning: Unverified HTTPS request is being made to host 'api.geoapify.com'. Adding certificate verification is strongly advised. See: https://urllib3.readthedocs.io/en/1.26.x/advanced-usage.html#ssl-warnings\n",
      "  warnings.warn(\n"
     ]
    },
    {
     "name": "stdout",
     "output_type": "stream",
     "text": [
      "malaya vishera - nearest hotel: No hotel found\n"
     ]
    },
    {
     "name": "stderr",
     "output_type": "stream",
     "text": [
      "c:\\Users\\cschuttler\\AppData\\Local\\anaconda3\\lib\\site-packages\\urllib3\\connectionpool.py:1056: InsecureRequestWarning: Unverified HTTPS request is being made to host 'api.geoapify.com'. Adding certificate verification is strongly advised. See: https://urllib3.readthedocs.io/en/1.26.x/advanced-usage.html#ssl-warnings\n",
      "  warnings.warn(\n"
     ]
    },
    {
     "name": "stdout",
     "output_type": "stream",
     "text": [
      "sovetskaya gavan' - nearest hotel: Гостинный Двор\n"
     ]
    },
    {
     "name": "stderr",
     "output_type": "stream",
     "text": [
      "c:\\Users\\cschuttler\\AppData\\Local\\anaconda3\\lib\\site-packages\\urllib3\\connectionpool.py:1056: InsecureRequestWarning: Unverified HTTPS request is being made to host 'api.geoapify.com'. Adding certificate verification is strongly advised. See: https://urllib3.readthedocs.io/en/1.26.x/advanced-usage.html#ssl-warnings\n",
      "  warnings.warn(\n"
     ]
    },
    {
     "name": "stdout",
     "output_type": "stream",
     "text": [
      "petropavlovsk-kamchatsky - nearest hotel: ООО Постоялый двор\n"
     ]
    },
    {
     "name": "stderr",
     "output_type": "stream",
     "text": [
      "c:\\Users\\cschuttler\\AppData\\Local\\anaconda3\\lib\\site-packages\\urllib3\\connectionpool.py:1056: InsecureRequestWarning: Unverified HTTPS request is being made to host 'api.geoapify.com'. Adding certificate verification is strongly advised. See: https://urllib3.readthedocs.io/en/1.26.x/advanced-usage.html#ssl-warnings\n",
      "  warnings.warn(\n"
     ]
    },
    {
     "name": "stdout",
     "output_type": "stream",
     "text": [
      "chinhoyi - nearest hotel: No hotel found\n"
     ]
    },
    {
     "name": "stderr",
     "output_type": "stream",
     "text": [
      "c:\\Users\\cschuttler\\AppData\\Local\\anaconda3\\lib\\site-packages\\urllib3\\connectionpool.py:1056: InsecureRequestWarning: Unverified HTTPS request is being made to host 'api.geoapify.com'. Adding certificate verification is strongly advised. See: https://urllib3.readthedocs.io/en/1.26.x/advanced-usage.html#ssl-warnings\n",
      "  warnings.warn(\n"
     ]
    },
    {
     "name": "stdout",
     "output_type": "stream",
     "text": [
      "sao desiderio - nearest hotel: No hotel found\n"
     ]
    },
    {
     "name": "stderr",
     "output_type": "stream",
     "text": [
      "c:\\Users\\cschuttler\\AppData\\Local\\anaconda3\\lib\\site-packages\\urllib3\\connectionpool.py:1056: InsecureRequestWarning: Unverified HTTPS request is being made to host 'api.geoapify.com'. Adding certificate verification is strongly advised. See: https://urllib3.readthedocs.io/en/1.26.x/advanced-usage.html#ssl-warnings\n",
      "  warnings.warn(\n"
     ]
    },
    {
     "name": "stdout",
     "output_type": "stream",
     "text": [
      "sandnessjoen - nearest hotel: Scandic Syv Søstre\n"
     ]
    },
    {
     "name": "stderr",
     "output_type": "stream",
     "text": [
      "c:\\Users\\cschuttler\\AppData\\Local\\anaconda3\\lib\\site-packages\\urllib3\\connectionpool.py:1056: InsecureRequestWarning: Unverified HTTPS request is being made to host 'api.geoapify.com'. Adding certificate verification is strongly advised. See: https://urllib3.readthedocs.io/en/1.26.x/advanced-usage.html#ssl-warnings\n",
      "  warnings.warn(\n"
     ]
    },
    {
     "name": "stdout",
     "output_type": "stream",
     "text": [
      "la ronge - nearest hotel: La Ronge Hotel and Suites\n"
     ]
    },
    {
     "name": "stderr",
     "output_type": "stream",
     "text": [
      "c:\\Users\\cschuttler\\AppData\\Local\\anaconda3\\lib\\site-packages\\urllib3\\connectionpool.py:1056: InsecureRequestWarning: Unverified HTTPS request is being made to host 'api.geoapify.com'. Adding certificate verification is strongly advised. See: https://urllib3.readthedocs.io/en/1.26.x/advanced-usage.html#ssl-warnings\n",
      "  warnings.warn(\n"
     ]
    },
    {
     "name": "stdout",
     "output_type": "stream",
     "text": [
      "chapayevsk - nearest hotel: Русь\n"
     ]
    },
    {
     "name": "stderr",
     "output_type": "stream",
     "text": [
      "c:\\Users\\cschuttler\\AppData\\Local\\anaconda3\\lib\\site-packages\\urllib3\\connectionpool.py:1056: InsecureRequestWarning: Unverified HTTPS request is being made to host 'api.geoapify.com'. Adding certificate verification is strongly advised. See: https://urllib3.readthedocs.io/en/1.26.x/advanced-usage.html#ssl-warnings\n",
      "  warnings.warn(\n"
     ]
    },
    {
     "name": "stdout",
     "output_type": "stream",
     "text": [
      "lompoc - nearest hotel: Embassy Suites by Hilton Lompoc Central Coast\n"
     ]
    },
    {
     "name": "stderr",
     "output_type": "stream",
     "text": [
      "c:\\Users\\cschuttler\\AppData\\Local\\anaconda3\\lib\\site-packages\\urllib3\\connectionpool.py:1056: InsecureRequestWarning: Unverified HTTPS request is being made to host 'api.geoapify.com'. Adding certificate verification is strongly advised. See: https://urllib3.readthedocs.io/en/1.26.x/advanced-usage.html#ssl-warnings\n",
      "  warnings.warn(\n"
     ]
    },
    {
     "name": "stdout",
     "output_type": "stream",
     "text": [
      "hawaiian paradise park - nearest hotel: No hotel found\n"
     ]
    },
    {
     "name": "stderr",
     "output_type": "stream",
     "text": [
      "c:\\Users\\cschuttler\\AppData\\Local\\anaconda3\\lib\\site-packages\\urllib3\\connectionpool.py:1056: InsecureRequestWarning: Unverified HTTPS request is being made to host 'api.geoapify.com'. Adding certificate verification is strongly advised. See: https://urllib3.readthedocs.io/en/1.26.x/advanced-usage.html#ssl-warnings\n",
      "  warnings.warn(\n"
     ]
    },
    {
     "name": "stdout",
     "output_type": "stream",
     "text": [
      "cold lake - nearest hotel: New Imperial Inn\n"
     ]
    },
    {
     "name": "stderr",
     "output_type": "stream",
     "text": [
      "c:\\Users\\cschuttler\\AppData\\Local\\anaconda3\\lib\\site-packages\\urllib3\\connectionpool.py:1056: InsecureRequestWarning: Unverified HTTPS request is being made to host 'api.geoapify.com'. Adding certificate verification is strongly advised. See: https://urllib3.readthedocs.io/en/1.26.x/advanced-usage.html#ssl-warnings\n",
      "  warnings.warn(\n"
     ]
    },
    {
     "name": "stdout",
     "output_type": "stream",
     "text": [
      "orange - nearest hotel: La Quinta Inn & Suites\n"
     ]
    },
    {
     "name": "stderr",
     "output_type": "stream",
     "text": [
      "c:\\Users\\cschuttler\\AppData\\Local\\anaconda3\\lib\\site-packages\\urllib3\\connectionpool.py:1056: InsecureRequestWarning: Unverified HTTPS request is being made to host 'api.geoapify.com'. Adding certificate verification is strongly advised. See: https://urllib3.readthedocs.io/en/1.26.x/advanced-usage.html#ssl-warnings\n",
      "  warnings.warn(\n"
     ]
    },
    {
     "name": "stdout",
     "output_type": "stream",
     "text": [
      "tanda - nearest hotel: No hotel found\n"
     ]
    },
    {
     "name": "stderr",
     "output_type": "stream",
     "text": [
      "c:\\Users\\cschuttler\\AppData\\Local\\anaconda3\\lib\\site-packages\\urllib3\\connectionpool.py:1056: InsecureRequestWarning: Unverified HTTPS request is being made to host 'api.geoapify.com'. Adding certificate verification is strongly advised. See: https://urllib3.readthedocs.io/en/1.26.x/advanced-usage.html#ssl-warnings\n",
      "  warnings.warn(\n"
     ]
    },
    {
     "name": "stdout",
     "output_type": "stream",
     "text": [
      "dharampuri - nearest hotel: No hotel found\n"
     ]
    },
    {
     "name": "stderr",
     "output_type": "stream",
     "text": [
      "c:\\Users\\cschuttler\\AppData\\Local\\anaconda3\\lib\\site-packages\\urllib3\\connectionpool.py:1056: InsecureRequestWarning: Unverified HTTPS request is being made to host 'api.geoapify.com'. Adding certificate verification is strongly advised. See: https://urllib3.readthedocs.io/en/1.26.x/advanced-usage.html#ssl-warnings\n",
      "  warnings.warn(\n"
     ]
    },
    {
     "name": "stdout",
     "output_type": "stream",
     "text": [
      "ruiz - nearest hotel: No hotel found\n"
     ]
    },
    {
     "name": "stderr",
     "output_type": "stream",
     "text": [
      "c:\\Users\\cschuttler\\AppData\\Local\\anaconda3\\lib\\site-packages\\urllib3\\connectionpool.py:1056: InsecureRequestWarning: Unverified HTTPS request is being made to host 'api.geoapify.com'. Adding certificate verification is strongly advised. See: https://urllib3.readthedocs.io/en/1.26.x/advanced-usage.html#ssl-warnings\n",
      "  warnings.warn(\n"
     ]
    },
    {
     "name": "stdout",
     "output_type": "stream",
     "text": [
      "badger - nearest hotel: Hotel North Pole\n"
     ]
    },
    {
     "name": "stderr",
     "output_type": "stream",
     "text": [
      "c:\\Users\\cschuttler\\AppData\\Local\\anaconda3\\lib\\site-packages\\urllib3\\connectionpool.py:1056: InsecureRequestWarning: Unverified HTTPS request is being made to host 'api.geoapify.com'. Adding certificate verification is strongly advised. See: https://urllib3.readthedocs.io/en/1.26.x/advanced-usage.html#ssl-warnings\n",
      "  warnings.warn(\n"
     ]
    },
    {
     "name": "stdout",
     "output_type": "stream",
     "text": [
      "mwene-ditu - nearest hotel: Hôtel KAMAS\n"
     ]
    },
    {
     "name": "stderr",
     "output_type": "stream",
     "text": [
      "c:\\Users\\cschuttler\\AppData\\Local\\anaconda3\\lib\\site-packages\\urllib3\\connectionpool.py:1056: InsecureRequestWarning: Unverified HTTPS request is being made to host 'api.geoapify.com'. Adding certificate verification is strongly advised. See: https://urllib3.readthedocs.io/en/1.26.x/advanced-usage.html#ssl-warnings\n",
      "  warnings.warn(\n"
     ]
    },
    {
     "name": "stdout",
     "output_type": "stream",
     "text": [
      "altay - nearest hotel: Sunshine Holiday Hotel\n"
     ]
    },
    {
     "name": "stderr",
     "output_type": "stream",
     "text": [
      "c:\\Users\\cschuttler\\AppData\\Local\\anaconda3\\lib\\site-packages\\urllib3\\connectionpool.py:1056: InsecureRequestWarning: Unverified HTTPS request is being made to host 'api.geoapify.com'. Adding certificate verification is strongly advised. See: https://urllib3.readthedocs.io/en/1.26.x/advanced-usage.html#ssl-warnings\n",
      "  warnings.warn(\n"
     ]
    },
    {
     "name": "stdout",
     "output_type": "stream",
     "text": [
      "arraial do cabo - nearest hotel: No hotel found\n"
     ]
    },
    {
     "name": "stderr",
     "output_type": "stream",
     "text": [
      "c:\\Users\\cschuttler\\AppData\\Local\\anaconda3\\lib\\site-packages\\urllib3\\connectionpool.py:1056: InsecureRequestWarning: Unverified HTTPS request is being made to host 'api.geoapify.com'. Adding certificate verification is strongly advised. See: https://urllib3.readthedocs.io/en/1.26.x/advanced-usage.html#ssl-warnings\n",
      "  warnings.warn(\n"
     ]
    },
    {
     "name": "stdout",
     "output_type": "stream",
     "text": [
      "victorica - nearest hotel: Hotel Mazamet\n"
     ]
    },
    {
     "name": "stderr",
     "output_type": "stream",
     "text": [
      "c:\\Users\\cschuttler\\AppData\\Local\\anaconda3\\lib\\site-packages\\urllib3\\connectionpool.py:1056: InsecureRequestWarning: Unverified HTTPS request is being made to host 'api.geoapify.com'. Adding certificate verification is strongly advised. See: https://urllib3.readthedocs.io/en/1.26.x/advanced-usage.html#ssl-warnings\n",
      "  warnings.warn(\n"
     ]
    },
    {
     "name": "stdout",
     "output_type": "stream",
     "text": [
      "lebu - nearest hotel: No hotel found\n"
     ]
    },
    {
     "name": "stderr",
     "output_type": "stream",
     "text": [
      "c:\\Users\\cschuttler\\AppData\\Local\\anaconda3\\lib\\site-packages\\urllib3\\connectionpool.py:1056: InsecureRequestWarning: Unverified HTTPS request is being made to host 'api.geoapify.com'. Adding certificate verification is strongly advised. See: https://urllib3.readthedocs.io/en/1.26.x/advanced-usage.html#ssl-warnings\n",
      "  warnings.warn(\n"
     ]
    },
    {
     "name": "stdout",
     "output_type": "stream",
     "text": [
      "bikenibeu village - nearest hotel: Otintaai Hotel\n"
     ]
    },
    {
     "name": "stderr",
     "output_type": "stream",
     "text": [
      "c:\\Users\\cschuttler\\AppData\\Local\\anaconda3\\lib\\site-packages\\urllib3\\connectionpool.py:1056: InsecureRequestWarning: Unverified HTTPS request is being made to host 'api.geoapify.com'. Adding certificate verification is strongly advised. See: https://urllib3.readthedocs.io/en/1.26.x/advanced-usage.html#ssl-warnings\n",
      "  warnings.warn(\n"
     ]
    },
    {
     "name": "stdout",
     "output_type": "stream",
     "text": [
      "invercargill - nearest hotel: The Grand\n"
     ]
    },
    {
     "name": "stderr",
     "output_type": "stream",
     "text": [
      "c:\\Users\\cschuttler\\AppData\\Local\\anaconda3\\lib\\site-packages\\urllib3\\connectionpool.py:1056: InsecureRequestWarning: Unverified HTTPS request is being made to host 'api.geoapify.com'. Adding certificate verification is strongly advised. See: https://urllib3.readthedocs.io/en/1.26.x/advanced-usage.html#ssl-warnings\n",
      "  warnings.warn(\n"
     ]
    },
    {
     "name": "stdout",
     "output_type": "stream",
     "text": [
      "saipan - nearest hotel: Chalan Kanoa Beach Hotel\n"
     ]
    },
    {
     "name": "stderr",
     "output_type": "stream",
     "text": [
      "c:\\Users\\cschuttler\\AppData\\Local\\anaconda3\\lib\\site-packages\\urllib3\\connectionpool.py:1056: InsecureRequestWarning: Unverified HTTPS request is being made to host 'api.geoapify.com'. Adding certificate verification is strongly advised. See: https://urllib3.readthedocs.io/en/1.26.x/advanced-usage.html#ssl-warnings\n",
      "  warnings.warn(\n"
     ]
    },
    {
     "name": "stdout",
     "output_type": "stream",
     "text": [
      "kodiak - nearest hotel: Shelikof Lodge\n"
     ]
    },
    {
     "name": "stderr",
     "output_type": "stream",
     "text": [
      "c:\\Users\\cschuttler\\AppData\\Local\\anaconda3\\lib\\site-packages\\urllib3\\connectionpool.py:1056: InsecureRequestWarning: Unverified HTTPS request is being made to host 'api.geoapify.com'. Adding certificate verification is strongly advised. See: https://urllib3.readthedocs.io/en/1.26.x/advanced-usage.html#ssl-warnings\n",
      "  warnings.warn(\n"
     ]
    },
    {
     "name": "stdout",
     "output_type": "stream",
     "text": [
      "nar'yan-mar - nearest hotel: Гостиница \"Агат\"\n"
     ]
    },
    {
     "name": "stderr",
     "output_type": "stream",
     "text": [
      "c:\\Users\\cschuttler\\AppData\\Local\\anaconda3\\lib\\site-packages\\urllib3\\connectionpool.py:1056: InsecureRequestWarning: Unverified HTTPS request is being made to host 'api.geoapify.com'. Adding certificate verification is strongly advised. See: https://urllib3.readthedocs.io/en/1.26.x/advanced-usage.html#ssl-warnings\n",
      "  warnings.warn(\n"
     ]
    },
    {
     "name": "stdout",
     "output_type": "stream",
     "text": [
      "taos - nearest hotel: Hotel La Fonda de Taos\n"
     ]
    },
    {
     "name": "stderr",
     "output_type": "stream",
     "text": [
      "c:\\Users\\cschuttler\\AppData\\Local\\anaconda3\\lib\\site-packages\\urllib3\\connectionpool.py:1056: InsecureRequestWarning: Unverified HTTPS request is being made to host 'api.geoapify.com'. Adding certificate verification is strongly advised. See: https://urllib3.readthedocs.io/en/1.26.x/advanced-usage.html#ssl-warnings\n",
      "  warnings.warn(\n"
     ]
    },
    {
     "name": "stdout",
     "output_type": "stream",
     "text": [
      "krasnogorskoye - nearest hotel: No hotel found\n"
     ]
    },
    {
     "name": "stderr",
     "output_type": "stream",
     "text": [
      "c:\\Users\\cschuttler\\AppData\\Local\\anaconda3\\lib\\site-packages\\urllib3\\connectionpool.py:1056: InsecureRequestWarning: Unverified HTTPS request is being made to host 'api.geoapify.com'. Adding certificate verification is strongly advised. See: https://urllib3.readthedocs.io/en/1.26.x/advanced-usage.html#ssl-warnings\n",
      "  warnings.warn(\n"
     ]
    },
    {
     "name": "stdout",
     "output_type": "stream",
     "text": [
      "chonchi - nearest hotel: Hotel Huildín\n"
     ]
    },
    {
     "name": "stderr",
     "output_type": "stream",
     "text": [
      "c:\\Users\\cschuttler\\AppData\\Local\\anaconda3\\lib\\site-packages\\urllib3\\connectionpool.py:1056: InsecureRequestWarning: Unverified HTTPS request is being made to host 'api.geoapify.com'. Adding certificate verification is strongly advised. See: https://urllib3.readthedocs.io/en/1.26.x/advanced-usage.html#ssl-warnings\n",
      "  warnings.warn(\n"
     ]
    },
    {
     "name": "stdout",
     "output_type": "stream",
     "text": [
      "touros - nearest hotel: Pousada Atlântico\n"
     ]
    },
    {
     "name": "stderr",
     "output_type": "stream",
     "text": [
      "c:\\Users\\cschuttler\\AppData\\Local\\anaconda3\\lib\\site-packages\\urllib3\\connectionpool.py:1056: InsecureRequestWarning: Unverified HTTPS request is being made to host 'api.geoapify.com'. Adding certificate verification is strongly advised. See: https://urllib3.readthedocs.io/en/1.26.x/advanced-usage.html#ssl-warnings\n",
      "  warnings.warn(\n"
     ]
    },
    {
     "name": "stdout",
     "output_type": "stream",
     "text": [
      "marsh harbour - nearest hotel: Lofty Fig Villas\n"
     ]
    },
    {
     "name": "stderr",
     "output_type": "stream",
     "text": [
      "c:\\Users\\cschuttler\\AppData\\Local\\anaconda3\\lib\\site-packages\\urllib3\\connectionpool.py:1056: InsecureRequestWarning: Unverified HTTPS request is being made to host 'api.geoapify.com'. Adding certificate verification is strongly advised. See: https://urllib3.readthedocs.io/en/1.26.x/advanced-usage.html#ssl-warnings\n",
      "  warnings.warn(\n"
     ]
    },
    {
     "name": "stdout",
     "output_type": "stream",
     "text": [
      "mayma - nearest hotel: Гостиница\n"
     ]
    },
    {
     "name": "stderr",
     "output_type": "stream",
     "text": [
      "c:\\Users\\cschuttler\\AppData\\Local\\anaconda3\\lib\\site-packages\\urllib3\\connectionpool.py:1056: InsecureRequestWarning: Unverified HTTPS request is being made to host 'api.geoapify.com'. Adding certificate verification is strongly advised. See: https://urllib3.readthedocs.io/en/1.26.x/advanced-usage.html#ssl-warnings\n",
      "  warnings.warn(\n"
     ]
    },
    {
     "name": "stdout",
     "output_type": "stream",
     "text": [
      "chillicothe - nearest hotel: Quality Inn Chillicothe\n"
     ]
    },
    {
     "name": "stderr",
     "output_type": "stream",
     "text": [
      "c:\\Users\\cschuttler\\AppData\\Local\\anaconda3\\lib\\site-packages\\urllib3\\connectionpool.py:1056: InsecureRequestWarning: Unverified HTTPS request is being made to host 'api.geoapify.com'. Adding certificate verification is strongly advised. See: https://urllib3.readthedocs.io/en/1.26.x/advanced-usage.html#ssl-warnings\n",
      "  warnings.warn(\n"
     ]
    },
    {
     "name": "stdout",
     "output_type": "stream",
     "text": [
      "guelmim - nearest hotel: فندق الملتقى\n"
     ]
    },
    {
     "name": "stderr",
     "output_type": "stream",
     "text": [
      "c:\\Users\\cschuttler\\AppData\\Local\\anaconda3\\lib\\site-packages\\urllib3\\connectionpool.py:1056: InsecureRequestWarning: Unverified HTTPS request is being made to host 'api.geoapify.com'. Adding certificate verification is strongly advised. See: https://urllib3.readthedocs.io/en/1.26.x/advanced-usage.html#ssl-warnings\n",
      "  warnings.warn(\n"
     ]
    },
    {
     "name": "stdout",
     "output_type": "stream",
     "text": [
      "vryburg - nearest hotel: International Hotel\n"
     ]
    },
    {
     "name": "stderr",
     "output_type": "stream",
     "text": [
      "c:\\Users\\cschuttler\\AppData\\Local\\anaconda3\\lib\\site-packages\\urllib3\\connectionpool.py:1056: InsecureRequestWarning: Unverified HTTPS request is being made to host 'api.geoapify.com'. Adding certificate verification is strongly advised. See: https://urllib3.readthedocs.io/en/1.26.x/advanced-usage.html#ssl-warnings\n",
      "  warnings.warn(\n"
     ]
    },
    {
     "name": "stdout",
     "output_type": "stream",
     "text": [
      "callao - nearest hotel: Casa Ronald\n"
     ]
    },
    {
     "name": "stderr",
     "output_type": "stream",
     "text": [
      "c:\\Users\\cschuttler\\AppData\\Local\\anaconda3\\lib\\site-packages\\urllib3\\connectionpool.py:1056: InsecureRequestWarning: Unverified HTTPS request is being made to host 'api.geoapify.com'. Adding certificate verification is strongly advised. See: https://urllib3.readthedocs.io/en/1.26.x/advanced-usage.html#ssl-warnings\n",
      "  warnings.warn(\n"
     ]
    },
    {
     "name": "stdout",
     "output_type": "stream",
     "text": [
      "tvoroyri - nearest hotel: Hotel Tvøroyri\n"
     ]
    },
    {
     "name": "stderr",
     "output_type": "stream",
     "text": [
      "c:\\Users\\cschuttler\\AppData\\Local\\anaconda3\\lib\\site-packages\\urllib3\\connectionpool.py:1056: InsecureRequestWarning: Unverified HTTPS request is being made to host 'api.geoapify.com'. Adding certificate verification is strongly advised. See: https://urllib3.readthedocs.io/en/1.26.x/advanced-usage.html#ssl-warnings\n",
      "  warnings.warn(\n"
     ]
    },
    {
     "name": "stdout",
     "output_type": "stream",
     "text": [
      "ubinskoye - nearest hotel: No hotel found\n"
     ]
    },
    {
     "name": "stderr",
     "output_type": "stream",
     "text": [
      "c:\\Users\\cschuttler\\AppData\\Local\\anaconda3\\lib\\site-packages\\urllib3\\connectionpool.py:1056: InsecureRequestWarning: Unverified HTTPS request is being made to host 'api.geoapify.com'. Adding certificate verification is strongly advised. See: https://urllib3.readthedocs.io/en/1.26.x/advanced-usage.html#ssl-warnings\n",
      "  warnings.warn(\n"
     ]
    },
    {
     "name": "stdout",
     "output_type": "stream",
     "text": [
      "punta arenas - nearest hotel: Hotel Lacolet\n"
     ]
    },
    {
     "name": "stderr",
     "output_type": "stream",
     "text": [
      "c:\\Users\\cschuttler\\AppData\\Local\\anaconda3\\lib\\site-packages\\urllib3\\connectionpool.py:1056: InsecureRequestWarning: Unverified HTTPS request is being made to host 'api.geoapify.com'. Adding certificate verification is strongly advised. See: https://urllib3.readthedocs.io/en/1.26.x/advanced-usage.html#ssl-warnings\n",
      "  warnings.warn(\n"
     ]
    },
    {
     "name": "stdout",
     "output_type": "stream",
     "text": [
      "lihue - nearest hotel: Kauai Palms\n"
     ]
    },
    {
     "name": "stderr",
     "output_type": "stream",
     "text": [
      "c:\\Users\\cschuttler\\AppData\\Local\\anaconda3\\lib\\site-packages\\urllib3\\connectionpool.py:1056: InsecureRequestWarning: Unverified HTTPS request is being made to host 'api.geoapify.com'. Adding certificate verification is strongly advised. See: https://urllib3.readthedocs.io/en/1.26.x/advanced-usage.html#ssl-warnings\n",
      "  warnings.warn(\n"
     ]
    },
    {
     "name": "stdout",
     "output_type": "stream",
     "text": [
      "gorom-gorom - nearest hotel: No hotel found\n"
     ]
    },
    {
     "name": "stderr",
     "output_type": "stream",
     "text": [
      "c:\\Users\\cschuttler\\AppData\\Local\\anaconda3\\lib\\site-packages\\urllib3\\connectionpool.py:1056: InsecureRequestWarning: Unverified HTTPS request is being made to host 'api.geoapify.com'. Adding certificate verification is strongly advised. See: https://urllib3.readthedocs.io/en/1.26.x/advanced-usage.html#ssl-warnings\n",
      "  warnings.warn(\n"
     ]
    },
    {
     "name": "stdout",
     "output_type": "stream",
     "text": [
      "khandyga - nearest hotel: Апельсин\n"
     ]
    },
    {
     "name": "stderr",
     "output_type": "stream",
     "text": [
      "c:\\Users\\cschuttler\\AppData\\Local\\anaconda3\\lib\\site-packages\\urllib3\\connectionpool.py:1056: InsecureRequestWarning: Unverified HTTPS request is being made to host 'api.geoapify.com'. Adding certificate verification is strongly advised. See: https://urllib3.readthedocs.io/en/1.26.x/advanced-usage.html#ssl-warnings\n",
      "  warnings.warn(\n"
     ]
    },
    {
     "name": "stdout",
     "output_type": "stream",
     "text": [
      "dudinka - nearest hotel: Виктория\n"
     ]
    },
    {
     "name": "stderr",
     "output_type": "stream",
     "text": [
      "c:\\Users\\cschuttler\\AppData\\Local\\anaconda3\\lib\\site-packages\\urllib3\\connectionpool.py:1056: InsecureRequestWarning: Unverified HTTPS request is being made to host 'api.geoapify.com'. Adding certificate verification is strongly advised. See: https://urllib3.readthedocs.io/en/1.26.x/advanced-usage.html#ssl-warnings\n",
      "  warnings.warn(\n"
     ]
    },
    {
     "name": "stdout",
     "output_type": "stream",
     "text": [
      "kapuskasing - nearest hotel: Travelodge\n"
     ]
    },
    {
     "name": "stderr",
     "output_type": "stream",
     "text": [
      "c:\\Users\\cschuttler\\AppData\\Local\\anaconda3\\lib\\site-packages\\urllib3\\connectionpool.py:1056: InsecureRequestWarning: Unverified HTTPS request is being made to host 'api.geoapify.com'. Adding certificate verification is strongly advised. See: https://urllib3.readthedocs.io/en/1.26.x/advanced-usage.html#ssl-warnings\n",
      "  warnings.warn(\n"
     ]
    },
    {
     "name": "stdout",
     "output_type": "stream",
     "text": [
      "ulysses - nearest hotel: No hotel found\n"
     ]
    },
    {
     "name": "stderr",
     "output_type": "stream",
     "text": [
      "c:\\Users\\cschuttler\\AppData\\Local\\anaconda3\\lib\\site-packages\\urllib3\\connectionpool.py:1056: InsecureRequestWarning: Unverified HTTPS request is being made to host 'api.geoapify.com'. Adding certificate verification is strongly advised. See: https://urllib3.readthedocs.io/en/1.26.x/advanced-usage.html#ssl-warnings\n",
      "  warnings.warn(\n"
     ]
    },
    {
     "name": "stdout",
     "output_type": "stream",
     "text": [
      "bejaia - nearest hotel: Hôtel du Nord\n"
     ]
    },
    {
     "name": "stderr",
     "output_type": "stream",
     "text": [
      "c:\\Users\\cschuttler\\AppData\\Local\\anaconda3\\lib\\site-packages\\urllib3\\connectionpool.py:1056: InsecureRequestWarning: Unverified HTTPS request is being made to host 'api.geoapify.com'. Adding certificate verification is strongly advised. See: https://urllib3.readthedocs.io/en/1.26.x/advanced-usage.html#ssl-warnings\n",
      "  warnings.warn(\n"
     ]
    },
    {
     "name": "stdout",
     "output_type": "stream",
     "text": [
      "shaowu - nearest hotel: Jinqiu Hotel\n"
     ]
    },
    {
     "name": "stderr",
     "output_type": "stream",
     "text": [
      "c:\\Users\\cschuttler\\AppData\\Local\\anaconda3\\lib\\site-packages\\urllib3\\connectionpool.py:1056: InsecureRequestWarning: Unverified HTTPS request is being made to host 'api.geoapify.com'. Adding certificate verification is strongly advised. See: https://urllib3.readthedocs.io/en/1.26.x/advanced-usage.html#ssl-warnings\n",
      "  warnings.warn(\n"
     ]
    },
    {
     "name": "stdout",
     "output_type": "stream",
     "text": [
      "laguna - nearest hotel: Holiday Inn Express & Suites\n"
     ]
    },
    {
     "name": "stderr",
     "output_type": "stream",
     "text": [
      "c:\\Users\\cschuttler\\AppData\\Local\\anaconda3\\lib\\site-packages\\urllib3\\connectionpool.py:1056: InsecureRequestWarning: Unverified HTTPS request is being made to host 'api.geoapify.com'. Adding certificate verification is strongly advised. See: https://urllib3.readthedocs.io/en/1.26.x/advanced-usage.html#ssl-warnings\n",
      "  warnings.warn(\n"
     ]
    },
    {
     "name": "stdout",
     "output_type": "stream",
     "text": [
      "tezu - nearest hotel: No hotel found\n"
     ]
    },
    {
     "name": "stderr",
     "output_type": "stream",
     "text": [
      "c:\\Users\\cschuttler\\AppData\\Local\\anaconda3\\lib\\site-packages\\urllib3\\connectionpool.py:1056: InsecureRequestWarning: Unverified HTTPS request is being made to host 'api.geoapify.com'. Adding certificate verification is strongly advised. See: https://urllib3.readthedocs.io/en/1.26.x/advanced-usage.html#ssl-warnings\n",
      "  warnings.warn(\n"
     ]
    },
    {
     "name": "stdout",
     "output_type": "stream",
     "text": [
      "port alfred - nearest hotel: No hotel found\n"
     ]
    },
    {
     "name": "stderr",
     "output_type": "stream",
     "text": [
      "c:\\Users\\cschuttler\\AppData\\Local\\anaconda3\\lib\\site-packages\\urllib3\\connectionpool.py:1056: InsecureRequestWarning: Unverified HTTPS request is being made to host 'api.geoapify.com'. Adding certificate verification is strongly advised. See: https://urllib3.readthedocs.io/en/1.26.x/advanced-usage.html#ssl-warnings\n",
      "  warnings.warn(\n"
     ]
    },
    {
     "name": "stdout",
     "output_type": "stream",
     "text": [
      "kupang - nearest hotel: HOTEL SALUNGA\n"
     ]
    },
    {
     "name": "stderr",
     "output_type": "stream",
     "text": [
      "c:\\Users\\cschuttler\\AppData\\Local\\anaconda3\\lib\\site-packages\\urllib3\\connectionpool.py:1056: InsecureRequestWarning: Unverified HTTPS request is being made to host 'api.geoapify.com'. Adding certificate verification is strongly advised. See: https://urllib3.readthedocs.io/en/1.26.x/advanced-usage.html#ssl-warnings\n",
      "  warnings.warn(\n"
     ]
    },
    {
     "name": "stdout",
     "output_type": "stream",
     "text": [
      "batang - nearest hotel: Palm Beach Hotel\n"
     ]
    },
    {
     "name": "stderr",
     "output_type": "stream",
     "text": [
      "c:\\Users\\cschuttler\\AppData\\Local\\anaconda3\\lib\\site-packages\\urllib3\\connectionpool.py:1056: InsecureRequestWarning: Unverified HTTPS request is being made to host 'api.geoapify.com'. Adding certificate verification is strongly advised. See: https://urllib3.readthedocs.io/en/1.26.x/advanced-usage.html#ssl-warnings\n",
      "  warnings.warn(\n"
     ]
    },
    {
     "name": "stdout",
     "output_type": "stream",
     "text": [
      "betio village - nearest hotel: Seaman Hostel\n"
     ]
    },
    {
     "name": "stderr",
     "output_type": "stream",
     "text": [
      "c:\\Users\\cschuttler\\AppData\\Local\\anaconda3\\lib\\site-packages\\urllib3\\connectionpool.py:1056: InsecureRequestWarning: Unverified HTTPS request is being made to host 'api.geoapify.com'. Adding certificate verification is strongly advised. See: https://urllib3.readthedocs.io/en/1.26.x/advanced-usage.html#ssl-warnings\n",
      "  warnings.warn(\n"
     ]
    },
    {
     "name": "stdout",
     "output_type": "stream",
     "text": [
      "banff - nearest hotel: Mount Royal Hotel\n"
     ]
    },
    {
     "name": "stderr",
     "output_type": "stream",
     "text": [
      "c:\\Users\\cschuttler\\AppData\\Local\\anaconda3\\lib\\site-packages\\urllib3\\connectionpool.py:1056: InsecureRequestWarning: Unverified HTTPS request is being made to host 'api.geoapify.com'. Adding certificate verification is strongly advised. See: https://urllib3.readthedocs.io/en/1.26.x/advanced-usage.html#ssl-warnings\n",
      "  warnings.warn(\n"
     ]
    },
    {
     "name": "stdout",
     "output_type": "stream",
     "text": [
      "siwa oasis - nearest hotel: فندق الكيلانى\n"
     ]
    },
    {
     "name": "stderr",
     "output_type": "stream",
     "text": [
      "c:\\Users\\cschuttler\\AppData\\Local\\anaconda3\\lib\\site-packages\\urllib3\\connectionpool.py:1056: InsecureRequestWarning: Unverified HTTPS request is being made to host 'api.geoapify.com'. Adding certificate verification is strongly advised. See: https://urllib3.readthedocs.io/en/1.26.x/advanced-usage.html#ssl-warnings\n",
      "  warnings.warn(\n"
     ]
    },
    {
     "name": "stdout",
     "output_type": "stream",
     "text": [
      "santiago - nearest hotel: apart arturo prat\n"
     ]
    },
    {
     "name": "stderr",
     "output_type": "stream",
     "text": [
      "c:\\Users\\cschuttler\\AppData\\Local\\anaconda3\\lib\\site-packages\\urllib3\\connectionpool.py:1056: InsecureRequestWarning: Unverified HTTPS request is being made to host 'api.geoapify.com'. Adding certificate verification is strongly advised. See: https://urllib3.readthedocs.io/en/1.26.x/advanced-usage.html#ssl-warnings\n",
      "  warnings.warn(\n"
     ]
    },
    {
     "name": "stdout",
     "output_type": "stream",
     "text": [
      "riberalta - nearest hotel: Hotel Jomali\n"
     ]
    },
    {
     "name": "stderr",
     "output_type": "stream",
     "text": [
      "c:\\Users\\cschuttler\\AppData\\Local\\anaconda3\\lib\\site-packages\\urllib3\\connectionpool.py:1056: InsecureRequestWarning: Unverified HTTPS request is being made to host 'api.geoapify.com'. Adding certificate verification is strongly advised. See: https://urllib3.readthedocs.io/en/1.26.x/advanced-usage.html#ssl-warnings\n",
      "  warnings.warn(\n"
     ]
    },
    {
     "name": "stdout",
     "output_type": "stream",
     "text": [
      "holualoa - nearest hotel: Kona Hotel\n"
     ]
    },
    {
     "name": "stderr",
     "output_type": "stream",
     "text": [
      "c:\\Users\\cschuttler\\AppData\\Local\\anaconda3\\lib\\site-packages\\urllib3\\connectionpool.py:1056: InsecureRequestWarning: Unverified HTTPS request is being made to host 'api.geoapify.com'. Adding certificate verification is strongly advised. See: https://urllib3.readthedocs.io/en/1.26.x/advanced-usage.html#ssl-warnings\n",
      "  warnings.warn(\n"
     ]
    },
    {
     "name": "stdout",
     "output_type": "stream",
     "text": [
      "cidreira - nearest hotel: Hotel Castelo\n"
     ]
    },
    {
     "name": "stderr",
     "output_type": "stream",
     "text": [
      "c:\\Users\\cschuttler\\AppData\\Local\\anaconda3\\lib\\site-packages\\urllib3\\connectionpool.py:1056: InsecureRequestWarning: Unverified HTTPS request is being made to host 'api.geoapify.com'. Adding certificate verification is strongly advised. See: https://urllib3.readthedocs.io/en/1.26.x/advanced-usage.html#ssl-warnings\n",
      "  warnings.warn(\n"
     ]
    },
    {
     "name": "stdout",
     "output_type": "stream",
     "text": [
      "borogontsy - nearest hotel: No hotel found\n"
     ]
    },
    {
     "name": "stderr",
     "output_type": "stream",
     "text": [
      "c:\\Users\\cschuttler\\AppData\\Local\\anaconda3\\lib\\site-packages\\urllib3\\connectionpool.py:1056: InsecureRequestWarning: Unverified HTTPS request is being made to host 'api.geoapify.com'. Adding certificate verification is strongly advised. See: https://urllib3.readthedocs.io/en/1.26.x/advanced-usage.html#ssl-warnings\n",
      "  warnings.warn(\n"
     ]
    },
    {
     "name": "stdout",
     "output_type": "stream",
     "text": [
      "ust'-barguzin - nearest hotel: Байкальский бриз\n"
     ]
    },
    {
     "name": "stderr",
     "output_type": "stream",
     "text": [
      "c:\\Users\\cschuttler\\AppData\\Local\\anaconda3\\lib\\site-packages\\urllib3\\connectionpool.py:1056: InsecureRequestWarning: Unverified HTTPS request is being made to host 'api.geoapify.com'. Adding certificate verification is strongly advised. See: https://urllib3.readthedocs.io/en/1.26.x/advanced-usage.html#ssl-warnings\n",
      "  warnings.warn(\n"
     ]
    },
    {
     "name": "stdout",
     "output_type": "stream",
     "text": [
      "kailua-kona - nearest hotel: Kona Seaside Hotel\n"
     ]
    },
    {
     "name": "stderr",
     "output_type": "stream",
     "text": [
      "c:\\Users\\cschuttler\\AppData\\Local\\anaconda3\\lib\\site-packages\\urllib3\\connectionpool.py:1056: InsecureRequestWarning: Unverified HTTPS request is being made to host 'api.geoapify.com'. Adding certificate verification is strongly advised. See: https://urllib3.readthedocs.io/en/1.26.x/advanced-usage.html#ssl-warnings\n",
      "  warnings.warn(\n"
     ]
    },
    {
     "name": "stdout",
     "output_type": "stream",
     "text": [
      "ancud - nearest hotel: Cabañas\n"
     ]
    },
    {
     "name": "stderr",
     "output_type": "stream",
     "text": [
      "c:\\Users\\cschuttler\\AppData\\Local\\anaconda3\\lib\\site-packages\\urllib3\\connectionpool.py:1056: InsecureRequestWarning: Unverified HTTPS request is being made to host 'api.geoapify.com'. Adding certificate verification is strongly advised. See: https://urllib3.readthedocs.io/en/1.26.x/advanced-usage.html#ssl-warnings\n",
      "  warnings.warn(\n"
     ]
    },
    {
     "name": "stdout",
     "output_type": "stream",
     "text": [
      "kiseljak - nearest hotel: Dalmacija\n"
     ]
    },
    {
     "name": "stderr",
     "output_type": "stream",
     "text": [
      "c:\\Users\\cschuttler\\AppData\\Local\\anaconda3\\lib\\site-packages\\urllib3\\connectionpool.py:1056: InsecureRequestWarning: Unverified HTTPS request is being made to host 'api.geoapify.com'. Adding certificate verification is strongly advised. See: https://urllib3.readthedocs.io/en/1.26.x/advanced-usage.html#ssl-warnings\n",
      "  warnings.warn(\n"
     ]
    },
    {
     "name": "stdout",
     "output_type": "stream",
     "text": [
      "kruisfontein - nearest hotel: No hotel found\n"
     ]
    },
    {
     "name": "stderr",
     "output_type": "stream",
     "text": [
      "c:\\Users\\cschuttler\\AppData\\Local\\anaconda3\\lib\\site-packages\\urllib3\\connectionpool.py:1056: InsecureRequestWarning: Unverified HTTPS request is being made to host 'api.geoapify.com'. Adding certificate verification is strongly advised. See: https://urllib3.readthedocs.io/en/1.26.x/advanced-usage.html#ssl-warnings\n",
      "  warnings.warn(\n"
     ]
    },
    {
     "name": "stdout",
     "output_type": "stream",
     "text": [
      "malindi - nearest hotel: Young Safari\n"
     ]
    },
    {
     "name": "stderr",
     "output_type": "stream",
     "text": [
      "c:\\Users\\cschuttler\\AppData\\Local\\anaconda3\\lib\\site-packages\\urllib3\\connectionpool.py:1056: InsecureRequestWarning: Unverified HTTPS request is being made to host 'api.geoapify.com'. Adding certificate verification is strongly advised. See: https://urllib3.readthedocs.io/en/1.26.x/advanced-usage.html#ssl-warnings\n",
      "  warnings.warn(\n"
     ]
    },
    {
     "name": "stdout",
     "output_type": "stream",
     "text": [
      "college - nearest hotel: BEST WESTERN PLUS Pioneer Park Inn\n"
     ]
    },
    {
     "name": "stderr",
     "output_type": "stream",
     "text": [
      "c:\\Users\\cschuttler\\AppData\\Local\\anaconda3\\lib\\site-packages\\urllib3\\connectionpool.py:1056: InsecureRequestWarning: Unverified HTTPS request is being made to host 'api.geoapify.com'. Adding certificate verification is strongly advised. See: https://urllib3.readthedocs.io/en/1.26.x/advanced-usage.html#ssl-warnings\n",
      "  warnings.warn(\n"
     ]
    },
    {
     "name": "stdout",
     "output_type": "stream",
     "text": [
      "berdyaush - nearest hotel: No hotel found\n"
     ]
    },
    {
     "name": "stderr",
     "output_type": "stream",
     "text": [
      "c:\\Users\\cschuttler\\AppData\\Local\\anaconda3\\lib\\site-packages\\urllib3\\connectionpool.py:1056: InsecureRequestWarning: Unverified HTTPS request is being made to host 'api.geoapify.com'. Adding certificate verification is strongly advised. See: https://urllib3.readthedocs.io/en/1.26.x/advanced-usage.html#ssl-warnings\n",
      "  warnings.warn(\n"
     ]
    },
    {
     "name": "stdout",
     "output_type": "stream",
     "text": [
      "zheshart - nearest hotel: No hotel found\n"
     ]
    },
    {
     "name": "stderr",
     "output_type": "stream",
     "text": [
      "c:\\Users\\cschuttler\\AppData\\Local\\anaconda3\\lib\\site-packages\\urllib3\\connectionpool.py:1056: InsecureRequestWarning: Unverified HTTPS request is being made to host 'api.geoapify.com'. Adding certificate verification is strongly advised. See: https://urllib3.readthedocs.io/en/1.26.x/advanced-usage.html#ssl-warnings\n",
      "  warnings.warn(\n"
     ]
    },
    {
     "name": "stdout",
     "output_type": "stream",
     "text": [
      "aleg - nearest hotel: Hotel Oasis Aleg\n"
     ]
    },
    {
     "name": "stderr",
     "output_type": "stream",
     "text": [
      "c:\\Users\\cschuttler\\AppData\\Local\\anaconda3\\lib\\site-packages\\urllib3\\connectionpool.py:1056: InsecureRequestWarning: Unverified HTTPS request is being made to host 'api.geoapify.com'. Adding certificate verification is strongly advised. See: https://urllib3.readthedocs.io/en/1.26.x/advanced-usage.html#ssl-warnings\n",
      "  warnings.warn(\n"
     ]
    },
    {
     "name": "stdout",
     "output_type": "stream",
     "text": [
      "zaysan - nearest hotel: Рахат қонақүй\n"
     ]
    },
    {
     "name": "stderr",
     "output_type": "stream",
     "text": [
      "c:\\Users\\cschuttler\\AppData\\Local\\anaconda3\\lib\\site-packages\\urllib3\\connectionpool.py:1056: InsecureRequestWarning: Unverified HTTPS request is being made to host 'api.geoapify.com'. Adding certificate verification is strongly advised. See: https://urllib3.readthedocs.io/en/1.26.x/advanced-usage.html#ssl-warnings\n",
      "  warnings.warn(\n"
     ]
    },
    {
     "name": "stdout",
     "output_type": "stream",
     "text": [
      "katsuren-haebaru - nearest hotel: No hotel found\n"
     ]
    },
    {
     "name": "stderr",
     "output_type": "stream",
     "text": [
      "c:\\Users\\cschuttler\\AppData\\Local\\anaconda3\\lib\\site-packages\\urllib3\\connectionpool.py:1056: InsecureRequestWarning: Unverified HTTPS request is being made to host 'api.geoapify.com'. Adding certificate verification is strongly advised. See: https://urllib3.readthedocs.io/en/1.26.x/advanced-usage.html#ssl-warnings\n",
      "  warnings.warn(\n"
     ]
    },
    {
     "name": "stdout",
     "output_type": "stream",
     "text": [
      "novyy urgal - nearest hotel: No hotel found\n"
     ]
    },
    {
     "name": "stderr",
     "output_type": "stream",
     "text": [
      "c:\\Users\\cschuttler\\AppData\\Local\\anaconda3\\lib\\site-packages\\urllib3\\connectionpool.py:1056: InsecureRequestWarning: Unverified HTTPS request is being made to host 'api.geoapify.com'. Adding certificate verification is strongly advised. See: https://urllib3.readthedocs.io/en/1.26.x/advanced-usage.html#ssl-warnings\n",
      "  warnings.warn(\n"
     ]
    },
    {
     "name": "stdout",
     "output_type": "stream",
     "text": [
      "stanley - nearest hotel: Hotel 52\n"
     ]
    },
    {
     "name": "stderr",
     "output_type": "stream",
     "text": [
      "c:\\Users\\cschuttler\\AppData\\Local\\anaconda3\\lib\\site-packages\\urllib3\\connectionpool.py:1056: InsecureRequestWarning: Unverified HTTPS request is being made to host 'api.geoapify.com'. Adding certificate verification is strongly advised. See: https://urllib3.readthedocs.io/en/1.26.x/advanced-usage.html#ssl-warnings\n",
      "  warnings.warn(\n"
     ]
    },
    {
     "name": "stdout",
     "output_type": "stream",
     "text": [
      "luganville - nearest hotel: Beachfront Resort\n"
     ]
    },
    {
     "name": "stderr",
     "output_type": "stream",
     "text": [
      "c:\\Users\\cschuttler\\AppData\\Local\\anaconda3\\lib\\site-packages\\urllib3\\connectionpool.py:1056: InsecureRequestWarning: Unverified HTTPS request is being made to host 'api.geoapify.com'. Adding certificate verification is strongly advised. See: https://urllib3.readthedocs.io/en/1.26.x/advanced-usage.html#ssl-warnings\n",
      "  warnings.warn(\n"
     ]
    },
    {
     "name": "stdout",
     "output_type": "stream",
     "text": [
      "taroa - nearest hotel: No hotel found\n"
     ]
    },
    {
     "name": "stderr",
     "output_type": "stream",
     "text": [
      "c:\\Users\\cschuttler\\AppData\\Local\\anaconda3\\lib\\site-packages\\urllib3\\connectionpool.py:1056: InsecureRequestWarning: Unverified HTTPS request is being made to host 'api.geoapify.com'. Adding certificate verification is strongly advised. See: https://urllib3.readthedocs.io/en/1.26.x/advanced-usage.html#ssl-warnings\n",
      "  warnings.warn(\n"
     ]
    },
    {
     "name": "stdout",
     "output_type": "stream",
     "text": [
      "zhanaozen - nearest hotel: No hotel found\n"
     ]
    },
    {
     "name": "stderr",
     "output_type": "stream",
     "text": [
      "c:\\Users\\cschuttler\\AppData\\Local\\anaconda3\\lib\\site-packages\\urllib3\\connectionpool.py:1056: InsecureRequestWarning: Unverified HTTPS request is being made to host 'api.geoapify.com'. Adding certificate verification is strongly advised. See: https://urllib3.readthedocs.io/en/1.26.x/advanced-usage.html#ssl-warnings\n",
      "  warnings.warn(\n"
     ]
    },
    {
     "name": "stdout",
     "output_type": "stream",
     "text": [
      "awjilah - nearest hotel: No hotel found\n"
     ]
    },
    {
     "name": "stderr",
     "output_type": "stream",
     "text": [
      "c:\\Users\\cschuttler\\AppData\\Local\\anaconda3\\lib\\site-packages\\urllib3\\connectionpool.py:1056: InsecureRequestWarning: Unverified HTTPS request is being made to host 'api.geoapify.com'. Adding certificate verification is strongly advised. See: https://urllib3.readthedocs.io/en/1.26.x/advanced-usage.html#ssl-warnings\n",
      "  warnings.warn(\n"
     ]
    },
    {
     "name": "stdout",
     "output_type": "stream",
     "text": [
      "port douglas - nearest hotel: Mantra Aqueous Port Douglas\n"
     ]
    },
    {
     "name": "stderr",
     "output_type": "stream",
     "text": [
      "c:\\Users\\cschuttler\\AppData\\Local\\anaconda3\\lib\\site-packages\\urllib3\\connectionpool.py:1056: InsecureRequestWarning: Unverified HTTPS request is being made to host 'api.geoapify.com'. Adding certificate verification is strongly advised. See: https://urllib3.readthedocs.io/en/1.26.x/advanced-usage.html#ssl-warnings\n",
      "  warnings.warn(\n"
     ]
    },
    {
     "name": "stdout",
     "output_type": "stream",
     "text": [
      "bratsk - nearest hotel: Три кита\n"
     ]
    },
    {
     "name": "stderr",
     "output_type": "stream",
     "text": [
      "c:\\Users\\cschuttler\\AppData\\Local\\anaconda3\\lib\\site-packages\\urllib3\\connectionpool.py:1056: InsecureRequestWarning: Unverified HTTPS request is being made to host 'api.geoapify.com'. Adding certificate verification is strongly advised. See: https://urllib3.readthedocs.io/en/1.26.x/advanced-usage.html#ssl-warnings\n",
      "  warnings.warn(\n"
     ]
    },
    {
     "name": "stdout",
     "output_type": "stream",
     "text": [
      "port lincoln - nearest hotel: Boston Hotel\n"
     ]
    },
    {
     "name": "stderr",
     "output_type": "stream",
     "text": [
      "c:\\Users\\cschuttler\\AppData\\Local\\anaconda3\\lib\\site-packages\\urllib3\\connectionpool.py:1056: InsecureRequestWarning: Unverified HTTPS request is being made to host 'api.geoapify.com'. Adding certificate verification is strongly advised. See: https://urllib3.readthedocs.io/en/1.26.x/advanced-usage.html#ssl-warnings\n",
      "  warnings.warn(\n"
     ]
    },
    {
     "name": "stdout",
     "output_type": "stream",
     "text": [
      "acarau - nearest hotel: No hotel found\n"
     ]
    },
    {
     "name": "stderr",
     "output_type": "stream",
     "text": [
      "c:\\Users\\cschuttler\\AppData\\Local\\anaconda3\\lib\\site-packages\\urllib3\\connectionpool.py:1056: InsecureRequestWarning: Unverified HTTPS request is being made to host 'api.geoapify.com'. Adding certificate verification is strongly advised. See: https://urllib3.readthedocs.io/en/1.26.x/advanced-usage.html#ssl-warnings\n",
      "  warnings.warn(\n"
     ]
    },
    {
     "name": "stdout",
     "output_type": "stream",
     "text": [
      "nuuk - nearest hotel: Nordbo\n"
     ]
    },
    {
     "name": "stderr",
     "output_type": "stream",
     "text": [
      "c:\\Users\\cschuttler\\AppData\\Local\\anaconda3\\lib\\site-packages\\urllib3\\connectionpool.py:1056: InsecureRequestWarning: Unverified HTTPS request is being made to host 'api.geoapify.com'. Adding certificate verification is strongly advised. See: https://urllib3.readthedocs.io/en/1.26.x/advanced-usage.html#ssl-warnings\n",
      "  warnings.warn(\n"
     ]
    },
    {
     "name": "stdout",
     "output_type": "stream",
     "text": [
      "kidal - nearest hotel: No hotel found\n"
     ]
    },
    {
     "name": "stderr",
     "output_type": "stream",
     "text": [
      "c:\\Users\\cschuttler\\AppData\\Local\\anaconda3\\lib\\site-packages\\urllib3\\connectionpool.py:1056: InsecureRequestWarning: Unverified HTTPS request is being made to host 'api.geoapify.com'. Adding certificate verification is strongly advised. See: https://urllib3.readthedocs.io/en/1.26.x/advanced-usage.html#ssl-warnings\n",
      "  warnings.warn(\n"
     ]
    },
    {
     "name": "stdout",
     "output_type": "stream",
     "text": [
      "ciudad lazaro cardenas - nearest hotel: Hotel Sol del Pacífico\n"
     ]
    },
    {
     "name": "stderr",
     "output_type": "stream",
     "text": [
      "c:\\Users\\cschuttler\\AppData\\Local\\anaconda3\\lib\\site-packages\\urllib3\\connectionpool.py:1056: InsecureRequestWarning: Unverified HTTPS request is being made to host 'api.geoapify.com'. Adding certificate verification is strongly advised. See: https://urllib3.readthedocs.io/en/1.26.x/advanced-usage.html#ssl-warnings\n",
      "  warnings.warn(\n"
     ]
    },
    {
     "name": "stdout",
     "output_type": "stream",
     "text": [
      "banda aceh - nearest hotel: Hotel 61\n"
     ]
    },
    {
     "name": "stderr",
     "output_type": "stream",
     "text": [
      "c:\\Users\\cschuttler\\AppData\\Local\\anaconda3\\lib\\site-packages\\urllib3\\connectionpool.py:1056: InsecureRequestWarning: Unverified HTTPS request is being made to host 'api.geoapify.com'. Adding certificate verification is strongly advised. See: https://urllib3.readthedocs.io/en/1.26.x/advanced-usage.html#ssl-warnings\n",
      "  warnings.warn(\n"
     ]
    },
    {
     "name": "stdout",
     "output_type": "stream",
     "text": [
      "rongelap - nearest hotel: No hotel found\n"
     ]
    },
    {
     "name": "stderr",
     "output_type": "stream",
     "text": [
      "c:\\Users\\cschuttler\\AppData\\Local\\anaconda3\\lib\\site-packages\\urllib3\\connectionpool.py:1056: InsecureRequestWarning: Unverified HTTPS request is being made to host 'api.geoapify.com'. Adding certificate verification is strongly advised. See: https://urllib3.readthedocs.io/en/1.26.x/advanced-usage.html#ssl-warnings\n",
      "  warnings.warn(\n"
     ]
    },
    {
     "name": "stdout",
     "output_type": "stream",
     "text": [
      "tual - nearest hotel: Suita\n"
     ]
    },
    {
     "name": "stderr",
     "output_type": "stream",
     "text": [
      "c:\\Users\\cschuttler\\AppData\\Local\\anaconda3\\lib\\site-packages\\urllib3\\connectionpool.py:1056: InsecureRequestWarning: Unverified HTTPS request is being made to host 'api.geoapify.com'. Adding certificate verification is strongly advised. See: https://urllib3.readthedocs.io/en/1.26.x/advanced-usage.html#ssl-warnings\n",
      "  warnings.warn(\n"
     ]
    },
    {
     "name": "stdout",
     "output_type": "stream",
     "text": [
      "lamarque - nearest hotel: No hotel found\n"
     ]
    },
    {
     "name": "stderr",
     "output_type": "stream",
     "text": [
      "c:\\Users\\cschuttler\\AppData\\Local\\anaconda3\\lib\\site-packages\\urllib3\\connectionpool.py:1056: InsecureRequestWarning: Unverified HTTPS request is being made to host 'api.geoapify.com'. Adding certificate verification is strongly advised. See: https://urllib3.readthedocs.io/en/1.26.x/advanced-usage.html#ssl-warnings\n",
      "  warnings.warn(\n"
     ]
    },
    {
     "name": "stdout",
     "output_type": "stream",
     "text": [
      "afaahiti - nearest hotel: Omati Lodge\n"
     ]
    },
    {
     "name": "stderr",
     "output_type": "stream",
     "text": [
      "c:\\Users\\cschuttler\\AppData\\Local\\anaconda3\\lib\\site-packages\\urllib3\\connectionpool.py:1056: InsecureRequestWarning: Unverified HTTPS request is being made to host 'api.geoapify.com'. Adding certificate verification is strongly advised. See: https://urllib3.readthedocs.io/en/1.26.x/advanced-usage.html#ssl-warnings\n",
      "  warnings.warn(\n"
     ]
    },
    {
     "name": "stdout",
     "output_type": "stream",
     "text": [
      "miajadas - nearest hotel: No hotel found\n"
     ]
    },
    {
     "name": "stderr",
     "output_type": "stream",
     "text": [
      "c:\\Users\\cschuttler\\AppData\\Local\\anaconda3\\lib\\site-packages\\urllib3\\connectionpool.py:1056: InsecureRequestWarning: Unverified HTTPS request is being made to host 'api.geoapify.com'. Adding certificate verification is strongly advised. See: https://urllib3.readthedocs.io/en/1.26.x/advanced-usage.html#ssl-warnings\n",
      "  warnings.warn(\n"
     ]
    },
    {
     "name": "stdout",
     "output_type": "stream",
     "text": [
      "freetown - nearest hotel: Formal Leona hotel\n"
     ]
    },
    {
     "name": "stderr",
     "output_type": "stream",
     "text": [
      "c:\\Users\\cschuttler\\AppData\\Local\\anaconda3\\lib\\site-packages\\urllib3\\connectionpool.py:1056: InsecureRequestWarning: Unverified HTTPS request is being made to host 'api.geoapify.com'. Adding certificate verification is strongly advised. See: https://urllib3.readthedocs.io/en/1.26.x/advanced-usage.html#ssl-warnings\n",
      "  warnings.warn(\n"
     ]
    },
    {
     "name": "stdout",
     "output_type": "stream",
     "text": [
      "adrar - nearest hotel: No hotel found\n"
     ]
    },
    {
     "name": "stderr",
     "output_type": "stream",
     "text": [
      "c:\\Users\\cschuttler\\AppData\\Local\\anaconda3\\lib\\site-packages\\urllib3\\connectionpool.py:1056: InsecureRequestWarning: Unverified HTTPS request is being made to host 'api.geoapify.com'. Adding certificate verification is strongly advised. See: https://urllib3.readthedocs.io/en/1.26.x/advanced-usage.html#ssl-warnings\n",
      "  warnings.warn(\n"
     ]
    },
    {
     "name": "stdout",
     "output_type": "stream",
     "text": [
      "namibe - nearest hotel: Hotel Chik Chik Namibe\n"
     ]
    },
    {
     "name": "stderr",
     "output_type": "stream",
     "text": [
      "c:\\Users\\cschuttler\\AppData\\Local\\anaconda3\\lib\\site-packages\\urllib3\\connectionpool.py:1056: InsecureRequestWarning: Unverified HTTPS request is being made to host 'api.geoapify.com'. Adding certificate verification is strongly advised. See: https://urllib3.readthedocs.io/en/1.26.x/advanced-usage.html#ssl-warnings\n",
      "  warnings.warn(\n"
     ]
    },
    {
     "name": "stdout",
     "output_type": "stream",
     "text": [
      "mejit - nearest hotel: No hotel found\n"
     ]
    },
    {
     "name": "stderr",
     "output_type": "stream",
     "text": [
      "c:\\Users\\cschuttler\\AppData\\Local\\anaconda3\\lib\\site-packages\\urllib3\\connectionpool.py:1056: InsecureRequestWarning: Unverified HTTPS request is being made to host 'api.geoapify.com'. Adding certificate verification is strongly advised. See: https://urllib3.readthedocs.io/en/1.26.x/advanced-usage.html#ssl-warnings\n",
      "  warnings.warn(\n"
     ]
    },
    {
     "name": "stdout",
     "output_type": "stream",
     "text": [
      "iguatu - nearest hotel: Hotel Exposição\n"
     ]
    },
    {
     "name": "stderr",
     "output_type": "stream",
     "text": [
      "c:\\Users\\cschuttler\\AppData\\Local\\anaconda3\\lib\\site-packages\\urllib3\\connectionpool.py:1056: InsecureRequestWarning: Unverified HTTPS request is being made to host 'api.geoapify.com'. Adding certificate verification is strongly advised. See: https://urllib3.readthedocs.io/en/1.26.x/advanced-usage.html#ssl-warnings\n",
      "  warnings.warn(\n"
     ]
    },
    {
     "name": "stdout",
     "output_type": "stream",
     "text": [
      "palmer - nearest hotel: No hotel found\n"
     ]
    },
    {
     "name": "stderr",
     "output_type": "stream",
     "text": [
      "c:\\Users\\cschuttler\\AppData\\Local\\anaconda3\\lib\\site-packages\\urllib3\\connectionpool.py:1056: InsecureRequestWarning: Unverified HTTPS request is being made to host 'api.geoapify.com'. Adding certificate verification is strongly advised. See: https://urllib3.readthedocs.io/en/1.26.x/advanced-usage.html#ssl-warnings\n",
      "  warnings.warn(\n"
     ]
    },
    {
     "name": "stdout",
     "output_type": "stream",
     "text": [
      "al bawiti - nearest hotel: Old Oasis Hotel\n"
     ]
    },
    {
     "name": "stderr",
     "output_type": "stream",
     "text": [
      "c:\\Users\\cschuttler\\AppData\\Local\\anaconda3\\lib\\site-packages\\urllib3\\connectionpool.py:1056: InsecureRequestWarning: Unverified HTTPS request is being made to host 'api.geoapify.com'. Adding certificate verification is strongly advised. See: https://urllib3.readthedocs.io/en/1.26.x/advanced-usage.html#ssl-warnings\n",
      "  warnings.warn(\n"
     ]
    },
    {
     "name": "stdout",
     "output_type": "stream",
     "text": [
      "new norfolk - nearest hotel: Woodbridge on the Derwent\n"
     ]
    },
    {
     "name": "stderr",
     "output_type": "stream",
     "text": [
      "c:\\Users\\cschuttler\\AppData\\Local\\anaconda3\\lib\\site-packages\\urllib3\\connectionpool.py:1056: InsecureRequestWarning: Unverified HTTPS request is being made to host 'api.geoapify.com'. Adding certificate verification is strongly advised. See: https://urllib3.readthedocs.io/en/1.26.x/advanced-usage.html#ssl-warnings\n",
      "  warnings.warn(\n"
     ]
    },
    {
     "name": "stdout",
     "output_type": "stream",
     "text": [
      "klyuchi - nearest hotel: No hotel found\n"
     ]
    },
    {
     "name": "stderr",
     "output_type": "stream",
     "text": [
      "c:\\Users\\cschuttler\\AppData\\Local\\anaconda3\\lib\\site-packages\\urllib3\\connectionpool.py:1056: InsecureRequestWarning: Unverified HTTPS request is being made to host 'api.geoapify.com'. Adding certificate verification is strongly advised. See: https://urllib3.readthedocs.io/en/1.26.x/advanced-usage.html#ssl-warnings\n",
      "  warnings.warn(\n"
     ]
    },
    {
     "name": "stdout",
     "output_type": "stream",
     "text": [
      "olyokminsk - nearest hotel: Колос\n"
     ]
    },
    {
     "name": "stderr",
     "output_type": "stream",
     "text": [
      "c:\\Users\\cschuttler\\AppData\\Local\\anaconda3\\lib\\site-packages\\urllib3\\connectionpool.py:1056: InsecureRequestWarning: Unverified HTTPS request is being made to host 'api.geoapify.com'. Adding certificate verification is strongly advised. See: https://urllib3.readthedocs.io/en/1.26.x/advanced-usage.html#ssl-warnings\n",
      "  warnings.warn(\n"
     ]
    },
    {
     "name": "stdout",
     "output_type": "stream",
     "text": [
      "igarka - nearest hotel: Заполярье\n"
     ]
    },
    {
     "name": "stderr",
     "output_type": "stream",
     "text": [
      "c:\\Users\\cschuttler\\AppData\\Local\\anaconda3\\lib\\site-packages\\urllib3\\connectionpool.py:1056: InsecureRequestWarning: Unverified HTTPS request is being made to host 'api.geoapify.com'. Adding certificate verification is strongly advised. See: https://urllib3.readthedocs.io/en/1.26.x/advanced-usage.html#ssl-warnings\n",
      "  warnings.warn(\n"
     ]
    },
    {
     "name": "stdout",
     "output_type": "stream",
     "text": [
      "kapa'a - nearest hotel: Pono Kai Resort\n"
     ]
    },
    {
     "name": "stderr",
     "output_type": "stream",
     "text": [
      "c:\\Users\\cschuttler\\AppData\\Local\\anaconda3\\lib\\site-packages\\urllib3\\connectionpool.py:1056: InsecureRequestWarning: Unverified HTTPS request is being made to host 'api.geoapify.com'. Adding certificate verification is strongly advised. See: https://urllib3.readthedocs.io/en/1.26.x/advanced-usage.html#ssl-warnings\n",
      "  warnings.warn(\n"
     ]
    },
    {
     "name": "stdout",
     "output_type": "stream",
     "text": [
      "keflavik - nearest hotel: Núpan Deluxe\n"
     ]
    },
    {
     "name": "stderr",
     "output_type": "stream",
     "text": [
      "c:\\Users\\cschuttler\\AppData\\Local\\anaconda3\\lib\\site-packages\\urllib3\\connectionpool.py:1056: InsecureRequestWarning: Unverified HTTPS request is being made to host 'api.geoapify.com'. Adding certificate verification is strongly advised. See: https://urllib3.readthedocs.io/en/1.26.x/advanced-usage.html#ssl-warnings\n",
      "  warnings.warn(\n"
     ]
    },
    {
     "name": "stdout",
     "output_type": "stream",
     "text": [
      "palikir - national government center - nearest hotel: Mangrove Bay Hotel\n"
     ]
    },
    {
     "name": "stderr",
     "output_type": "stream",
     "text": [
      "c:\\Users\\cschuttler\\AppData\\Local\\anaconda3\\lib\\site-packages\\urllib3\\connectionpool.py:1056: InsecureRequestWarning: Unverified HTTPS request is being made to host 'api.geoapify.com'. Adding certificate verification is strongly advised. See: https://urllib3.readthedocs.io/en/1.26.x/advanced-usage.html#ssl-warnings\n",
      "  warnings.warn(\n"
     ]
    },
    {
     "name": "stdout",
     "output_type": "stream",
     "text": [
      "lazaro cardenas - nearest hotel: Hotel Sol del Pacífico\n"
     ]
    },
    {
     "name": "stderr",
     "output_type": "stream",
     "text": [
      "c:\\Users\\cschuttler\\AppData\\Local\\anaconda3\\lib\\site-packages\\urllib3\\connectionpool.py:1056: InsecureRequestWarning: Unverified HTTPS request is being made to host 'api.geoapify.com'. Adding certificate verification is strongly advised. See: https://urllib3.readthedocs.io/en/1.26.x/advanced-usage.html#ssl-warnings\n",
      "  warnings.warn(\n"
     ]
    },
    {
     "name": "stdout",
     "output_type": "stream",
     "text": [
      "whitecourt - nearest hotel: Microtel Inn & Suites by Wyndham Whitecourt\n"
     ]
    },
    {
     "name": "stderr",
     "output_type": "stream",
     "text": [
      "c:\\Users\\cschuttler\\AppData\\Local\\anaconda3\\lib\\site-packages\\urllib3\\connectionpool.py:1056: InsecureRequestWarning: Unverified HTTPS request is being made to host 'api.geoapify.com'. Adding certificate verification is strongly advised. See: https://urllib3.readthedocs.io/en/1.26.x/advanced-usage.html#ssl-warnings\n",
      "  warnings.warn(\n"
     ]
    },
    {
     "name": "stdout",
     "output_type": "stream",
     "text": [
      "cabinda - nearest hotel: Hotel Mayombe\n"
     ]
    },
    {
     "name": "stderr",
     "output_type": "stream",
     "text": [
      "c:\\Users\\cschuttler\\AppData\\Local\\anaconda3\\lib\\site-packages\\urllib3\\connectionpool.py:1056: InsecureRequestWarning: Unverified HTTPS request is being made to host 'api.geoapify.com'. Adding certificate verification is strongly advised. See: https://urllib3.readthedocs.io/en/1.26.x/advanced-usage.html#ssl-warnings\n",
      "  warnings.warn(\n"
     ]
    },
    {
     "name": "stdout",
     "output_type": "stream",
     "text": [
      "bubaque - nearest hotel: Chez Julio\n"
     ]
    },
    {
     "name": "stderr",
     "output_type": "stream",
     "text": [
      "c:\\Users\\cschuttler\\AppData\\Local\\anaconda3\\lib\\site-packages\\urllib3\\connectionpool.py:1056: InsecureRequestWarning: Unverified HTTPS request is being made to host 'api.geoapify.com'. Adding certificate verification is strongly advised. See: https://urllib3.readthedocs.io/en/1.26.x/advanced-usage.html#ssl-warnings\n",
      "  warnings.warn(\n"
     ]
    },
    {
     "name": "stdout",
     "output_type": "stream",
     "text": [
      "sao joao da barra - nearest hotel: Pousada Mediterrâneo\n"
     ]
    },
    {
     "name": "stderr",
     "output_type": "stream",
     "text": [
      "c:\\Users\\cschuttler\\AppData\\Local\\anaconda3\\lib\\site-packages\\urllib3\\connectionpool.py:1056: InsecureRequestWarning: Unverified HTTPS request is being made to host 'api.geoapify.com'. Adding certificate verification is strongly advised. See: https://urllib3.readthedocs.io/en/1.26.x/advanced-usage.html#ssl-warnings\n",
      "  warnings.warn(\n"
     ]
    },
    {
     "name": "stdout",
     "output_type": "stream",
     "text": [
      "hepo - nearest hotel: No hotel found\n"
     ]
    },
    {
     "name": "stderr",
     "output_type": "stream",
     "text": [
      "c:\\Users\\cschuttler\\AppData\\Local\\anaconda3\\lib\\site-packages\\urllib3\\connectionpool.py:1056: InsecureRequestWarning: Unverified HTTPS request is being made to host 'api.geoapify.com'. Adding certificate verification is strongly advised. See: https://urllib3.readthedocs.io/en/1.26.x/advanced-usage.html#ssl-warnings\n",
      "  warnings.warn(\n"
     ]
    },
    {
     "name": "stdout",
     "output_type": "stream",
     "text": [
      "gazipasa - nearest hotel: No hotel found\n"
     ]
    },
    {
     "name": "stderr",
     "output_type": "stream",
     "text": [
      "c:\\Users\\cschuttler\\AppData\\Local\\anaconda3\\lib\\site-packages\\urllib3\\connectionpool.py:1056: InsecureRequestWarning: Unverified HTTPS request is being made to host 'api.geoapify.com'. Adding certificate verification is strongly advised. See: https://urllib3.readthedocs.io/en/1.26.x/advanced-usage.html#ssl-warnings\n",
      "  warnings.warn(\n"
     ]
    },
    {
     "name": "stdout",
     "output_type": "stream",
     "text": [
      "luderitz - nearest hotel: Seaview Hotel Zum Sperrgebiet\n"
     ]
    },
    {
     "name": "stderr",
     "output_type": "stream",
     "text": [
      "c:\\Users\\cschuttler\\AppData\\Local\\anaconda3\\lib\\site-packages\\urllib3\\connectionpool.py:1056: InsecureRequestWarning: Unverified HTTPS request is being made to host 'api.geoapify.com'. Adding certificate verification is strongly advised. See: https://urllib3.readthedocs.io/en/1.26.x/advanced-usage.html#ssl-warnings\n",
      "  warnings.warn(\n"
     ]
    },
    {
     "name": "stdout",
     "output_type": "stream",
     "text": [
      "modimolle - nearest hotel: Mezi Mezi Guest House\n"
     ]
    },
    {
     "name": "stderr",
     "output_type": "stream",
     "text": [
      "c:\\Users\\cschuttler\\AppData\\Local\\anaconda3\\lib\\site-packages\\urllib3\\connectionpool.py:1056: InsecureRequestWarning: Unverified HTTPS request is being made to host 'api.geoapify.com'. Adding certificate verification is strongly advised. See: https://urllib3.readthedocs.io/en/1.26.x/advanced-usage.html#ssl-warnings\n",
      "  warnings.warn(\n"
     ]
    },
    {
     "name": "stdout",
     "output_type": "stream",
     "text": [
      "grand falls-windsor - nearest hotel: Hotel Robin Hood\n"
     ]
    },
    {
     "name": "stderr",
     "output_type": "stream",
     "text": [
      "c:\\Users\\cschuttler\\AppData\\Local\\anaconda3\\lib\\site-packages\\urllib3\\connectionpool.py:1056: InsecureRequestWarning: Unverified HTTPS request is being made to host 'api.geoapify.com'. Adding certificate verification is strongly advised. See: https://urllib3.readthedocs.io/en/1.26.x/advanced-usage.html#ssl-warnings\n",
      "  warnings.warn(\n"
     ]
    },
    {
     "name": "stdout",
     "output_type": "stream",
     "text": [
      "naze - nearest hotel: ビジネス旅館畠山\n"
     ]
    },
    {
     "name": "stderr",
     "output_type": "stream",
     "text": [
      "c:\\Users\\cschuttler\\AppData\\Local\\anaconda3\\lib\\site-packages\\urllib3\\connectionpool.py:1056: InsecureRequestWarning: Unverified HTTPS request is being made to host 'api.geoapify.com'. Adding certificate verification is strongly advised. See: https://urllib3.readthedocs.io/en/1.26.x/advanced-usage.html#ssl-warnings\n",
      "  warnings.warn(\n"
     ]
    },
    {
     "name": "stdout",
     "output_type": "stream",
     "text": [
      "hithadhoo - nearest hotel: Pebbles Inn\n"
     ]
    },
    {
     "name": "stderr",
     "output_type": "stream",
     "text": [
      "c:\\Users\\cschuttler\\AppData\\Local\\anaconda3\\lib\\site-packages\\urllib3\\connectionpool.py:1056: InsecureRequestWarning: Unverified HTTPS request is being made to host 'api.geoapify.com'. Adding certificate verification is strongly advised. See: https://urllib3.readthedocs.io/en/1.26.x/advanced-usage.html#ssl-warnings\n",
      "  warnings.warn(\n"
     ]
    },
    {
     "name": "stdout",
     "output_type": "stream",
     "text": [
      "paracuru - nearest hotel: Vento Brasil\n"
     ]
    },
    {
     "name": "stderr",
     "output_type": "stream",
     "text": [
      "c:\\Users\\cschuttler\\AppData\\Local\\anaconda3\\lib\\site-packages\\urllib3\\connectionpool.py:1056: InsecureRequestWarning: Unverified HTTPS request is being made to host 'api.geoapify.com'. Adding certificate verification is strongly advised. See: https://urllib3.readthedocs.io/en/1.26.x/advanced-usage.html#ssl-warnings\n",
      "  warnings.warn(\n"
     ]
    },
    {
     "name": "stdout",
     "output_type": "stream",
     "text": [
      "codajas - nearest hotel: No hotel found\n"
     ]
    },
    {
     "name": "stderr",
     "output_type": "stream",
     "text": [
      "c:\\Users\\cschuttler\\AppData\\Local\\anaconda3\\lib\\site-packages\\urllib3\\connectionpool.py:1056: InsecureRequestWarning: Unverified HTTPS request is being made to host 'api.geoapify.com'. Adding certificate verification is strongly advised. See: https://urllib3.readthedocs.io/en/1.26.x/advanced-usage.html#ssl-warnings\n",
      "  warnings.warn(\n"
     ]
    },
    {
     "name": "stdout",
     "output_type": "stream",
     "text": [
      "olutanga - nearest hotel: No hotel found\n"
     ]
    },
    {
     "name": "stderr",
     "output_type": "stream",
     "text": [
      "c:\\Users\\cschuttler\\AppData\\Local\\anaconda3\\lib\\site-packages\\urllib3\\connectionpool.py:1056: InsecureRequestWarning: Unverified HTTPS request is being made to host 'api.geoapify.com'. Adding certificate verification is strongly advised. See: https://urllib3.readthedocs.io/en/1.26.x/advanced-usage.html#ssl-warnings\n",
      "  warnings.warn(\n"
     ]
    },
    {
     "name": "stdout",
     "output_type": "stream",
     "text": [
      "miri - nearest hotel: Kenyalang Suites Miri\n"
     ]
    },
    {
     "name": "stderr",
     "output_type": "stream",
     "text": [
      "c:\\Users\\cschuttler\\AppData\\Local\\anaconda3\\lib\\site-packages\\urllib3\\connectionpool.py:1056: InsecureRequestWarning: Unverified HTTPS request is being made to host 'api.geoapify.com'. Adding certificate verification is strongly advised. See: https://urllib3.readthedocs.io/en/1.26.x/advanced-usage.html#ssl-warnings\n",
      "  warnings.warn(\n"
     ]
    },
    {
     "name": "stdout",
     "output_type": "stream",
     "text": [
      "conception bay south - nearest hotel: No hotel found\n"
     ]
    },
    {
     "name": "stderr",
     "output_type": "stream",
     "text": [
      "c:\\Users\\cschuttler\\AppData\\Local\\anaconda3\\lib\\site-packages\\urllib3\\connectionpool.py:1056: InsecureRequestWarning: Unverified HTTPS request is being made to host 'api.geoapify.com'. Adding certificate verification is strongly advised. See: https://urllib3.readthedocs.io/en/1.26.x/advanced-usage.html#ssl-warnings\n",
      "  warnings.warn(\n"
     ]
    },
    {
     "name": "stdout",
     "output_type": "stream",
     "text": [
      "sovetskiy - nearest hotel: Кировская\n"
     ]
    },
    {
     "name": "stderr",
     "output_type": "stream",
     "text": [
      "c:\\Users\\cschuttler\\AppData\\Local\\anaconda3\\lib\\site-packages\\urllib3\\connectionpool.py:1056: InsecureRequestWarning: Unverified HTTPS request is being made to host 'api.geoapify.com'. Adding certificate verification is strongly advised. See: https://urllib3.readthedocs.io/en/1.26.x/advanced-usage.html#ssl-warnings\n",
      "  warnings.warn(\n"
     ]
    },
    {
     "name": "stdout",
     "output_type": "stream",
     "text": [
      "qaqortoq - nearest hotel: Hotel Qaqortoq\n"
     ]
    },
    {
     "name": "stderr",
     "output_type": "stream",
     "text": [
      "c:\\Users\\cschuttler\\AppData\\Local\\anaconda3\\lib\\site-packages\\urllib3\\connectionpool.py:1056: InsecureRequestWarning: Unverified HTTPS request is being made to host 'api.geoapify.com'. Adding certificate verification is strongly advised. See: https://urllib3.readthedocs.io/en/1.26.x/advanced-usage.html#ssl-warnings\n",
      "  warnings.warn(\n"
     ]
    },
    {
     "name": "stdout",
     "output_type": "stream",
     "text": [
      "chilmari - nearest hotel: No hotel found\n"
     ]
    },
    {
     "name": "stderr",
     "output_type": "stream",
     "text": [
      "c:\\Users\\cschuttler\\AppData\\Local\\anaconda3\\lib\\site-packages\\urllib3\\connectionpool.py:1056: InsecureRequestWarning: Unverified HTTPS request is being made to host 'api.geoapify.com'. Adding certificate verification is strongly advised. See: https://urllib3.readthedocs.io/en/1.26.x/advanced-usage.html#ssl-warnings\n",
      "  warnings.warn(\n"
     ]
    },
    {
     "name": "stdout",
     "output_type": "stream",
     "text": [
      "mikun' - nearest hotel: Гостиница \"Саквояж\"\n"
     ]
    },
    {
     "name": "stderr",
     "output_type": "stream",
     "text": [
      "c:\\Users\\cschuttler\\AppData\\Local\\anaconda3\\lib\\site-packages\\urllib3\\connectionpool.py:1056: InsecureRequestWarning: Unverified HTTPS request is being made to host 'api.geoapify.com'. Adding certificate verification is strongly advised. See: https://urllib3.readthedocs.io/en/1.26.x/advanced-usage.html#ssl-warnings\n",
      "  warnings.warn(\n"
     ]
    },
    {
     "name": "stdout",
     "output_type": "stream",
     "text": [
      "jamestown - nearest hotel: DoubleTree Jamestown\n"
     ]
    },
    {
     "name": "stderr",
     "output_type": "stream",
     "text": [
      "c:\\Users\\cschuttler\\AppData\\Local\\anaconda3\\lib\\site-packages\\urllib3\\connectionpool.py:1056: InsecureRequestWarning: Unverified HTTPS request is being made to host 'api.geoapify.com'. Adding certificate verification is strongly advised. See: https://urllib3.readthedocs.io/en/1.26.x/advanced-usage.html#ssl-warnings\n",
      "  warnings.warn(\n"
     ]
    },
    {
     "name": "stdout",
     "output_type": "stream",
     "text": [
      "qarazhal - nearest hotel: No hotel found\n"
     ]
    },
    {
     "name": "stderr",
     "output_type": "stream",
     "text": [
      "c:\\Users\\cschuttler\\AppData\\Local\\anaconda3\\lib\\site-packages\\urllib3\\connectionpool.py:1056: InsecureRequestWarning: Unverified HTTPS request is being made to host 'api.geoapify.com'. Adding certificate verification is strongly advised. See: https://urllib3.readthedocs.io/en/1.26.x/advanced-usage.html#ssl-warnings\n",
      "  warnings.warn(\n"
     ]
    },
    {
     "name": "stdout",
     "output_type": "stream",
     "text": [
      "holbrook - nearest hotel: Courtyard Long Island MacArthur Airport\n"
     ]
    },
    {
     "name": "stderr",
     "output_type": "stream",
     "text": [
      "c:\\Users\\cschuttler\\AppData\\Local\\anaconda3\\lib\\site-packages\\urllib3\\connectionpool.py:1056: InsecureRequestWarning: Unverified HTTPS request is being made to host 'api.geoapify.com'. Adding certificate verification is strongly advised. See: https://urllib3.readthedocs.io/en/1.26.x/advanced-usage.html#ssl-warnings\n",
      "  warnings.warn(\n"
     ]
    },
    {
     "name": "stdout",
     "output_type": "stream",
     "text": [
      "tame - nearest hotel: hotel libertadores\n"
     ]
    },
    {
     "name": "stderr",
     "output_type": "stream",
     "text": [
      "c:\\Users\\cschuttler\\AppData\\Local\\anaconda3\\lib\\site-packages\\urllib3\\connectionpool.py:1056: InsecureRequestWarning: Unverified HTTPS request is being made to host 'api.geoapify.com'. Adding certificate verification is strongly advised. See: https://urllib3.readthedocs.io/en/1.26.x/advanced-usage.html#ssl-warnings\n",
      "  warnings.warn(\n"
     ]
    },
    {
     "name": "stdout",
     "output_type": "stream",
     "text": [
      "santa rosalia - nearest hotel: Sol y Mar\n"
     ]
    },
    {
     "name": "stderr",
     "output_type": "stream",
     "text": [
      "c:\\Users\\cschuttler\\AppData\\Local\\anaconda3\\lib\\site-packages\\urllib3\\connectionpool.py:1056: InsecureRequestWarning: Unverified HTTPS request is being made to host 'api.geoapify.com'. Adding certificate verification is strongly advised. See: https://urllib3.readthedocs.io/en/1.26.x/advanced-usage.html#ssl-warnings\n",
      "  warnings.warn(\n"
     ]
    },
    {
     "name": "stdout",
     "output_type": "stream",
     "text": [
      "gulf shores - nearest hotel: Beachside Resort\n"
     ]
    },
    {
     "name": "stderr",
     "output_type": "stream",
     "text": [
      "c:\\Users\\cschuttler\\AppData\\Local\\anaconda3\\lib\\site-packages\\urllib3\\connectionpool.py:1056: InsecureRequestWarning: Unverified HTTPS request is being made to host 'api.geoapify.com'. Adding certificate verification is strongly advised. See: https://urllib3.readthedocs.io/en/1.26.x/advanced-usage.html#ssl-warnings\n",
      "  warnings.warn(\n"
     ]
    },
    {
     "name": "stdout",
     "output_type": "stream",
     "text": [
      "rovaniemi - nearest hotel: Matkustajakoti Outa\n"
     ]
    },
    {
     "name": "stderr",
     "output_type": "stream",
     "text": [
      "c:\\Users\\cschuttler\\AppData\\Local\\anaconda3\\lib\\site-packages\\urllib3\\connectionpool.py:1056: InsecureRequestWarning: Unverified HTTPS request is being made to host 'api.geoapify.com'. Adding certificate verification is strongly advised. See: https://urllib3.readthedocs.io/en/1.26.x/advanced-usage.html#ssl-warnings\n",
      "  warnings.warn(\n"
     ]
    },
    {
     "name": "stdout",
     "output_type": "stream",
     "text": [
      "yarmouth - nearest hotel: The Inn At Cape Cod\n"
     ]
    },
    {
     "name": "stderr",
     "output_type": "stream",
     "text": [
      "c:\\Users\\cschuttler\\AppData\\Local\\anaconda3\\lib\\site-packages\\urllib3\\connectionpool.py:1056: InsecureRequestWarning: Unverified HTTPS request is being made to host 'api.geoapify.com'. Adding certificate verification is strongly advised. See: https://urllib3.readthedocs.io/en/1.26.x/advanced-usage.html#ssl-warnings\n",
      "  warnings.warn(\n"
     ]
    },
    {
     "name": "stdout",
     "output_type": "stream",
     "text": [
      "chardara - nearest hotel: Бақдаулет\n"
     ]
    },
    {
     "name": "stderr",
     "output_type": "stream",
     "text": [
      "c:\\Users\\cschuttler\\AppData\\Local\\anaconda3\\lib\\site-packages\\urllib3\\connectionpool.py:1056: InsecureRequestWarning: Unverified HTTPS request is being made to host 'api.geoapify.com'. Adding certificate verification is strongly advised. See: https://urllib3.readthedocs.io/en/1.26.x/advanced-usage.html#ssl-warnings\n",
      "  warnings.warn(\n"
     ]
    },
    {
     "name": "stdout",
     "output_type": "stream",
     "text": [
      "ceres - nearest hotel: Howard Johnson by Wyndham Modesto Ceres\n"
     ]
    },
    {
     "name": "stderr",
     "output_type": "stream",
     "text": [
      "c:\\Users\\cschuttler\\AppData\\Local\\anaconda3\\lib\\site-packages\\urllib3\\connectionpool.py:1056: InsecureRequestWarning: Unverified HTTPS request is being made to host 'api.geoapify.com'. Adding certificate verification is strongly advised. See: https://urllib3.readthedocs.io/en/1.26.x/advanced-usage.html#ssl-warnings\n",
      "  warnings.warn(\n"
     ]
    },
    {
     "name": "stdout",
     "output_type": "stream",
     "text": [
      "bintulu - nearest hotel: Bakun Inn\n"
     ]
    },
    {
     "name": "stderr",
     "output_type": "stream",
     "text": [
      "c:\\Users\\cschuttler\\AppData\\Local\\anaconda3\\lib\\site-packages\\urllib3\\connectionpool.py:1056: InsecureRequestWarning: Unverified HTTPS request is being made to host 'api.geoapify.com'. Adding certificate verification is strongly advised. See: https://urllib3.readthedocs.io/en/1.26.x/advanced-usage.html#ssl-warnings\n",
      "  warnings.warn(\n"
     ]
    },
    {
     "name": "stdout",
     "output_type": "stream",
     "text": [
      "natal - nearest hotel: Natal Palace Hotel\n"
     ]
    },
    {
     "name": "stderr",
     "output_type": "stream",
     "text": [
      "c:\\Users\\cschuttler\\AppData\\Local\\anaconda3\\lib\\site-packages\\urllib3\\connectionpool.py:1056: InsecureRequestWarning: Unverified HTTPS request is being made to host 'api.geoapify.com'. Adding certificate verification is strongly advised. See: https://urllib3.readthedocs.io/en/1.26.x/advanced-usage.html#ssl-warnings\n",
      "  warnings.warn(\n"
     ]
    },
    {
     "name": "stdout",
     "output_type": "stream",
     "text": [
      "robore - nearest hotel: Lajas\n"
     ]
    },
    {
     "name": "stderr",
     "output_type": "stream",
     "text": [
      "c:\\Users\\cschuttler\\AppData\\Local\\anaconda3\\lib\\site-packages\\urllib3\\connectionpool.py:1056: InsecureRequestWarning: Unverified HTTPS request is being made to host 'api.geoapify.com'. Adding certificate verification is strongly advised. See: https://urllib3.readthedocs.io/en/1.26.x/advanced-usage.html#ssl-warnings\n",
      "  warnings.warn(\n"
     ]
    },
    {
     "name": "stdout",
     "output_type": "stream",
     "text": [
      "broken hill - nearest hotel: Ibis Styles\n"
     ]
    },
    {
     "name": "stderr",
     "output_type": "stream",
     "text": [
      "c:\\Users\\cschuttler\\AppData\\Local\\anaconda3\\lib\\site-packages\\urllib3\\connectionpool.py:1056: InsecureRequestWarning: Unverified HTTPS request is being made to host 'api.geoapify.com'. Adding certificate verification is strongly advised. See: https://urllib3.readthedocs.io/en/1.26.x/advanced-usage.html#ssl-warnings\n",
      "  warnings.warn(\n"
     ]
    },
    {
     "name": "stdout",
     "output_type": "stream",
     "text": [
      "goroka - nearest hotel: Bird of Paradise Hotel\n"
     ]
    },
    {
     "name": "stderr",
     "output_type": "stream",
     "text": [
      "c:\\Users\\cschuttler\\AppData\\Local\\anaconda3\\lib\\site-packages\\urllib3\\connectionpool.py:1056: InsecureRequestWarning: Unverified HTTPS request is being made to host 'api.geoapify.com'. Adding certificate verification is strongly advised. See: https://urllib3.readthedocs.io/en/1.26.x/advanced-usage.html#ssl-warnings\n",
      "  warnings.warn(\n"
     ]
    },
    {
     "name": "stdout",
     "output_type": "stream",
     "text": [
      "san patricio - nearest hotel: No hotel found\n"
     ]
    },
    {
     "name": "stderr",
     "output_type": "stream",
     "text": [
      "c:\\Users\\cschuttler\\AppData\\Local\\anaconda3\\lib\\site-packages\\urllib3\\connectionpool.py:1056: InsecureRequestWarning: Unverified HTTPS request is being made to host 'api.geoapify.com'. Adding certificate verification is strongly advised. See: https://urllib3.readthedocs.io/en/1.26.x/advanced-usage.html#ssl-warnings\n",
      "  warnings.warn(\n"
     ]
    },
    {
     "name": "stdout",
     "output_type": "stream",
     "text": [
      "tejen - nearest hotel: Tejen Myhmanhanasy\n"
     ]
    },
    {
     "name": "stderr",
     "output_type": "stream",
     "text": [
      "c:\\Users\\cschuttler\\AppData\\Local\\anaconda3\\lib\\site-packages\\urllib3\\connectionpool.py:1056: InsecureRequestWarning: Unverified HTTPS request is being made to host 'api.geoapify.com'. Adding certificate verification is strongly advised. See: https://urllib3.readthedocs.io/en/1.26.x/advanced-usage.html#ssl-warnings\n",
      "  warnings.warn(\n"
     ]
    },
    {
     "name": "stdout",
     "output_type": "stream",
     "text": [
      "bhimunipatnam - nearest hotel: Hotel Beach Paradise\n"
     ]
    },
    {
     "name": "stderr",
     "output_type": "stream",
     "text": [
      "c:\\Users\\cschuttler\\AppData\\Local\\anaconda3\\lib\\site-packages\\urllib3\\connectionpool.py:1056: InsecureRequestWarning: Unverified HTTPS request is being made to host 'api.geoapify.com'. Adding certificate verification is strongly advised. See: https://urllib3.readthedocs.io/en/1.26.x/advanced-usage.html#ssl-warnings\n",
      "  warnings.warn(\n"
     ]
    },
    {
     "name": "stdout",
     "output_type": "stream",
     "text": [
      "turkmenbasy - nearest hotel: Türkmenbaşy Oteli\n"
     ]
    },
    {
     "name": "stderr",
     "output_type": "stream",
     "text": [
      "c:\\Users\\cschuttler\\AppData\\Local\\anaconda3\\lib\\site-packages\\urllib3\\connectionpool.py:1056: InsecureRequestWarning: Unverified HTTPS request is being made to host 'api.geoapify.com'. Adding certificate verification is strongly advised. See: https://urllib3.readthedocs.io/en/1.26.x/advanced-usage.html#ssl-warnings\n",
      "  warnings.warn(\n"
     ]
    },
    {
     "name": "stdout",
     "output_type": "stream",
     "text": [
      "isangel - nearest hotel: Tanna Lodge\n"
     ]
    },
    {
     "name": "stderr",
     "output_type": "stream",
     "text": [
      "c:\\Users\\cschuttler\\AppData\\Local\\anaconda3\\lib\\site-packages\\urllib3\\connectionpool.py:1056: InsecureRequestWarning: Unverified HTTPS request is being made to host 'api.geoapify.com'. Adding certificate verification is strongly advised. See: https://urllib3.readthedocs.io/en/1.26.x/advanced-usage.html#ssl-warnings\n",
      "  warnings.warn(\n"
     ]
    },
    {
     "name": "stdout",
     "output_type": "stream",
     "text": [
      "luwuk - nearest hotel: No hotel found\n"
     ]
    },
    {
     "name": "stderr",
     "output_type": "stream",
     "text": [
      "c:\\Users\\cschuttler\\AppData\\Local\\anaconda3\\lib\\site-packages\\urllib3\\connectionpool.py:1056: InsecureRequestWarning: Unverified HTTPS request is being made to host 'api.geoapify.com'. Adding certificate verification is strongly advised. See: https://urllib3.readthedocs.io/en/1.26.x/advanced-usage.html#ssl-warnings\n",
      "  warnings.warn(\n"
     ]
    },
    {
     "name": "stdout",
     "output_type": "stream",
     "text": [
      "brookings - nearest hotel: Quality Inn\n"
     ]
    },
    {
     "name": "stderr",
     "output_type": "stream",
     "text": [
      "c:\\Users\\cschuttler\\AppData\\Local\\anaconda3\\lib\\site-packages\\urllib3\\connectionpool.py:1056: InsecureRequestWarning: Unverified HTTPS request is being made to host 'api.geoapify.com'. Adding certificate verification is strongly advised. See: https://urllib3.readthedocs.io/en/1.26.x/advanced-usage.html#ssl-warnings\n",
      "  warnings.warn(\n"
     ]
    },
    {
     "name": "stdout",
     "output_type": "stream",
     "text": [
      "vernon - nearest hotel: Okanagan Royal Park Inn\n"
     ]
    },
    {
     "name": "stderr",
     "output_type": "stream",
     "text": [
      "c:\\Users\\cschuttler\\AppData\\Local\\anaconda3\\lib\\site-packages\\urllib3\\connectionpool.py:1056: InsecureRequestWarning: Unverified HTTPS request is being made to host 'api.geoapify.com'. Adding certificate verification is strongly advised. See: https://urllib3.readthedocs.io/en/1.26.x/advanced-usage.html#ssl-warnings\n",
      "  warnings.warn(\n"
     ]
    },
    {
     "name": "stdout",
     "output_type": "stream",
     "text": [
      "onega - nearest hotel: Гостевой комплекс \"Алёнушка\"\n"
     ]
    },
    {
     "name": "stderr",
     "output_type": "stream",
     "text": [
      "c:\\Users\\cschuttler\\AppData\\Local\\anaconda3\\lib\\site-packages\\urllib3\\connectionpool.py:1056: InsecureRequestWarning: Unverified HTTPS request is being made to host 'api.geoapify.com'. Adding certificate verification is strongly advised. See: https://urllib3.readthedocs.io/en/1.26.x/advanced-usage.html#ssl-warnings\n",
      "  warnings.warn(\n"
     ]
    },
    {
     "name": "stdout",
     "output_type": "stream",
     "text": [
      "vila franca do campo - nearest hotel: Vinha d'Areia Beach Hotel\n"
     ]
    },
    {
     "name": "stderr",
     "output_type": "stream",
     "text": [
      "c:\\Users\\cschuttler\\AppData\\Local\\anaconda3\\lib\\site-packages\\urllib3\\connectionpool.py:1056: InsecureRequestWarning: Unverified HTTPS request is being made to host 'api.geoapify.com'. Adding certificate verification is strongly advised. See: https://urllib3.readthedocs.io/en/1.26.x/advanced-usage.html#ssl-warnings\n",
      "  warnings.warn(\n"
     ]
    },
    {
     "name": "stdout",
     "output_type": "stream",
     "text": [
      "sumenep - nearest hotel: No hotel found\n"
     ]
    },
    {
     "name": "stderr",
     "output_type": "stream",
     "text": [
      "c:\\Users\\cschuttler\\AppData\\Local\\anaconda3\\lib\\site-packages\\urllib3\\connectionpool.py:1056: InsecureRequestWarning: Unverified HTTPS request is being made to host 'api.geoapify.com'. Adding certificate verification is strongly advised. See: https://urllib3.readthedocs.io/en/1.26.x/advanced-usage.html#ssl-warnings\n",
      "  warnings.warn(\n"
     ]
    },
    {
     "name": "stdout",
     "output_type": "stream",
     "text": [
      "erenhot - nearest hotel: Oulen hotel\n"
     ]
    },
    {
     "name": "stderr",
     "output_type": "stream",
     "text": [
      "c:\\Users\\cschuttler\\AppData\\Local\\anaconda3\\lib\\site-packages\\urllib3\\connectionpool.py:1056: InsecureRequestWarning: Unverified HTTPS request is being made to host 'api.geoapify.com'. Adding certificate verification is strongly advised. See: https://urllib3.readthedocs.io/en/1.26.x/advanced-usage.html#ssl-warnings\n",
      "  warnings.warn(\n"
     ]
    },
    {
     "name": "stdout",
     "output_type": "stream",
     "text": [
      "codrington - nearest hotel: No hotel found\n"
     ]
    },
    {
     "name": "stderr",
     "output_type": "stream",
     "text": [
      "c:\\Users\\cschuttler\\AppData\\Local\\anaconda3\\lib\\site-packages\\urllib3\\connectionpool.py:1056: InsecureRequestWarning: Unverified HTTPS request is being made to host 'api.geoapify.com'. Adding certificate verification is strongly advised. See: https://urllib3.readthedocs.io/en/1.26.x/advanced-usage.html#ssl-warnings\n",
      "  warnings.warn(\n"
     ]
    },
    {
     "name": "stdout",
     "output_type": "stream",
     "text": [
      "cooper's town - nearest hotel: No hotel found\n"
     ]
    },
    {
     "name": "stderr",
     "output_type": "stream",
     "text": [
      "c:\\Users\\cschuttler\\AppData\\Local\\anaconda3\\lib\\site-packages\\urllib3\\connectionpool.py:1056: InsecureRequestWarning: Unverified HTTPS request is being made to host 'api.geoapify.com'. Adding certificate verification is strongly advised. See: https://urllib3.readthedocs.io/en/1.26.x/advanced-usage.html#ssl-warnings\n",
      "  warnings.warn(\n"
     ]
    },
    {
     "name": "stdout",
     "output_type": "stream",
     "text": [
      "taoudenni - nearest hotel: No hotel found\n"
     ]
    },
    {
     "name": "stderr",
     "output_type": "stream",
     "text": [
      "c:\\Users\\cschuttler\\AppData\\Local\\anaconda3\\lib\\site-packages\\urllib3\\connectionpool.py:1056: InsecureRequestWarning: Unverified HTTPS request is being made to host 'api.geoapify.com'. Adding certificate verification is strongly advised. See: https://urllib3.readthedocs.io/en/1.26.x/advanced-usage.html#ssl-warnings\n",
      "  warnings.warn(\n"
     ]
    },
    {
     "name": "stdout",
     "output_type": "stream",
     "text": [
      "hasaki - nearest hotel: 大新旅館\n"
     ]
    },
    {
     "name": "stderr",
     "output_type": "stream",
     "text": [
      "c:\\Users\\cschuttler\\AppData\\Local\\anaconda3\\lib\\site-packages\\urllib3\\connectionpool.py:1056: InsecureRequestWarning: Unverified HTTPS request is being made to host 'api.geoapify.com'. Adding certificate verification is strongly advised. See: https://urllib3.readthedocs.io/en/1.26.x/advanced-usage.html#ssl-warnings\n",
      "  warnings.warn(\n"
     ]
    },
    {
     "name": "stdout",
     "output_type": "stream",
     "text": [
      "msowero - nearest hotel: No hotel found\n"
     ]
    },
    {
     "name": "stderr",
     "output_type": "stream",
     "text": [
      "c:\\Users\\cschuttler\\AppData\\Local\\anaconda3\\lib\\site-packages\\urllib3\\connectionpool.py:1056: InsecureRequestWarning: Unverified HTTPS request is being made to host 'api.geoapify.com'. Adding certificate verification is strongly advised. See: https://urllib3.readthedocs.io/en/1.26.x/advanced-usage.html#ssl-warnings\n",
      "  warnings.warn(\n"
     ]
    },
    {
     "name": "stdout",
     "output_type": "stream",
     "text": [
      "valparaiso - nearest hotel: Ibis Hotel\n"
     ]
    },
    {
     "name": "stderr",
     "output_type": "stream",
     "text": [
      "c:\\Users\\cschuttler\\AppData\\Local\\anaconda3\\lib\\site-packages\\urllib3\\connectionpool.py:1056: InsecureRequestWarning: Unverified HTTPS request is being made to host 'api.geoapify.com'. Adding certificate verification is strongly advised. See: https://urllib3.readthedocs.io/en/1.26.x/advanced-usage.html#ssl-warnings\n",
      "  warnings.warn(\n"
     ]
    },
    {
     "name": "stdout",
     "output_type": "stream",
     "text": [
      "gadzhiyevo - nearest hotel: Оазис\n"
     ]
    },
    {
     "name": "stderr",
     "output_type": "stream",
     "text": [
      "c:\\Users\\cschuttler\\AppData\\Local\\anaconda3\\lib\\site-packages\\urllib3\\connectionpool.py:1056: InsecureRequestWarning: Unverified HTTPS request is being made to host 'api.geoapify.com'. Adding certificate verification is strongly advised. See: https://urllib3.readthedocs.io/en/1.26.x/advanced-usage.html#ssl-warnings\n",
      "  warnings.warn(\n"
     ]
    },
    {
     "name": "stdout",
     "output_type": "stream",
     "text": [
      "san salvador - nearest hotel: Hotel El Palacio\n"
     ]
    },
    {
     "name": "stderr",
     "output_type": "stream",
     "text": [
      "c:\\Users\\cschuttler\\AppData\\Local\\anaconda3\\lib\\site-packages\\urllib3\\connectionpool.py:1056: InsecureRequestWarning: Unverified HTTPS request is being made to host 'api.geoapify.com'. Adding certificate verification is strongly advised. See: https://urllib3.readthedocs.io/en/1.26.x/advanced-usage.html#ssl-warnings\n",
      "  warnings.warn(\n"
     ]
    },
    {
     "name": "stdout",
     "output_type": "stream",
     "text": [
      "bryne - nearest hotel: Jæren hotell\n"
     ]
    },
    {
     "name": "stderr",
     "output_type": "stream",
     "text": [
      "c:\\Users\\cschuttler\\AppData\\Local\\anaconda3\\lib\\site-packages\\urllib3\\connectionpool.py:1056: InsecureRequestWarning: Unverified HTTPS request is being made to host 'api.geoapify.com'. Adding certificate verification is strongly advised. See: https://urllib3.readthedocs.io/en/1.26.x/advanced-usage.html#ssl-warnings\n",
      "  warnings.warn(\n"
     ]
    },
    {
     "name": "stdout",
     "output_type": "stream",
     "text": [
      "bentota - nearest hotel: Serendib\n"
     ]
    },
    {
     "name": "stderr",
     "output_type": "stream",
     "text": [
      "c:\\Users\\cschuttler\\AppData\\Local\\anaconda3\\lib\\site-packages\\urllib3\\connectionpool.py:1056: InsecureRequestWarning: Unverified HTTPS request is being made to host 'api.geoapify.com'. Adding certificate verification is strongly advised. See: https://urllib3.readthedocs.io/en/1.26.x/advanced-usage.html#ssl-warnings\n",
      "  warnings.warn(\n"
     ]
    },
    {
     "name": "stdout",
     "output_type": "stream",
     "text": [
      "lycksele - nearest hotel: City Hotellet\n"
     ]
    },
    {
     "name": "stderr",
     "output_type": "stream",
     "text": [
      "c:\\Users\\cschuttler\\AppData\\Local\\anaconda3\\lib\\site-packages\\urllib3\\connectionpool.py:1056: InsecureRequestWarning: Unverified HTTPS request is being made to host 'api.geoapify.com'. Adding certificate verification is strongly advised. See: https://urllib3.readthedocs.io/en/1.26.x/advanced-usage.html#ssl-warnings\n",
      "  warnings.warn(\n"
     ]
    },
    {
     "name": "stdout",
     "output_type": "stream",
     "text": [
      "kirakira - nearest hotel: No hotel found\n"
     ]
    },
    {
     "name": "stderr",
     "output_type": "stream",
     "text": [
      "c:\\Users\\cschuttler\\AppData\\Local\\anaconda3\\lib\\site-packages\\urllib3\\connectionpool.py:1056: InsecureRequestWarning: Unverified HTTPS request is being made to host 'api.geoapify.com'. Adding certificate verification is strongly advised. See: https://urllib3.readthedocs.io/en/1.26.x/advanced-usage.html#ssl-warnings\n",
      "  warnings.warn(\n"
     ]
    },
    {
     "name": "stdout",
     "output_type": "stream",
     "text": [
      "carutapera - nearest hotel: No hotel found\n"
     ]
    },
    {
     "name": "stderr",
     "output_type": "stream",
     "text": [
      "c:\\Users\\cschuttler\\AppData\\Local\\anaconda3\\lib\\site-packages\\urllib3\\connectionpool.py:1056: InsecureRequestWarning: Unverified HTTPS request is being made to host 'api.geoapify.com'. Adding certificate verification is strongly advised. See: https://urllib3.readthedocs.io/en/1.26.x/advanced-usage.html#ssl-warnings\n",
      "  warnings.warn(\n"
     ]
    },
    {
     "name": "stdout",
     "output_type": "stream",
     "text": [
      "salalah - nearest hotel: Muscat International Hotel\n"
     ]
    },
    {
     "name": "stderr",
     "output_type": "stream",
     "text": [
      "c:\\Users\\cschuttler\\AppData\\Local\\anaconda3\\lib\\site-packages\\urllib3\\connectionpool.py:1056: InsecureRequestWarning: Unverified HTTPS request is being made to host 'api.geoapify.com'. Adding certificate verification is strongly advised. See: https://urllib3.readthedocs.io/en/1.26.x/advanced-usage.html#ssl-warnings\n",
      "  warnings.warn(\n"
     ]
    },
    {
     "name": "stdout",
     "output_type": "stream",
     "text": [
      "bobo-dioulasso - nearest hotel: Teria\n"
     ]
    },
    {
     "name": "stderr",
     "output_type": "stream",
     "text": [
      "c:\\Users\\cschuttler\\AppData\\Local\\anaconda3\\lib\\site-packages\\urllib3\\connectionpool.py:1056: InsecureRequestWarning: Unverified HTTPS request is being made to host 'api.geoapify.com'. Adding certificate verification is strongly advised. See: https://urllib3.readthedocs.io/en/1.26.x/advanced-usage.html#ssl-warnings\n",
      "  warnings.warn(\n"
     ]
    },
    {
     "name": "stdout",
     "output_type": "stream",
     "text": [
      "talakan - nearest hotel: Талакан\n"
     ]
    },
    {
     "name": "stderr",
     "output_type": "stream",
     "text": [
      "c:\\Users\\cschuttler\\AppData\\Local\\anaconda3\\lib\\site-packages\\urllib3\\connectionpool.py:1056: InsecureRequestWarning: Unverified HTTPS request is being made to host 'api.geoapify.com'. Adding certificate verification is strongly advised. See: https://urllib3.readthedocs.io/en/1.26.x/advanced-usage.html#ssl-warnings\n",
      "  warnings.warn(\n"
     ]
    },
    {
     "name": "stdout",
     "output_type": "stream",
     "text": [
      "gorontalo - nearest hotel: Grand City Hotel\n"
     ]
    },
    {
     "name": "stderr",
     "output_type": "stream",
     "text": [
      "c:\\Users\\cschuttler\\AppData\\Local\\anaconda3\\lib\\site-packages\\urllib3\\connectionpool.py:1056: InsecureRequestWarning: Unverified HTTPS request is being made to host 'api.geoapify.com'. Adding certificate verification is strongly advised. See: https://urllib3.readthedocs.io/en/1.26.x/advanced-usage.html#ssl-warnings\n",
      "  warnings.warn(\n"
     ]
    },
    {
     "name": "stdout",
     "output_type": "stream",
     "text": [
      "troitsko-pechorsk - nearest hotel: Гостиница \"Печора\"\n"
     ]
    },
    {
     "name": "stderr",
     "output_type": "stream",
     "text": [
      "c:\\Users\\cschuttler\\AppData\\Local\\anaconda3\\lib\\site-packages\\urllib3\\connectionpool.py:1056: InsecureRequestWarning: Unverified HTTPS request is being made to host 'api.geoapify.com'. Adding certificate verification is strongly advised. See: https://urllib3.readthedocs.io/en/1.26.x/advanced-usage.html#ssl-warnings\n",
      "  warnings.warn(\n"
     ]
    },
    {
     "name": "stdout",
     "output_type": "stream",
     "text": [
      "carnarvon - nearest hotel: No hotel found\n"
     ]
    },
    {
     "name": "stderr",
     "output_type": "stream",
     "text": [
      "c:\\Users\\cschuttler\\AppData\\Local\\anaconda3\\lib\\site-packages\\urllib3\\connectionpool.py:1056: InsecureRequestWarning: Unverified HTTPS request is being made to host 'api.geoapify.com'. Adding certificate verification is strongly advised. See: https://urllib3.readthedocs.io/en/1.26.x/advanced-usage.html#ssl-warnings\n",
      "  warnings.warn(\n"
     ]
    },
    {
     "name": "stdout",
     "output_type": "stream",
     "text": [
      "sumbe - nearest hotel: No hotel found\n"
     ]
    },
    {
     "name": "stderr",
     "output_type": "stream",
     "text": [
      "c:\\Users\\cschuttler\\AppData\\Local\\anaconda3\\lib\\site-packages\\urllib3\\connectionpool.py:1056: InsecureRequestWarning: Unverified HTTPS request is being made to host 'api.geoapify.com'. Adding certificate verification is strongly advised. See: https://urllib3.readthedocs.io/en/1.26.x/advanced-usage.html#ssl-warnings\n",
      "  warnings.warn(\n"
     ]
    },
    {
     "name": "stdout",
     "output_type": "stream",
     "text": [
      "la paz - nearest hotel: Alojamiento Tokio\n"
     ]
    },
    {
     "name": "stderr",
     "output_type": "stream",
     "text": [
      "c:\\Users\\cschuttler\\AppData\\Local\\anaconda3\\lib\\site-packages\\urllib3\\connectionpool.py:1056: InsecureRequestWarning: Unverified HTTPS request is being made to host 'api.geoapify.com'. Adding certificate verification is strongly advised. See: https://urllib3.readthedocs.io/en/1.26.x/advanced-usage.html#ssl-warnings\n",
      "  warnings.warn(\n"
     ]
    },
    {
     "name": "stdout",
     "output_type": "stream",
     "text": [
      "yanggu - nearest hotel: 狮子楼大酒店\n"
     ]
    },
    {
     "name": "stderr",
     "output_type": "stream",
     "text": [
      "c:\\Users\\cschuttler\\AppData\\Local\\anaconda3\\lib\\site-packages\\urllib3\\connectionpool.py:1056: InsecureRequestWarning: Unverified HTTPS request is being made to host 'api.geoapify.com'. Adding certificate verification is strongly advised. See: https://urllib3.readthedocs.io/en/1.26.x/advanced-usage.html#ssl-warnings\n",
      "  warnings.warn(\n"
     ]
    },
    {
     "name": "stdout",
     "output_type": "stream",
     "text": [
      "aliwal north - nearest hotel: No hotel found\n"
     ]
    },
    {
     "name": "stderr",
     "output_type": "stream",
     "text": [
      "c:\\Users\\cschuttler\\AppData\\Local\\anaconda3\\lib\\site-packages\\urllib3\\connectionpool.py:1056: InsecureRequestWarning: Unverified HTTPS request is being made to host 'api.geoapify.com'. Adding certificate verification is strongly advised. See: https://urllib3.readthedocs.io/en/1.26.x/advanced-usage.html#ssl-warnings\n",
      "  warnings.warn(\n"
     ]
    },
    {
     "name": "stdout",
     "output_type": "stream",
     "text": [
      "general cabrera - nearest hotel: Hotel Los Naranjos\n"
     ]
    },
    {
     "name": "stderr",
     "output_type": "stream",
     "text": [
      "c:\\Users\\cschuttler\\AppData\\Local\\anaconda3\\lib\\site-packages\\urllib3\\connectionpool.py:1056: InsecureRequestWarning: Unverified HTTPS request is being made to host 'api.geoapify.com'. Adding certificate verification is strongly advised. See: https://urllib3.readthedocs.io/en/1.26.x/advanced-usage.html#ssl-warnings\n",
      "  warnings.warn(\n"
     ]
    },
    {
     "name": "stdout",
     "output_type": "stream",
     "text": [
      "mil'kovo - nearest hotel: Дрозды\n"
     ]
    },
    {
     "name": "stderr",
     "output_type": "stream",
     "text": [
      "c:\\Users\\cschuttler\\AppData\\Local\\anaconda3\\lib\\site-packages\\urllib3\\connectionpool.py:1056: InsecureRequestWarning: Unverified HTTPS request is being made to host 'api.geoapify.com'. Adding certificate verification is strongly advised. See: https://urllib3.readthedocs.io/en/1.26.x/advanced-usage.html#ssl-warnings\n",
      "  warnings.warn(\n"
     ]
    },
    {
     "name": "stdout",
     "output_type": "stream",
     "text": [
      "alesund - nearest hotel: Brosundet\n"
     ]
    },
    {
     "name": "stderr",
     "output_type": "stream",
     "text": [
      "c:\\Users\\cschuttler\\AppData\\Local\\anaconda3\\lib\\site-packages\\urllib3\\connectionpool.py:1056: InsecureRequestWarning: Unverified HTTPS request is being made to host 'api.geoapify.com'. Adding certificate verification is strongly advised. See: https://urllib3.readthedocs.io/en/1.26.x/advanced-usage.html#ssl-warnings\n",
      "  warnings.warn(\n"
     ]
    },
    {
     "name": "stdout",
     "output_type": "stream",
     "text": [
      "pachino - nearest hotel: Hotel Celeste\n"
     ]
    },
    {
     "name": "stderr",
     "output_type": "stream",
     "text": [
      "c:\\Users\\cschuttler\\AppData\\Local\\anaconda3\\lib\\site-packages\\urllib3\\connectionpool.py:1056: InsecureRequestWarning: Unverified HTTPS request is being made to host 'api.geoapify.com'. Adding certificate verification is strongly advised. See: https://urllib3.readthedocs.io/en/1.26.x/advanced-usage.html#ssl-warnings\n",
      "  warnings.warn(\n"
     ]
    },
    {
     "name": "stdout",
     "output_type": "stream",
     "text": [
      "corn island - nearest hotel: Sunrise Hotel\n"
     ]
    },
    {
     "name": "stderr",
     "output_type": "stream",
     "text": [
      "c:\\Users\\cschuttler\\AppData\\Local\\anaconda3\\lib\\site-packages\\urllib3\\connectionpool.py:1056: InsecureRequestWarning: Unverified HTTPS request is being made to host 'api.geoapify.com'. Adding certificate verification is strongly advised. See: https://urllib3.readthedocs.io/en/1.26.x/advanced-usage.html#ssl-warnings\n",
      "  warnings.warn(\n"
     ]
    },
    {
     "name": "stdout",
     "output_type": "stream",
     "text": [
      "tinogasta - nearest hotel: No hotel found\n"
     ]
    },
    {
     "name": "stderr",
     "output_type": "stream",
     "text": [
      "c:\\Users\\cschuttler\\AppData\\Local\\anaconda3\\lib\\site-packages\\urllib3\\connectionpool.py:1056: InsecureRequestWarning: Unverified HTTPS request is being made to host 'api.geoapify.com'. Adding certificate verification is strongly advised. See: https://urllib3.readthedocs.io/en/1.26.x/advanced-usage.html#ssl-warnings\n",
      "  warnings.warn(\n"
     ]
    },
    {
     "name": "stdout",
     "output_type": "stream",
     "text": [
      "berrahal - nearest hotel: No hotel found\n"
     ]
    },
    {
     "name": "stderr",
     "output_type": "stream",
     "text": [
      "c:\\Users\\cschuttler\\AppData\\Local\\anaconda3\\lib\\site-packages\\urllib3\\connectionpool.py:1056: InsecureRequestWarning: Unverified HTTPS request is being made to host 'api.geoapify.com'. Adding certificate verification is strongly advised. See: https://urllib3.readthedocs.io/en/1.26.x/advanced-usage.html#ssl-warnings\n",
      "  warnings.warn(\n"
     ]
    },
    {
     "name": "stdout",
     "output_type": "stream",
     "text": [
      "bucerias - nearest hotel: Royal Decameron Complex\n"
     ]
    },
    {
     "name": "stderr",
     "output_type": "stream",
     "text": [
      "c:\\Users\\cschuttler\\AppData\\Local\\anaconda3\\lib\\site-packages\\urllib3\\connectionpool.py:1056: InsecureRequestWarning: Unverified HTTPS request is being made to host 'api.geoapify.com'. Adding certificate verification is strongly advised. See: https://urllib3.readthedocs.io/en/1.26.x/advanced-usage.html#ssl-warnings\n",
      "  warnings.warn(\n"
     ]
    },
    {
     "name": "stdout",
     "output_type": "stream",
     "text": [
      "remire-montjoly - nearest hotel: Complexe Belova\n"
     ]
    },
    {
     "name": "stderr",
     "output_type": "stream",
     "text": [
      "c:\\Users\\cschuttler\\AppData\\Local\\anaconda3\\lib\\site-packages\\urllib3\\connectionpool.py:1056: InsecureRequestWarning: Unverified HTTPS request is being made to host 'api.geoapify.com'. Adding certificate verification is strongly advised. See: https://urllib3.readthedocs.io/en/1.26.x/advanced-usage.html#ssl-warnings\n",
      "  warnings.warn(\n"
     ]
    },
    {
     "name": "stdout",
     "output_type": "stream",
     "text": [
      "mount isa - nearest hotel: Ibis Styles\n"
     ]
    },
    {
     "name": "stderr",
     "output_type": "stream",
     "text": [
      "c:\\Users\\cschuttler\\AppData\\Local\\anaconda3\\lib\\site-packages\\urllib3\\connectionpool.py:1056: InsecureRequestWarning: Unverified HTTPS request is being made to host 'api.geoapify.com'. Adding certificate verification is strongly advised. See: https://urllib3.readthedocs.io/en/1.26.x/advanced-usage.html#ssl-warnings\n",
      "  warnings.warn(\n"
     ]
    },
    {
     "name": "stdout",
     "output_type": "stream",
     "text": [
      "sinop - nearest hotel: No hotel found\n"
     ]
    },
    {
     "name": "stderr",
     "output_type": "stream",
     "text": [
      "c:\\Users\\cschuttler\\AppData\\Local\\anaconda3\\lib\\site-packages\\urllib3\\connectionpool.py:1056: InsecureRequestWarning: Unverified HTTPS request is being made to host 'api.geoapify.com'. Adding certificate verification is strongly advised. See: https://urllib3.readthedocs.io/en/1.26.x/advanced-usage.html#ssl-warnings\n",
      "  warnings.warn(\n"
     ]
    },
    {
     "name": "stdout",
     "output_type": "stream",
     "text": [
      "nova vicosa - nearest hotel: Pousada Pontal da Barra\n"
     ]
    },
    {
     "name": "stderr",
     "output_type": "stream",
     "text": [
      "c:\\Users\\cschuttler\\AppData\\Local\\anaconda3\\lib\\site-packages\\urllib3\\connectionpool.py:1056: InsecureRequestWarning: Unverified HTTPS request is being made to host 'api.geoapify.com'. Adding certificate verification is strongly advised. See: https://urllib3.readthedocs.io/en/1.26.x/advanced-usage.html#ssl-warnings\n",
      "  warnings.warn(\n"
     ]
    },
    {
     "name": "stdout",
     "output_type": "stream",
     "text": [
      "tsiombe - nearest hotel: No hotel found\n"
     ]
    },
    {
     "name": "stderr",
     "output_type": "stream",
     "text": [
      "c:\\Users\\cschuttler\\AppData\\Local\\anaconda3\\lib\\site-packages\\urllib3\\connectionpool.py:1056: InsecureRequestWarning: Unverified HTTPS request is being made to host 'api.geoapify.com'. Adding certificate verification is strongly advised. See: https://urllib3.readthedocs.io/en/1.26.x/advanced-usage.html#ssl-warnings\n",
      "  warnings.warn(\n"
     ]
    },
    {
     "name": "stdout",
     "output_type": "stream",
     "text": [
      "chitungwiza - nearest hotel: No hotel found\n"
     ]
    },
    {
     "name": "stderr",
     "output_type": "stream",
     "text": [
      "c:\\Users\\cschuttler\\AppData\\Local\\anaconda3\\lib\\site-packages\\urllib3\\connectionpool.py:1056: InsecureRequestWarning: Unverified HTTPS request is being made to host 'api.geoapify.com'. Adding certificate verification is strongly advised. See: https://urllib3.readthedocs.io/en/1.26.x/advanced-usage.html#ssl-warnings\n",
      "  warnings.warn(\n"
     ]
    },
    {
     "name": "stdout",
     "output_type": "stream",
     "text": [
      "newman - nearest hotel: No hotel found\n"
     ]
    },
    {
     "name": "stderr",
     "output_type": "stream",
     "text": [
      "c:\\Users\\cschuttler\\AppData\\Local\\anaconda3\\lib\\site-packages\\urllib3\\connectionpool.py:1056: InsecureRequestWarning: Unverified HTTPS request is being made to host 'api.geoapify.com'. Adding certificate verification is strongly advised. See: https://urllib3.readthedocs.io/en/1.26.x/advanced-usage.html#ssl-warnings\n",
      "  warnings.warn(\n"
     ]
    },
    {
     "name": "stdout",
     "output_type": "stream",
     "text": [
      "lydenburg - nearest hotel: No hotel found\n"
     ]
    },
    {
     "name": "stderr",
     "output_type": "stream",
     "text": [
      "c:\\Users\\cschuttler\\AppData\\Local\\anaconda3\\lib\\site-packages\\urllib3\\connectionpool.py:1056: InsecureRequestWarning: Unverified HTTPS request is being made to host 'api.geoapify.com'. Adding certificate verification is strongly advised. See: https://urllib3.readthedocs.io/en/1.26.x/advanced-usage.html#ssl-warnings\n",
      "  warnings.warn(\n"
     ]
    },
    {
     "name": "stdout",
     "output_type": "stream",
     "text": [
      "cill airne - nearest hotel: The Parkavon Hotel\n"
     ]
    },
    {
     "name": "stderr",
     "output_type": "stream",
     "text": [
      "c:\\Users\\cschuttler\\AppData\\Local\\anaconda3\\lib\\site-packages\\urllib3\\connectionpool.py:1056: InsecureRequestWarning: Unverified HTTPS request is being made to host 'api.geoapify.com'. Adding certificate verification is strongly advised. See: https://urllib3.readthedocs.io/en/1.26.x/advanced-usage.html#ssl-warnings\n",
      "  warnings.warn(\n"
     ]
    },
    {
     "name": "stdout",
     "output_type": "stream",
     "text": [
      "burang - nearest hotel: No hotel found\n"
     ]
    },
    {
     "name": "stderr",
     "output_type": "stream",
     "text": [
      "c:\\Users\\cschuttler\\AppData\\Local\\anaconda3\\lib\\site-packages\\urllib3\\connectionpool.py:1056: InsecureRequestWarning: Unverified HTTPS request is being made to host 'api.geoapify.com'. Adding certificate verification is strongly advised. See: https://urllib3.readthedocs.io/en/1.26.x/advanced-usage.html#ssl-warnings\n",
      "  warnings.warn(\n"
     ]
    },
    {
     "name": "stdout",
     "output_type": "stream",
     "text": [
      "kasongo-lunda - nearest hotel: No hotel found\n"
     ]
    },
    {
     "name": "stderr",
     "output_type": "stream",
     "text": [
      "c:\\Users\\cschuttler\\AppData\\Local\\anaconda3\\lib\\site-packages\\urllib3\\connectionpool.py:1056: InsecureRequestWarning: Unverified HTTPS request is being made to host 'api.geoapify.com'. Adding certificate verification is strongly advised. See: https://urllib3.readthedocs.io/en/1.26.x/advanced-usage.html#ssl-warnings\n",
      "  warnings.warn(\n"
     ]
    },
    {
     "name": "stdout",
     "output_type": "stream",
     "text": [
      "tindouf - nearest hotel: محمد بوسبي\n"
     ]
    },
    {
     "name": "stderr",
     "output_type": "stream",
     "text": [
      "c:\\Users\\cschuttler\\AppData\\Local\\anaconda3\\lib\\site-packages\\urllib3\\connectionpool.py:1056: InsecureRequestWarning: Unverified HTTPS request is being made to host 'api.geoapify.com'. Adding certificate verification is strongly advised. See: https://urllib3.readthedocs.io/en/1.26.x/advanced-usage.html#ssl-warnings\n",
      "  warnings.warn(\n"
     ]
    },
    {
     "name": "stdout",
     "output_type": "stream",
     "text": [
      "glace bay - nearest hotel: No hotel found\n"
     ]
    },
    {
     "name": "stderr",
     "output_type": "stream",
     "text": [
      "c:\\Users\\cschuttler\\AppData\\Local\\anaconda3\\lib\\site-packages\\urllib3\\connectionpool.py:1056: InsecureRequestWarning: Unverified HTTPS request is being made to host 'api.geoapify.com'. Adding certificate verification is strongly advised. See: https://urllib3.readthedocs.io/en/1.26.x/advanced-usage.html#ssl-warnings\n",
      "  warnings.warn(\n"
     ]
    },
    {
     "name": "stdout",
     "output_type": "stream",
     "text": [
      "susuman - nearest hotel: No hotel found\n"
     ]
    },
    {
     "name": "stderr",
     "output_type": "stream",
     "text": [
      "c:\\Users\\cschuttler\\AppData\\Local\\anaconda3\\lib\\site-packages\\urllib3\\connectionpool.py:1056: InsecureRequestWarning: Unverified HTTPS request is being made to host 'api.geoapify.com'. Adding certificate verification is strongly advised. See: https://urllib3.readthedocs.io/en/1.26.x/advanced-usage.html#ssl-warnings\n",
      "  warnings.warn(\n"
     ]
    },
    {
     "name": "stdout",
     "output_type": "stream",
     "text": [
      "marquelia - nearest hotel: No hotel found\n"
     ]
    },
    {
     "name": "stderr",
     "output_type": "stream",
     "text": [
      "c:\\Users\\cschuttler\\AppData\\Local\\anaconda3\\lib\\site-packages\\urllib3\\connectionpool.py:1056: InsecureRequestWarning: Unverified HTTPS request is being made to host 'api.geoapify.com'. Adding certificate verification is strongly advised. See: https://urllib3.readthedocs.io/en/1.26.x/advanced-usage.html#ssl-warnings\n",
      "  warnings.warn(\n"
     ]
    },
    {
     "name": "stdout",
     "output_type": "stream",
     "text": [
      "bonthe - nearest hotel: No hotel found\n"
     ]
    },
    {
     "name": "stderr",
     "output_type": "stream",
     "text": [
      "c:\\Users\\cschuttler\\AppData\\Local\\anaconda3\\lib\\site-packages\\urllib3\\connectionpool.py:1056: InsecureRequestWarning: Unverified HTTPS request is being made to host 'api.geoapify.com'. Adding certificate verification is strongly advised. See: https://urllib3.readthedocs.io/en/1.26.x/advanced-usage.html#ssl-warnings\n",
      "  warnings.warn(\n"
     ]
    },
    {
     "name": "stdout",
     "output_type": "stream",
     "text": [
      "prado - nearest hotel: Pousada Recanto do Prado\n"
     ]
    },
    {
     "name": "stderr",
     "output_type": "stream",
     "text": [
      "c:\\Users\\cschuttler\\AppData\\Local\\anaconda3\\lib\\site-packages\\urllib3\\connectionpool.py:1056: InsecureRequestWarning: Unverified HTTPS request is being made to host 'api.geoapify.com'. Adding certificate verification is strongly advised. See: https://urllib3.readthedocs.io/en/1.26.x/advanced-usage.html#ssl-warnings\n",
      "  warnings.warn(\n"
     ]
    },
    {
     "name": "stdout",
     "output_type": "stream",
     "text": [
      "shalqar - nearest hotel: Бекнур\n"
     ]
    },
    {
     "name": "stderr",
     "output_type": "stream",
     "text": [
      "c:\\Users\\cschuttler\\AppData\\Local\\anaconda3\\lib\\site-packages\\urllib3\\connectionpool.py:1056: InsecureRequestWarning: Unverified HTTPS request is being made to host 'api.geoapify.com'. Adding certificate verification is strongly advised. See: https://urllib3.readthedocs.io/en/1.26.x/advanced-usage.html#ssl-warnings\n",
      "  warnings.warn(\n"
     ]
    },
    {
     "name": "stdout",
     "output_type": "stream",
     "text": [
      "mayqayyng - nearest hotel: No hotel found\n"
     ]
    },
    {
     "name": "stderr",
     "output_type": "stream",
     "text": [
      "c:\\Users\\cschuttler\\AppData\\Local\\anaconda3\\lib\\site-packages\\urllib3\\connectionpool.py:1056: InsecureRequestWarning: Unverified HTTPS request is being made to host 'api.geoapify.com'. Adding certificate verification is strongly advised. See: https://urllib3.readthedocs.io/en/1.26.x/advanced-usage.html#ssl-warnings\n",
      "  warnings.warn(\n"
     ]
    },
    {
     "name": "stdout",
     "output_type": "stream",
     "text": [
      "beira - nearest hotel: Hotel Savoy\n"
     ]
    },
    {
     "name": "stderr",
     "output_type": "stream",
     "text": [
      "c:\\Users\\cschuttler\\AppData\\Local\\anaconda3\\lib\\site-packages\\urllib3\\connectionpool.py:1056: InsecureRequestWarning: Unverified HTTPS request is being made to host 'api.geoapify.com'. Adding certificate verification is strongly advised. See: https://urllib3.readthedocs.io/en/1.26.x/advanced-usage.html#ssl-warnings\n",
      "  warnings.warn(\n"
     ]
    },
    {
     "name": "stdout",
     "output_type": "stream",
     "text": [
      "laojunmiao - nearest hotel: No hotel found\n"
     ]
    },
    {
     "name": "stderr",
     "output_type": "stream",
     "text": [
      "c:\\Users\\cschuttler\\AppData\\Local\\anaconda3\\lib\\site-packages\\urllib3\\connectionpool.py:1056: InsecureRequestWarning: Unverified HTTPS request is being made to host 'api.geoapify.com'. Adding certificate verification is strongly advised. See: https://urllib3.readthedocs.io/en/1.26.x/advanced-usage.html#ssl-warnings\n",
      "  warnings.warn(\n"
     ]
    },
    {
     "name": "stdout",
     "output_type": "stream",
     "text": [
      "hermosillo - nearest hotel: Lucerna\n"
     ]
    },
    {
     "name": "stderr",
     "output_type": "stream",
     "text": [
      "c:\\Users\\cschuttler\\AppData\\Local\\anaconda3\\lib\\site-packages\\urllib3\\connectionpool.py:1056: InsecureRequestWarning: Unverified HTTPS request is being made to host 'api.geoapify.com'. Adding certificate verification is strongly advised. See: https://urllib3.readthedocs.io/en/1.26.x/advanced-usage.html#ssl-warnings\n",
      "  warnings.warn(\n"
     ]
    },
    {
     "name": "stdout",
     "output_type": "stream",
     "text": [
      "malinyi - nearest hotel: No hotel found\n"
     ]
    },
    {
     "name": "stderr",
     "output_type": "stream",
     "text": [
      "c:\\Users\\cschuttler\\AppData\\Local\\anaconda3\\lib\\site-packages\\urllib3\\connectionpool.py:1056: InsecureRequestWarning: Unverified HTTPS request is being made to host 'api.geoapify.com'. Adding certificate verification is strongly advised. See: https://urllib3.readthedocs.io/en/1.26.x/advanced-usage.html#ssl-warnings\n",
      "  warnings.warn(\n"
     ]
    },
    {
     "name": "stdout",
     "output_type": "stream",
     "text": [
      "sidi bennour - nearest hotel: فندق المسافرين\n"
     ]
    },
    {
     "name": "stderr",
     "output_type": "stream",
     "text": [
      "c:\\Users\\cschuttler\\AppData\\Local\\anaconda3\\lib\\site-packages\\urllib3\\connectionpool.py:1056: InsecureRequestWarning: Unverified HTTPS request is being made to host 'api.geoapify.com'. Adding certificate verification is strongly advised. See: https://urllib3.readthedocs.io/en/1.26.x/advanced-usage.html#ssl-warnings\n",
      "  warnings.warn(\n"
     ]
    },
    {
     "name": "stdout",
     "output_type": "stream",
     "text": [
      "martapura - nearest hotel: Q-Hotel Grand Dafam\n"
     ]
    },
    {
     "name": "stderr",
     "output_type": "stream",
     "text": [
      "c:\\Users\\cschuttler\\AppData\\Local\\anaconda3\\lib\\site-packages\\urllib3\\connectionpool.py:1056: InsecureRequestWarning: Unverified HTTPS request is being made to host 'api.geoapify.com'. Adding certificate verification is strongly advised. See: https://urllib3.readthedocs.io/en/1.26.x/advanced-usage.html#ssl-warnings\n",
      "  warnings.warn(\n"
     ]
    },
    {
     "name": "stdout",
     "output_type": "stream",
     "text": [
      "misawa - nearest hotel: 三沢ハイランドホテル\n"
     ]
    },
    {
     "name": "stderr",
     "output_type": "stream",
     "text": [
      "c:\\Users\\cschuttler\\AppData\\Local\\anaconda3\\lib\\site-packages\\urllib3\\connectionpool.py:1056: InsecureRequestWarning: Unverified HTTPS request is being made to host 'api.geoapify.com'. Adding certificate verification is strongly advised. See: https://urllib3.readthedocs.io/en/1.26.x/advanced-usage.html#ssl-warnings\n",
      "  warnings.warn(\n"
     ]
    },
    {
     "name": "stdout",
     "output_type": "stream",
     "text": [
      "antonio enes - nearest hotel: Hotel Quirimbas\n"
     ]
    },
    {
     "name": "stderr",
     "output_type": "stream",
     "text": [
      "c:\\Users\\cschuttler\\AppData\\Local\\anaconda3\\lib\\site-packages\\urllib3\\connectionpool.py:1056: InsecureRequestWarning: Unverified HTTPS request is being made to host 'api.geoapify.com'. Adding certificate verification is strongly advised. See: https://urllib3.readthedocs.io/en/1.26.x/advanced-usage.html#ssl-warnings\n",
      "  warnings.warn(\n"
     ]
    },
    {
     "name": "stdout",
     "output_type": "stream",
     "text": [
      "boa vista - nearest hotel: Aipana Plaza Hotel\n"
     ]
    },
    {
     "name": "stderr",
     "output_type": "stream",
     "text": [
      "c:\\Users\\cschuttler\\AppData\\Local\\anaconda3\\lib\\site-packages\\urllib3\\connectionpool.py:1056: InsecureRequestWarning: Unverified HTTPS request is being made to host 'api.geoapify.com'. Adding certificate verification is strongly advised. See: https://urllib3.readthedocs.io/en/1.26.x/advanced-usage.html#ssl-warnings\n",
      "  warnings.warn(\n"
     ]
    },
    {
     "name": "stdout",
     "output_type": "stream",
     "text": [
      "kayangel - nearest hotel: No hotel found\n"
     ]
    },
    {
     "name": "stderr",
     "output_type": "stream",
     "text": [
      "c:\\Users\\cschuttler\\AppData\\Local\\anaconda3\\lib\\site-packages\\urllib3\\connectionpool.py:1056: InsecureRequestWarning: Unverified HTTPS request is being made to host 'api.geoapify.com'. Adding certificate verification is strongly advised. See: https://urllib3.readthedocs.io/en/1.26.x/advanced-usage.html#ssl-warnings\n",
      "  warnings.warn(\n"
     ]
    },
    {
     "name": "stdout",
     "output_type": "stream",
     "text": [
      "kaihua - nearest hotel: 希雅主题酒店\n"
     ]
    },
    {
     "name": "stderr",
     "output_type": "stream",
     "text": [
      "c:\\Users\\cschuttler\\AppData\\Local\\anaconda3\\lib\\site-packages\\urllib3\\connectionpool.py:1056: InsecureRequestWarning: Unverified HTTPS request is being made to host 'api.geoapify.com'. Adding certificate verification is strongly advised. See: https://urllib3.readthedocs.io/en/1.26.x/advanced-usage.html#ssl-warnings\n",
      "  warnings.warn(\n"
     ]
    },
    {
     "name": "stdout",
     "output_type": "stream",
     "text": [
      "chilca - nearest hotel: Hotel Benvenuto\n"
     ]
    },
    {
     "name": "stderr",
     "output_type": "stream",
     "text": [
      "c:\\Users\\cschuttler\\AppData\\Local\\anaconda3\\lib\\site-packages\\urllib3\\connectionpool.py:1056: InsecureRequestWarning: Unverified HTTPS request is being made to host 'api.geoapify.com'. Adding certificate verification is strongly advised. See: https://urllib3.readthedocs.io/en/1.26.x/advanced-usage.html#ssl-warnings\n",
      "  warnings.warn(\n"
     ]
    },
    {
     "name": "stdout",
     "output_type": "stream",
     "text": [
      "ibadan - nearest hotel: Real Choice Hotel\n"
     ]
    },
    {
     "name": "stderr",
     "output_type": "stream",
     "text": [
      "c:\\Users\\cschuttler\\AppData\\Local\\anaconda3\\lib\\site-packages\\urllib3\\connectionpool.py:1056: InsecureRequestWarning: Unverified HTTPS request is being made to host 'api.geoapify.com'. Adding certificate verification is strongly advised. See: https://urllib3.readthedocs.io/en/1.26.x/advanced-usage.html#ssl-warnings\n",
      "  warnings.warn(\n"
     ]
    },
    {
     "name": "stdout",
     "output_type": "stream",
     "text": [
      "tobelo - nearest hotel: JJ Guesthouse\n"
     ]
    },
    {
     "name": "stderr",
     "output_type": "stream",
     "text": [
      "c:\\Users\\cschuttler\\AppData\\Local\\anaconda3\\lib\\site-packages\\urllib3\\connectionpool.py:1056: InsecureRequestWarning: Unverified HTTPS request is being made to host 'api.geoapify.com'. Adding certificate verification is strongly advised. See: https://urllib3.readthedocs.io/en/1.26.x/advanced-usage.html#ssl-warnings\n",
      "  warnings.warn(\n"
     ]
    },
    {
     "name": "stdout",
     "output_type": "stream",
     "text": [
      "minas de marcona - nearest hotel: No hotel found\n"
     ]
    },
    {
     "name": "stderr",
     "output_type": "stream",
     "text": [
      "c:\\Users\\cschuttler\\AppData\\Local\\anaconda3\\lib\\site-packages\\urllib3\\connectionpool.py:1056: InsecureRequestWarning: Unverified HTTPS request is being made to host 'api.geoapify.com'. Adding certificate verification is strongly advised. See: https://urllib3.readthedocs.io/en/1.26.x/advanced-usage.html#ssl-warnings\n",
      "  warnings.warn(\n"
     ]
    },
    {
     "name": "stdout",
     "output_type": "stream",
     "text": [
      "port blair - nearest hotel: Andaman Ocean Breeze\n"
     ]
    },
    {
     "name": "stderr",
     "output_type": "stream",
     "text": [
      "c:\\Users\\cschuttler\\AppData\\Local\\anaconda3\\lib\\site-packages\\urllib3\\connectionpool.py:1056: InsecureRequestWarning: Unverified HTTPS request is being made to host 'api.geoapify.com'. Adding certificate verification is strongly advised. See: https://urllib3.readthedocs.io/en/1.26.x/advanced-usage.html#ssl-warnings\n",
      "  warnings.warn(\n"
     ]
    },
    {
     "name": "stdout",
     "output_type": "stream",
     "text": [
      "hadibu - nearest hotel: No hotel found\n"
     ]
    },
    {
     "name": "stderr",
     "output_type": "stream",
     "text": [
      "c:\\Users\\cschuttler\\AppData\\Local\\anaconda3\\lib\\site-packages\\urllib3\\connectionpool.py:1056: InsecureRequestWarning: Unverified HTTPS request is being made to host 'api.geoapify.com'. Adding certificate verification is strongly advised. See: https://urllib3.readthedocs.io/en/1.26.x/advanced-usage.html#ssl-warnings\n",
      "  warnings.warn(\n"
     ]
    },
    {
     "name": "stdout",
     "output_type": "stream",
     "text": [
      "lakatoro - nearest hotel: No hotel found\n"
     ]
    },
    {
     "name": "stderr",
     "output_type": "stream",
     "text": [
      "c:\\Users\\cschuttler\\AppData\\Local\\anaconda3\\lib\\site-packages\\urllib3\\connectionpool.py:1056: InsecureRequestWarning: Unverified HTTPS request is being made to host 'api.geoapify.com'. Adding certificate verification is strongly advised. See: https://urllib3.readthedocs.io/en/1.26.x/advanced-usage.html#ssl-warnings\n",
      "  warnings.warn(\n"
     ]
    },
    {
     "name": "stdout",
     "output_type": "stream",
     "text": [
      "muisne - nearest hotel: Hostal Té de Menta\n"
     ]
    },
    {
     "name": "stderr",
     "output_type": "stream",
     "text": [
      "c:\\Users\\cschuttler\\AppData\\Local\\anaconda3\\lib\\site-packages\\urllib3\\connectionpool.py:1056: InsecureRequestWarning: Unverified HTTPS request is being made to host 'api.geoapify.com'. Adding certificate verification is strongly advised. See: https://urllib3.readthedocs.io/en/1.26.x/advanced-usage.html#ssl-warnings\n",
      "  warnings.warn(\n"
     ]
    },
    {
     "name": "stdout",
     "output_type": "stream",
     "text": [
      "ugoofaaru - nearest hotel: No hotel found\n"
     ]
    },
    {
     "name": "stderr",
     "output_type": "stream",
     "text": [
      "c:\\Users\\cschuttler\\AppData\\Local\\anaconda3\\lib\\site-packages\\urllib3\\connectionpool.py:1056: InsecureRequestWarning: Unverified HTTPS request is being made to host 'api.geoapify.com'. Adding certificate verification is strongly advised. See: https://urllib3.readthedocs.io/en/1.26.x/advanced-usage.html#ssl-warnings\n",
      "  warnings.warn(\n"
     ]
    },
    {
     "name": "stdout",
     "output_type": "stream",
     "text": [
      "colipapa - nearest hotel: No hotel found\n"
     ]
    },
    {
     "name": "stderr",
     "output_type": "stream",
     "text": [
      "c:\\Users\\cschuttler\\AppData\\Local\\anaconda3\\lib\\site-packages\\urllib3\\connectionpool.py:1056: InsecureRequestWarning: Unverified HTTPS request is being made to host 'api.geoapify.com'. Adding certificate verification is strongly advised. See: https://urllib3.readthedocs.io/en/1.26.x/advanced-usage.html#ssl-warnings\n",
      "  warnings.warn(\n"
     ]
    },
    {
     "name": "stdout",
     "output_type": "stream",
     "text": [
      "sekong - nearest hotel: No hotel found\n"
     ]
    },
    {
     "name": "stderr",
     "output_type": "stream",
     "text": [
      "c:\\Users\\cschuttler\\AppData\\Local\\anaconda3\\lib\\site-packages\\urllib3\\connectionpool.py:1056: InsecureRequestWarning: Unverified HTTPS request is being made to host 'api.geoapify.com'. Adding certificate verification is strongly advised. See: https://urllib3.readthedocs.io/en/1.26.x/advanced-usage.html#ssl-warnings\n",
      "  warnings.warn(\n"
     ]
    },
    {
     "name": "stdout",
     "output_type": "stream",
     "text": [
      "ankazoabo - nearest hotel: No hotel found\n"
     ]
    },
    {
     "name": "stderr",
     "output_type": "stream",
     "text": [
      "c:\\Users\\cschuttler\\AppData\\Local\\anaconda3\\lib\\site-packages\\urllib3\\connectionpool.py:1056: InsecureRequestWarning: Unverified HTTPS request is being made to host 'api.geoapify.com'. Adding certificate verification is strongly advised. See: https://urllib3.readthedocs.io/en/1.26.x/advanced-usage.html#ssl-warnings\n",
      "  warnings.warn(\n"
     ]
    },
    {
     "name": "stdout",
     "output_type": "stream",
     "text": [
      "happy valley-goose bay - nearest hotel: Hotel North Two\n"
     ]
    },
    {
     "name": "stderr",
     "output_type": "stream",
     "text": [
      "c:\\Users\\cschuttler\\AppData\\Local\\anaconda3\\lib\\site-packages\\urllib3\\connectionpool.py:1056: InsecureRequestWarning: Unverified HTTPS request is being made to host 'api.geoapify.com'. Adding certificate verification is strongly advised. See: https://urllib3.readthedocs.io/en/1.26.x/advanced-usage.html#ssl-warnings\n",
      "  warnings.warn(\n"
     ]
    },
    {
     "name": "stdout",
     "output_type": "stream",
     "text": [
      "nova zagora - nearest hotel: Хотел \"Яница\"\n"
     ]
    },
    {
     "name": "stderr",
     "output_type": "stream",
     "text": [
      "c:\\Users\\cschuttler\\AppData\\Local\\anaconda3\\lib\\site-packages\\urllib3\\connectionpool.py:1056: InsecureRequestWarning: Unverified HTTPS request is being made to host 'api.geoapify.com'. Adding certificate verification is strongly advised. See: https://urllib3.readthedocs.io/en/1.26.x/advanced-usage.html#ssl-warnings\n",
      "  warnings.warn(\n"
     ]
    },
    {
     "name": "stdout",
     "output_type": "stream",
     "text": [
      "inirida - nearest hotel: Residencias El Turista del Guainia\n"
     ]
    },
    {
     "name": "stderr",
     "output_type": "stream",
     "text": [
      "c:\\Users\\cschuttler\\AppData\\Local\\anaconda3\\lib\\site-packages\\urllib3\\connectionpool.py:1056: InsecureRequestWarning: Unverified HTTPS request is being made to host 'api.geoapify.com'. Adding certificate verification is strongly advised. See: https://urllib3.readthedocs.io/en/1.26.x/advanced-usage.html#ssl-warnings\n",
      "  warnings.warn(\n"
     ]
    },
    {
     "name": "stdout",
     "output_type": "stream",
     "text": [
      "thinadhoo - nearest hotel: No hotel found\n"
     ]
    },
    {
     "name": "stderr",
     "output_type": "stream",
     "text": [
      "c:\\Users\\cschuttler\\AppData\\Local\\anaconda3\\lib\\site-packages\\urllib3\\connectionpool.py:1056: InsecureRequestWarning: Unverified HTTPS request is being made to host 'api.geoapify.com'. Adding certificate verification is strongly advised. See: https://urllib3.readthedocs.io/en/1.26.x/advanced-usage.html#ssl-warnings\n",
      "  warnings.warn(\n"
     ]
    },
    {
     "name": "stdout",
     "output_type": "stream",
     "text": [
      "puerto ayacucho - nearest hotel: Hotel VENETUR Amazonas\n"
     ]
    },
    {
     "name": "stderr",
     "output_type": "stream",
     "text": [
      "c:\\Users\\cschuttler\\AppData\\Local\\anaconda3\\lib\\site-packages\\urllib3\\connectionpool.py:1056: InsecureRequestWarning: Unverified HTTPS request is being made to host 'api.geoapify.com'. Adding certificate verification is strongly advised. See: https://urllib3.readthedocs.io/en/1.26.x/advanced-usage.html#ssl-warnings\n",
      "  warnings.warn(\n"
     ]
    },
    {
     "name": "stdout",
     "output_type": "stream",
     "text": [
      "kemnath - nearest hotel: Gasthof zum Anzenstein\n"
     ]
    },
    {
     "name": "stderr",
     "output_type": "stream",
     "text": [
      "c:\\Users\\cschuttler\\AppData\\Local\\anaconda3\\lib\\site-packages\\urllib3\\connectionpool.py:1056: InsecureRequestWarning: Unverified HTTPS request is being made to host 'api.geoapify.com'. Adding certificate verification is strongly advised. See: https://urllib3.readthedocs.io/en/1.26.x/advanced-usage.html#ssl-warnings\n",
      "  warnings.warn(\n"
     ]
    },
    {
     "name": "stdout",
     "output_type": "stream",
     "text": [
      "mar del plata - nearest hotel: Nuevo Ostende\n"
     ]
    },
    {
     "name": "stderr",
     "output_type": "stream",
     "text": [
      "c:\\Users\\cschuttler\\AppData\\Local\\anaconda3\\lib\\site-packages\\urllib3\\connectionpool.py:1056: InsecureRequestWarning: Unverified HTTPS request is being made to host 'api.geoapify.com'. Adding certificate verification is strongly advised. See: https://urllib3.readthedocs.io/en/1.26.x/advanced-usage.html#ssl-warnings\n",
      "  warnings.warn(\n"
     ]
    },
    {
     "name": "stdout",
     "output_type": "stream",
     "text": [
      "rio grande - nearest hotel: Hotel Vila Moura Executivo\n"
     ]
    },
    {
     "name": "stderr",
     "output_type": "stream",
     "text": [
      "c:\\Users\\cschuttler\\AppData\\Local\\anaconda3\\lib\\site-packages\\urllib3\\connectionpool.py:1056: InsecureRequestWarning: Unverified HTTPS request is being made to host 'api.geoapify.com'. Adding certificate verification is strongly advised. See: https://urllib3.readthedocs.io/en/1.26.x/advanced-usage.html#ssl-warnings\n",
      "  warnings.warn(\n"
     ]
    },
    {
     "name": "stdout",
     "output_type": "stream",
     "text": [
      "balqash - nearest hotel: Престиж\n"
     ]
    },
    {
     "name": "stderr",
     "output_type": "stream",
     "text": [
      "c:\\Users\\cschuttler\\AppData\\Local\\anaconda3\\lib\\site-packages\\urllib3\\connectionpool.py:1056: InsecureRequestWarning: Unverified HTTPS request is being made to host 'api.geoapify.com'. Adding certificate verification is strongly advised. See: https://urllib3.readthedocs.io/en/1.26.x/advanced-usage.html#ssl-warnings\n",
      "  warnings.warn(\n"
     ]
    },
    {
     "name": "stdout",
     "output_type": "stream",
     "text": [
      "bhag - nearest hotel: No hotel found\n"
     ]
    },
    {
     "name": "stderr",
     "output_type": "stream",
     "text": [
      "c:\\Users\\cschuttler\\AppData\\Local\\anaconda3\\lib\\site-packages\\urllib3\\connectionpool.py:1056: InsecureRequestWarning: Unverified HTTPS request is being made to host 'api.geoapify.com'. Adding certificate verification is strongly advised. See: https://urllib3.readthedocs.io/en/1.26.x/advanced-usage.html#ssl-warnings\n",
      "  warnings.warn(\n"
     ]
    },
    {
     "name": "stdout",
     "output_type": "stream",
     "text": [
      "launceston - nearest hotel: Hotel Charles\n"
     ]
    },
    {
     "name": "stderr",
     "output_type": "stream",
     "text": [
      "c:\\Users\\cschuttler\\AppData\\Local\\anaconda3\\lib\\site-packages\\urllib3\\connectionpool.py:1056: InsecureRequestWarning: Unverified HTTPS request is being made to host 'api.geoapify.com'. Adding certificate verification is strongly advised. See: https://urllib3.readthedocs.io/en/1.26.x/advanced-usage.html#ssl-warnings\n",
      "  warnings.warn(\n"
     ]
    },
    {
     "name": "stdout",
     "output_type": "stream",
     "text": [
      "aban - nearest hotel: No hotel found\n"
     ]
    },
    {
     "name": "stderr",
     "output_type": "stream",
     "text": [
      "c:\\Users\\cschuttler\\AppData\\Local\\anaconda3\\lib\\site-packages\\urllib3\\connectionpool.py:1056: InsecureRequestWarning: Unverified HTTPS request is being made to host 'api.geoapify.com'. Adding certificate verification is strongly advised. See: https://urllib3.readthedocs.io/en/1.26.x/advanced-usage.html#ssl-warnings\n",
      "  warnings.warn(\n"
     ]
    },
    {
     "name": "stdout",
     "output_type": "stream",
     "text": [
      "aykhal - nearest hotel: Уют\n"
     ]
    },
    {
     "name": "stderr",
     "output_type": "stream",
     "text": [
      "c:\\Users\\cschuttler\\AppData\\Local\\anaconda3\\lib\\site-packages\\urllib3\\connectionpool.py:1056: InsecureRequestWarning: Unverified HTTPS request is being made to host 'api.geoapify.com'. Adding certificate verification is strongly advised. See: https://urllib3.readthedocs.io/en/1.26.x/advanced-usage.html#ssl-warnings\n",
      "  warnings.warn(\n"
     ]
    },
    {
     "name": "stdout",
     "output_type": "stream",
     "text": [
      "bang saphan - nearest hotel: Hotel\n"
     ]
    },
    {
     "name": "stderr",
     "output_type": "stream",
     "text": [
      "c:\\Users\\cschuttler\\AppData\\Local\\anaconda3\\lib\\site-packages\\urllib3\\connectionpool.py:1056: InsecureRequestWarning: Unverified HTTPS request is being made to host 'api.geoapify.com'. Adding certificate verification is strongly advised. See: https://urllib3.readthedocs.io/en/1.26.x/advanced-usage.html#ssl-warnings\n",
      "  warnings.warn(\n"
     ]
    },
    {
     "name": "stdout",
     "output_type": "stream",
     "text": [
      "da lat - nearest hotel: Golf 1\n"
     ]
    },
    {
     "name": "stderr",
     "output_type": "stream",
     "text": [
      "c:\\Users\\cschuttler\\AppData\\Local\\anaconda3\\lib\\site-packages\\urllib3\\connectionpool.py:1056: InsecureRequestWarning: Unverified HTTPS request is being made to host 'api.geoapify.com'. Adding certificate verification is strongly advised. See: https://urllib3.readthedocs.io/en/1.26.x/advanced-usage.html#ssl-warnings\n",
      "  warnings.warn(\n"
     ]
    },
    {
     "name": "stdout",
     "output_type": "stream",
     "text": [
      "barcelos - nearest hotel: Hotel Dom Nuno\n"
     ]
    },
    {
     "name": "stderr",
     "output_type": "stream",
     "text": [
      "c:\\Users\\cschuttler\\AppData\\Local\\anaconda3\\lib\\site-packages\\urllib3\\connectionpool.py:1056: InsecureRequestWarning: Unverified HTTPS request is being made to host 'api.geoapify.com'. Adding certificate verification is strongly advised. See: https://urllib3.readthedocs.io/en/1.26.x/advanced-usage.html#ssl-warnings\n",
      "  warnings.warn(\n"
     ]
    },
    {
     "name": "stdout",
     "output_type": "stream",
     "text": [
      "coquimbo - nearest hotel: Hotel Iberia\n"
     ]
    },
    {
     "name": "stderr",
     "output_type": "stream",
     "text": [
      "c:\\Users\\cschuttler\\AppData\\Local\\anaconda3\\lib\\site-packages\\urllib3\\connectionpool.py:1056: InsecureRequestWarning: Unverified HTTPS request is being made to host 'api.geoapify.com'. Adding certificate verification is strongly advised. See: https://urllib3.readthedocs.io/en/1.26.x/advanced-usage.html#ssl-warnings\n",
      "  warnings.warn(\n"
     ]
    },
    {
     "name": "stdout",
     "output_type": "stream",
     "text": [
      "nguigmi - nearest hotel: Guest PAM\n"
     ]
    },
    {
     "name": "stderr",
     "output_type": "stream",
     "text": [
      "c:\\Users\\cschuttler\\AppData\\Local\\anaconda3\\lib\\site-packages\\urllib3\\connectionpool.py:1056: InsecureRequestWarning: Unverified HTTPS request is being made to host 'api.geoapify.com'. Adding certificate verification is strongly advised. See: https://urllib3.readthedocs.io/en/1.26.x/advanced-usage.html#ssl-warnings\n",
      "  warnings.warn(\n"
     ]
    },
    {
     "name": "stdout",
     "output_type": "stream",
     "text": [
      "brandon - nearest hotel: Brandon Motor Lodge\n"
     ]
    },
    {
     "name": "stderr",
     "output_type": "stream",
     "text": [
      "c:\\Users\\cschuttler\\AppData\\Local\\anaconda3\\lib\\site-packages\\urllib3\\connectionpool.py:1056: InsecureRequestWarning: Unverified HTTPS request is being made to host 'api.geoapify.com'. Adding certificate verification is strongly advised. See: https://urllib3.readthedocs.io/en/1.26.x/advanced-usage.html#ssl-warnings\n",
      "  warnings.warn(\n"
     ]
    },
    {
     "name": "stdout",
     "output_type": "stream",
     "text": [
      "santa maria da vitoria - nearest hotel: Hotel Passarela\n"
     ]
    },
    {
     "name": "stderr",
     "output_type": "stream",
     "text": [
      "c:\\Users\\cschuttler\\AppData\\Local\\anaconda3\\lib\\site-packages\\urllib3\\connectionpool.py:1056: InsecureRequestWarning: Unverified HTTPS request is being made to host 'api.geoapify.com'. Adding certificate verification is strongly advised. See: https://urllib3.readthedocs.io/en/1.26.x/advanced-usage.html#ssl-warnings\n",
      "  warnings.warn(\n"
     ]
    },
    {
     "name": "stdout",
     "output_type": "stream",
     "text": [
      "owen sound - nearest hotel: Travelodge\n"
     ]
    },
    {
     "name": "stderr",
     "output_type": "stream",
     "text": [
      "c:\\Users\\cschuttler\\AppData\\Local\\anaconda3\\lib\\site-packages\\urllib3\\connectionpool.py:1056: InsecureRequestWarning: Unverified HTTPS request is being made to host 'api.geoapify.com'. Adding certificate verification is strongly advised. See: https://urllib3.readthedocs.io/en/1.26.x/advanced-usage.html#ssl-warnings\n",
      "  warnings.warn(\n"
     ]
    },
    {
     "name": "stdout",
     "output_type": "stream",
     "text": [
      "kota tinggi - nearest hotel: Kota Heritage Hotel\n"
     ]
    },
    {
     "name": "stderr",
     "output_type": "stream",
     "text": [
      "c:\\Users\\cschuttler\\AppData\\Local\\anaconda3\\lib\\site-packages\\urllib3\\connectionpool.py:1056: InsecureRequestWarning: Unverified HTTPS request is being made to host 'api.geoapify.com'. Adding certificate verification is strongly advised. See: https://urllib3.readthedocs.io/en/1.26.x/advanced-usage.html#ssl-warnings\n",
      "  warnings.warn(\n"
     ]
    },
    {
     "name": "stdout",
     "output_type": "stream",
     "text": [
      "sur - nearest hotel: Sur Hotel\n"
     ]
    },
    {
     "name": "stderr",
     "output_type": "stream",
     "text": [
      "c:\\Users\\cschuttler\\AppData\\Local\\anaconda3\\lib\\site-packages\\urllib3\\connectionpool.py:1056: InsecureRequestWarning: Unverified HTTPS request is being made to host 'api.geoapify.com'. Adding certificate verification is strongly advised. See: https://urllib3.readthedocs.io/en/1.26.x/advanced-usage.html#ssl-warnings\n",
      "  warnings.warn(\n"
     ]
    },
    {
     "name": "stdout",
     "output_type": "stream",
     "text": [
      "margate - nearest hotel: The Reading Rooms\n"
     ]
    },
    {
     "name": "stderr",
     "output_type": "stream",
     "text": [
      "c:\\Users\\cschuttler\\AppData\\Local\\anaconda3\\lib\\site-packages\\urllib3\\connectionpool.py:1056: InsecureRequestWarning: Unverified HTTPS request is being made to host 'api.geoapify.com'. Adding certificate verification is strongly advised. See: https://urllib3.readthedocs.io/en/1.26.x/advanced-usage.html#ssl-warnings\n",
      "  warnings.warn(\n"
     ]
    },
    {
     "name": "stdout",
     "output_type": "stream",
     "text": [
      "haiku-pauwela - nearest hotel: Inn At Mama's Fish House\n"
     ]
    },
    {
     "name": "stderr",
     "output_type": "stream",
     "text": [
      "c:\\Users\\cschuttler\\AppData\\Local\\anaconda3\\lib\\site-packages\\urllib3\\connectionpool.py:1056: InsecureRequestWarning: Unverified HTTPS request is being made to host 'api.geoapify.com'. Adding certificate verification is strongly advised. See: https://urllib3.readthedocs.io/en/1.26.x/advanced-usage.html#ssl-warnings\n",
      "  warnings.warn(\n"
     ]
    },
    {
     "name": "stdout",
     "output_type": "stream",
     "text": [
      "ust'-kut - nearest hotel: Домашний очаг\n"
     ]
    },
    {
     "name": "stderr",
     "output_type": "stream",
     "text": [
      "c:\\Users\\cschuttler\\AppData\\Local\\anaconda3\\lib\\site-packages\\urllib3\\connectionpool.py:1056: InsecureRequestWarning: Unverified HTTPS request is being made to host 'api.geoapify.com'. Adding certificate verification is strongly advised. See: https://urllib3.readthedocs.io/en/1.26.x/advanced-usage.html#ssl-warnings\n",
      "  warnings.warn(\n"
     ]
    },
    {
     "name": "stdout",
     "output_type": "stream",
     "text": [
      "palu - nearest hotel: Ujung Pandang Hotel\n"
     ]
    },
    {
     "name": "stderr",
     "output_type": "stream",
     "text": [
      "c:\\Users\\cschuttler\\AppData\\Local\\anaconda3\\lib\\site-packages\\urllib3\\connectionpool.py:1056: InsecureRequestWarning: Unverified HTTPS request is being made to host 'api.geoapify.com'. Adding certificate verification is strongly advised. See: https://urllib3.readthedocs.io/en/1.26.x/advanced-usage.html#ssl-warnings\n",
      "  warnings.warn(\n"
     ]
    },
    {
     "name": "stdout",
     "output_type": "stream",
     "text": [
      "kodinsk - nearest hotel: Ангара\n"
     ]
    },
    {
     "name": "stderr",
     "output_type": "stream",
     "text": [
      "c:\\Users\\cschuttler\\AppData\\Local\\anaconda3\\lib\\site-packages\\urllib3\\connectionpool.py:1056: InsecureRequestWarning: Unverified HTTPS request is being made to host 'api.geoapify.com'. Adding certificate verification is strongly advised. See: https://urllib3.readthedocs.io/en/1.26.x/advanced-usage.html#ssl-warnings\n",
      "  warnings.warn(\n"
     ]
    },
    {
     "name": "stdout",
     "output_type": "stream",
     "text": [
      "nogliki - nearest hotel: Ноглики\n"
     ]
    },
    {
     "name": "stderr",
     "output_type": "stream",
     "text": [
      "c:\\Users\\cschuttler\\AppData\\Local\\anaconda3\\lib\\site-packages\\urllib3\\connectionpool.py:1056: InsecureRequestWarning: Unverified HTTPS request is being made to host 'api.geoapify.com'. Adding certificate verification is strongly advised. See: https://urllib3.readthedocs.io/en/1.26.x/advanced-usage.html#ssl-warnings\n",
      "  warnings.warn(\n"
     ]
    },
    {
     "name": "stdout",
     "output_type": "stream",
     "text": [
      "fortuna - nearest hotel: Comfort Inn & Suites Redwood Country\n"
     ]
    },
    {
     "name": "stderr",
     "output_type": "stream",
     "text": [
      "c:\\Users\\cschuttler\\AppData\\Local\\anaconda3\\lib\\site-packages\\urllib3\\connectionpool.py:1056: InsecureRequestWarning: Unverified HTTPS request is being made to host 'api.geoapify.com'. Adding certificate verification is strongly advised. See: https://urllib3.readthedocs.io/en/1.26.x/advanced-usage.html#ssl-warnings\n",
      "  warnings.warn(\n"
     ]
    },
    {
     "name": "stdout",
     "output_type": "stream",
     "text": [
      "tobruk - nearest hotel: فندق زهرة البطنان -طبرق\n"
     ]
    },
    {
     "name": "stderr",
     "output_type": "stream",
     "text": [
      "c:\\Users\\cschuttler\\AppData\\Local\\anaconda3\\lib\\site-packages\\urllib3\\connectionpool.py:1056: InsecureRequestWarning: Unverified HTTPS request is being made to host 'api.geoapify.com'. Adding certificate verification is strongly advised. See: https://urllib3.readthedocs.io/en/1.26.x/advanced-usage.html#ssl-warnings\n",
      "  warnings.warn(\n"
     ]
    },
    {
     "name": "stdout",
     "output_type": "stream",
     "text": [
      "dalandzadgad - nearest hotel: Хан Уул буудал\n"
     ]
    },
    {
     "name": "stderr",
     "output_type": "stream",
     "text": [
      "c:\\Users\\cschuttler\\AppData\\Local\\anaconda3\\lib\\site-packages\\urllib3\\connectionpool.py:1056: InsecureRequestWarning: Unverified HTTPS request is being made to host 'api.geoapify.com'. Adding certificate verification is strongly advised. See: https://urllib3.readthedocs.io/en/1.26.x/advanced-usage.html#ssl-warnings\n",
      "  warnings.warn(\n"
     ]
    },
    {
     "name": "stdout",
     "output_type": "stream",
     "text": [
      "santa cruz - nearest hotel: Aviador Hotel Boutique\n"
     ]
    },
    {
     "name": "stderr",
     "output_type": "stream",
     "text": [
      "c:\\Users\\cschuttler\\AppData\\Local\\anaconda3\\lib\\site-packages\\urllib3\\connectionpool.py:1056: InsecureRequestWarning: Unverified HTTPS request is being made to host 'api.geoapify.com'. Adding certificate verification is strongly advised. See: https://urllib3.readthedocs.io/en/1.26.x/advanced-usage.html#ssl-warnings\n",
      "  warnings.warn(\n"
     ]
    },
    {
     "name": "stdout",
     "output_type": "stream",
     "text": [
      "sligo - nearest hotel: Riverside Hotel\n"
     ]
    },
    {
     "name": "stderr",
     "output_type": "stream",
     "text": [
      "c:\\Users\\cschuttler\\AppData\\Local\\anaconda3\\lib\\site-packages\\urllib3\\connectionpool.py:1056: InsecureRequestWarning: Unverified HTTPS request is being made to host 'api.geoapify.com'. Adding certificate verification is strongly advised. See: https://urllib3.readthedocs.io/en/1.26.x/advanced-usage.html#ssl-warnings\n",
      "  warnings.warn(\n"
     ]
    },
    {
     "name": "stdout",
     "output_type": "stream",
     "text": [
      "belel - nearest hotel: No hotel found\n"
     ]
    },
    {
     "name": "stderr",
     "output_type": "stream",
     "text": [
      "c:\\Users\\cschuttler\\AppData\\Local\\anaconda3\\lib\\site-packages\\urllib3\\connectionpool.py:1056: InsecureRequestWarning: Unverified HTTPS request is being made to host 'api.geoapify.com'. Adding certificate verification is strongly advised. See: https://urllib3.readthedocs.io/en/1.26.x/advanced-usage.html#ssl-warnings\n",
      "  warnings.warn(\n"
     ]
    },
    {
     "name": "stdout",
     "output_type": "stream",
     "text": [
      "muroto-misakicho - nearest hotel: 民宿うらしま\n"
     ]
    },
    {
     "name": "stderr",
     "output_type": "stream",
     "text": [
      "c:\\Users\\cschuttler\\AppData\\Local\\anaconda3\\lib\\site-packages\\urllib3\\connectionpool.py:1056: InsecureRequestWarning: Unverified HTTPS request is being made to host 'api.geoapify.com'. Adding certificate verification is strongly advised. See: https://urllib3.readthedocs.io/en/1.26.x/advanced-usage.html#ssl-warnings\n",
      "  warnings.warn(\n"
     ]
    },
    {
     "name": "stdout",
     "output_type": "stream",
     "text": [
      "orapa - nearest hotel: No hotel found\n"
     ]
    },
    {
     "name": "stderr",
     "output_type": "stream",
     "text": [
      "c:\\Users\\cschuttler\\AppData\\Local\\anaconda3\\lib\\site-packages\\urllib3\\connectionpool.py:1056: InsecureRequestWarning: Unverified HTTPS request is being made to host 'api.geoapify.com'. Adding certificate verification is strongly advised. See: https://urllib3.readthedocs.io/en/1.26.x/advanced-usage.html#ssl-warnings\n",
      "  warnings.warn(\n"
     ]
    },
    {
     "name": "stdout",
     "output_type": "stream",
     "text": [
      "lisakovsk - nearest hotel: Оолит\n"
     ]
    },
    {
     "name": "stderr",
     "output_type": "stream",
     "text": [
      "c:\\Users\\cschuttler\\AppData\\Local\\anaconda3\\lib\\site-packages\\urllib3\\connectionpool.py:1056: InsecureRequestWarning: Unverified HTTPS request is being made to host 'api.geoapify.com'. Adding certificate verification is strongly advised. See: https://urllib3.readthedocs.io/en/1.26.x/advanced-usage.html#ssl-warnings\n",
      "  warnings.warn(\n"
     ]
    },
    {
     "name": "stdout",
     "output_type": "stream",
     "text": [
      "sechura - nearest hotel: Hospedaje Claritza\n"
     ]
    },
    {
     "name": "stderr",
     "output_type": "stream",
     "text": [
      "c:\\Users\\cschuttler\\AppData\\Local\\anaconda3\\lib\\site-packages\\urllib3\\connectionpool.py:1056: InsecureRequestWarning: Unverified HTTPS request is being made to host 'api.geoapify.com'. Adding certificate verification is strongly advised. See: https://urllib3.readthedocs.io/en/1.26.x/advanced-usage.html#ssl-warnings\n",
      "  warnings.warn(\n"
     ]
    },
    {
     "name": "stdout",
     "output_type": "stream",
     "text": [
      "tamandare - nearest hotel: Pousada Baia dos Corais\n"
     ]
    },
    {
     "name": "stderr",
     "output_type": "stream",
     "text": [
      "c:\\Users\\cschuttler\\AppData\\Local\\anaconda3\\lib\\site-packages\\urllib3\\connectionpool.py:1056: InsecureRequestWarning: Unverified HTTPS request is being made to host 'api.geoapify.com'. Adding certificate verification is strongly advised. See: https://urllib3.readthedocs.io/en/1.26.x/advanced-usage.html#ssl-warnings\n",
      "  warnings.warn(\n"
     ]
    },
    {
     "name": "stdout",
     "output_type": "stream",
     "text": [
      "fort morgan - nearest hotel: Fairfield Inn & Suites Fort Morgan\n"
     ]
    },
    {
     "name": "stderr",
     "output_type": "stream",
     "text": [
      "c:\\Users\\cschuttler\\AppData\\Local\\anaconda3\\lib\\site-packages\\urllib3\\connectionpool.py:1056: InsecureRequestWarning: Unverified HTTPS request is being made to host 'api.geoapify.com'. Adding certificate verification is strongly advised. See: https://urllib3.readthedocs.io/en/1.26.x/advanced-usage.html#ssl-warnings\n",
      "  warnings.warn(\n"
     ]
    },
    {
     "name": "stdout",
     "output_type": "stream",
     "text": [
      "forster - nearest hotel: No hotel found\n"
     ]
    },
    {
     "name": "stderr",
     "output_type": "stream",
     "text": [
      "c:\\Users\\cschuttler\\AppData\\Local\\anaconda3\\lib\\site-packages\\urllib3\\connectionpool.py:1056: InsecureRequestWarning: Unverified HTTPS request is being made to host 'api.geoapify.com'. Adding certificate verification is strongly advised. See: https://urllib3.readthedocs.io/en/1.26.x/advanced-usage.html#ssl-warnings\n",
      "  warnings.warn(\n"
     ]
    },
    {
     "name": "stdout",
     "output_type": "stream",
     "text": [
      "nadym - nearest hotel: Янтарная\n"
     ]
    },
    {
     "name": "stderr",
     "output_type": "stream",
     "text": [
      "c:\\Users\\cschuttler\\AppData\\Local\\anaconda3\\lib\\site-packages\\urllib3\\connectionpool.py:1056: InsecureRequestWarning: Unverified HTTPS request is being made to host 'api.geoapify.com'. Adding certificate verification is strongly advised. See: https://urllib3.readthedocs.io/en/1.26.x/advanced-usage.html#ssl-warnings\n",
      "  warnings.warn(\n"
     ]
    },
    {
     "name": "stdout",
     "output_type": "stream",
     "text": [
      "at-bashi - nearest hotel: Tash Rabat\n"
     ]
    },
    {
     "name": "stderr",
     "output_type": "stream",
     "text": [
      "c:\\Users\\cschuttler\\AppData\\Local\\anaconda3\\lib\\site-packages\\urllib3\\connectionpool.py:1056: InsecureRequestWarning: Unverified HTTPS request is being made to host 'api.geoapify.com'. Adding certificate verification is strongly advised. See: https://urllib3.readthedocs.io/en/1.26.x/advanced-usage.html#ssl-warnings\n",
      "  warnings.warn(\n"
     ]
    },
    {
     "name": "stdout",
     "output_type": "stream",
     "text": [
      "hammerfest - nearest hotel: Thon Hotel Hammerfest\n"
     ]
    },
    {
     "name": "stderr",
     "output_type": "stream",
     "text": [
      "c:\\Users\\cschuttler\\AppData\\Local\\anaconda3\\lib\\site-packages\\urllib3\\connectionpool.py:1056: InsecureRequestWarning: Unverified HTTPS request is being made to host 'api.geoapify.com'. Adding certificate verification is strongly advised. See: https://urllib3.readthedocs.io/en/1.26.x/advanced-usage.html#ssl-warnings\n",
      "  warnings.warn(\n"
     ]
    },
    {
     "name": "stdout",
     "output_type": "stream",
     "text": [
      "velez rubio - nearest hotel: Hotel Lo + Natural\n"
     ]
    },
    {
     "name": "stderr",
     "output_type": "stream",
     "text": [
      "c:\\Users\\cschuttler\\AppData\\Local\\anaconda3\\lib\\site-packages\\urllib3\\connectionpool.py:1056: InsecureRequestWarning: Unverified HTTPS request is being made to host 'api.geoapify.com'. Adding certificate verification is strongly advised. See: https://urllib3.readthedocs.io/en/1.26.x/advanced-usage.html#ssl-warnings\n",
      "  warnings.warn(\n"
     ]
    },
    {
     "name": "stdout",
     "output_type": "stream",
     "text": [
      "queenstown - nearest hotel: Queens Hotel\n"
     ]
    },
    {
     "name": "stderr",
     "output_type": "stream",
     "text": [
      "c:\\Users\\cschuttler\\AppData\\Local\\anaconda3\\lib\\site-packages\\urllib3\\connectionpool.py:1056: InsecureRequestWarning: Unverified HTTPS request is being made to host 'api.geoapify.com'. Adding certificate verification is strongly advised. See: https://urllib3.readthedocs.io/en/1.26.x/advanced-usage.html#ssl-warnings\n",
      "  warnings.warn(\n"
     ]
    },
    {
     "name": "stdout",
     "output_type": "stream",
     "text": [
      "pitkyaranta - nearest hotel: Белые Мосты\n"
     ]
    },
    {
     "name": "stderr",
     "output_type": "stream",
     "text": [
      "c:\\Users\\cschuttler\\AppData\\Local\\anaconda3\\lib\\site-packages\\urllib3\\connectionpool.py:1056: InsecureRequestWarning: Unverified HTTPS request is being made to host 'api.geoapify.com'. Adding certificate verification is strongly advised. See: https://urllib3.readthedocs.io/en/1.26.x/advanced-usage.html#ssl-warnings\n",
      "  warnings.warn(\n"
     ]
    },
    {
     "name": "stdout",
     "output_type": "stream",
     "text": [
      "sao paulo de olivenca - nearest hotel: No hotel found\n"
     ]
    },
    {
     "name": "stderr",
     "output_type": "stream",
     "text": [
      "c:\\Users\\cschuttler\\AppData\\Local\\anaconda3\\lib\\site-packages\\urllib3\\connectionpool.py:1056: InsecureRequestWarning: Unverified HTTPS request is being made to host 'api.geoapify.com'. Adding certificate verification is strongly advised. See: https://urllib3.readthedocs.io/en/1.26.x/advanced-usage.html#ssl-warnings\n",
      "  warnings.warn(\n"
     ]
    },
    {
     "name": "stdout",
     "output_type": "stream",
     "text": [
      "kolosovka - nearest hotel: No hotel found\n"
     ]
    },
    {
     "name": "stderr",
     "output_type": "stream",
     "text": [
      "c:\\Users\\cschuttler\\AppData\\Local\\anaconda3\\lib\\site-packages\\urllib3\\connectionpool.py:1056: InsecureRequestWarning: Unverified HTTPS request is being made to host 'api.geoapify.com'. Adding certificate verification is strongly advised. See: https://urllib3.readthedocs.io/en/1.26.x/advanced-usage.html#ssl-warnings\n",
      "  warnings.warn(\n"
     ]
    },
    {
     "name": "stdout",
     "output_type": "stream",
     "text": [
      "sao gabriel da cachoeira - nearest hotel: Hotel Deus Me Deu\n"
     ]
    },
    {
     "name": "stderr",
     "output_type": "stream",
     "text": [
      "c:\\Users\\cschuttler\\AppData\\Local\\anaconda3\\lib\\site-packages\\urllib3\\connectionpool.py:1056: InsecureRequestWarning: Unverified HTTPS request is being made to host 'api.geoapify.com'. Adding certificate verification is strongly advised. See: https://urllib3.readthedocs.io/en/1.26.x/advanced-usage.html#ssl-warnings\n",
      "  warnings.warn(\n"
     ]
    },
    {
     "name": "stdout",
     "output_type": "stream",
     "text": [
      "souillac - nearest hotel: Hotel SkylineInn\n"
     ]
    },
    {
     "name": "stderr",
     "output_type": "stream",
     "text": [
      "c:\\Users\\cschuttler\\AppData\\Local\\anaconda3\\lib\\site-packages\\urllib3\\connectionpool.py:1056: InsecureRequestWarning: Unverified HTTPS request is being made to host 'api.geoapify.com'. Adding certificate verification is strongly advised. See: https://urllib3.readthedocs.io/en/1.26.x/advanced-usage.html#ssl-warnings\n",
      "  warnings.warn(\n"
     ]
    },
    {
     "name": "stdout",
     "output_type": "stream",
     "text": [
      "chibougamau - nearest hotel: No hotel found\n"
     ]
    },
    {
     "name": "stderr",
     "output_type": "stream",
     "text": [
      "c:\\Users\\cschuttler\\AppData\\Local\\anaconda3\\lib\\site-packages\\urllib3\\connectionpool.py:1056: InsecureRequestWarning: Unverified HTTPS request is being made to host 'api.geoapify.com'. Adding certificate verification is strongly advised. See: https://urllib3.readthedocs.io/en/1.26.x/advanced-usage.html#ssl-warnings\n",
      "  warnings.warn(\n"
     ]
    },
    {
     "name": "stdout",
     "output_type": "stream",
     "text": [
      "prince rupert - nearest hotel: Crest Hotel\n"
     ]
    },
    {
     "name": "stderr",
     "output_type": "stream",
     "text": [
      "c:\\Users\\cschuttler\\AppData\\Local\\anaconda3\\lib\\site-packages\\urllib3\\connectionpool.py:1056: InsecureRequestWarning: Unverified HTTPS request is being made to host 'api.geoapify.com'. Adding certificate verification is strongly advised. See: https://urllib3.readthedocs.io/en/1.26.x/advanced-usage.html#ssl-warnings\n",
      "  warnings.warn(\n"
     ]
    },
    {
     "name": "stdout",
     "output_type": "stream",
     "text": [
      "novodvinsk - nearest hotel: Уют\n"
     ]
    },
    {
     "name": "stderr",
     "output_type": "stream",
     "text": [
      "c:\\Users\\cschuttler\\AppData\\Local\\anaconda3\\lib\\site-packages\\urllib3\\connectionpool.py:1056: InsecureRequestWarning: Unverified HTTPS request is being made to host 'api.geoapify.com'. Adding certificate verification is strongly advised. See: https://urllib3.readthedocs.io/en/1.26.x/advanced-usage.html#ssl-warnings\n",
      "  warnings.warn(\n"
     ]
    },
    {
     "name": "stdout",
     "output_type": "stream",
     "text": [
      "port macquarie - nearest hotel: The Observatory\n"
     ]
    },
    {
     "name": "stderr",
     "output_type": "stream",
     "text": [
      "c:\\Users\\cschuttler\\AppData\\Local\\anaconda3\\lib\\site-packages\\urllib3\\connectionpool.py:1056: InsecureRequestWarning: Unverified HTTPS request is being made to host 'api.geoapify.com'. Adding certificate verification is strongly advised. See: https://urllib3.readthedocs.io/en/1.26.x/advanced-usage.html#ssl-warnings\n",
      "  warnings.warn(\n"
     ]
    },
    {
     "name": "stdout",
     "output_type": "stream",
     "text": [
      "jayapura - nearest hotel: Hotel Jasmine Jayapura\n"
     ]
    },
    {
     "name": "stderr",
     "output_type": "stream",
     "text": [
      "c:\\Users\\cschuttler\\AppData\\Local\\anaconda3\\lib\\site-packages\\urllib3\\connectionpool.py:1056: InsecureRequestWarning: Unverified HTTPS request is being made to host 'api.geoapify.com'. Adding certificate verification is strongly advised. See: https://urllib3.readthedocs.io/en/1.26.x/advanced-usage.html#ssl-warnings\n",
      "  warnings.warn(\n"
     ]
    },
    {
     "name": "stdout",
     "output_type": "stream",
     "text": [
      "kolonia - nearest hotel: Wasserturm Hotel Cologne\n"
     ]
    },
    {
     "name": "stderr",
     "output_type": "stream",
     "text": [
      "c:\\Users\\cschuttler\\AppData\\Local\\anaconda3\\lib\\site-packages\\urllib3\\connectionpool.py:1056: InsecureRequestWarning: Unverified HTTPS request is being made to host 'api.geoapify.com'. Adding certificate verification is strongly advised. See: https://urllib3.readthedocs.io/en/1.26.x/advanced-usage.html#ssl-warnings\n",
      "  warnings.warn(\n"
     ]
    },
    {
     "name": "stdout",
     "output_type": "stream",
     "text": [
      "sinjai - nearest hotel: Hotel Sinjai\n"
     ]
    },
    {
     "name": "stderr",
     "output_type": "stream",
     "text": [
      "c:\\Users\\cschuttler\\AppData\\Local\\anaconda3\\lib\\site-packages\\urllib3\\connectionpool.py:1056: InsecureRequestWarning: Unverified HTTPS request is being made to host 'api.geoapify.com'. Adding certificate verification is strongly advised. See: https://urllib3.readthedocs.io/en/1.26.x/advanced-usage.html#ssl-warnings\n",
      "  warnings.warn(\n"
     ]
    },
    {
     "name": "stdout",
     "output_type": "stream",
     "text": [
      "vadso - nearest hotel: Scandic Vadsø\n"
     ]
    },
    {
     "name": "stderr",
     "output_type": "stream",
     "text": [
      "c:\\Users\\cschuttler\\AppData\\Local\\anaconda3\\lib\\site-packages\\urllib3\\connectionpool.py:1056: InsecureRequestWarning: Unverified HTTPS request is being made to host 'api.geoapify.com'. Adding certificate verification is strongly advised. See: https://urllib3.readthedocs.io/en/1.26.x/advanced-usage.html#ssl-warnings\n",
      "  warnings.warn(\n"
     ]
    },
    {
     "name": "stdout",
     "output_type": "stream",
     "text": [
      "fale old settlement - nearest hotel: No hotel found\n"
     ]
    },
    {
     "name": "stderr",
     "output_type": "stream",
     "text": [
      "c:\\Users\\cschuttler\\AppData\\Local\\anaconda3\\lib\\site-packages\\urllib3\\connectionpool.py:1056: InsecureRequestWarning: Unverified HTTPS request is being made to host 'api.geoapify.com'. Adding certificate verification is strongly advised. See: https://urllib3.readthedocs.io/en/1.26.x/advanced-usage.html#ssl-warnings\n",
      "  warnings.warn(\n"
     ]
    },
    {
     "name": "stdout",
     "output_type": "stream",
     "text": [
      "ponta delgada - nearest hotel: Hotel Talisman\n"
     ]
    },
    {
     "name": "stderr",
     "output_type": "stream",
     "text": [
      "c:\\Users\\cschuttler\\AppData\\Local\\anaconda3\\lib\\site-packages\\urllib3\\connectionpool.py:1056: InsecureRequestWarning: Unverified HTTPS request is being made to host 'api.geoapify.com'. Adding certificate verification is strongly advised. See: https://urllib3.readthedocs.io/en/1.26.x/advanced-usage.html#ssl-warnings\n",
      "  warnings.warn(\n"
     ]
    },
    {
     "name": "stdout",
     "output_type": "stream",
     "text": [
      "naryn - nearest hotel: Ала-Тоо\n"
     ]
    },
    {
     "name": "stderr",
     "output_type": "stream",
     "text": [
      "c:\\Users\\cschuttler\\AppData\\Local\\anaconda3\\lib\\site-packages\\urllib3\\connectionpool.py:1056: InsecureRequestWarning: Unverified HTTPS request is being made to host 'api.geoapify.com'. Adding certificate verification is strongly advised. See: https://urllib3.readthedocs.io/en/1.26.x/advanced-usage.html#ssl-warnings\n",
      "  warnings.warn(\n"
     ]
    },
    {
     "name": "stdout",
     "output_type": "stream",
     "text": [
      "kribi - nearest hotel: Mont neyanc\n"
     ]
    },
    {
     "name": "stderr",
     "output_type": "stream",
     "text": [
      "c:\\Users\\cschuttler\\AppData\\Local\\anaconda3\\lib\\site-packages\\urllib3\\connectionpool.py:1056: InsecureRequestWarning: Unverified HTTPS request is being made to host 'api.geoapify.com'. Adding certificate verification is strongly advised. See: https://urllib3.readthedocs.io/en/1.26.x/advanced-usage.html#ssl-warnings\n",
      "  warnings.warn(\n"
     ]
    },
    {
     "name": "stdout",
     "output_type": "stream",
     "text": [
      "masterton - nearest hotel: Copthorne Hotel Solway Park\n"
     ]
    },
    {
     "name": "stderr",
     "output_type": "stream",
     "text": [
      "c:\\Users\\cschuttler\\AppData\\Local\\anaconda3\\lib\\site-packages\\urllib3\\connectionpool.py:1056: InsecureRequestWarning: Unverified HTTPS request is being made to host 'api.geoapify.com'. Adding certificate verification is strongly advised. See: https://urllib3.readthedocs.io/en/1.26.x/advanced-usage.html#ssl-warnings\n",
      "  warnings.warn(\n"
     ]
    },
    {
     "name": "stdout",
     "output_type": "stream",
     "text": [
      "kantunilkin - nearest hotel: Posada del Parque\n"
     ]
    },
    {
     "name": "stderr",
     "output_type": "stream",
     "text": [
      "c:\\Users\\cschuttler\\AppData\\Local\\anaconda3\\lib\\site-packages\\urllib3\\connectionpool.py:1056: InsecureRequestWarning: Unverified HTTPS request is being made to host 'api.geoapify.com'. Adding certificate verification is strongly advised. See: https://urllib3.readthedocs.io/en/1.26.x/advanced-usage.html#ssl-warnings\n",
      "  warnings.warn(\n"
     ]
    },
    {
     "name": "stdout",
     "output_type": "stream",
     "text": [
      "creel - nearest hotel: Hotel Cascada inn\n"
     ]
    },
    {
     "name": "stderr",
     "output_type": "stream",
     "text": [
      "c:\\Users\\cschuttler\\AppData\\Local\\anaconda3\\lib\\site-packages\\urllib3\\connectionpool.py:1056: InsecureRequestWarning: Unverified HTTPS request is being made to host 'api.geoapify.com'. Adding certificate verification is strongly advised. See: https://urllib3.readthedocs.io/en/1.26.x/advanced-usage.html#ssl-warnings\n",
      "  warnings.warn(\n"
     ]
    },
    {
     "name": "stdout",
     "output_type": "stream",
     "text": [
      "mo i rana - nearest hotel: Scandic Meyergården\n"
     ]
    },
    {
     "name": "stderr",
     "output_type": "stream",
     "text": [
      "c:\\Users\\cschuttler\\AppData\\Local\\anaconda3\\lib\\site-packages\\urllib3\\connectionpool.py:1056: InsecureRequestWarning: Unverified HTTPS request is being made to host 'api.geoapify.com'. Adding certificate verification is strongly advised. See: https://urllib3.readthedocs.io/en/1.26.x/advanced-usage.html#ssl-warnings\n",
      "  warnings.warn(\n"
     ]
    },
    {
     "name": "stdout",
     "output_type": "stream",
     "text": [
      "an nuhud - nearest hotel: No hotel found\n"
     ]
    },
    {
     "name": "stderr",
     "output_type": "stream",
     "text": [
      "c:\\Users\\cschuttler\\AppData\\Local\\anaconda3\\lib\\site-packages\\urllib3\\connectionpool.py:1056: InsecureRequestWarning: Unverified HTTPS request is being made to host 'api.geoapify.com'. Adding certificate verification is strongly advised. See: https://urllib3.readthedocs.io/en/1.26.x/advanced-usage.html#ssl-warnings\n",
      "  warnings.warn(\n"
     ]
    },
    {
     "name": "stdout",
     "output_type": "stream",
     "text": [
      "sola - nearest hotel: No hotel found\n"
     ]
    },
    {
     "name": "stderr",
     "output_type": "stream",
     "text": [
      "c:\\Users\\cschuttler\\AppData\\Local\\anaconda3\\lib\\site-packages\\urllib3\\connectionpool.py:1056: InsecureRequestWarning: Unverified HTTPS request is being made to host 'api.geoapify.com'. Adding certificate verification is strongly advised. See: https://urllib3.readthedocs.io/en/1.26.x/advanced-usage.html#ssl-warnings\n",
      "  warnings.warn(\n"
     ]
    },
    {
     "name": "stdout",
     "output_type": "stream",
     "text": [
      "mahibadhoo - nearest hotel: No hotel found\n"
     ]
    },
    {
     "name": "stderr",
     "output_type": "stream",
     "text": [
      "c:\\Users\\cschuttler\\AppData\\Local\\anaconda3\\lib\\site-packages\\urllib3\\connectionpool.py:1056: InsecureRequestWarning: Unverified HTTPS request is being made to host 'api.geoapify.com'. Adding certificate verification is strongly advised. See: https://urllib3.readthedocs.io/en/1.26.x/advanced-usage.html#ssl-warnings\n",
      "  warnings.warn(\n"
     ]
    },
    {
     "name": "stdout",
     "output_type": "stream",
     "text": [
      "miquelon - nearest hotel: No hotel found\n"
     ]
    },
    {
     "name": "stderr",
     "output_type": "stream",
     "text": [
      "c:\\Users\\cschuttler\\AppData\\Local\\anaconda3\\lib\\site-packages\\urllib3\\connectionpool.py:1056: InsecureRequestWarning: Unverified HTTPS request is being made to host 'api.geoapify.com'. Adding certificate verification is strongly advised. See: https://urllib3.readthedocs.io/en/1.26.x/advanced-usage.html#ssl-warnings\n",
      "  warnings.warn(\n"
     ]
    },
    {
     "name": "stdout",
     "output_type": "stream",
     "text": [
      "qulsary - nearest hotel: Камилла\n"
     ]
    },
    {
     "name": "stderr",
     "output_type": "stream",
     "text": [
      "c:\\Users\\cschuttler\\AppData\\Local\\anaconda3\\lib\\site-packages\\urllib3\\connectionpool.py:1056: InsecureRequestWarning: Unverified HTTPS request is being made to host 'api.geoapify.com'. Adding certificate verification is strongly advised. See: https://urllib3.readthedocs.io/en/1.26.x/advanced-usage.html#ssl-warnings\n",
      "  warnings.warn(\n"
     ]
    },
    {
     "name": "stdout",
     "output_type": "stream",
     "text": [
      "guiuan - nearest hotel: Addison Pension House\n"
     ]
    },
    {
     "name": "stderr",
     "output_type": "stream",
     "text": [
      "c:\\Users\\cschuttler\\AppData\\Local\\anaconda3\\lib\\site-packages\\urllib3\\connectionpool.py:1056: InsecureRequestWarning: Unverified HTTPS request is being made to host 'api.geoapify.com'. Adding certificate verification is strongly advised. See: https://urllib3.readthedocs.io/en/1.26.x/advanced-usage.html#ssl-warnings\n",
      "  warnings.warn(\n"
     ]
    },
    {
     "name": "stdout",
     "output_type": "stream",
     "text": [
      "hilo - nearest hotel: Dolphin Bay Hotel\n"
     ]
    },
    {
     "name": "stderr",
     "output_type": "stream",
     "text": [
      "c:\\Users\\cschuttler\\AppData\\Local\\anaconda3\\lib\\site-packages\\urllib3\\connectionpool.py:1056: InsecureRequestWarning: Unverified HTTPS request is being made to host 'api.geoapify.com'. Adding certificate verification is strongly advised. See: https://urllib3.readthedocs.io/en/1.26.x/advanced-usage.html#ssl-warnings\n",
      "  warnings.warn(\n"
     ]
    },
    {
     "name": "stdout",
     "output_type": "stream",
     "text": [
      "laibin - nearest hotel: No hotel found\n"
     ]
    },
    {
     "name": "stderr",
     "output_type": "stream",
     "text": [
      "c:\\Users\\cschuttler\\AppData\\Local\\anaconda3\\lib\\site-packages\\urllib3\\connectionpool.py:1056: InsecureRequestWarning: Unverified HTTPS request is being made to host 'api.geoapify.com'. Adding certificate verification is strongly advised. See: https://urllib3.readthedocs.io/en/1.26.x/advanced-usage.html#ssl-warnings\n",
      "  warnings.warn(\n"
     ]
    },
    {
     "name": "stdout",
     "output_type": "stream",
     "text": [
      "buka - nearest hotel: No hotel found\n"
     ]
    },
    {
     "name": "stderr",
     "output_type": "stream",
     "text": [
      "c:\\Users\\cschuttler\\AppData\\Local\\anaconda3\\lib\\site-packages\\urllib3\\connectionpool.py:1056: InsecureRequestWarning: Unverified HTTPS request is being made to host 'api.geoapify.com'. Adding certificate verification is strongly advised. See: https://urllib3.readthedocs.io/en/1.26.x/advanced-usage.html#ssl-warnings\n",
      "  warnings.warn(\n"
     ]
    },
    {
     "name": "stdout",
     "output_type": "stream",
     "text": [
      "pikalevo - nearest hotel: Металлург\n"
     ]
    },
    {
     "name": "stderr",
     "output_type": "stream",
     "text": [
      "c:\\Users\\cschuttler\\AppData\\Local\\anaconda3\\lib\\site-packages\\urllib3\\connectionpool.py:1056: InsecureRequestWarning: Unverified HTTPS request is being made to host 'api.geoapify.com'. Adding certificate verification is strongly advised. See: https://urllib3.readthedocs.io/en/1.26.x/advanced-usage.html#ssl-warnings\n",
      "  warnings.warn(\n"
     ]
    },
    {
     "name": "stdout",
     "output_type": "stream",
     "text": [
      "fisterra - nearest hotel: Hotel Temático do Banco Azul\n"
     ]
    },
    {
     "name": "stderr",
     "output_type": "stream",
     "text": [
      "c:\\Users\\cschuttler\\AppData\\Local\\anaconda3\\lib\\site-packages\\urllib3\\connectionpool.py:1056: InsecureRequestWarning: Unverified HTTPS request is being made to host 'api.geoapify.com'. Adding certificate verification is strongly advised. See: https://urllib3.readthedocs.io/en/1.26.x/advanced-usage.html#ssl-warnings\n",
      "  warnings.warn(\n"
     ]
    },
    {
     "name": "stdout",
     "output_type": "stream",
     "text": [
      "sinabang - nearest hotel: No hotel found\n"
     ]
    },
    {
     "name": "stderr",
     "output_type": "stream",
     "text": [
      "c:\\Users\\cschuttler\\AppData\\Local\\anaconda3\\lib\\site-packages\\urllib3\\connectionpool.py:1056: InsecureRequestWarning: Unverified HTTPS request is being made to host 'api.geoapify.com'. Adding certificate verification is strongly advised. See: https://urllib3.readthedocs.io/en/1.26.x/advanced-usage.html#ssl-warnings\n",
      "  warnings.warn(\n"
     ]
    },
    {
     "name": "stdout",
     "output_type": "stream",
     "text": [
      "altai - nearest hotel: Altai hotel 40000-100000T\n"
     ]
    },
    {
     "name": "stderr",
     "output_type": "stream",
     "text": [
      "c:\\Users\\cschuttler\\AppData\\Local\\anaconda3\\lib\\site-packages\\urllib3\\connectionpool.py:1056: InsecureRequestWarning: Unverified HTTPS request is being made to host 'api.geoapify.com'. Adding certificate verification is strongly advised. See: https://urllib3.readthedocs.io/en/1.26.x/advanced-usage.html#ssl-warnings\n",
      "  warnings.warn(\n"
     ]
    },
    {
     "name": "stdout",
     "output_type": "stream",
     "text": [
      "khovd - nearest hotel: Khovd hotel\n"
     ]
    },
    {
     "name": "stderr",
     "output_type": "stream",
     "text": [
      "c:\\Users\\cschuttler\\AppData\\Local\\anaconda3\\lib\\site-packages\\urllib3\\connectionpool.py:1056: InsecureRequestWarning: Unverified HTTPS request is being made to host 'api.geoapify.com'. Adding certificate verification is strongly advised. See: https://urllib3.readthedocs.io/en/1.26.x/advanced-usage.html#ssl-warnings\n",
      "  warnings.warn(\n"
     ]
    },
    {
     "name": "stdout",
     "output_type": "stream",
     "text": [
      "papao - nearest hotel: Hiti Moana Villa Lodge\n"
     ]
    },
    {
     "name": "stderr",
     "output_type": "stream",
     "text": [
      "c:\\Users\\cschuttler\\AppData\\Local\\anaconda3\\lib\\site-packages\\urllib3\\connectionpool.py:1056: InsecureRequestWarning: Unverified HTTPS request is being made to host 'api.geoapify.com'. Adding certificate verification is strongly advised. See: https://urllib3.readthedocs.io/en/1.26.x/advanced-usage.html#ssl-warnings\n",
      "  warnings.warn(\n"
     ]
    },
    {
     "name": "stdout",
     "output_type": "stream",
     "text": [
      "utrik - nearest hotel: No hotel found\n"
     ]
    },
    {
     "name": "stderr",
     "output_type": "stream",
     "text": [
      "c:\\Users\\cschuttler\\AppData\\Local\\anaconda3\\lib\\site-packages\\urllib3\\connectionpool.py:1056: InsecureRequestWarning: Unverified HTTPS request is being made to host 'api.geoapify.com'. Adding certificate verification is strongly advised. See: https://urllib3.readthedocs.io/en/1.26.x/advanced-usage.html#ssl-warnings\n",
      "  warnings.warn(\n"
     ]
    },
    {
     "name": "stdout",
     "output_type": "stream",
     "text": [
      "san antonio de pale - nearest hotel: No hotel found\n"
     ]
    },
    {
     "name": "stderr",
     "output_type": "stream",
     "text": [
      "c:\\Users\\cschuttler\\AppData\\Local\\anaconda3\\lib\\site-packages\\urllib3\\connectionpool.py:1056: InsecureRequestWarning: Unverified HTTPS request is being made to host 'api.geoapify.com'. Adding certificate verification is strongly advised. See: https://urllib3.readthedocs.io/en/1.26.x/advanced-usage.html#ssl-warnings\n",
      "  warnings.warn(\n"
     ]
    },
    {
     "name": "stdout",
     "output_type": "stream",
     "text": [
      "utete - nearest hotel: No hotel found\n"
     ]
    },
    {
     "name": "stderr",
     "output_type": "stream",
     "text": [
      "c:\\Users\\cschuttler\\AppData\\Local\\anaconda3\\lib\\site-packages\\urllib3\\connectionpool.py:1056: InsecureRequestWarning: Unverified HTTPS request is being made to host 'api.geoapify.com'. Adding certificate verification is strongly advised. See: https://urllib3.readthedocs.io/en/1.26.x/advanced-usage.html#ssl-warnings\n",
      "  warnings.warn(\n"
     ]
    },
    {
     "name": "stdout",
     "output_type": "stream",
     "text": [
      "goba - nearest hotel: ጎባ ዋቤ ሸበሌ ሆቴል\n"
     ]
    },
    {
     "name": "stderr",
     "output_type": "stream",
     "text": [
      "c:\\Users\\cschuttler\\AppData\\Local\\anaconda3\\lib\\site-packages\\urllib3\\connectionpool.py:1056: InsecureRequestWarning: Unverified HTTPS request is being made to host 'api.geoapify.com'. Adding certificate verification is strongly advised. See: https://urllib3.readthedocs.io/en/1.26.x/advanced-usage.html#ssl-warnings\n",
      "  warnings.warn(\n"
     ]
    },
    {
     "name": "stdout",
     "output_type": "stream",
     "text": [
      "quelimane - nearest hotel: Mabassa\n"
     ]
    },
    {
     "name": "stderr",
     "output_type": "stream",
     "text": [
      "c:\\Users\\cschuttler\\AppData\\Local\\anaconda3\\lib\\site-packages\\urllib3\\connectionpool.py:1056: InsecureRequestWarning: Unverified HTTPS request is being made to host 'api.geoapify.com'. Adding certificate verification is strongly advised. See: https://urllib3.readthedocs.io/en/1.26.x/advanced-usage.html#ssl-warnings\n",
      "  warnings.warn(\n"
     ]
    },
    {
     "name": "stdout",
     "output_type": "stream",
     "text": [
      "korsakov - nearest hotel: гостиница \"Альфа\"\n"
     ]
    },
    {
     "name": "stderr",
     "output_type": "stream",
     "text": [
      "c:\\Users\\cschuttler\\AppData\\Local\\anaconda3\\lib\\site-packages\\urllib3\\connectionpool.py:1056: InsecureRequestWarning: Unverified HTTPS request is being made to host 'api.geoapify.com'. Adding certificate verification is strongly advised. See: https://urllib3.readthedocs.io/en/1.26.x/advanced-usage.html#ssl-warnings\n",
      "  warnings.warn(\n"
     ]
    },
    {
     "name": "stdout",
     "output_type": "stream",
     "text": [
      "banlung - nearest hotel: Eang Monyratanak Hotel\n"
     ]
    },
    {
     "name": "stderr",
     "output_type": "stream",
     "text": [
      "c:\\Users\\cschuttler\\AppData\\Local\\anaconda3\\lib\\site-packages\\urllib3\\connectionpool.py:1056: InsecureRequestWarning: Unverified HTTPS request is being made to host 'api.geoapify.com'. Adding certificate verification is strongly advised. See: https://urllib3.readthedocs.io/en/1.26.x/advanced-usage.html#ssl-warnings\n",
      "  warnings.warn(\n"
     ]
    },
    {
     "name": "stdout",
     "output_type": "stream",
     "text": [
      "guerrero negro - nearest hotel: Plaza sal paraiso\n"
     ]
    },
    {
     "name": "stderr",
     "output_type": "stream",
     "text": [
      "c:\\Users\\cschuttler\\AppData\\Local\\anaconda3\\lib\\site-packages\\urllib3\\connectionpool.py:1056: InsecureRequestWarning: Unverified HTTPS request is being made to host 'api.geoapify.com'. Adding certificate verification is strongly advised. See: https://urllib3.readthedocs.io/en/1.26.x/advanced-usage.html#ssl-warnings\n",
      "  warnings.warn(\n"
     ]
    },
    {
     "name": "stdout",
     "output_type": "stream",
     "text": [
      "saint-louis - nearest hotel: No hotel found\n"
     ]
    },
    {
     "name": "stderr",
     "output_type": "stream",
     "text": [
      "c:\\Users\\cschuttler\\AppData\\Local\\anaconda3\\lib\\site-packages\\urllib3\\connectionpool.py:1056: InsecureRequestWarning: Unverified HTTPS request is being made to host 'api.geoapify.com'. Adding certificate verification is strongly advised. See: https://urllib3.readthedocs.io/en/1.26.x/advanced-usage.html#ssl-warnings\n",
      "  warnings.warn(\n"
     ]
    },
    {
     "name": "stdout",
     "output_type": "stream",
     "text": [
      "smithers - nearest hotel: Sunshine Inn Hotel\n"
     ]
    },
    {
     "name": "stderr",
     "output_type": "stream",
     "text": [
      "c:\\Users\\cschuttler\\AppData\\Local\\anaconda3\\lib\\site-packages\\urllib3\\connectionpool.py:1056: InsecureRequestWarning: Unverified HTTPS request is being made to host 'api.geoapify.com'. Adding certificate verification is strongly advised. See: https://urllib3.readthedocs.io/en/1.26.x/advanced-usage.html#ssl-warnings\n",
      "  warnings.warn(\n"
     ]
    },
    {
     "name": "stdout",
     "output_type": "stream",
     "text": [
      "yaren - nearest hotel: Aiwo Hotel\n"
     ]
    },
    {
     "name": "stderr",
     "output_type": "stream",
     "text": [
      "c:\\Users\\cschuttler\\AppData\\Local\\anaconda3\\lib\\site-packages\\urllib3\\connectionpool.py:1056: InsecureRequestWarning: Unverified HTTPS request is being made to host 'api.geoapify.com'. Adding certificate verification is strongly advised. See: https://urllib3.readthedocs.io/en/1.26.x/advanced-usage.html#ssl-warnings\n",
      "  warnings.warn(\n"
     ]
    },
    {
     "name": "stdout",
     "output_type": "stream",
     "text": [
      "sisimiut - nearest hotel: Sømandshjemmet\n"
     ]
    },
    {
     "name": "stderr",
     "output_type": "stream",
     "text": [
      "c:\\Users\\cschuttler\\AppData\\Local\\anaconda3\\lib\\site-packages\\urllib3\\connectionpool.py:1056: InsecureRequestWarning: Unverified HTTPS request is being made to host 'api.geoapify.com'. Adding certificate verification is strongly advised. See: https://urllib3.readthedocs.io/en/1.26.x/advanced-usage.html#ssl-warnings\n",
      "  warnings.warn(\n"
     ]
    },
    {
     "name": "stdout",
     "output_type": "stream",
     "text": [
      "cumbum - nearest hotel: No hotel found\n"
     ]
    },
    {
     "name": "stderr",
     "output_type": "stream",
     "text": [
      "c:\\Users\\cschuttler\\AppData\\Local\\anaconda3\\lib\\site-packages\\urllib3\\connectionpool.py:1056: InsecureRequestWarning: Unverified HTTPS request is being made to host 'api.geoapify.com'. Adding certificate verification is strongly advised. See: https://urllib3.readthedocs.io/en/1.26.x/advanced-usage.html#ssl-warnings\n",
      "  warnings.warn(\n"
     ]
    },
    {
     "name": "stdout",
     "output_type": "stream",
     "text": [
      "hassi messaoud - nearest hotel: AMC\n"
     ]
    },
    {
     "name": "stderr",
     "output_type": "stream",
     "text": [
      "c:\\Users\\cschuttler\\AppData\\Local\\anaconda3\\lib\\site-packages\\urllib3\\connectionpool.py:1056: InsecureRequestWarning: Unverified HTTPS request is being made to host 'api.geoapify.com'. Adding certificate verification is strongly advised. See: https://urllib3.readthedocs.io/en/1.26.x/advanced-usage.html#ssl-warnings\n",
      "  warnings.warn(\n"
     ]
    },
    {
     "name": "stdout",
     "output_type": "stream",
     "text": [
      "vikulovo - nearest hotel: OOO \"СИСТЕМА СТРОЙ\"\n"
     ]
    },
    {
     "name": "stderr",
     "output_type": "stream",
     "text": [
      "c:\\Users\\cschuttler\\AppData\\Local\\anaconda3\\lib\\site-packages\\urllib3\\connectionpool.py:1056: InsecureRequestWarning: Unverified HTTPS request is being made to host 'api.geoapify.com'. Adding certificate verification is strongly advised. See: https://urllib3.readthedocs.io/en/1.26.x/advanced-usage.html#ssl-warnings\n",
      "  warnings.warn(\n"
     ]
    },
    {
     "name": "stdout",
     "output_type": "stream",
     "text": [
      "kudahuvadhoo - nearest hotel: Hotel Riu Palace Maldivas\n"
     ]
    },
    {
     "name": "stderr",
     "output_type": "stream",
     "text": [
      "c:\\Users\\cschuttler\\AppData\\Local\\anaconda3\\lib\\site-packages\\urllib3\\connectionpool.py:1056: InsecureRequestWarning: Unverified HTTPS request is being made to host 'api.geoapify.com'. Adding certificate verification is strongly advised. See: https://urllib3.readthedocs.io/en/1.26.x/advanced-usage.html#ssl-warnings\n",
      "  warnings.warn(\n"
     ]
    },
    {
     "name": "stdout",
     "output_type": "stream",
     "text": [
      "brisas de zicatela - nearest hotel: Casa de Olas\n"
     ]
    },
    {
     "name": "stderr",
     "output_type": "stream",
     "text": [
      "c:\\Users\\cschuttler\\AppData\\Local\\anaconda3\\lib\\site-packages\\urllib3\\connectionpool.py:1056: InsecureRequestWarning: Unverified HTTPS request is being made to host 'api.geoapify.com'. Adding certificate verification is strongly advised. See: https://urllib3.readthedocs.io/en/1.26.x/advanced-usage.html#ssl-warnings\n",
      "  warnings.warn(\n"
     ]
    },
    {
     "name": "stdout",
     "output_type": "stream",
     "text": [
      "priozersk - nearest hotel: Корела\n"
     ]
    },
    {
     "name": "stderr",
     "output_type": "stream",
     "text": [
      "c:\\Users\\cschuttler\\AppData\\Local\\anaconda3\\lib\\site-packages\\urllib3\\connectionpool.py:1056: InsecureRequestWarning: Unverified HTTPS request is being made to host 'api.geoapify.com'. Adding certificate verification is strongly advised. See: https://urllib3.readthedocs.io/en/1.26.x/advanced-usage.html#ssl-warnings\n",
      "  warnings.warn(\n"
     ]
    },
    {
     "name": "stdout",
     "output_type": "stream",
     "text": [
      "port augusta - nearest hotel: Hotel Commonwealth\n"
     ]
    },
    {
     "name": "stderr",
     "output_type": "stream",
     "text": [
      "c:\\Users\\cschuttler\\AppData\\Local\\anaconda3\\lib\\site-packages\\urllib3\\connectionpool.py:1056: InsecureRequestWarning: Unverified HTTPS request is being made to host 'api.geoapify.com'. Adding certificate verification is strongly advised. See: https://urllib3.readthedocs.io/en/1.26.x/advanced-usage.html#ssl-warnings\n",
      "  warnings.warn(\n"
     ]
    },
    {
     "name": "stdout",
     "output_type": "stream",
     "text": [
      "vuktyl - nearest hotel: Вуктыл\n"
     ]
    },
    {
     "name": "stderr",
     "output_type": "stream",
     "text": [
      "c:\\Users\\cschuttler\\AppData\\Local\\anaconda3\\lib\\site-packages\\urllib3\\connectionpool.py:1056: InsecureRequestWarning: Unverified HTTPS request is being made to host 'api.geoapify.com'. Adding certificate verification is strongly advised. See: https://urllib3.readthedocs.io/en/1.26.x/advanced-usage.html#ssl-warnings\n",
      "  warnings.warn(\n"
     ]
    },
    {
     "name": "stdout",
     "output_type": "stream",
     "text": [
      "shohimardon - nearest hotel: No hotel found\n"
     ]
    },
    {
     "name": "stderr",
     "output_type": "stream",
     "text": [
      "c:\\Users\\cschuttler\\AppData\\Local\\anaconda3\\lib\\site-packages\\urllib3\\connectionpool.py:1056: InsecureRequestWarning: Unverified HTTPS request is being made to host 'api.geoapify.com'. Adding certificate verification is strongly advised. See: https://urllib3.readthedocs.io/en/1.26.x/advanced-usage.html#ssl-warnings\n",
      "  warnings.warn(\n"
     ]
    },
    {
     "name": "stdout",
     "output_type": "stream",
     "text": [
      "leh - nearest hotel: Kang Lha Chen\n"
     ]
    },
    {
     "name": "stderr",
     "output_type": "stream",
     "text": [
      "c:\\Users\\cschuttler\\AppData\\Local\\anaconda3\\lib\\site-packages\\urllib3\\connectionpool.py:1056: InsecureRequestWarning: Unverified HTTPS request is being made to host 'api.geoapify.com'. Adding certificate verification is strongly advised. See: https://urllib3.readthedocs.io/en/1.26.x/advanced-usage.html#ssl-warnings\n",
      "  warnings.warn(\n"
     ]
    },
    {
     "name": "stdout",
     "output_type": "stream",
     "text": [
      "lao cai - nearest hotel: Bảo Son Hotel\n"
     ]
    },
    {
     "name": "stderr",
     "output_type": "stream",
     "text": [
      "c:\\Users\\cschuttler\\AppData\\Local\\anaconda3\\lib\\site-packages\\urllib3\\connectionpool.py:1056: InsecureRequestWarning: Unverified HTTPS request is being made to host 'api.geoapify.com'. Adding certificate verification is strongly advised. See: https://urllib3.readthedocs.io/en/1.26.x/advanced-usage.html#ssl-warnings\n",
      "  warnings.warn(\n"
     ]
    },
    {
     "name": "stdout",
     "output_type": "stream",
     "text": [
      "faro - nearest hotel: Best Western Hotel Dom Bernardo\n"
     ]
    },
    {
     "name": "stderr",
     "output_type": "stream",
     "text": [
      "c:\\Users\\cschuttler\\AppData\\Local\\anaconda3\\lib\\site-packages\\urllib3\\connectionpool.py:1056: InsecureRequestWarning: Unverified HTTPS request is being made to host 'api.geoapify.com'. Adding certificate verification is strongly advised. See: https://urllib3.readthedocs.io/en/1.26.x/advanced-usage.html#ssl-warnings\n",
      "  warnings.warn(\n"
     ]
    },
    {
     "name": "stdout",
     "output_type": "stream",
     "text": [
      "jindrichuv hradec - nearest hotel: hotel Vajgar\n"
     ]
    },
    {
     "name": "stderr",
     "output_type": "stream",
     "text": [
      "c:\\Users\\cschuttler\\AppData\\Local\\anaconda3\\lib\\site-packages\\urllib3\\connectionpool.py:1056: InsecureRequestWarning: Unverified HTTPS request is being made to host 'api.geoapify.com'. Adding certificate verification is strongly advised. See: https://urllib3.readthedocs.io/en/1.26.x/advanced-usage.html#ssl-warnings\n",
      "  warnings.warn(\n"
     ]
    },
    {
     "name": "stdout",
     "output_type": "stream",
     "text": [
      "morondava - nearest hotel: Hotel Sharon Menabe\n"
     ]
    },
    {
     "name": "stderr",
     "output_type": "stream",
     "text": [
      "c:\\Users\\cschuttler\\AppData\\Local\\anaconda3\\lib\\site-packages\\urllib3\\connectionpool.py:1056: InsecureRequestWarning: Unverified HTTPS request is being made to host 'api.geoapify.com'. Adding certificate verification is strongly advised. See: https://urllib3.readthedocs.io/en/1.26.x/advanced-usage.html#ssl-warnings\n",
      "  warnings.warn(\n"
     ]
    },
    {
     "name": "stdout",
     "output_type": "stream",
     "text": [
      "santana - nearest hotel: Hotel Teodoro\n"
     ]
    },
    {
     "name": "stderr",
     "output_type": "stream",
     "text": [
      "c:\\Users\\cschuttler\\AppData\\Local\\anaconda3\\lib\\site-packages\\urllib3\\connectionpool.py:1056: InsecureRequestWarning: Unverified HTTPS request is being made to host 'api.geoapify.com'. Adding certificate verification is strongly advised. See: https://urllib3.readthedocs.io/en/1.26.x/advanced-usage.html#ssl-warnings\n",
      "  warnings.warn(\n"
     ]
    },
    {
     "name": "stdout",
     "output_type": "stream",
     "text": [
      "nagqu - nearest hotel: Naqu Hotel\n"
     ]
    },
    {
     "name": "stderr",
     "output_type": "stream",
     "text": [
      "c:\\Users\\cschuttler\\AppData\\Local\\anaconda3\\lib\\site-packages\\urllib3\\connectionpool.py:1056: InsecureRequestWarning: Unverified HTTPS request is being made to host 'api.geoapify.com'. Adding certificate verification is strongly advised. See: https://urllib3.readthedocs.io/en/1.26.x/advanced-usage.html#ssl-warnings\n",
      "  warnings.warn(\n"
     ]
    },
    {
     "name": "stdout",
     "output_type": "stream",
     "text": [
      "hong kong - nearest hotel: 四季酒店 Four Seasons Hotel\n"
     ]
    },
    {
     "name": "stderr",
     "output_type": "stream",
     "text": [
      "c:\\Users\\cschuttler\\AppData\\Local\\anaconda3\\lib\\site-packages\\urllib3\\connectionpool.py:1056: InsecureRequestWarning: Unverified HTTPS request is being made to host 'api.geoapify.com'. Adding certificate verification is strongly advised. See: https://urllib3.readthedocs.io/en/1.26.x/advanced-usage.html#ssl-warnings\n",
      "  warnings.warn(\n"
     ]
    },
    {
     "name": "stdout",
     "output_type": "stream",
     "text": [
      "luorong - nearest hotel: No hotel found\n"
     ]
    },
    {
     "name": "stderr",
     "output_type": "stream",
     "text": [
      "c:\\Users\\cschuttler\\AppData\\Local\\anaconda3\\lib\\site-packages\\urllib3\\connectionpool.py:1056: InsecureRequestWarning: Unverified HTTPS request is being made to host 'api.geoapify.com'. Adding certificate verification is strongly advised. See: https://urllib3.readthedocs.io/en/1.26.x/advanced-usage.html#ssl-warnings\n",
      "  warnings.warn(\n"
     ]
    },
    {
     "name": "stdout",
     "output_type": "stream",
     "text": [
      "puerto baquerizo moreno - nearest hotel: Dory's House\n"
     ]
    },
    {
     "name": "stderr",
     "output_type": "stream",
     "text": [
      "c:\\Users\\cschuttler\\AppData\\Local\\anaconda3\\lib\\site-packages\\urllib3\\connectionpool.py:1056: InsecureRequestWarning: Unverified HTTPS request is being made to host 'api.geoapify.com'. Adding certificate verification is strongly advised. See: https://urllib3.readthedocs.io/en/1.26.x/advanced-usage.html#ssl-warnings\n",
      "  warnings.warn(\n"
     ]
    },
    {
     "name": "stdout",
     "output_type": "stream",
     "text": [
      "garden city - nearest hotel: Quality Inn & Suites\n"
     ]
    },
    {
     "name": "stderr",
     "output_type": "stream",
     "text": [
      "c:\\Users\\cschuttler\\AppData\\Local\\anaconda3\\lib\\site-packages\\urllib3\\connectionpool.py:1056: InsecureRequestWarning: Unverified HTTPS request is being made to host 'api.geoapify.com'. Adding certificate verification is strongly advised. See: https://urllib3.readthedocs.io/en/1.26.x/advanced-usage.html#ssl-warnings\n",
      "  warnings.warn(\n"
     ]
    },
    {
     "name": "stdout",
     "output_type": "stream",
     "text": [
      "aransas pass - nearest hotel: Executive Inn & Suites\n"
     ]
    },
    {
     "name": "stderr",
     "output_type": "stream",
     "text": [
      "c:\\Users\\cschuttler\\AppData\\Local\\anaconda3\\lib\\site-packages\\urllib3\\connectionpool.py:1056: InsecureRequestWarning: Unverified HTTPS request is being made to host 'api.geoapify.com'. Adding certificate verification is strongly advised. See: https://urllib3.readthedocs.io/en/1.26.x/advanced-usage.html#ssl-warnings\n",
      "  warnings.warn(\n"
     ]
    },
    {
     "name": "stdout",
     "output_type": "stream",
     "text": [
      "yuzhno-kurilsk - nearest hotel: Dom Druzhby\n"
     ]
    },
    {
     "name": "stderr",
     "output_type": "stream",
     "text": [
      "c:\\Users\\cschuttler\\AppData\\Local\\anaconda3\\lib\\site-packages\\urllib3\\connectionpool.py:1056: InsecureRequestWarning: Unverified HTTPS request is being made to host 'api.geoapify.com'. Adding certificate verification is strongly advised. See: https://urllib3.readthedocs.io/en/1.26.x/advanced-usage.html#ssl-warnings\n",
      "  warnings.warn(\n"
     ]
    },
    {
     "name": "stdout",
     "output_type": "stream",
     "text": [
      "cidade velha - nearest hotel: Encosta Azul\n"
     ]
    },
    {
     "name": "stderr",
     "output_type": "stream",
     "text": [
      "c:\\Users\\cschuttler\\AppData\\Local\\anaconda3\\lib\\site-packages\\urllib3\\connectionpool.py:1056: InsecureRequestWarning: Unverified HTTPS request is being made to host 'api.geoapify.com'. Adding certificate verification is strongly advised. See: https://urllib3.readthedocs.io/en/1.26.x/advanced-usage.html#ssl-warnings\n",
      "  warnings.warn(\n"
     ]
    },
    {
     "name": "stdout",
     "output_type": "stream",
     "text": [
      "huilong - nearest hotel: 先豪国际酒店\n"
     ]
    },
    {
     "name": "stderr",
     "output_type": "stream",
     "text": [
      "c:\\Users\\cschuttler\\AppData\\Local\\anaconda3\\lib\\site-packages\\urllib3\\connectionpool.py:1056: InsecureRequestWarning: Unverified HTTPS request is being made to host 'api.geoapify.com'. Adding certificate verification is strongly advised. See: https://urllib3.readthedocs.io/en/1.26.x/advanced-usage.html#ssl-warnings\n",
      "  warnings.warn(\n"
     ]
    },
    {
     "name": "stdout",
     "output_type": "stream",
     "text": [
      "olinda - nearest hotel: Fidji Motel\n"
     ]
    },
    {
     "name": "stderr",
     "output_type": "stream",
     "text": [
      "c:\\Users\\cschuttler\\AppData\\Local\\anaconda3\\lib\\site-packages\\urllib3\\connectionpool.py:1056: InsecureRequestWarning: Unverified HTTPS request is being made to host 'api.geoapify.com'. Adding certificate verification is strongly advised. See: https://urllib3.readthedocs.io/en/1.26.x/advanced-usage.html#ssl-warnings\n",
      "  warnings.warn(\n"
     ]
    },
    {
     "name": "stdout",
     "output_type": "stream",
     "text": [
      "cukai - nearest hotel: Hotel Shafura 2\n"
     ]
    },
    {
     "name": "stderr",
     "output_type": "stream",
     "text": [
      "c:\\Users\\cschuttler\\AppData\\Local\\anaconda3\\lib\\site-packages\\urllib3\\connectionpool.py:1056: InsecureRequestWarning: Unverified HTTPS request is being made to host 'api.geoapify.com'. Adding certificate verification is strongly advised. See: https://urllib3.readthedocs.io/en/1.26.x/advanced-usage.html#ssl-warnings\n",
      "  warnings.warn(\n"
     ]
    },
    {
     "name": "stdout",
     "output_type": "stream",
     "text": [
      "san isidro de curuguaty - nearest hotel: Hospedaje El Sol\n"
     ]
    },
    {
     "name": "stderr",
     "output_type": "stream",
     "text": [
      "c:\\Users\\cschuttler\\AppData\\Local\\anaconda3\\lib\\site-packages\\urllib3\\connectionpool.py:1056: InsecureRequestWarning: Unverified HTTPS request is being made to host 'api.geoapify.com'. Adding certificate verification is strongly advised. See: https://urllib3.readthedocs.io/en/1.26.x/advanced-usage.html#ssl-warnings\n",
      "  warnings.warn(\n"
     ]
    },
    {
     "name": "stdout",
     "output_type": "stream",
     "text": [
      "wynyard - nearest hotel: Wynyard Hotel\n"
     ]
    },
    {
     "name": "stderr",
     "output_type": "stream",
     "text": [
      "c:\\Users\\cschuttler\\AppData\\Local\\anaconda3\\lib\\site-packages\\urllib3\\connectionpool.py:1056: InsecureRequestWarning: Unverified HTTPS request is being made to host 'api.geoapify.com'. Adding certificate verification is strongly advised. See: https://urllib3.readthedocs.io/en/1.26.x/advanced-usage.html#ssl-warnings\n",
      "  warnings.warn(\n"
     ]
    },
    {
     "name": "stdout",
     "output_type": "stream",
     "text": [
      "montepuez - nearest hotel: Complexo Messalo\n"
     ]
    },
    {
     "name": "stderr",
     "output_type": "stream",
     "text": [
      "c:\\Users\\cschuttler\\AppData\\Local\\anaconda3\\lib\\site-packages\\urllib3\\connectionpool.py:1056: InsecureRequestWarning: Unverified HTTPS request is being made to host 'api.geoapify.com'. Adding certificate verification is strongly advised. See: https://urllib3.readthedocs.io/en/1.26.x/advanced-usage.html#ssl-warnings\n",
      "  warnings.warn(\n"
     ]
    },
    {
     "name": "stdout",
     "output_type": "stream",
     "text": [
      "shumerlya - nearest hotel: Центральная\n"
     ]
    },
    {
     "name": "stderr",
     "output_type": "stream",
     "text": [
      "c:\\Users\\cschuttler\\AppData\\Local\\anaconda3\\lib\\site-packages\\urllib3\\connectionpool.py:1056: InsecureRequestWarning: Unverified HTTPS request is being made to host 'api.geoapify.com'. Adding certificate verification is strongly advised. See: https://urllib3.readthedocs.io/en/1.26.x/advanced-usage.html#ssl-warnings\n",
      "  warnings.warn(\n"
     ]
    },
    {
     "name": "stdout",
     "output_type": "stream",
     "text": [
      "asilah - nearest hotel: Hotel Las Palmas\n"
     ]
    },
    {
     "name": "stderr",
     "output_type": "stream",
     "text": [
      "c:\\Users\\cschuttler\\AppData\\Local\\anaconda3\\lib\\site-packages\\urllib3\\connectionpool.py:1056: InsecureRequestWarning: Unverified HTTPS request is being made to host 'api.geoapify.com'. Adding certificate verification is strongly advised. See: https://urllib3.readthedocs.io/en/1.26.x/advanced-usage.html#ssl-warnings\n",
      "  warnings.warn(\n"
     ]
    },
    {
     "name": "stdout",
     "output_type": "stream",
     "text": [
      "kittila - nearest hotel: Hotelli Kittilä\n"
     ]
    },
    {
     "name": "stderr",
     "output_type": "stream",
     "text": [
      "c:\\Users\\cschuttler\\AppData\\Local\\anaconda3\\lib\\site-packages\\urllib3\\connectionpool.py:1056: InsecureRequestWarning: Unverified HTTPS request is being made to host 'api.geoapify.com'. Adding certificate verification is strongly advised. See: https://urllib3.readthedocs.io/en/1.26.x/advanced-usage.html#ssl-warnings\n",
      "  warnings.warn(\n"
     ]
    },
    {
     "name": "stdout",
     "output_type": "stream",
     "text": [
      "tortoli - nearest hotel: La Corte\n"
     ]
    },
    {
     "name": "stderr",
     "output_type": "stream",
     "text": [
      "c:\\Users\\cschuttler\\AppData\\Local\\anaconda3\\lib\\site-packages\\urllib3\\connectionpool.py:1056: InsecureRequestWarning: Unverified HTTPS request is being made to host 'api.geoapify.com'. Adding certificate verification is strongly advised. See: https://urllib3.readthedocs.io/en/1.26.x/advanced-usage.html#ssl-warnings\n",
      "  warnings.warn(\n"
     ]
    },
    {
     "name": "stdout",
     "output_type": "stream",
     "text": [
      "kapit - nearest hotel: Haip\n"
     ]
    },
    {
     "name": "stderr",
     "output_type": "stream",
     "text": [
      "c:\\Users\\cschuttler\\AppData\\Local\\anaconda3\\lib\\site-packages\\urllib3\\connectionpool.py:1056: InsecureRequestWarning: Unverified HTTPS request is being made to host 'api.geoapify.com'. Adding certificate verification is strongly advised. See: https://urllib3.readthedocs.io/en/1.26.x/advanced-usage.html#ssl-warnings\n",
      "  warnings.warn(\n"
     ]
    },
    {
     "name": "stdout",
     "output_type": "stream",
     "text": [
      "kudat - nearest hotel: Hotel Ria\n"
     ]
    },
    {
     "name": "stderr",
     "output_type": "stream",
     "text": [
      "c:\\Users\\cschuttler\\AppData\\Local\\anaconda3\\lib\\site-packages\\urllib3\\connectionpool.py:1056: InsecureRequestWarning: Unverified HTTPS request is being made to host 'api.geoapify.com'. Adding certificate verification is strongly advised. See: https://urllib3.readthedocs.io/en/1.26.x/advanced-usage.html#ssl-warnings\n",
      "  warnings.warn(\n"
     ]
    },
    {
     "name": "stdout",
     "output_type": "stream",
     "text": [
      "sao felix do xingu - nearest hotel: Hotel Terraço\n"
     ]
    },
    {
     "name": "stderr",
     "output_type": "stream",
     "text": [
      "c:\\Users\\cschuttler\\AppData\\Local\\anaconda3\\lib\\site-packages\\urllib3\\connectionpool.py:1056: InsecureRequestWarning: Unverified HTTPS request is being made to host 'api.geoapify.com'. Adding certificate verification is strongly advised. See: https://urllib3.readthedocs.io/en/1.26.x/advanced-usage.html#ssl-warnings\n",
      "  warnings.warn(\n"
     ]
    },
    {
     "name": "stdout",
     "output_type": "stream",
     "text": [
      "nova xavantina - nearest hotel: Hotel Morada do Sol\n"
     ]
    },
    {
     "name": "stderr",
     "output_type": "stream",
     "text": [
      "c:\\Users\\cschuttler\\AppData\\Local\\anaconda3\\lib\\site-packages\\urllib3\\connectionpool.py:1056: InsecureRequestWarning: Unverified HTTPS request is being made to host 'api.geoapify.com'. Adding certificate verification is strongly advised. See: https://urllib3.readthedocs.io/en/1.26.x/advanced-usage.html#ssl-warnings\n",
      "  warnings.warn(\n"
     ]
    },
    {
     "name": "stdout",
     "output_type": "stream",
     "text": [
      "plav - nearest hotel: Hotel Ambiente\n"
     ]
    },
    {
     "name": "stderr",
     "output_type": "stream",
     "text": [
      "c:\\Users\\cschuttler\\AppData\\Local\\anaconda3\\lib\\site-packages\\urllib3\\connectionpool.py:1056: InsecureRequestWarning: Unverified HTTPS request is being made to host 'api.geoapify.com'. Adding certificate verification is strongly advised. See: https://urllib3.readthedocs.io/en/1.26.x/advanced-usage.html#ssl-warnings\n",
      "  warnings.warn(\n"
     ]
    },
    {
     "name": "stdout",
     "output_type": "stream",
     "text": [
      "faya-largeau - nearest hotel: No hotel found\n"
     ]
    },
    {
     "name": "stderr",
     "output_type": "stream",
     "text": [
      "c:\\Users\\cschuttler\\AppData\\Local\\anaconda3\\lib\\site-packages\\urllib3\\connectionpool.py:1056: InsecureRequestWarning: Unverified HTTPS request is being made to host 'api.geoapify.com'. Adding certificate verification is strongly advised. See: https://urllib3.readthedocs.io/en/1.26.x/advanced-usage.html#ssl-warnings\n",
      "  warnings.warn(\n"
     ]
    },
    {
     "name": "stdout",
     "output_type": "stream",
     "text": [
      "malakal - nearest hotel: No hotel found\n"
     ]
    },
    {
     "name": "stderr",
     "output_type": "stream",
     "text": [
      "c:\\Users\\cschuttler\\AppData\\Local\\anaconda3\\lib\\site-packages\\urllib3\\connectionpool.py:1056: InsecureRequestWarning: Unverified HTTPS request is being made to host 'api.geoapify.com'. Adding certificate verification is strongly advised. See: https://urllib3.readthedocs.io/en/1.26.x/advanced-usage.html#ssl-warnings\n",
      "  warnings.warn(\n"
     ]
    },
    {
     "name": "stdout",
     "output_type": "stream",
     "text": [
      "coxen hole - nearest hotel: Elizabeth Inn\n"
     ]
    },
    {
     "name": "stderr",
     "output_type": "stream",
     "text": [
      "c:\\Users\\cschuttler\\AppData\\Local\\anaconda3\\lib\\site-packages\\urllib3\\connectionpool.py:1056: InsecureRequestWarning: Unverified HTTPS request is being made to host 'api.geoapify.com'. Adding certificate verification is strongly advised. See: https://urllib3.readthedocs.io/en/1.26.x/advanced-usage.html#ssl-warnings\n",
      "  warnings.warn(\n"
     ]
    },
    {
     "name": "stdout",
     "output_type": "stream",
     "text": [
      "yakeshi - nearest hotel: Baoling Hotel\n"
     ]
    },
    {
     "name": "stderr",
     "output_type": "stream",
     "text": [
      "c:\\Users\\cschuttler\\AppData\\Local\\anaconda3\\lib\\site-packages\\urllib3\\connectionpool.py:1056: InsecureRequestWarning: Unverified HTTPS request is being made to host 'api.geoapify.com'. Adding certificate verification is strongly advised. See: https://urllib3.readthedocs.io/en/1.26.x/advanced-usage.html#ssl-warnings\n",
      "  warnings.warn(\n"
     ]
    },
    {
     "name": "stdout",
     "output_type": "stream",
     "text": [
      "corato - nearest hotel: Hotel Nicotel Wellnes\n"
     ]
    },
    {
     "name": "stderr",
     "output_type": "stream",
     "text": [
      "c:\\Users\\cschuttler\\AppData\\Local\\anaconda3\\lib\\site-packages\\urllib3\\connectionpool.py:1056: InsecureRequestWarning: Unverified HTTPS request is being made to host 'api.geoapify.com'. Adding certificate verification is strongly advised. See: https://urllib3.readthedocs.io/en/1.26.x/advanced-usage.html#ssl-warnings\n",
      "  warnings.warn(\n"
     ]
    },
    {
     "name": "stdout",
     "output_type": "stream",
     "text": [
      "kouroussa - nearest hotel: No hotel found\n"
     ]
    },
    {
     "name": "stderr",
     "output_type": "stream",
     "text": [
      "c:\\Users\\cschuttler\\AppData\\Local\\anaconda3\\lib\\site-packages\\urllib3\\connectionpool.py:1056: InsecureRequestWarning: Unverified HTTPS request is being made to host 'api.geoapify.com'. Adding certificate verification is strongly advised. See: https://urllib3.readthedocs.io/en/1.26.x/advanced-usage.html#ssl-warnings\n",
      "  warnings.warn(\n"
     ]
    },
    {
     "name": "stdout",
     "output_type": "stream",
     "text": [
      "seven pagodas - nearest hotel: Radisson Temple Bay\n"
     ]
    },
    {
     "name": "stderr",
     "output_type": "stream",
     "text": [
      "c:\\Users\\cschuttler\\AppData\\Local\\anaconda3\\lib\\site-packages\\urllib3\\connectionpool.py:1056: InsecureRequestWarning: Unverified HTTPS request is being made to host 'api.geoapify.com'. Adding certificate verification is strongly advised. See: https://urllib3.readthedocs.io/en/1.26.x/advanced-usage.html#ssl-warnings\n",
      "  warnings.warn(\n"
     ]
    },
    {
     "name": "stdout",
     "output_type": "stream",
     "text": [
      "illizi - nearest hotel: بوناقة\n"
     ]
    },
    {
     "name": "stderr",
     "output_type": "stream",
     "text": [
      "c:\\Users\\cschuttler\\AppData\\Local\\anaconda3\\lib\\site-packages\\urllib3\\connectionpool.py:1056: InsecureRequestWarning: Unverified HTTPS request is being made to host 'api.geoapify.com'. Adding certificate verification is strongly advised. See: https://urllib3.readthedocs.io/en/1.26.x/advanced-usage.html#ssl-warnings\n",
      "  warnings.warn(\n"
     ]
    },
    {
     "name": "stdout",
     "output_type": "stream",
     "text": [
      "pacific grove - nearest hotel: Pacific Grove Inn\n"
     ]
    },
    {
     "name": "stderr",
     "output_type": "stream",
     "text": [
      "c:\\Users\\cschuttler\\AppData\\Local\\anaconda3\\lib\\site-packages\\urllib3\\connectionpool.py:1056: InsecureRequestWarning: Unverified HTTPS request is being made to host 'api.geoapify.com'. Adding certificate verification is strongly advised. See: https://urllib3.readthedocs.io/en/1.26.x/advanced-usage.html#ssl-warnings\n",
      "  warnings.warn(\n"
     ]
    },
    {
     "name": "stdout",
     "output_type": "stream",
     "text": [
      "saint-jean-de-maurienne - nearest hotel: Les Chalets de Florence\n"
     ]
    },
    {
     "name": "stderr",
     "output_type": "stream",
     "text": [
      "c:\\Users\\cschuttler\\AppData\\Local\\anaconda3\\lib\\site-packages\\urllib3\\connectionpool.py:1056: InsecureRequestWarning: Unverified HTTPS request is being made to host 'api.geoapify.com'. Adding certificate verification is strongly advised. See: https://urllib3.readthedocs.io/en/1.26.x/advanced-usage.html#ssl-warnings\n",
      "  warnings.warn(\n"
     ]
    },
    {
     "name": "stdout",
     "output_type": "stream",
     "text": [
      "datong - nearest hotel: Garden Hotel\n"
     ]
    },
    {
     "name": "stderr",
     "output_type": "stream",
     "text": [
      "c:\\Users\\cschuttler\\AppData\\Local\\anaconda3\\lib\\site-packages\\urllib3\\connectionpool.py:1056: InsecureRequestWarning: Unverified HTTPS request is being made to host 'api.geoapify.com'. Adding certificate verification is strongly advised. See: https://urllib3.readthedocs.io/en/1.26.x/advanced-usage.html#ssl-warnings\n",
      "  warnings.warn(\n"
     ]
    },
    {
     "name": "stdout",
     "output_type": "stream",
     "text": [
      "metlili chaamba - nearest hotel: No hotel found\n"
     ]
    },
    {
     "name": "stderr",
     "output_type": "stream",
     "text": [
      "c:\\Users\\cschuttler\\AppData\\Local\\anaconda3\\lib\\site-packages\\urllib3\\connectionpool.py:1056: InsecureRequestWarning: Unverified HTTPS request is being made to host 'api.geoapify.com'. Adding certificate verification is strongly advised. See: https://urllib3.readthedocs.io/en/1.26.x/advanced-usage.html#ssl-warnings\n",
      "  warnings.warn(\n"
     ]
    },
    {
     "name": "stdout",
     "output_type": "stream",
     "text": [
      "cangzhou - nearest hotel: No hotel found\n"
     ]
    },
    {
     "name": "stderr",
     "output_type": "stream",
     "text": [
      "c:\\Users\\cschuttler\\AppData\\Local\\anaconda3\\lib\\site-packages\\urllib3\\connectionpool.py:1056: InsecureRequestWarning: Unverified HTTPS request is being made to host 'api.geoapify.com'. Adding certificate verification is strongly advised. See: https://urllib3.readthedocs.io/en/1.26.x/advanced-usage.html#ssl-warnings\n",
      "  warnings.warn(\n"
     ]
    },
    {
     "name": "stdout",
     "output_type": "stream",
     "text": [
      "chichibu - nearest hotel: ホテル ルートイン秩父\n"
     ]
    },
    {
     "name": "stderr",
     "output_type": "stream",
     "text": [
      "c:\\Users\\cschuttler\\AppData\\Local\\anaconda3\\lib\\site-packages\\urllib3\\connectionpool.py:1056: InsecureRequestWarning: Unverified HTTPS request is being made to host 'api.geoapify.com'. Adding certificate verification is strongly advised. See: https://urllib3.readthedocs.io/en/1.26.x/advanced-usage.html#ssl-warnings\n",
      "  warnings.warn(\n"
     ]
    },
    {
     "name": "stdout",
     "output_type": "stream",
     "text": [
      "izberbash - nearest hotel: Избербаш\n"
     ]
    },
    {
     "name": "stderr",
     "output_type": "stream",
     "text": [
      "c:\\Users\\cschuttler\\AppData\\Local\\anaconda3\\lib\\site-packages\\urllib3\\connectionpool.py:1056: InsecureRequestWarning: Unverified HTTPS request is being made to host 'api.geoapify.com'. Adding certificate verification is strongly advised. See: https://urllib3.readthedocs.io/en/1.26.x/advanced-usage.html#ssl-warnings\n",
      "  warnings.warn(\n"
     ]
    },
    {
     "name": "stdout",
     "output_type": "stream",
     "text": [
      "walvis bay - nearest hotel: Atlantic\n"
     ]
    },
    {
     "name": "stderr",
     "output_type": "stream",
     "text": [
      "c:\\Users\\cschuttler\\AppData\\Local\\anaconda3\\lib\\site-packages\\urllib3\\connectionpool.py:1056: InsecureRequestWarning: Unverified HTTPS request is being made to host 'api.geoapify.com'. Adding certificate verification is strongly advised. See: https://urllib3.readthedocs.io/en/1.26.x/advanced-usage.html#ssl-warnings\n",
      "  warnings.warn(\n"
     ]
    },
    {
     "name": "stdout",
     "output_type": "stream",
     "text": [
      "yeppoon - nearest hotel: Blossom's on Seaspray\n"
     ]
    },
    {
     "name": "stderr",
     "output_type": "stream",
     "text": [
      "c:\\Users\\cschuttler\\AppData\\Local\\anaconda3\\lib\\site-packages\\urllib3\\connectionpool.py:1056: InsecureRequestWarning: Unverified HTTPS request is being made to host 'api.geoapify.com'. Adding certificate verification is strongly advised. See: https://urllib3.readthedocs.io/en/1.26.x/advanced-usage.html#ssl-warnings\n",
      "  warnings.warn(\n"
     ]
    },
    {
     "name": "stdout",
     "output_type": "stream",
     "text": [
      "ondjiva - nearest hotel: Águia Verde Hotel\n"
     ]
    },
    {
     "name": "stderr",
     "output_type": "stream",
     "text": [
      "c:\\Users\\cschuttler\\AppData\\Local\\anaconda3\\lib\\site-packages\\urllib3\\connectionpool.py:1056: InsecureRequestWarning: Unverified HTTPS request is being made to host 'api.geoapify.com'. Adding certificate verification is strongly advised. See: https://urllib3.readthedocs.io/en/1.26.x/advanced-usage.html#ssl-warnings\n",
      "  warnings.warn(\n"
     ]
    },
    {
     "name": "stdout",
     "output_type": "stream",
     "text": [
      "boguchany - nearest hotel: Полет\n"
     ]
    },
    {
     "name": "stderr",
     "output_type": "stream",
     "text": [
      "c:\\Users\\cschuttler\\AppData\\Local\\anaconda3\\lib\\site-packages\\urllib3\\connectionpool.py:1056: InsecureRequestWarning: Unverified HTTPS request is being made to host 'api.geoapify.com'. Adding certificate verification is strongly advised. See: https://urllib3.readthedocs.io/en/1.26.x/advanced-usage.html#ssl-warnings\n",
      "  warnings.warn(\n"
     ]
    },
    {
     "name": "stdout",
     "output_type": "stream",
     "text": [
      "sevastopol - nearest hotel: Барабулька\n"
     ]
    },
    {
     "name": "stderr",
     "output_type": "stream",
     "text": [
      "c:\\Users\\cschuttler\\AppData\\Local\\anaconda3\\lib\\site-packages\\urllib3\\connectionpool.py:1056: InsecureRequestWarning: Unverified HTTPS request is being made to host 'api.geoapify.com'. Adding certificate verification is strongly advised. See: https://urllib3.readthedocs.io/en/1.26.x/advanced-usage.html#ssl-warnings\n",
      "  warnings.warn(\n"
     ]
    },
    {
     "name": "stdout",
     "output_type": "stream",
     "text": [
      "lagunas - nearest hotel: Hospedaje Eco\n"
     ]
    },
    {
     "name": "stderr",
     "output_type": "stream",
     "text": [
      "c:\\Users\\cschuttler\\AppData\\Local\\anaconda3\\lib\\site-packages\\urllib3\\connectionpool.py:1056: InsecureRequestWarning: Unverified HTTPS request is being made to host 'api.geoapify.com'. Adding certificate verification is strongly advised. See: https://urllib3.readthedocs.io/en/1.26.x/advanced-usage.html#ssl-warnings\n",
      "  warnings.warn(\n"
     ]
    },
    {
     "name": "stdout",
     "output_type": "stream",
     "text": [
      "alfredo v. bonfil - nearest hotel: VIP Loungue Casa Nueva\n"
     ]
    },
    {
     "name": "stderr",
     "output_type": "stream",
     "text": [
      "c:\\Users\\cschuttler\\AppData\\Local\\anaconda3\\lib\\site-packages\\urllib3\\connectionpool.py:1056: InsecureRequestWarning: Unverified HTTPS request is being made to host 'api.geoapify.com'. Adding certificate verification is strongly advised. See: https://urllib3.readthedocs.io/en/1.26.x/advanced-usage.html#ssl-warnings\n",
      "  warnings.warn(\n"
     ]
    },
    {
     "name": "stdout",
     "output_type": "stream",
     "text": [
      "galle - nearest hotel: Jungle Hostel Villa\n"
     ]
    },
    {
     "name": "stderr",
     "output_type": "stream",
     "text": [
      "c:\\Users\\cschuttler\\AppData\\Local\\anaconda3\\lib\\site-packages\\urllib3\\connectionpool.py:1056: InsecureRequestWarning: Unverified HTTPS request is being made to host 'api.geoapify.com'. Adding certificate verification is strongly advised. See: https://urllib3.readthedocs.io/en/1.26.x/advanced-usage.html#ssl-warnings\n",
      "  warnings.warn(\n"
     ]
    },
    {
     "name": "stdout",
     "output_type": "stream",
     "text": [
      "kitui - nearest hotel: Parkside Hotel\n"
     ]
    },
    {
     "name": "stderr",
     "output_type": "stream",
     "text": [
      "c:\\Users\\cschuttler\\AppData\\Local\\anaconda3\\lib\\site-packages\\urllib3\\connectionpool.py:1056: InsecureRequestWarning: Unverified HTTPS request is being made to host 'api.geoapify.com'. Adding certificate verification is strongly advised. See: https://urllib3.readthedocs.io/en/1.26.x/advanced-usage.html#ssl-warnings\n",
      "  warnings.warn(\n"
     ]
    },
    {
     "name": "stdout",
     "output_type": "stream",
     "text": [
      "vila velha - nearest hotel: Hotel Prainha\n"
     ]
    },
    {
     "name": "stderr",
     "output_type": "stream",
     "text": [
      "c:\\Users\\cschuttler\\AppData\\Local\\anaconda3\\lib\\site-packages\\urllib3\\connectionpool.py:1056: InsecureRequestWarning: Unverified HTTPS request is being made to host 'api.geoapify.com'. Adding certificate verification is strongly advised. See: https://urllib3.readthedocs.io/en/1.26.x/advanced-usage.html#ssl-warnings\n",
      "  warnings.warn(\n"
     ]
    },
    {
     "name": "stdout",
     "output_type": "stream",
     "text": [
      "sergeyevka - nearest hotel: Гостиница \"Шанырак\"\n"
     ]
    },
    {
     "name": "stderr",
     "output_type": "stream",
     "text": [
      "c:\\Users\\cschuttler\\AppData\\Local\\anaconda3\\lib\\site-packages\\urllib3\\connectionpool.py:1056: InsecureRequestWarning: Unverified HTTPS request is being made to host 'api.geoapify.com'. Adding certificate verification is strongly advised. See: https://urllib3.readthedocs.io/en/1.26.x/advanced-usage.html#ssl-warnings\n",
      "  warnings.warn(\n"
     ]
    },
    {
     "name": "stdout",
     "output_type": "stream",
     "text": [
      "nanchang - nearest hotel: 锦江之星\n"
     ]
    },
    {
     "name": "stderr",
     "output_type": "stream",
     "text": [
      "c:\\Users\\cschuttler\\AppData\\Local\\anaconda3\\lib\\site-packages\\urllib3\\connectionpool.py:1056: InsecureRequestWarning: Unverified HTTPS request is being made to host 'api.geoapify.com'. Adding certificate verification is strongly advised. See: https://urllib3.readthedocs.io/en/1.26.x/advanced-usage.html#ssl-warnings\n",
      "  warnings.warn(\n"
     ]
    },
    {
     "name": "stdout",
     "output_type": "stream",
     "text": [
      "mogadishu - nearest hotel: Villa Rays Restaurant & Hotel\n"
     ]
    },
    {
     "name": "stderr",
     "output_type": "stream",
     "text": [
      "c:\\Users\\cschuttler\\AppData\\Local\\anaconda3\\lib\\site-packages\\urllib3\\connectionpool.py:1056: InsecureRequestWarning: Unverified HTTPS request is being made to host 'api.geoapify.com'. Adding certificate verification is strongly advised. See: https://urllib3.readthedocs.io/en/1.26.x/advanced-usage.html#ssl-warnings\n",
      "  warnings.warn(\n"
     ]
    },
    {
     "name": "stdout",
     "output_type": "stream",
     "text": [
      "leesville - nearest hotel: Surestay Hotel By Best Western Leesville\n"
     ]
    },
    {
     "name": "stderr",
     "output_type": "stream",
     "text": [
      "c:\\Users\\cschuttler\\AppData\\Local\\anaconda3\\lib\\site-packages\\urllib3\\connectionpool.py:1056: InsecureRequestWarning: Unverified HTTPS request is being made to host 'api.geoapify.com'. Adding certificate verification is strongly advised. See: https://urllib3.readthedocs.io/en/1.26.x/advanced-usage.html#ssl-warnings\n",
      "  warnings.warn(\n"
     ]
    },
    {
     "name": "stdout",
     "output_type": "stream",
     "text": [
      "richards bay - nearest hotel: Bon Hotel Waterfront\n"
     ]
    },
    {
     "name": "stderr",
     "output_type": "stream",
     "text": [
      "c:\\Users\\cschuttler\\AppData\\Local\\anaconda3\\lib\\site-packages\\urllib3\\connectionpool.py:1056: InsecureRequestWarning: Unverified HTTPS request is being made to host 'api.geoapify.com'. Adding certificate verification is strongly advised. See: https://urllib3.readthedocs.io/en/1.26.x/advanced-usage.html#ssl-warnings\n",
      "  warnings.warn(\n"
     ]
    },
    {
     "name": "stdout",
     "output_type": "stream",
     "text": [
      "fauske - nearest hotel: Scandic Fauske\n"
     ]
    },
    {
     "name": "stderr",
     "output_type": "stream",
     "text": [
      "c:\\Users\\cschuttler\\AppData\\Local\\anaconda3\\lib\\site-packages\\urllib3\\connectionpool.py:1056: InsecureRequestWarning: Unverified HTTPS request is being made to host 'api.geoapify.com'. Adding certificate verification is strongly advised. See: https://urllib3.readthedocs.io/en/1.26.x/advanced-usage.html#ssl-warnings\n",
      "  warnings.warn(\n"
     ]
    },
    {
     "name": "stdout",
     "output_type": "stream",
     "text": [
      "marina di massa - nearest hotel: Hotel Milano\n"
     ]
    },
    {
     "name": "stderr",
     "output_type": "stream",
     "text": [
      "c:\\Users\\cschuttler\\AppData\\Local\\anaconda3\\lib\\site-packages\\urllib3\\connectionpool.py:1056: InsecureRequestWarning: Unverified HTTPS request is being made to host 'api.geoapify.com'. Adding certificate verification is strongly advised. See: https://urllib3.readthedocs.io/en/1.26.x/advanced-usage.html#ssl-warnings\n",
      "  warnings.warn(\n"
     ]
    },
    {
     "name": "stdout",
     "output_type": "stream",
     "text": [
      "kiunga - nearest hotel: No hotel found\n"
     ]
    },
    {
     "name": "stderr",
     "output_type": "stream",
     "text": [
      "c:\\Users\\cschuttler\\AppData\\Local\\anaconda3\\lib\\site-packages\\urllib3\\connectionpool.py:1056: InsecureRequestWarning: Unverified HTTPS request is being made to host 'api.geoapify.com'. Adding certificate verification is strongly advised. See: https://urllib3.readthedocs.io/en/1.26.x/advanced-usage.html#ssl-warnings\n",
      "  warnings.warn(\n"
     ]
    },
    {
     "name": "stdout",
     "output_type": "stream",
     "text": [
      "dwarka - nearest hotel: The Dwarika Hotel\n"
     ]
    },
    {
     "name": "stderr",
     "output_type": "stream",
     "text": [
      "c:\\Users\\cschuttler\\AppData\\Local\\anaconda3\\lib\\site-packages\\urllib3\\connectionpool.py:1056: InsecureRequestWarning: Unverified HTTPS request is being made to host 'api.geoapify.com'. Adding certificate verification is strongly advised. See: https://urllib3.readthedocs.io/en/1.26.x/advanced-usage.html#ssl-warnings\n",
      "  warnings.warn(\n"
     ]
    },
    {
     "name": "stdout",
     "output_type": "stream",
     "text": [
      "ulimang - nearest hotel: M&A Riverside Bungalows\n"
     ]
    },
    {
     "name": "stderr",
     "output_type": "stream",
     "text": [
      "c:\\Users\\cschuttler\\AppData\\Local\\anaconda3\\lib\\site-packages\\urllib3\\connectionpool.py:1056: InsecureRequestWarning: Unverified HTTPS request is being made to host 'api.geoapify.com'. Adding certificate verification is strongly advised. See: https://urllib3.readthedocs.io/en/1.26.x/advanced-usage.html#ssl-warnings\n",
      "  warnings.warn(\n"
     ]
    },
    {
     "name": "stdout",
     "output_type": "stream",
     "text": [
      "boi - nearest hotel: No hotel found\n"
     ]
    },
    {
     "name": "stderr",
     "output_type": "stream",
     "text": [
      "c:\\Users\\cschuttler\\AppData\\Local\\anaconda3\\lib\\site-packages\\urllib3\\connectionpool.py:1056: InsecureRequestWarning: Unverified HTTPS request is being made to host 'api.geoapify.com'. Adding certificate verification is strongly advised. See: https://urllib3.readthedocs.io/en/1.26.x/advanced-usage.html#ssl-warnings\n",
      "  warnings.warn(\n"
     ]
    },
    {
     "name": "stdout",
     "output_type": "stream",
     "text": [
      "araguari - nearest hotel: Palace Hotel\n"
     ]
    },
    {
     "name": "stderr",
     "output_type": "stream",
     "text": [
      "c:\\Users\\cschuttler\\AppData\\Local\\anaconda3\\lib\\site-packages\\urllib3\\connectionpool.py:1056: InsecureRequestWarning: Unverified HTTPS request is being made to host 'api.geoapify.com'. Adding certificate verification is strongly advised. See: https://urllib3.readthedocs.io/en/1.26.x/advanced-usage.html#ssl-warnings\n",
      "  warnings.warn(\n"
     ]
    },
    {
     "name": "stdout",
     "output_type": "stream",
     "text": [
      "kirensk - nearest hotel: Ивушка\n"
     ]
    },
    {
     "name": "stderr",
     "output_type": "stream",
     "text": [
      "c:\\Users\\cschuttler\\AppData\\Local\\anaconda3\\lib\\site-packages\\urllib3\\connectionpool.py:1056: InsecureRequestWarning: Unverified HTTPS request is being made to host 'api.geoapify.com'. Adding certificate verification is strongly advised. See: https://urllib3.readthedocs.io/en/1.26.x/advanced-usage.html#ssl-warnings\n",
      "  warnings.warn(\n"
     ]
    },
    {
     "name": "stdout",
     "output_type": "stream",
     "text": [
      "bozeman - nearest hotel: Kimpton Armory Hotel Bozeman\n"
     ]
    },
    {
     "name": "stderr",
     "output_type": "stream",
     "text": [
      "c:\\Users\\cschuttler\\AppData\\Local\\anaconda3\\lib\\site-packages\\urllib3\\connectionpool.py:1056: InsecureRequestWarning: Unverified HTTPS request is being made to host 'api.geoapify.com'. Adding certificate verification is strongly advised. See: https://urllib3.readthedocs.io/en/1.26.x/advanced-usage.html#ssl-warnings\n",
      "  warnings.warn(\n"
     ]
    },
    {
     "name": "stdout",
     "output_type": "stream",
     "text": [
      "ventspils - nearest hotel: Dzintarjūra\n"
     ]
    },
    {
     "name": "stderr",
     "output_type": "stream",
     "text": [
      "c:\\Users\\cschuttler\\AppData\\Local\\anaconda3\\lib\\site-packages\\urllib3\\connectionpool.py:1056: InsecureRequestWarning: Unverified HTTPS request is being made to host 'api.geoapify.com'. Adding certificate verification is strongly advised. See: https://urllib3.readthedocs.io/en/1.26.x/advanced-usage.html#ssl-warnings\n",
      "  warnings.warn(\n"
     ]
    },
    {
     "name": "stdout",
     "output_type": "stream",
     "text": [
      "puerto escondido - nearest hotel: Hotel Barlovento\n"
     ]
    },
    {
     "name": "stderr",
     "output_type": "stream",
     "text": [
      "c:\\Users\\cschuttler\\AppData\\Local\\anaconda3\\lib\\site-packages\\urllib3\\connectionpool.py:1056: InsecureRequestWarning: Unverified HTTPS request is being made to host 'api.geoapify.com'. Adding certificate verification is strongly advised. See: https://urllib3.readthedocs.io/en/1.26.x/advanced-usage.html#ssl-warnings\n",
      "  warnings.warn(\n"
     ]
    },
    {
     "name": "stdout",
     "output_type": "stream",
     "text": [
      "resplendor - nearest hotel: Brito Hotel\n"
     ]
    },
    {
     "name": "stderr",
     "output_type": "stream",
     "text": [
      "c:\\Users\\cschuttler\\AppData\\Local\\anaconda3\\lib\\site-packages\\urllib3\\connectionpool.py:1056: InsecureRequestWarning: Unverified HTTPS request is being made to host 'api.geoapify.com'. Adding certificate verification is strongly advised. See: https://urllib3.readthedocs.io/en/1.26.x/advanced-usage.html#ssl-warnings\n",
      "  warnings.warn(\n"
     ]
    },
    {
     "name": "stdout",
     "output_type": "stream",
     "text": [
      "adler - nearest hotel: Shine\n"
     ]
    },
    {
     "name": "stderr",
     "output_type": "stream",
     "text": [
      "c:\\Users\\cschuttler\\AppData\\Local\\anaconda3\\lib\\site-packages\\urllib3\\connectionpool.py:1056: InsecureRequestWarning: Unverified HTTPS request is being made to host 'api.geoapify.com'. Adding certificate verification is strongly advised. See: https://urllib3.readthedocs.io/en/1.26.x/advanced-usage.html#ssl-warnings\n",
      "  warnings.warn(\n"
     ]
    },
    {
     "name": "stdout",
     "output_type": "stream",
     "text": [
      "coahuayana de hidalgo - nearest hotel: No hotel found\n"
     ]
    },
    {
     "name": "stderr",
     "output_type": "stream",
     "text": [
      "c:\\Users\\cschuttler\\AppData\\Local\\anaconda3\\lib\\site-packages\\urllib3\\connectionpool.py:1056: InsecureRequestWarning: Unverified HTTPS request is being made to host 'api.geoapify.com'. Adding certificate verification is strongly advised. See: https://urllib3.readthedocs.io/en/1.26.x/advanced-usage.html#ssl-warnings\n",
      "  warnings.warn(\n"
     ]
    },
    {
     "name": "stdout",
     "output_type": "stream",
     "text": [
      "barra dos coqueiros - nearest hotel: Grande Hotel\n"
     ]
    },
    {
     "name": "stderr",
     "output_type": "stream",
     "text": [
      "c:\\Users\\cschuttler\\AppData\\Local\\anaconda3\\lib\\site-packages\\urllib3\\connectionpool.py:1056: InsecureRequestWarning: Unverified HTTPS request is being made to host 'api.geoapify.com'. Adding certificate verification is strongly advised. See: https://urllib3.readthedocs.io/en/1.26.x/advanced-usage.html#ssl-warnings\n",
      "  warnings.warn(\n"
     ]
    },
    {
     "name": "stdout",
     "output_type": "stream",
     "text": [
      "la sarre - nearest hotel: No hotel found\n"
     ]
    },
    {
     "name": "stderr",
     "output_type": "stream",
     "text": [
      "c:\\Users\\cschuttler\\AppData\\Local\\anaconda3\\lib\\site-packages\\urllib3\\connectionpool.py:1056: InsecureRequestWarning: Unverified HTTPS request is being made to host 'api.geoapify.com'. Adding certificate verification is strongly advised. See: https://urllib3.readthedocs.io/en/1.26.x/advanced-usage.html#ssl-warnings\n",
      "  warnings.warn(\n"
     ]
    },
    {
     "name": "stdout",
     "output_type": "stream",
     "text": [
      "greymouth - nearest hotel: Recreation Hotel\n"
     ]
    },
    {
     "name": "stderr",
     "output_type": "stream",
     "text": [
      "c:\\Users\\cschuttler\\AppData\\Local\\anaconda3\\lib\\site-packages\\urllib3\\connectionpool.py:1056: InsecureRequestWarning: Unverified HTTPS request is being made to host 'api.geoapify.com'. Adding certificate verification is strongly advised. See: https://urllib3.readthedocs.io/en/1.26.x/advanced-usage.html#ssl-warnings\n",
      "  warnings.warn(\n"
     ]
    },
    {
     "name": "stdout",
     "output_type": "stream",
     "text": [
      "seminole - nearest hotel: Best Western Plus Sanford\n"
     ]
    },
    {
     "name": "stderr",
     "output_type": "stream",
     "text": [
      "c:\\Users\\cschuttler\\AppData\\Local\\anaconda3\\lib\\site-packages\\urllib3\\connectionpool.py:1056: InsecureRequestWarning: Unverified HTTPS request is being made to host 'api.geoapify.com'. Adding certificate verification is strongly advised. See: https://urllib3.readthedocs.io/en/1.26.x/advanced-usage.html#ssl-warnings\n",
      "  warnings.warn(\n"
     ]
    },
    {
     "name": "stdout",
     "output_type": "stream",
     "text": [
      "marathon - nearest hotel: Rib Mountain Inn\n"
     ]
    },
    {
     "name": "stderr",
     "output_type": "stream",
     "text": [
      "c:\\Users\\cschuttler\\AppData\\Local\\anaconda3\\lib\\site-packages\\urllib3\\connectionpool.py:1056: InsecureRequestWarning: Unverified HTTPS request is being made to host 'api.geoapify.com'. Adding certificate verification is strongly advised. See: https://urllib3.readthedocs.io/en/1.26.x/advanced-usage.html#ssl-warnings\n",
      "  warnings.warn(\n"
     ]
    },
    {
     "name": "stdout",
     "output_type": "stream",
     "text": [
      "tinajo - nearest hotel: Villas Tinajo\n"
     ]
    },
    {
     "name": "stderr",
     "output_type": "stream",
     "text": [
      "c:\\Users\\cschuttler\\AppData\\Local\\anaconda3\\lib\\site-packages\\urllib3\\connectionpool.py:1056: InsecureRequestWarning: Unverified HTTPS request is being made to host 'api.geoapify.com'. Adding certificate verification is strongly advised. See: https://urllib3.readthedocs.io/en/1.26.x/advanced-usage.html#ssl-warnings\n",
      "  warnings.warn(\n"
     ]
    },
    {
     "name": "stdout",
     "output_type": "stream",
     "text": [
      "akureyri - nearest hotel: Hótel Norðurland\n"
     ]
    },
    {
     "name": "stderr",
     "output_type": "stream",
     "text": [
      "c:\\Users\\cschuttler\\AppData\\Local\\anaconda3\\lib\\site-packages\\urllib3\\connectionpool.py:1056: InsecureRequestWarning: Unverified HTTPS request is being made to host 'api.geoapify.com'. Adding certificate verification is strongly advised. See: https://urllib3.readthedocs.io/en/1.26.x/advanced-usage.html#ssl-warnings\n",
      "  warnings.warn(\n"
     ]
    },
    {
     "name": "stdout",
     "output_type": "stream",
     "text": [
      "manaure - nearest hotel: hotel palaima\n"
     ]
    },
    {
     "name": "stderr",
     "output_type": "stream",
     "text": [
      "c:\\Users\\cschuttler\\AppData\\Local\\anaconda3\\lib\\site-packages\\urllib3\\connectionpool.py:1056: InsecureRequestWarning: Unverified HTTPS request is being made to host 'api.geoapify.com'. Adding certificate verification is strongly advised. See: https://urllib3.readthedocs.io/en/1.26.x/advanced-usage.html#ssl-warnings\n",
      "  warnings.warn(\n"
     ]
    },
    {
     "name": "stdout",
     "output_type": "stream",
     "text": [
      "richmond hill - nearest hotel: Travelodge\n"
     ]
    },
    {
     "name": "stderr",
     "output_type": "stream",
     "text": [
      "c:\\Users\\cschuttler\\AppData\\Local\\anaconda3\\lib\\site-packages\\urllib3\\connectionpool.py:1056: InsecureRequestWarning: Unverified HTTPS request is being made to host 'api.geoapify.com'. Adding certificate verification is strongly advised. See: https://urllib3.readthedocs.io/en/1.26.x/advanced-usage.html#ssl-warnings\n",
      "  warnings.warn(\n"
     ]
    },
    {
     "name": "stdout",
     "output_type": "stream",
     "text": [
      "lyubim - nearest hotel: No hotel found\n"
     ]
    },
    {
     "name": "stderr",
     "output_type": "stream",
     "text": [
      "c:\\Users\\cschuttler\\AppData\\Local\\anaconda3\\lib\\site-packages\\urllib3\\connectionpool.py:1056: InsecureRequestWarning: Unverified HTTPS request is being made to host 'api.geoapify.com'. Adding certificate verification is strongly advised. See: https://urllib3.readthedocs.io/en/1.26.x/advanced-usage.html#ssl-warnings\n",
      "  warnings.warn(\n"
     ]
    },
    {
     "name": "stdout",
     "output_type": "stream",
     "text": [
      "banaz - nearest hotel: No hotel found\n"
     ]
    },
    {
     "data": {
      "text/html": [
       "<div>\n",
       "<style scoped>\n",
       "    .dataframe tbody tr th:only-of-type {\n",
       "        vertical-align: middle;\n",
       "    }\n",
       "\n",
       "    .dataframe tbody tr th {\n",
       "        vertical-align: top;\n",
       "    }\n",
       "\n",
       "    .dataframe thead th {\n",
       "        text-align: right;\n",
       "    }\n",
       "</style>\n",
       "<table border=\"1\" class=\"dataframe\">\n",
       "  <thead>\n",
       "    <tr style=\"text-align: right;\">\n",
       "      <th></th>\n",
       "      <th>City</th>\n",
       "      <th>Country</th>\n",
       "      <th>Lat</th>\n",
       "      <th>Lng</th>\n",
       "      <th>Humidity</th>\n",
       "      <th>Hotel Name</th>\n",
       "    </tr>\n",
       "  </thead>\n",
       "  <tbody>\n",
       "    <tr>\n",
       "      <th>0</th>\n",
       "      <td>chui</td>\n",
       "      <td>UY</td>\n",
       "      <td>-33.6971</td>\n",
       "      <td>-53.4616</td>\n",
       "      <td>95</td>\n",
       "      <td>Alerces</td>\n",
       "    </tr>\n",
       "    <tr>\n",
       "      <th>1</th>\n",
       "      <td>bilibino</td>\n",
       "      <td>RU</td>\n",
       "      <td>68.0546</td>\n",
       "      <td>166.4372</td>\n",
       "      <td>66</td>\n",
       "      <td>No hotel found</td>\n",
       "    </tr>\n",
       "    <tr>\n",
       "      <th>2</th>\n",
       "      <td>ust-nera</td>\n",
       "      <td>RU</td>\n",
       "      <td>64.5667</td>\n",
       "      <td>143.2000</td>\n",
       "      <td>35</td>\n",
       "      <td>гостиница \"Солнечная\"</td>\n",
       "    </tr>\n",
       "    <tr>\n",
       "      <th>3</th>\n",
       "      <td>ribeira grande</td>\n",
       "      <td>PT</td>\n",
       "      <td>38.5167</td>\n",
       "      <td>-28.7000</td>\n",
       "      <td>88</td>\n",
       "      <td>Hospedaria JSF</td>\n",
       "    </tr>\n",
       "    <tr>\n",
       "      <th>4</th>\n",
       "      <td>atafu village</td>\n",
       "      <td>TK</td>\n",
       "      <td>-8.5421</td>\n",
       "      <td>-172.5159</td>\n",
       "      <td>75</td>\n",
       "      <td>No hotel found</td>\n",
       "    </tr>\n",
       "    <tr>\n",
       "      <th>...</th>\n",
       "      <td>...</td>\n",
       "      <td>...</td>\n",
       "      <td>...</td>\n",
       "      <td>...</td>\n",
       "      <td>...</td>\n",
       "      <td>...</td>\n",
       "    </tr>\n",
       "    <tr>\n",
       "      <th>544</th>\n",
       "      <td>akureyri</td>\n",
       "      <td>IS</td>\n",
       "      <td>65.6835</td>\n",
       "      <td>-18.0878</td>\n",
       "      <td>87</td>\n",
       "      <td>Hótel Norðurland</td>\n",
       "    </tr>\n",
       "    <tr>\n",
       "      <th>545</th>\n",
       "      <td>manaure</td>\n",
       "      <td>CO</td>\n",
       "      <td>11.7751</td>\n",
       "      <td>-72.4445</td>\n",
       "      <td>67</td>\n",
       "      <td>hotel palaima</td>\n",
       "    </tr>\n",
       "    <tr>\n",
       "      <th>546</th>\n",
       "      <td>richmond hill</td>\n",
       "      <td>CA</td>\n",
       "      <td>43.8711</td>\n",
       "      <td>-79.4372</td>\n",
       "      <td>75</td>\n",
       "      <td>Travelodge</td>\n",
       "    </tr>\n",
       "    <tr>\n",
       "      <th>547</th>\n",
       "      <td>lyubim</td>\n",
       "      <td>RU</td>\n",
       "      <td>58.3625</td>\n",
       "      <td>40.6843</td>\n",
       "      <td>97</td>\n",
       "      <td>No hotel found</td>\n",
       "    </tr>\n",
       "    <tr>\n",
       "      <th>548</th>\n",
       "      <td>banaz</td>\n",
       "      <td>TR</td>\n",
       "      <td>38.7371</td>\n",
       "      <td>29.7519</td>\n",
       "      <td>92</td>\n",
       "      <td>No hotel found</td>\n",
       "    </tr>\n",
       "  </tbody>\n",
       "</table>\n",
       "<p>549 rows × 6 columns</p>\n",
       "</div>"
      ],
      "text/plain": [
       "               City Country      Lat       Lng  Humidity  \\\n",
       "0              chui      UY -33.6971  -53.4616        95   \n",
       "1          bilibino      RU  68.0546  166.4372        66   \n",
       "2          ust-nera      RU  64.5667  143.2000        35   \n",
       "3    ribeira grande      PT  38.5167  -28.7000        88   \n",
       "4     atafu village      TK  -8.5421 -172.5159        75   \n",
       "..              ...     ...      ...       ...       ...   \n",
       "544        akureyri      IS  65.6835  -18.0878        87   \n",
       "545         manaure      CO  11.7751  -72.4445        67   \n",
       "546   richmond hill      CA  43.8711  -79.4372        75   \n",
       "547          lyubim      RU  58.3625   40.6843        97   \n",
       "548           banaz      TR  38.7371   29.7519        92   \n",
       "\n",
       "                Hotel Name  \n",
       "0                  Alerces  \n",
       "1           No hotel found  \n",
       "2    гостиница \"Солнечная\"  \n",
       "3           Hospedaria JSF  \n",
       "4           No hotel found  \n",
       "..                     ...  \n",
       "544       Hótel Norðurland  \n",
       "545          hotel palaima  \n",
       "546             Travelodge  \n",
       "547         No hotel found  \n",
       "548         No hotel found  \n",
       "\n",
       "[549 rows x 6 columns]"
      ]
     },
     "execution_count": 6,
     "metadata": {},
     "output_type": "execute_result"
    }
   ],
   "source": [
    "# Set parameters to search for a hotel\n",
    "radius = 10000\n",
    "params = {\"categories\": \"accommodation.hotel\", \"apiKey\": geoapify_key, \"limit\": 20}\n",
    "    \n",
    "# Print a message to follow up the hotel search\n",
    "print(\"Starting hotel search\")\n",
    "\n",
    "# Iterate through the hotel_df DataFrame\n",
    "for index, row in hotel_df.iterrows():\n",
    "    # get latitude, longitude from the DataFrame\n",
    "    latitude = row[\"Lat\"]\n",
    "    longitude = row[\"Lng\"]\n",
    "    \n",
    "    # Add filter and bias parameters with the current city's latitude and longitude to the params dictionary\n",
    "    params[\"filter\"] = f\"circle:{longitude},{latitude},{radius}\"\n",
    "    params[\"bias\"] = f\"proximity:{longitude},{latitude}\"\n",
    "    \n",
    "    # Set base URL\n",
    "    base_url = \"https://api.geoapify.com/v2/places\"\n",
    "\n",
    "\n",
    "    # Make and API request using the params dictionaty\n",
    "    name_address = requests.get(base_url, params=params, verify=False)\n",
    "    \n",
    "    # Convert the API response to JSON format\n",
    "    name_address = name_address.json()\n",
    "    \n",
    "    # Grab the first hotel from the results and store the name in the hotel_df DataFrame\n",
    "    try:\n",
    "        hotel_df.loc[index, \"Hotel Name\"] = name_address[\"features\"][0][\"properties\"][\"name\"]\n",
    "    except (KeyError, IndexError):\n",
    "        # If no hotel is found, set the hotel name as \"No hotel found\".\n",
    "        hotel_df.loc[index, \"Hotel Name\"] = \"No hotel found\"\n",
    "        \n",
    "    # Log the search results\n",
    "    print(f\"{hotel_df.loc[index, 'City']} - nearest hotel: {hotel_df.loc[index, 'Hotel Name']}\")\n",
    "\n",
    "# Display sample data\n",
    "hotel_df"
   ]
  },
  {
   "cell_type": "markdown",
   "metadata": {},
   "source": [
    "### Step 5: Add the hotel name and the country as additional information in the hover message for each city in the map."
   ]
  },
  {
   "cell_type": "code",
   "execution_count": 8,
   "metadata": {},
   "outputs": [
    {
     "data": {},
     "metadata": {},
     "output_type": "display_data"
    },
    {
     "data": {
      "application/vnd.holoviews_exec.v0+json": "",
      "text/html": [
       "<div id='p1091'>\n",
       "  <div id=\"faac4bd3-44cc-4031-9d4b-a3df8fdd7669\" data-root-id=\"p1091\" style=\"display: contents;\"></div>\n",
       "</div>\n",
       "<script type=\"application/javascript\">(function(root) {\n",
       "  var docs_json = {\"2526b307-0b37-4b29-a550-2eaafd2d660e\":{\"version\":\"3.2.1\",\"title\":\"Bokeh Application\",\"roots\":[{\"type\":\"object\",\"name\":\"Row\",\"id\":\"p1091\",\"attributes\":{\"name\":\"Row01734\",\"tags\":[\"embedded\"],\"stylesheets\":[\"\\n:host(.pn-loading.pn-arc):before, .pn-loading.pn-arc:before {\\n  background-image: url(\\\"data:image/svg+xml;base64,PHN2ZyB4bWxucz0iaHR0cDovL3d3dy53My5vcmcvMjAwMC9zdmciIHN0eWxlPSJtYXJnaW46IGF1dG87IGJhY2tncm91bmQ6IG5vbmU7IGRpc3BsYXk6IGJsb2NrOyBzaGFwZS1yZW5kZXJpbmc6IGF1dG87IiB2aWV3Qm94PSIwIDAgMTAwIDEwMCIgcHJlc2VydmVBc3BlY3RSYXRpbz0ieE1pZFlNaWQiPiAgPGNpcmNsZSBjeD0iNTAiIGN5PSI1MCIgZmlsbD0ibm9uZSIgc3Ryb2tlPSIjYzNjM2MzIiBzdHJva2Utd2lkdGg9IjEwIiByPSIzNSIgc3Ryb2tlLWRhc2hhcnJheT0iMTY0LjkzMzYxNDMxMzQ2NDE1IDU2Ljk3Nzg3MTQzNzgyMTM4Ij4gICAgPGFuaW1hdGVUcmFuc2Zvcm0gYXR0cmlidXRlTmFtZT0idHJhbnNmb3JtIiB0eXBlPSJyb3RhdGUiIHJlcGVhdENvdW50PSJpbmRlZmluaXRlIiBkdXI9IjFzIiB2YWx1ZXM9IjAgNTAgNTA7MzYwIDUwIDUwIiBrZXlUaW1lcz0iMDsxIj48L2FuaW1hdGVUcmFuc2Zvcm0+ICA8L2NpcmNsZT48L3N2Zz4=\\\");\\n  background-size: auto calc(min(50%, 400px));\\n}\",{\"type\":\"object\",\"name\":\"ImportedStyleSheet\",\"id\":\"p1094\",\"attributes\":{\"url\":\"https://cdn.holoviz.org/panel/1.2.1/dist/css/loading.css\"}},{\"type\":\"object\",\"name\":\"ImportedStyleSheet\",\"id\":\"p1171\",\"attributes\":{\"url\":\"https://cdn.holoviz.org/panel/1.2.1/dist/css/listpanel.css\"}},{\"type\":\"object\",\"name\":\"ImportedStyleSheet\",\"id\":\"p1092\",\"attributes\":{\"url\":\"https://cdn.holoviz.org/panel/1.2.1/dist/bundled/theme/default.css\"}},{\"type\":\"object\",\"name\":\"ImportedStyleSheet\",\"id\":\"p1093\",\"attributes\":{\"url\":\"https://cdn.holoviz.org/panel/1.2.1/dist/bundled/theme/native.css\"}}],\"margin\":0,\"sizing_mode\":\"stretch_width\",\"align\":\"start\",\"children\":[{\"type\":\"object\",\"name\":\"Spacer\",\"id\":\"p1095\",\"attributes\":{\"name\":\"HSpacer01744\",\"stylesheets\":[\"\\n:host(.pn-loading.pn-arc):before, .pn-loading.pn-arc:before {\\n  background-image: url(\\\"data:image/svg+xml;base64,PHN2ZyB4bWxucz0iaHR0cDovL3d3dy53My5vcmcvMjAwMC9zdmciIHN0eWxlPSJtYXJnaW46IGF1dG87IGJhY2tncm91bmQ6IG5vbmU7IGRpc3BsYXk6IGJsb2NrOyBzaGFwZS1yZW5kZXJpbmc6IGF1dG87IiB2aWV3Qm94PSIwIDAgMTAwIDEwMCIgcHJlc2VydmVBc3BlY3RSYXRpbz0ieE1pZFlNaWQiPiAgPGNpcmNsZSBjeD0iNTAiIGN5PSI1MCIgZmlsbD0ibm9uZSIgc3Ryb2tlPSIjYzNjM2MzIiBzdHJva2Utd2lkdGg9IjEwIiByPSIzNSIgc3Ryb2tlLWRhc2hhcnJheT0iMTY0LjkzMzYxNDMxMzQ2NDE1IDU2Ljk3Nzg3MTQzNzgyMTM4Ij4gICAgPGFuaW1hdGVUcmFuc2Zvcm0gYXR0cmlidXRlTmFtZT0idHJhbnNmb3JtIiB0eXBlPSJyb3RhdGUiIHJlcGVhdENvdW50PSJpbmRlZmluaXRlIiBkdXI9IjFzIiB2YWx1ZXM9IjAgNTAgNTA7MzYwIDUwIDUwIiBrZXlUaW1lcz0iMDsxIj48L2FuaW1hdGVUcmFuc2Zvcm0+ICA8L2NpcmNsZT48L3N2Zz4=\\\");\\n  background-size: auto calc(min(50%, 400px));\\n}\",{\"id\":\"p1094\"},{\"id\":\"p1092\"},{\"id\":\"p1093\"}],\"margin\":0,\"sizing_mode\":\"stretch_width\",\"align\":\"start\"}},{\"type\":\"object\",\"name\":\"Figure\",\"id\":\"p1112\",\"attributes\":{\"width\":null,\"height\":null,\"margin\":[5,10],\"sizing_mode\":\"fixed\",\"align\":\"start\",\"x_range\":{\"type\":\"object\",\"name\":\"Range1d\",\"id\":\"p1102\",\"attributes\":{\"tags\":[[[\"Lng\",\"Lng\",null]],[]],\"start\":-22610427.25651504,\"end\":22713241.938211706,\"reset_start\":-22610427.25651504,\"reset_end\":22713241.938211706,\"min_interval\":5}},\"y_range\":{\"type\":\"object\",\"name\":\"Range1d\",\"id\":\"p1103\",\"attributes\":{\"tags\":[[[\"Lat\",\"Lat\",null]],{\"type\":\"map\",\"entries\":[[\"invert_yaxis\",false],[\"autorange\",false]]}],\"start\":-13414554.428424798,\"end\":20578197.46762027,\"reset_start\":-13414554.428424798,\"reset_end\":20578197.46762027,\"min_interval\":5}},\"x_scale\":{\"type\":\"object\",\"name\":\"LinearScale\",\"id\":\"p1122\"},\"y_scale\":{\"type\":\"object\",\"name\":\"LinearScale\",\"id\":\"p1123\"},\"title\":{\"type\":\"object\",\"name\":\"Title\",\"id\":\"p1115\",\"attributes\":{\"text_color\":\"black\",\"text_font_size\":\"12pt\"}},\"renderers\":[{\"type\":\"object\",\"name\":\"TileRenderer\",\"id\":\"p1147\",\"attributes\":{\"level\":\"glyph\",\"tile_source\":{\"type\":\"object\",\"name\":\"WMTSTileSource\",\"id\":\"p1143\",\"attributes\":{\"url\":\"https://c.tile.openstreetmap.org/{Z}/{X}/{Y}.png\",\"attribution\":\"&copy; <a href=\\\"https://www.openstreetmap.org/copyright\\\">OpenStreetMap</a> contributors\"}}}},{\"type\":\"object\",\"name\":\"GlyphRenderer\",\"id\":\"p1161\",\"attributes\":{\"name\":\"color\",\"data_source\":{\"type\":\"object\",\"name\":\"ColumnDataSource\",\"id\":\"p1150\",\"attributes\":{\"selected\":{\"type\":\"object\",\"name\":\"Selection\",\"id\":\"p1151\",\"attributes\":{\"indices\":[],\"line_indices\":[]}},\"selection_policy\":{\"type\":\"object\",\"name\":\"UnionRenderers\",\"id\":\"p1152\"},\"data\":{\"type\":\"map\",\"entries\":[[\"Lng\",{\"type\":\"ndarray\",\"array\":{\"type\":\"bytes\",\"data\":\"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\"},\"shape\":[549],\"dtype\":\"float64\",\"order\":\"little\"}],[\"Lat\",{\"type\":\"ndarray\",\"array\":{\"type\":\"bytes\",\"data\":\"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\"},\"shape\":[549],\"dtype\":\"float64\",\"order\":\"little\"}],[\"City\",{\"type\":\"ndarray\",\"array\":[\"chui\",\"bilibino\",\"ust-nera\",\"ribeira grande\",\"atafu village\",\"tolanaro\",\"kuacjok\",\"grytviken\",\"puerto natales\",\"takoradi\",\"tiksi\",\"hefei\",\"port-aux-francais\",\"iqaluit\",\"kyren\",\"olonkinbyen\",\"avarua\",\"edinburgh of the seven seas\",\"aasiaat\",\"port elizabeth\",\"st. john's\",\"keyser\",\"vorgashor\",\"salinas\",\"weno\",\"es castell\",\"poyarkovo\",\"georgetown\",\"pionerskiy\",\"whitehorse\",\"ves'yegonsk\",\"flying fish cove\",\"alo\",\"waitangi\",\"khorinsk\",\"tazacorte\",\"rosales\",\"vilyuchinsk\",\"novaya ladoga\",\"west island\",\"cotoca\",\"geraldton\",\"anadyr\",\"saint-philippe\",\"bethel\",\"adamstown\",\"la passe\",\"suwayr\",\"kingston\",\"sanya\",\"bardai\",\"hamilton\",\"bredasdorp\",\"papatowai\",\"steinbach\",\"albany\",\"hillvue\",\"constantia\",\"tura\",\"eloi mendes\",\"nuku'alofa\",\"thompson\",\"saint-pierre\",\"blackmans bay\",\"margaret river\",\"alaghsas\",\"port mathurin\",\"nova sintra\",\"plettenberg bay\",\"myshkin\",\"kone\",\"howard springs\",\"udachny\",\"quellon\",\"piti village\",\"kuanda\",\"mount gambier\",\"mahenge\",\"antsiranana\",\"puerto ayora\",\"magadan\",\"sitka\",\"alice springs\",\"longyearbyen\",\"uturoa\",\"dunedin\",\"ilulissat\",\"colonia\",\"narasannapeta\",\"hermanus\",\"tongeren\",\"nabire\",\"yellowknife\",\"nadi\",\"fort bragg\",\"wailua homesteads\",\"buala\",\"gwanda\",\"bougouni\",\"vorkuta\",\"dampit\",\"kerikeri\",\"kavaratti\",\"kununurra\",\"iskateley\",\"dhidhdhoo\",\"isafjordur\",\"talnakh\",\"kourou\",\"kayenta\",\"bel ombre\",\"kavieng\",\"nalut\",\"sigli\",\"menongue\",\"nemuro\",\"severo-yeniseyskiy\",\"polyarnyy\",\"anchorage\",\"yung shue wan\",\"nago\",\"cururupu\",\"ushuaia\",\"tonghae\",\"okha\",\"kamaishi\",\"boende\",\"enewetak\",\"bojnurd\",\"santa ana de yacuma\",\"tazovsky\",\"ola\",\"marka\",\"qarayeri\",\"toliara\",\"malaya vishera\",\"sovetskaya gavan'\",\"petropavlovsk-kamchatsky\",\"chinhoyi\",\"sao desiderio\",\"sandnessjoen\",\"la ronge\",\"chapayevsk\",\"lompoc\",\"hawaiian paradise park\",\"cold lake\",\"orange\",\"tanda\",\"dharampuri\",\"ruiz\",\"badger\",\"mwene-ditu\",\"altay\",\"arraial do cabo\",\"victorica\",\"lebu\",\"bikenibeu village\",\"invercargill\",\"saipan\",\"kodiak\",\"nar'yan-mar\",\"taos\",\"krasnogorskoye\",\"chonchi\",\"touros\",\"marsh harbour\",\"mayma\",\"chillicothe\",\"guelmim\",\"vryburg\",\"callao\",\"tvoroyri\",\"ubinskoye\",\"punta arenas\",\"lihue\",\"gorom-gorom\",\"khandyga\",\"dudinka\",\"kapuskasing\",\"ulysses\",\"bejaia\",\"shaowu\",\"laguna\",\"tezu\",\"port alfred\",\"kupang\",\"batang\",\"betio village\",\"banff\",\"siwa oasis\",\"santiago\",\"riberalta\",\"holualoa\",\"cidreira\",\"borogontsy\",\"ust'-barguzin\",\"kailua-kona\",\"ancud\",\"kiseljak\",\"kruisfontein\",\"malindi\",\"college\",\"berdyaush\",\"zheshart\",\"aleg\",\"zaysan\",\"katsuren-haebaru\",\"novyy urgal\",\"stanley\",\"luganville\",\"taroa\",\"zhanaozen\",\"awjilah\",\"port douglas\",\"bratsk\",\"port lincoln\",\"acarau\",\"nuuk\",\"kidal\",\"ciudad lazaro cardenas\",\"banda aceh\",\"rongelap\",\"tual\",\"lamarque\",\"afaahiti\",\"miajadas\",\"freetown\",\"adrar\",\"namibe\",\"mejit\",\"iguatu\",\"palmer\",\"al bawiti\",\"new norfolk\",\"klyuchi\",\"olyokminsk\",\"igarka\",\"kapa'a\",\"keflavik\",\"palikir - national government center\",\"lazaro cardenas\",\"whitecourt\",\"cabinda\",\"bubaque\",\"sao joao da barra\",\"hepo\",\"gazipasa\",\"luderitz\",\"modimolle\",\"grand falls-windsor\",\"naze\",\"hithadhoo\",\"paracuru\",\"codajas\",\"olutanga\",\"miri\",\"conception bay south\",\"sovetskiy\",\"qaqortoq\",\"chilmari\",\"mikun'\",\"jamestown\",\"qarazhal\",\"holbrook\",\"tame\",\"santa rosalia\",\"gulf shores\",\"rovaniemi\",\"yarmouth\",\"chardara\",\"ceres\",\"bintulu\",\"natal\",\"robore\",\"broken hill\",\"goroka\",\"san patricio\",\"tejen\",\"bhimunipatnam\",\"turkmenbasy\",\"isangel\",\"luwuk\",\"brookings\",\"vernon\",\"onega\",\"vila franca do campo\",\"sumenep\",\"erenhot\",\"codrington\",\"cooper's town\",\"taoudenni\",\"hasaki\",\"msowero\",\"valparaiso\",\"gadzhiyevo\",\"san salvador\",\"bryne\",\"bentota\",\"lycksele\",\"kirakira\",\"carutapera\",\"salalah\",\"bobo-dioulasso\",\"talakan\",\"gorontalo\",\"troitsko-pechorsk\",\"carnarvon\",\"sumbe\",\"la paz\",\"yanggu\",\"aliwal north\",\"general cabrera\",\"mil'kovo\",\"alesund\",\"pachino\",\"corn island\",\"tinogasta\",\"berrahal\",\"bucerias\",\"remire-montjoly\",\"mount isa\",\"sinop\",\"nova vicosa\",\"tsiombe\",\"chitungwiza\",\"newman\",\"lydenburg\",\"cill airne\",\"burang\",\"kasongo-lunda\",\"tindouf\",\"glace bay\",\"susuman\",\"marquelia\",\"bonthe\",\"prado\",\"shalqar\",\"mayqayyng\",\"beira\",\"laojunmiao\",\"hermosillo\",\"malinyi\",\"sidi bennour\",\"martapura\",\"misawa\",\"antonio enes\",\"boa vista\",\"kayangel\",\"kaihua\",\"chilca\",\"ibadan\",\"tobelo\",\"minas de marcona\",\"port blair\",\"hadibu\",\"lakatoro\",\"muisne\",\"ugoofaaru\",\"colipapa\",\"sekong\",\"ankazoabo\",\"happy valley-goose bay\",\"nova zagora\",\"inirida\",\"thinadhoo\",\"puerto ayacucho\",\"kemnath\",\"mar del plata\",\"rio grande\",\"balqash\",\"bhag\",\"launceston\",\"aban\",\"aykhal\",\"bang saphan\",\"da lat\",\"barcelos\",\"coquimbo\",\"nguigmi\",\"brandon\",\"santa maria da vitoria\",\"owen sound\",\"kota tinggi\",\"sur\",\"margate\",\"haiku-pauwela\",\"ust'-kut\",\"palu\",\"kodinsk\",\"nogliki\",\"fortuna\",\"tobruk\",\"dalandzadgad\",\"santa cruz\",\"sligo\",\"belel\",\"muroto-misakicho\",\"orapa\",\"lisakovsk\",\"sechura\",\"tamandare\",\"fort morgan\",\"forster\",\"nadym\",\"at-bashi\",\"hammerfest\",\"velez rubio\",\"queenstown\",\"pitkyaranta\",\"sao paulo de olivenca\",\"kolosovka\",\"sao gabriel da cachoeira\",\"souillac\",\"chibougamau\",\"prince rupert\",\"novodvinsk\",\"port macquarie\",\"jayapura\",\"kolonia\",\"sinjai\",\"vadso\",\"fale old settlement\",\"ponta delgada\",\"naryn\",\"kribi\",\"masterton\",\"kantunilkin\",\"creel\",\"mo i rana\",\"an nuhud\",\"sola\",\"mahibadhoo\",\"miquelon\",\"qulsary\",\"guiuan\",\"hilo\",\"laibin\",\"buka\",\"pikalevo\",\"fisterra\",\"sinabang\",\"altai\",\"khovd\",\"papao\",\"utrik\",\"san antonio de pale\",\"utete\",\"goba\",\"quelimane\",\"korsakov\",\"banlung\",\"guerrero negro\",\"saint-louis\",\"smithers\",\"yaren\",\"sisimiut\",\"cumbum\",\"hassi messaoud\",\"vikulovo\",\"kudahuvadhoo\",\"brisas de zicatela\",\"priozersk\",\"port augusta\",\"vuktyl\",\"shohimardon\",\"leh\",\"lao cai\",\"faro\",\"jindrichuv hradec\",\"morondava\",\"santana\",\"nagqu\",\"hong kong\",\"luorong\",\"puerto baquerizo moreno\",\"garden city\",\"aransas pass\",\"yuzhno-kurilsk\",\"cidade velha\",\"huilong\",\"olinda\",\"cukai\",\"san isidro de curuguaty\",\"wynyard\",\"montepuez\",\"shumerlya\",\"asilah\",\"kittila\",\"tortoli\",\"kapit\",\"kudat\",\"sao felix do xingu\",\"nova xavantina\",\"plav\",\"faya-largeau\",\"malakal\",\"coxen hole\",\"yakeshi\",\"corato\",\"kouroussa\",\"seven pagodas\",\"illizi\",\"pacific grove\",\"saint-jean-de-maurienne\",\"datong\",\"metlili chaamba\",\"cangzhou\",\"chichibu\",\"izberbash\",\"walvis bay\",\"yeppoon\",\"ondjiva\",\"boguchany\",\"sevastopol\",\"lagunas\",\"alfredo v. bonfil\",\"galle\",\"kitui\",\"vila velha\",\"sergeyevka\",\"nanchang\",\"mogadishu\",\"leesville\",\"richards bay\",\"fauske\",\"marina di massa\",\"kiunga\",\"dwarka\",\"ulimang\",\"boi\",\"araguari\",\"kirensk\",\"bozeman\",\"ventspils\",\"puerto escondido\",\"resplendor\",\"adler\",\"coahuayana de hidalgo\",\"barra dos coqueiros\",\"la sarre\",\"greymouth\",\"seminole\",\"marathon\",\"tinajo\",\"akureyri\",\"manaure\",\"richmond hill\",\"lyubim\",\"banaz\"],\"shape\":[549],\"dtype\":\"object\",\"order\":\"little\"}],[\"Humidity\",{\"type\":\"ndarray\",\"array\":{\"type\":\"bytes\",\"data\":\"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\"},\"shape\":[549],\"dtype\":\"int32\",\"order\":\"little\"}],[\"Hotel_Name\",{\"type\":\"ndarray\",\"array\":[\"Alerces\",\"No hotel found\",\"\\u0433\\u043e\\u0441\\u0442\\u0438\\u043d\\u0438\\u0446\\u0430 \\\"\\u0421\\u043e\\u043b\\u043d\\u0435\\u0447\\u043d\\u0430\\u044f\\\"\",\"Hospedaria JSF\",\"No hotel found\",\"H\\u00f4tel Mahavokey\",\"No hotel found\",\"No hotel found\",\"Dorotea Patagonia Hostel\",\"Hillcrest\",\"\\u0410\\u0440\\u043a\\u0442\\u0438\\u043a\\u0430\",\"\\u5408\\u80a5\\u4e2d\\u5fc3\\u667a\\u9009\\u5047\\u65e5\\u9152\\u5e97\",\"Keravel\",\"Frobisher Inn\",\"No hotel found\",\"No hotel found\",\"Paradise Inn\",\"No hotel found\",\"S\\u00d8MA\",\"Waterford Hotel\",\"Alt Hotel\",\"No hotel found\",\"\\u0421\\u043e\\u0444\\u0438\\u044f\",\"The Traveler's Hotel\",\"High Tide Hotel\",\"Hotel Agamenon\",\"No hotel found\",\"Page 63 hostel\",\"No hotel found\",\"Town & Mountain Hotel\",\"\\u0413\\u043e\\u0441\\u0442\\u0438\\u043d\\u0438\\u0446\\u0430 \\u0412\\u0435\\u0441\\u044c\",\"Christmas Island Lodge\",\"No hotel found\",\"Hotel Chathams\",\"\\u0423\\u0434\\u0430\",\"App Leyma\",\"No hotel found\",\"\\u041f\\u043e\\u0431\\u0435\\u0434\\u0430\",\"\\u0420\\u0430\\u0434\\u0443\\u0433\\u0430\",\"Cocos Village Bungalows\",\"Alojamiento Indalo\",\"Ocean Centre Hotel\",\"\\u0413\\u043e\\u0441\\u0442\\u0435\\u0432\\u043e\\u0439 \\u0434\\u043e\\u043c\",\"Le Baril\",\"Hampton Inn Danbury\",\"No hotel found\",\"L'Estuaire\",\"No hotel found\",\"Aphrodite Hotel\",\"\\u0425\\u0443\\u0431\\u0430\\u0451\\u0448\\u0438\",\"No hotel found\",\"North Vista Manor\",\"Victoria Hotel\",\"No hotel found\",\"Alt Steinbach\",\"No hotel found\",\"Longyard Hotel\",\"Hotel Ch\\u00e9rica\",\"No hotel found\",\"No hotel found\",\"City Hotel\",\"Thompson Inn\",\"Tropic Hotel\",\"Villa Howden\",\"Margaret River Hotel\",\"H\\u00f4tel Zagado\",\"Escale Vacances\",\"Resid\\u00eancia Ka Dencho\",\"Milkwood Manor\",\"\\u041a\\u043e\\u0448\\u043a\\u0438\\u043d \\u0434\\u043e\\u043c\",\"Pacifik Appartels\",\"No hotel found\",\"\\u0412\\u0438\\u043b\\u044e\\u0439\",\"Aliwen\",\"The Cliff Hotel\",\"No hotel found\",\"The Old Mount Gambier Gaol\",\"No hotel found\",\"Central\",\"Hostal La Mirada De Solitario George\",\"\\u0413\\u043e\\u0441\\u0442\\u0438\\u043d\\u0438\\u0446\\u0430 \\u00ab\\u0412\\u041c-\\u0426\\u0435\\u043d\\u0442\\u0440\\u00bb\",\"Aspen Suites Hotel\",\"Aurora Alice Springs\",\"The Vault\",\"Hawaiki Nui hotel\",\"Scenic Hotel Dunedin City\",\"Best Western Plus Hotel Ilulissat\",\"Wasserturm Hotel Cologne\",\"No hotel found\",\"Aloe guest house\",\"Boutique Hotel Caelus VII\",\"Hotel Anggrek\",\"No hotel found\",\"President Hotel\",\"Airborne Inn Lodging\",\"Hilton Garden Inn Kauai Wailua Bay\",\"No hotel found\",\"No hotel found\",\"Hotel Piemont\",\"\\\"\\u041c\\u0435\\u0433\\u0430\\u043f\\u043e\\u043b\\u0438\\u0441\\\"\",\"No hotel found\",\"Avalon Resort\",\"No hotel found\",\"Kununurra Country Club Resort\",\"\\u0410\\u0432\\u0430\\u043d\\u0442\\u0430\\u0436\",\"Cinnamon Island\",\"H\\u00f3tel Horn\",\"\\u0422\\u0430\\u043b\\u043d\\u0430\\u0445\",\"SCI Horizon\",\"Wetherill Inn\",\"Villa La Cachette\",\"Kavieng Hotel\",\"No hotel found\",\"No hotel found\",\"No hotel found\",\"\\u30a4\\u30fc\\u30b9\\u30c8\\u30cf\\u30fc\\u30d0\\u30fc\\u30db\\u30c6\\u30eb\",\"\\u0410\\u043a\\u0442\\u043e\\u043b\\u0438\\u043a\",\"No hotel found\",\"Hotel Captain Cook\",\"\\u6d6a\\u6fe4\\u8ed2\\u9152\\u5e97 Concerto Inn\",\"\\u30b0\\u30ea\\u30fc\\u30f3\\u30ea\\u30c3\\u30c1\\u30db\\u30c6\\u30eb\",\"No hotel found\",\"Apart Hotel Aires del Beagle\",\"\\ub274\\ub3d9\\ud574\\uad00\\uad11\\ud638\\ud154\",\"\\u0421\\u0444\\u0435\\u0440\\u0430\",\"\\u91dc\\u77f3\\u30d9\\u30a4\\u30b7\\u30c6\\u30a3\\u30db\\u30c6\\u30eb\",\"Hotel Reference\",\"No hotel found\",\"\\u0645\\u0631\\u06a9\\u0632 \\u0622\\u0645\\u0648\\u0632\\u0634\\u06cc \\u0631\\u0641\\u0627\\u0647\\u06cc \\u0641\\u0631\\u0647\\u0646\\u06af\\u06cc\\u0627\\u0646 \\u0628\\u062c\\u0646\\u0648\\u0631\\u062f\",\"No hotel found\",\"\\u0422\\u0430\\u0437\\u043e\\u0432\\u0447\\u0430\\u043d\\u043a\\u0430\",\"No hotel found\",\"Salsabiil Hotel\",\"No hotel found\",\"Ambary\",\"No hotel found\",\"\\u0413\\u043e\\u0441\\u0442\\u0438\\u043d\\u043d\\u044b\\u0439 \\u0414\\u0432\\u043e\\u0440\",\"\\u041e\\u041e\\u041e \\u041f\\u043e\\u0441\\u0442\\u043e\\u044f\\u043b\\u044b\\u0439 \\u0434\\u0432\\u043e\\u0440\",\"No hotel found\",\"No hotel found\",\"Scandic Syv S\\u00f8stre\",\"La Ronge Hotel and Suites\",\"\\u0420\\u0443\\u0441\\u044c\",\"Embassy Suites by Hilton Lompoc Central Coast\",\"No hotel found\",\"New Imperial Inn\",\"La Quinta Inn & Suites\",\"No hotel found\",\"No hotel found\",\"No hotel found\",\"Hotel North Pole\",\"H\\u00f4tel KAMAS\",\"Sunshine Holiday Hotel\",\"No hotel found\",\"Hotel Mazamet\",\"No hotel found\",\"Otintaai Hotel\",\"The Grand\",\"Chalan Kanoa Beach Hotel\",\"Shelikof Lodge\",\"\\u0413\\u043e\\u0441\\u0442\\u0438\\u043d\\u0438\\u0446\\u0430 \\\"\\u0410\\u0433\\u0430\\u0442\\\"\",\"Hotel La Fonda de Taos\",\"No hotel found\",\"Hotel Huild\\u00edn\",\"Pousada Atl\\u00e2ntico\",\"Lofty Fig Villas\",\"\\u0413\\u043e\\u0441\\u0442\\u0438\\u043d\\u0438\\u0446\\u0430\",\"Quality Inn Chillicothe\",\"\\u0641\\u0646\\u062f\\u0642 \\u0627\\u0644\\u0645\\u0644\\u062a\\u0642\\u0649\",\"International Hotel\",\"Casa Ronald\",\"Hotel Tv\\u00f8royri\",\"No hotel found\",\"Hotel Lacolet\",\"Kauai Palms\",\"No hotel found\",\"\\u0410\\u043f\\u0435\\u043b\\u044c\\u0441\\u0438\\u043d\",\"\\u0412\\u0438\\u043a\\u0442\\u043e\\u0440\\u0438\\u044f\",\"Travelodge\",\"No hotel found\",\"H\\u00f4tel du Nord\",\"Jinqiu Hotel\",\"Holiday Inn Express & Suites\",\"No hotel found\",\"No hotel found\",\"HOTEL SALUNGA\",\"Palm Beach Hotel\",\"Seaman Hostel\",\"Mount Royal Hotel\",\"\\u0641\\u0646\\u062f\\u0642 \\u0627\\u0644\\u0643\\u064a\\u0644\\u0627\\u0646\\u0649\",\"apart arturo prat\",\"Hotel Jomali\",\"Kona Hotel\",\"Hotel Castelo\",\"No hotel found\",\"\\u0411\\u0430\\u0439\\u043a\\u0430\\u043b\\u044c\\u0441\\u043a\\u0438\\u0439 \\u0431\\u0440\\u0438\\u0437\",\"Kona Seaside Hotel\",\"Caba\\u00f1as\",\"Dalmacija\",\"No hotel found\",\"Young Safari\",\"BEST WESTERN PLUS Pioneer Park Inn\",\"No hotel found\",\"No hotel found\",\"Hotel Oasis Aleg\",\"\\u0420\\u0430\\u0445\\u0430\\u0442 \\u049b\\u043e\\u043d\\u0430\\u049b\\u04af\\u0439\",\"No hotel found\",\"No hotel found\",\"Hotel 52\",\"Beachfront Resort\",\"No hotel found\",\"No hotel found\",\"No hotel found\",\"Mantra Aqueous Port Douglas\",\"\\u0422\\u0440\\u0438 \\u043a\\u0438\\u0442\\u0430\",\"Boston Hotel\",\"No hotel found\",\"Nordbo\",\"No hotel found\",\"Hotel Sol del Pac\\u00edfico\",\"Hotel 61\",\"No hotel found\",\"Suita\",\"No hotel found\",\"Omati Lodge\",\"No hotel found\",\"Formal Leona hotel\",\"No hotel found\",\"Hotel Chik Chik Namibe\",\"No hotel found\",\"Hotel Exposi\\u00e7\\u00e3o\",\"No hotel found\",\"Old Oasis Hotel\",\"Woodbridge on the Derwent\",\"No hotel found\",\"\\u041a\\u043e\\u043b\\u043e\\u0441\",\"\\u0417\\u0430\\u043f\\u043e\\u043b\\u044f\\u0440\\u044c\\u0435\",\"Pono Kai Resort\",\"N\\u00fapan Deluxe\",\"Mangrove Bay Hotel\",\"Hotel Sol del Pac\\u00edfico\",\"Microtel Inn & Suites by Wyndham Whitecourt\",\"Hotel Mayombe\",\"Chez Julio\",\"Pousada Mediterr\\u00e2neo\",\"No hotel found\",\"No hotel found\",\"Seaview Hotel Zum Sperrgebiet\",\"Mezi Mezi Guest House\",\"Hotel Robin Hood\",\"\\u30d3\\u30b8\\u30cd\\u30b9\\u65c5\\u9928\\u7560\\u5c71\",\"Pebbles Inn\",\"Vento Brasil\",\"No hotel found\",\"No hotel found\",\"Kenyalang Suites Miri\",\"No hotel found\",\"\\u041a\\u0438\\u0440\\u043e\\u0432\\u0441\\u043a\\u0430\\u044f\",\"Hotel Qaqortoq\",\"No hotel found\",\"\\u0413\\u043e\\u0441\\u0442\\u0438\\u043d\\u0438\\u0446\\u0430 \\\"\\u0421\\u0430\\u043a\\u0432\\u043e\\u044f\\u0436\\\"\",\"DoubleTree Jamestown\",\"No hotel found\",\"Courtyard Long Island MacArthur Airport\",\"hotel libertadores\",\"Sol y Mar\",\"Beachside Resort\",\"Matkustajakoti Outa\",\"The Inn At Cape Cod\",\"\\u0411\\u0430\\u049b\\u0434\\u0430\\u0443\\u043b\\u0435\\u0442\",\"Howard Johnson by Wyndham Modesto Ceres\",\"Bakun Inn\",\"Natal Palace Hotel\",\"Lajas\",\"Ibis Styles\",\"Bird of Paradise Hotel\",\"No hotel found\",\"Tejen Myhmanhanasy\",\"Hotel Beach Paradise\",\"T\\u00fcrkmenba\\u015fy Oteli\",\"Tanna Lodge\",\"No hotel found\",\"Quality Inn\",\"Okanagan Royal Park Inn\",\"\\u0413\\u043e\\u0441\\u0442\\u0435\\u0432\\u043e\\u0439 \\u043a\\u043e\\u043c\\u043f\\u043b\\u0435\\u043a\\u0441 \\\"\\u0410\\u043b\\u0451\\u043d\\u0443\\u0448\\u043a\\u0430\\\"\",\"Vinha d'Areia Beach Hotel\",\"No hotel found\",\"Oulen hotel\",\"No hotel found\",\"No hotel found\",\"No hotel found\",\"\\u5927\\u65b0\\u65c5\\u9928\",\"No hotel found\",\"Ibis Hotel\",\"\\u041e\\u0430\\u0437\\u0438\\u0441\",\"Hotel El Palacio\",\"J\\u00e6ren hotell\",\"Serendib\",\"City Hotellet\",\"No hotel found\",\"No hotel found\",\"Muscat International Hotel\",\"Teria\",\"\\u0422\\u0430\\u043b\\u0430\\u043a\\u0430\\u043d\",\"Grand City Hotel\",\"\\u0413\\u043e\\u0441\\u0442\\u0438\\u043d\\u0438\\u0446\\u0430 \\\"\\u041f\\u0435\\u0447\\u043e\\u0440\\u0430\\\"\",\"No hotel found\",\"No hotel found\",\"Alojamiento Tokio\",\"\\u72ee\\u5b50\\u697c\\u5927\\u9152\\u5e97\",\"No hotel found\",\"Hotel Los Naranjos\",\"\\u0414\\u0440\\u043e\\u0437\\u0434\\u044b\",\"Brosundet\",\"Hotel Celeste\",\"Sunrise Hotel\",\"No hotel found\",\"No hotel found\",\"Royal Decameron Complex\",\"Complexe Belova\",\"Ibis Styles\",\"No hotel found\",\"Pousada Pontal da Barra\",\"No hotel found\",\"No hotel found\",\"No hotel found\",\"No hotel found\",\"The Parkavon Hotel\",\"No hotel found\",\"No hotel found\",\"\\u0645\\u062d\\u0645\\u062f \\u0628\\u0648\\u0633\\u0628\\u064a\",\"No hotel found\",\"No hotel found\",\"No hotel found\",\"No hotel found\",\"Pousada Recanto do Prado\",\"\\u0411\\u0435\\u043a\\u043d\\u0443\\u0440\",\"No hotel found\",\"Hotel Savoy\",\"No hotel found\",\"Lucerna\",\"No hotel found\",\"\\u0641\\u0646\\u062f\\u0642 \\u0627\\u0644\\u0645\\u0633\\u0627\\u0641\\u0631\\u064a\\u0646\",\"Q-Hotel Grand Dafam\",\"\\u4e09\\u6ca2\\u30cf\\u30a4\\u30e9\\u30f3\\u30c9\\u30db\\u30c6\\u30eb\",\"Hotel Quirimbas\",\"Aipana Plaza Hotel\",\"No hotel found\",\"\\u5e0c\\u96c5\\u4e3b\\u9898\\u9152\\u5e97\",\"Hotel Benvenuto\",\"Real Choice Hotel\",\"JJ Guesthouse\",\"No hotel found\",\"Andaman Ocean Breeze\",\"No hotel found\",\"No hotel found\",\"Hostal T\\u00e9 de Menta\",\"No hotel found\",\"No hotel found\",\"No hotel found\",\"No hotel found\",\"Hotel North Two\",\"\\u0425\\u043e\\u0442\\u0435\\u043b \\\"\\u042f\\u043d\\u0438\\u0446\\u0430\\\"\",\"Residencias El Turista del Guainia\",\"No hotel found\",\"Hotel VENETUR Amazonas\",\"Gasthof zum Anzenstein\",\"Nuevo Ostende\",\"Hotel Vila Moura Executivo\",\"\\u041f\\u0440\\u0435\\u0441\\u0442\\u0438\\u0436\",\"No hotel found\",\"Hotel Charles\",\"No hotel found\",\"\\u0423\\u044e\\u0442\",\"Hotel\",\"Golf 1\",\"Hotel Dom Nuno\",\"Hotel Iberia\",\"Guest PAM\",\"Brandon Motor Lodge\",\"Hotel Passarela\",\"Travelodge\",\"Kota Heritage Hotel\",\"Sur Hotel\",\"The Reading Rooms\",\"Inn At Mama's Fish House\",\"\\u0414\\u043e\\u043c\\u0430\\u0448\\u043d\\u0438\\u0439 \\u043e\\u0447\\u0430\\u0433\",\"Ujung Pandang Hotel\",\"\\u0410\\u043d\\u0433\\u0430\\u0440\\u0430\",\"\\u041d\\u043e\\u0433\\u043b\\u0438\\u043a\\u0438\",\"Comfort Inn & Suites Redwood Country\",\"\\u0641\\u0646\\u062f\\u0642 \\u0632\\u0647\\u0631\\u0629 \\u0627\\u0644\\u0628\\u0637\\u0646\\u0627\\u0646 -\\u0637\\u0628\\u0631\\u0642\",\"\\u0425\\u0430\\u043d \\u0423\\u0443\\u043b \\u0431\\u0443\\u0443\\u0434\\u0430\\u043b\",\"Aviador Hotel Boutique\",\"Riverside Hotel\",\"No hotel found\",\"\\u6c11\\u5bbf\\u3046\\u3089\\u3057\\u307e\",\"No hotel found\",\"\\u041e\\u043e\\u043b\\u0438\\u0442\",\"Hospedaje Claritza\",\"Pousada Baia dos Corais\",\"Fairfield Inn & Suites Fort Morgan\",\"No hotel found\",\"\\u042f\\u043d\\u0442\\u0430\\u0440\\u043d\\u0430\\u044f\",\"Tash Rabat\",\"Thon Hotel Hammerfest\",\"Hotel Lo + Natural\",\"Queens Hotel\",\"\\u0411\\u0435\\u043b\\u044b\\u0435 \\u041c\\u043e\\u0441\\u0442\\u044b\",\"No hotel found\",\"No hotel found\",\"Hotel Deus Me Deu\",\"Hotel SkylineInn\",\"No hotel found\",\"Crest Hotel\",\"\\u0423\\u044e\\u0442\",\"The Observatory\",\"Hotel Jasmine Jayapura\",\"Wasserturm Hotel Cologne\",\"Hotel Sinjai\",\"Scandic Vads\\u00f8\",\"No hotel found\",\"Hotel Talisman\",\"\\u0410\\u043b\\u0430-\\u0422\\u043e\\u043e\",\"Mont neyanc\",\"Copthorne Hotel Solway Park\",\"Posada del Parque\",\"Hotel Cascada inn\",\"Scandic Meyerg\\u00e5rden\",\"No hotel found\",\"No hotel found\",\"No hotel found\",\"No hotel found\",\"\\u041a\\u0430\\u043c\\u0438\\u043b\\u043b\\u0430\",\"Addison Pension House\",\"Dolphin Bay Hotel\",\"No hotel found\",\"No hotel found\",\"\\u041c\\u0435\\u0442\\u0430\\u043b\\u043b\\u0443\\u0440\\u0433\",\"Hotel Tem\\u00e1tico do Banco Azul\",\"No hotel found\",\"Altai hotel 40000-100000T\",\"Khovd hotel\",\"Hiti Moana Villa Lodge\",\"No hotel found\",\"No hotel found\",\"No hotel found\",\"\\u130e\\u1263 \\u12cb\\u1264 \\u1238\\u1260\\u120c \\u1206\\u1274\\u120d\",\"Mabassa\",\"\\u0433\\u043e\\u0441\\u0442\\u0438\\u043d\\u0438\\u0446\\u0430 \\\"\\u0410\\u043b\\u044c\\u0444\\u0430\\\"\",\"Eang Monyratanak Hotel\",\"Plaza sal paraiso\",\"No hotel found\",\"Sunshine Inn Hotel\",\"Aiwo Hotel\",\"S\\u00f8mandshjemmet\",\"No hotel found\",\"AMC\",\"OOO \\\"\\u0421\\u0418\\u0421\\u0422\\u0415\\u041c\\u0410 \\u0421\\u0422\\u0420\\u041e\\u0419\\\"\",\"Hotel Riu Palace Maldivas\",\"Casa de Olas\",\"\\u041a\\u043e\\u0440\\u0435\\u043b\\u0430\",\"Hotel Commonwealth\",\"\\u0412\\u0443\\u043a\\u0442\\u044b\\u043b\",\"No hotel found\",\"Kang Lha Chen\",\"B\\u1ea3o Son Hotel\",\"Best Western Hotel Dom Bernardo\",\"hotel Vajgar\",\"Hotel Sharon Menabe\",\"Hotel Teodoro\",\"Naqu Hotel\",\"\\u56db\\u5b63\\u9152\\u5e97 Four Seasons Hotel\",\"No hotel found\",\"Dory's House\",\"Quality Inn & Suites\",\"Executive Inn & Suites\",\"Dom Druzhby\",\"Encosta Azul\",\"\\u5148\\u8c6a\\u56fd\\u9645\\u9152\\u5e97\",\"Fidji Motel\",\"Hotel Shafura 2\",\"Hospedaje El Sol\",\"Wynyard Hotel\",\"Complexo Messalo\",\"\\u0426\\u0435\\u043d\\u0442\\u0440\\u0430\\u043b\\u044c\\u043d\\u0430\\u044f\",\"Hotel Las Palmas\",\"Hotelli Kittil\\u00e4\",\"La Corte\",\"Haip\",\"Hotel Ria\",\"Hotel Terra\\u00e7o\",\"Hotel Morada do Sol\",\"Hotel Ambiente\",\"No hotel found\",\"No hotel found\",\"Elizabeth Inn\",\"Baoling Hotel\",\"Hotel Nicotel Wellnes\",\"No hotel found\",\"Radisson Temple Bay\",\"\\u0628\\u0648\\u0646\\u0627\\u0642\\u0629\",\"Pacific Grove Inn\",\"Les Chalets de Florence\",\"Garden Hotel\",\"No hotel found\",\"No hotel found\",\"\\u30db\\u30c6\\u30eb \\u30eb\\u30fc\\u30c8\\u30a4\\u30f3\\u79e9\\u7236\",\"\\u0418\\u0437\\u0431\\u0435\\u0440\\u0431\\u0430\\u0448\",\"Atlantic\",\"Blossom's on Seaspray\",\"\\u00c1guia Verde Hotel\",\"\\u041f\\u043e\\u043b\\u0435\\u0442\",\"\\u0411\\u0430\\u0440\\u0430\\u0431\\u0443\\u043b\\u044c\\u043a\\u0430\",\"Hospedaje Eco\",\"VIP Loungue Casa Nueva\",\"Jungle Hostel Villa\",\"Parkside Hotel\",\"Hotel Prainha\",\"\\u0413\\u043e\\u0441\\u0442\\u0438\\u043d\\u0438\\u0446\\u0430 \\\"\\u0428\\u0430\\u043d\\u044b\\u0440\\u0430\\u043a\\\"\",\"\\u9526\\u6c5f\\u4e4b\\u661f\",\"Villa Rays Restaurant & Hotel\",\"Surestay Hotel By Best Western Leesville\",\"Bon Hotel Waterfront\",\"Scandic Fauske\",\"Hotel Milano\",\"No hotel found\",\"The Dwarika Hotel\",\"M&A Riverside Bungalows\",\"No hotel found\",\"Palace Hotel\",\"\\u0418\\u0432\\u0443\\u0448\\u043a\\u0430\",\"Kimpton Armory Hotel Bozeman\",\"Dzintarj\\u016bra\",\"Hotel Barlovento\",\"Brito Hotel\",\"Shine\",\"No hotel found\",\"Grande Hotel\",\"No hotel found\",\"Recreation Hotel\",\"Best Western Plus Sanford\",\"Rib Mountain Inn\",\"Villas Tinajo\",\"H\\u00f3tel Nor\\u00f0urland\",\"hotel palaima\",\"Travelodge\",\"No hotel found\",\"No hotel found\"],\"shape\":[549],\"dtype\":\"object\",\"order\":\"little\"}],[\"Country\",{\"type\":\"ndarray\",\"array\":[\"UY\",\"RU\",\"RU\",\"PT\",\"TK\",\"MG\",\"SS\",\"GS\",\"CL\",\"GH\",\"RU\",\"CN\",\"TF\",\"CA\",\"RU\",\"SJ\",\"CK\",\"SH\",\"GL\",\"ZA\",\"CA\",\"US\",\"RU\",\"US\",\"FM\",\"ES\",\"RU\",\"MY\",\"RU\",\"CA\",\"RU\",\"CX\",\"NG\",\"NZ\",\"RU\",\"ES\",\"PH\",\"RU\",\"RU\",\"CC\",\"BO\",\"AU\",\"RU\",\"RE\",\"US\",\"PN\",\"FR\",\"SA\",\"JM\",\"CN\",\"NG\",\"US\",\"ZA\",\"NZ\",\"DE\",\"US\",\"AU\",\"RO\",\"IN\",\"BR\",\"TO\",\"CA\",\"RE\",\"AU\",\"AU\",\"NE\",\"MU\",\"CV\",\"ZA\",\"RU\",\"NC\",\"AU\",\"RU\",\"CL\",\"GU\",\"RU\",\"AU\",\"TZ\",\"MG\",\"EC\",\"RU\",\"US\",\"AU\",\"SJ\",\"PF\",\"NZ\",\"GL\",\"DE\",\"IN\",\"ZA\",\"BE\",\"ID\",\"CA\",\"FJ\",\"US\",\"US\",\"SB\",\"ZW\",\"ML\",\"RU\",\"ID\",\"NZ\",\"IN\",\"AU\",\"RU\",\"MV\",\"IS\",\"RU\",\"GF\",\"US\",\"SC\",\"PG\",\"LY\",\"ID\",\"AO\",\"JP\",\"RU\",\"RU\",\"US\",\"HK\",\"JP\",\"BR\",\"AR\",\"KR\",\"RU\",\"JP\",\"CD\",\"MH\",\"IR\",\"BO\",\"RU\",\"RU\",\"SO\",\"AZ\",\"MG\",\"RU\",\"RU\",\"RU\",\"ZW\",\"BR\",\"NO\",\"CA\",\"RU\",\"US\",\"US\",\"CA\",\"US\",\"IN\",\"IN\",\"MX\",\"US\",\"CD\",\"CN\",\"BR\",\"AR\",\"CL\",\"KI\",\"NZ\",\"MP\",\"US\",\"RU\",\"US\",\"RU\",\"CL\",\"BR\",\"BS\",\"RU\",\"US\",\"MA\",\"ZA\",\"PE\",\"FO\",\"RU\",\"CL\",\"US\",\"BF\",\"RU\",\"RU\",\"CA\",\"US\",\"DZ\",\"CN\",\"US\",\"IN\",\"ZA\",\"ID\",\"ID\",\"KI\",\"CA\",\"EG\",\"CL\",\"BO\",\"US\",\"BR\",\"RU\",\"RU\",\"US\",\"CL\",\"BA\",\"ZA\",\"KE\",\"US\",\"RU\",\"RU\",\"MR\",\"KZ\",\"JP\",\"RU\",\"GB\",\"VU\",\"MH\",\"KZ\",\"LY\",\"AU\",\"RU\",\"AU\",\"BR\",\"GL\",\"ML\",\"MX\",\"ID\",\"MH\",\"ID\",\"AR\",\"PF\",\"ES\",\"SL\",\"MR\",\"AO\",\"MH\",\"BR\",\"US\",\"EG\",\"AU\",\"RU\",\"RU\",\"RU\",\"US\",\"IS\",\"FM\",\"MX\",\"CA\",\"AO\",\"GW\",\"BR\",\"CN\",\"TR\",\"nan\",\"ZA\",\"CA\",\"JP\",\"MV\",\"BR\",\"BR\",\"PH\",\"MY\",\"CA\",\"RU\",\"GL\",\"BD\",\"RU\",\"US\",\"KZ\",\"US\",\"CO\",\"MX\",\"US\",\"FI\",\"US\",\"KZ\",\"US\",\"MY\",\"BR\",\"BO\",\"AU\",\"PG\",\"US\",\"TM\",\"IN\",\"TM\",\"VU\",\"ID\",\"US\",\"CA\",\"RU\",\"PT\",\"ID\",\"CN\",\"AU\",\"BS\",\"ML\",\"JP\",\"TZ\",\"CL\",\"RU\",\"SV\",\"NO\",\"LK\",\"SE\",\"SB\",\"BR\",\"OM\",\"BF\",\"RU\",\"ID\",\"RU\",\"AU\",\"AO\",\"BO\",\"CN\",\"ZA\",\"AR\",\"RU\",\"NO\",\"IT\",\"NI\",\"AR\",\"DZ\",\"MX\",\"GF\",\"AU\",\"TR\",\"BR\",\"MG\",\"ZW\",\"US\",\"ZA\",\"IE\",\"CN\",\"CD\",\"DZ\",\"CA\",\"RU\",\"MX\",\"SL\",\"BR\",\"KZ\",\"KZ\",\"MZ\",\"CN\",\"MX\",\"TZ\",\"MA\",\"ID\",\"JP\",\"MZ\",\"BR\",\"PW\",\"CN\",\"PE\",\"NG\",\"ID\",\"PE\",\"IN\",\"YE\",\"VU\",\"EC\",\"MV\",\"PH\",\"ID\",\"MG\",\"CA\",\"BG\",\"CO\",\"MV\",\"VE\",\"DE\",\"AR\",\"BR\",\"KZ\",\"PK\",\"AU\",\"RU\",\"RU\",\"TH\",\"VN\",\"PT\",\"CL\",\"NE\",\"US\",\"BR\",\"CA\",\"MY\",\"OM\",\"GB\",\"US\",\"RU\",\"ID\",\"RU\",\"RU\",\"US\",\"LY\",\"MN\",\"BO\",\"IE\",\"CM\",\"JP\",\"BW\",\"KZ\",\"PE\",\"BR\",\"US\",\"AU\",\"RU\",\"KG\",\"NO\",\"ES\",\"ZA\",\"RU\",\"BR\",\"RU\",\"BR\",\"MU\",\"CA\",\"CA\",\"RU\",\"AU\",\"ID\",\"DE\",\"ID\",\"NO\",\"TK\",\"PT\",\"KG\",\"CM\",\"NZ\",\"MX\",\"MX\",\"NO\",\"SD\",\"VU\",\"MV\",\"PM\",\"KZ\",\"PH\",\"US\",\"CN\",\"UZ\",\"RU\",\"ES\",\"ID\",\"MN\",\"MN\",\"PF\",\"MH\",\"GQ\",\"TZ\",\"ET\",\"MZ\",\"RU\",\"KH\",\"MX\",\"SN\",\"CA\",\"NR\",\"GL\",\"IN\",\"DZ\",\"RU\",\"MV\",\"MX\",\"RU\",\"AU\",\"RU\",\"UZ\",\"IN\",\"VN\",\"PT\",\"CZ\",\"MG\",\"BR\",\"CN\",\"HK\",\"CN\",\"EC\",\"US\",\"US\",\"RU\",\"CV\",\"CN\",\"BR\",\"MY\",\"PY\",\"AU\",\"MZ\",\"RU\",\"MA\",\"FI\",\"IT\",\"MY\",\"MY\",\"BR\",\"BR\",\"ME\",\"TD\",\"SS\",\"HN\",\"CN\",\"IT\",\"GN\",\"IN\",\"DZ\",\"US\",\"FR\",\"CN\",\"DZ\",\"CN\",\"JP\",\"RU\",\"nan\",\"AU\",\"AO\",\"RU\",\"UA\",\"PE\",\"MX\",\"LK\",\"KE\",\"BR\",\"KZ\",\"CN\",\"SO\",\"US\",\"ZA\",\"NO\",\"IT\",\"PG\",\"IN\",\"PW\",\"NG\",\"BR\",\"RU\",\"US\",\"LV\",\"MX\",\"BR\",\"RU\",\"MX\",\"BR\",\"CA\",\"NZ\",\"US\",\"US\",\"ES\",\"IS\",\"CO\",\"CA\",\"RU\",\"TR\"],\"shape\":[549],\"dtype\":\"object\",\"order\":\"little\"}],[\"color\",{\"type\":\"ndarray\",\"array\":[\"chui\",\"bilibino\",\"ust-nera\",\"ribeira grande\",\"atafu village\",\"tolanaro\",\"kuacjok\",\"grytviken\",\"puerto natales\",\"takoradi\",\"tiksi\",\"hefei\",\"port-aux-francais\",\"iqaluit\",\"kyren\",\"olonkinbyen\",\"avarua\",\"edinburgh of the seven seas\",\"aasiaat\",\"port elizabeth\",\"st. john's\",\"keyser\",\"vorgashor\",\"salinas\",\"weno\",\"es castell\",\"poyarkovo\",\"georgetown\",\"pionerskiy\",\"whitehorse\",\"ves'yegonsk\",\"flying fish cove\",\"alo\",\"waitangi\",\"khorinsk\",\"tazacorte\",\"rosales\",\"vilyuchinsk\",\"novaya ladoga\",\"west island\",\"cotoca\",\"geraldton\",\"anadyr\",\"saint-philippe\",\"bethel\",\"adamstown\",\"la passe\",\"suwayr\",\"kingston\",\"sanya\",\"bardai\",\"hamilton\",\"bredasdorp\",\"papatowai\",\"steinbach\",\"albany\",\"hillvue\",\"constantia\",\"tura\",\"eloi mendes\",\"nuku'alofa\",\"thompson\",\"saint-pierre\",\"blackmans bay\",\"margaret river\",\"alaghsas\",\"port mathurin\",\"nova sintra\",\"plettenberg bay\",\"myshkin\",\"kone\",\"howard springs\",\"udachny\",\"quellon\",\"piti village\",\"kuanda\",\"mount gambier\",\"mahenge\",\"antsiranana\",\"puerto ayora\",\"magadan\",\"sitka\",\"alice springs\",\"longyearbyen\",\"uturoa\",\"dunedin\",\"ilulissat\",\"colonia\",\"narasannapeta\",\"hermanus\",\"tongeren\",\"nabire\",\"yellowknife\",\"nadi\",\"fort bragg\",\"wailua homesteads\",\"buala\",\"gwanda\",\"bougouni\",\"vorkuta\",\"dampit\",\"kerikeri\",\"kavaratti\",\"kununurra\",\"iskateley\",\"dhidhdhoo\",\"isafjordur\",\"talnakh\",\"kourou\",\"kayenta\",\"bel ombre\",\"kavieng\",\"nalut\",\"sigli\",\"menongue\",\"nemuro\",\"severo-yeniseyskiy\",\"polyarnyy\",\"anchorage\",\"yung shue wan\",\"nago\",\"cururupu\",\"ushuaia\",\"tonghae\",\"okha\",\"kamaishi\",\"boende\",\"enewetak\",\"bojnurd\",\"santa ana de yacuma\",\"tazovsky\",\"ola\",\"marka\",\"qarayeri\",\"toliara\",\"malaya vishera\",\"sovetskaya gavan'\",\"petropavlovsk-kamchatsky\",\"chinhoyi\",\"sao desiderio\",\"sandnessjoen\",\"la ronge\",\"chapayevsk\",\"lompoc\",\"hawaiian paradise park\",\"cold lake\",\"orange\",\"tanda\",\"dharampuri\",\"ruiz\",\"badger\",\"mwene-ditu\",\"altay\",\"arraial do cabo\",\"victorica\",\"lebu\",\"bikenibeu village\",\"invercargill\",\"saipan\",\"kodiak\",\"nar'yan-mar\",\"taos\",\"krasnogorskoye\",\"chonchi\",\"touros\",\"marsh harbour\",\"mayma\",\"chillicothe\",\"guelmim\",\"vryburg\",\"callao\",\"tvoroyri\",\"ubinskoye\",\"punta arenas\",\"lihue\",\"gorom-gorom\",\"khandyga\",\"dudinka\",\"kapuskasing\",\"ulysses\",\"bejaia\",\"shaowu\",\"laguna\",\"tezu\",\"port alfred\",\"kupang\",\"batang\",\"betio village\",\"banff\",\"siwa oasis\",\"santiago\",\"riberalta\",\"holualoa\",\"cidreira\",\"borogontsy\",\"ust'-barguzin\",\"kailua-kona\",\"ancud\",\"kiseljak\",\"kruisfontein\",\"malindi\",\"college\",\"berdyaush\",\"zheshart\",\"aleg\",\"zaysan\",\"katsuren-haebaru\",\"novyy urgal\",\"stanley\",\"luganville\",\"taroa\",\"zhanaozen\",\"awjilah\",\"port douglas\",\"bratsk\",\"port lincoln\",\"acarau\",\"nuuk\",\"kidal\",\"ciudad lazaro cardenas\",\"banda aceh\",\"rongelap\",\"tual\",\"lamarque\",\"afaahiti\",\"miajadas\",\"freetown\",\"adrar\",\"namibe\",\"mejit\",\"iguatu\",\"palmer\",\"al bawiti\",\"new norfolk\",\"klyuchi\",\"olyokminsk\",\"igarka\",\"kapa'a\",\"keflavik\",\"palikir - national government center\",\"lazaro cardenas\",\"whitecourt\",\"cabinda\",\"bubaque\",\"sao joao da barra\",\"hepo\",\"gazipasa\",\"luderitz\",\"modimolle\",\"grand falls-windsor\",\"naze\",\"hithadhoo\",\"paracuru\",\"codajas\",\"olutanga\",\"miri\",\"conception bay south\",\"sovetskiy\",\"qaqortoq\",\"chilmari\",\"mikun'\",\"jamestown\",\"qarazhal\",\"holbrook\",\"tame\",\"santa rosalia\",\"gulf shores\",\"rovaniemi\",\"yarmouth\",\"chardara\",\"ceres\",\"bintulu\",\"natal\",\"robore\",\"broken hill\",\"goroka\",\"san patricio\",\"tejen\",\"bhimunipatnam\",\"turkmenbasy\",\"isangel\",\"luwuk\",\"brookings\",\"vernon\",\"onega\",\"vila franca do campo\",\"sumenep\",\"erenhot\",\"codrington\",\"cooper's town\",\"taoudenni\",\"hasaki\",\"msowero\",\"valparaiso\",\"gadzhiyevo\",\"san salvador\",\"bryne\",\"bentota\",\"lycksele\",\"kirakira\",\"carutapera\",\"salalah\",\"bobo-dioulasso\",\"talakan\",\"gorontalo\",\"troitsko-pechorsk\",\"carnarvon\",\"sumbe\",\"la paz\",\"yanggu\",\"aliwal north\",\"general cabrera\",\"mil'kovo\",\"alesund\",\"pachino\",\"corn island\",\"tinogasta\",\"berrahal\",\"bucerias\",\"remire-montjoly\",\"mount isa\",\"sinop\",\"nova vicosa\",\"tsiombe\",\"chitungwiza\",\"newman\",\"lydenburg\",\"cill airne\",\"burang\",\"kasongo-lunda\",\"tindouf\",\"glace bay\",\"susuman\",\"marquelia\",\"bonthe\",\"prado\",\"shalqar\",\"mayqayyng\",\"beira\",\"laojunmiao\",\"hermosillo\",\"malinyi\",\"sidi bennour\",\"martapura\",\"misawa\",\"antonio enes\",\"boa vista\",\"kayangel\",\"kaihua\",\"chilca\",\"ibadan\",\"tobelo\",\"minas de marcona\",\"port blair\",\"hadibu\",\"lakatoro\",\"muisne\",\"ugoofaaru\",\"colipapa\",\"sekong\",\"ankazoabo\",\"happy valley-goose bay\",\"nova zagora\",\"inirida\",\"thinadhoo\",\"puerto ayacucho\",\"kemnath\",\"mar del plata\",\"rio grande\",\"balqash\",\"bhag\",\"launceston\",\"aban\",\"aykhal\",\"bang saphan\",\"da lat\",\"barcelos\",\"coquimbo\",\"nguigmi\",\"brandon\",\"santa maria da vitoria\",\"owen sound\",\"kota tinggi\",\"sur\",\"margate\",\"haiku-pauwela\",\"ust'-kut\",\"palu\",\"kodinsk\",\"nogliki\",\"fortuna\",\"tobruk\",\"dalandzadgad\",\"santa cruz\",\"sligo\",\"belel\",\"muroto-misakicho\",\"orapa\",\"lisakovsk\",\"sechura\",\"tamandare\",\"fort morgan\",\"forster\",\"nadym\",\"at-bashi\",\"hammerfest\",\"velez rubio\",\"queenstown\",\"pitkyaranta\",\"sao paulo de olivenca\",\"kolosovka\",\"sao gabriel da cachoeira\",\"souillac\",\"chibougamau\",\"prince rupert\",\"novodvinsk\",\"port macquarie\",\"jayapura\",\"kolonia\",\"sinjai\",\"vadso\",\"fale old settlement\",\"ponta delgada\",\"naryn\",\"kribi\",\"masterton\",\"kantunilkin\",\"creel\",\"mo i rana\",\"an nuhud\",\"sola\",\"mahibadhoo\",\"miquelon\",\"qulsary\",\"guiuan\",\"hilo\",\"laibin\",\"buka\",\"pikalevo\",\"fisterra\",\"sinabang\",\"altai\",\"khovd\",\"papao\",\"utrik\",\"san antonio de pale\",\"utete\",\"goba\",\"quelimane\",\"korsakov\",\"banlung\",\"guerrero negro\",\"saint-louis\",\"smithers\",\"yaren\",\"sisimiut\",\"cumbum\",\"hassi messaoud\",\"vikulovo\",\"kudahuvadhoo\",\"brisas de zicatela\",\"priozersk\",\"port augusta\",\"vuktyl\",\"shohimardon\",\"leh\",\"lao cai\",\"faro\",\"jindrichuv hradec\",\"morondava\",\"santana\",\"nagqu\",\"hong kong\",\"luorong\",\"puerto baquerizo moreno\",\"garden city\",\"aransas pass\",\"yuzhno-kurilsk\",\"cidade velha\",\"huilong\",\"olinda\",\"cukai\",\"san isidro de curuguaty\",\"wynyard\",\"montepuez\",\"shumerlya\",\"asilah\",\"kittila\",\"tortoli\",\"kapit\",\"kudat\",\"sao felix do xingu\",\"nova xavantina\",\"plav\",\"faya-largeau\",\"malakal\",\"coxen hole\",\"yakeshi\",\"corato\",\"kouroussa\",\"seven pagodas\",\"illizi\",\"pacific grove\",\"saint-jean-de-maurienne\",\"datong\",\"metlili chaamba\",\"cangzhou\",\"chichibu\",\"izberbash\",\"walvis bay\",\"yeppoon\",\"ondjiva\",\"boguchany\",\"sevastopol\",\"lagunas\",\"alfredo v. bonfil\",\"galle\",\"kitui\",\"vila velha\",\"sergeyevka\",\"nanchang\",\"mogadishu\",\"leesville\",\"richards bay\",\"fauske\",\"marina di massa\",\"kiunga\",\"dwarka\",\"ulimang\",\"boi\",\"araguari\",\"kirensk\",\"bozeman\",\"ventspils\",\"puerto escondido\",\"resplendor\",\"adler\",\"coahuayana de hidalgo\",\"barra dos coqueiros\",\"la sarre\",\"greymouth\",\"seminole\",\"marathon\",\"tinajo\",\"akureyri\",\"manaure\",\"richmond hill\",\"lyubim\",\"banaz\"],\"shape\":[549],\"dtype\":\"object\",\"order\":\"little\"}],[\"size\",{\"type\":\"ndarray\",\"array\":{\"type\":\"bytes\",\"data\":\"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\"},\"shape\":[549],\"dtype\":\"float64\",\"order\":\"little\"}]]}}},\"view\":{\"type\":\"object\",\"name\":\"CDSView\",\"id\":\"p1162\",\"attributes\":{\"filter\":{\"type\":\"object\",\"name\":\"AllIndices\",\"id\":\"p1163\"}}},\"glyph\":{\"type\":\"object\",\"name\":\"Scatter\",\"id\":\"p1156\",\"attributes\":{\"tags\":[\"apply_ranges\"],\"x\":{\"type\":\"field\",\"field\":\"Lng\"},\"y\":{\"type\":\"field\",\"field\":\"Lat\"},\"size\":{\"type\":\"field\",\"field\":\"size\"},\"line_color\":{\"type\":\"field\",\"field\":\"color\",\"transform\":{\"type\":\"object\",\"name\":\"CategoricalColorMapper\",\"id\":\"p1149\",\"attributes\":{\"palette\":[\"#1f77b3\",\"#ff7e0e\",\"#2ba02b\",\"#d62628\",\"#9367bc\",\"#8c564b\",\"#e277c1\",\"#7e7e7e\",\"#bcbc21\",\"#16bdcf\",\"#3a0182\",\"#004201\",\"#0fffa8\",\"#5d003f\",\"#bcbcff\",\"#d8afa1\",\"#b80080\",\"#004d52\",\"#6b6400\",\"#7c0100\",\"#6026ff\",\"#ffff9a\",\"#564964\",\"#8cb893\",\"#93fbff\",\"#018267\",\"#90ff00\",\"#8200a0\",\"#ac8944\",\"#5b3400\",\"#ffbff2\",\"#ff6e75\",\"#798cff\",\"#dd00ff\",\"#505646\",\"#004489\",\"#ffbf60\",\"#ff018c\",\"#bdc8cf\",\"#af97b5\",\"#b65600\",\"#017000\",\"#cd87ff\",\"#1cd646\",\"#bfebc3\",\"#7997b5\",\"#a56089\",\"#6e8956\",\"#bc7c75\",\"#8a2844\",\"#00acff\",\"#8ed4ff\",\"#4b6d77\",\"#00d4b1\",\"#9300f2\",\"#8a9500\",\"#5d5b9e\",\"#fddfba\",\"#00939e\",\"#ffdb00\",\"#00aa79\",\"#520067\",\"#000091\",\"#0a5d3d\",\"#a5e275\",\"#623b41\",\"#c6c689\",\"#ff9eb5\",\"#cd4f6b\",\"#ff07d6\",\"#8a3a05\",\"#7e3d70\",\"#ff4901\",\"#602ba5\",\"#1c00ff\",\"#e6dfff\",\"#aa3baf\",\"#d89c00\",\"#a3a39e\",\"#3f69ff\",\"#46490c\",\"#7b6985\",\"#6b978c\",\"#ff9a75\",\"#835bff\",\"#7c6b46\",\"#80b654\",\"#bc0049\",\"#fd93ff\",\"#5d0018\",\"#89d1d1\",\"#9c8cd3\",\"#da6d42\",\"#8a5700\",\"#3b5069\",\"#4b6b3b\",\"#edcfd8\",\"#cfedff\",\"#aa1500\",\"#dfff4f\",\"#ff2a56\",\"#d1499e\",\"#707cb8\",\"#598000\",\"#00e4fd\",\"#774b95\",\"#67d48c\",\"#3d3a72\",\"#ac413f\",\"#d6a166\",\"#c169cd\",\"#69595d\",\"#87aced\",\"#a0a569\",\"#d1aae6\",\"#870062\",\"#00fddb\",\"#672818\",\"#b342ff\",\"#0e59c4\",\"#168742\",\"#90d300\",\"#cd7900\",\"#f959ff\",\"#5b7466\",\"#8eaeb3\",\"#9c7c8c\",\"#4600c6\",\"#6b4d2d\",\"#a56d46\",\"#9e8972\",\"#a8afca\",\"#cd8ca7\",\"#00fd64\",\"#917900\",\"#ff62a1\",\"#f4ffd8\",\"#018cf0\",\"#13aca0\",\"#5b2d59\",\"#89859e\",\"#cfccba\",\"#d4afc4\",\"#dbdd6d\",\"#cffff4\",\"#006485\",\"#006962\",\"#a84167\",\"#2d97c4\",\"#a874ff\",\"#26ba5d\",\"#57b600\",\"#caffa7\",\"#a379aa\",\"#ffbc93\",\"#89e2c1\",\"#0fc8ff\",\"#d400c4\",\"#626d89\",\"#69858e\",\"#4b4d52\",\"#aa6067\",\"#79b5d4\",\"#2b5916\",\"#9a0024\",\"#bdd1f2\",\"#896e67\",\"#69a56b\",\"#855467\",\"#aecdba\",\"#87997e\",\"#cadb00\",\"#9a0390\",\"#ebbc1a\",\"#eb9cd1\",\"#70006e\",\"#b1a131\",\"#ca6b93\",\"#4146a3\",\"#e48c89\",\"#d44400\",\"#c68aca\",\"#b69597\",\"#d41f75\",\"#724bcc\",\"#674d00\",\"#672138\",\"#38564f\",\"#6ebaaa\",\"#853a31\",\"#a5d397\",\"#b8af8e\",\"#d8e4df\",\"#aa00df\",\"#cac1db\",\"#ffdf8c\",\"#e2524d\",\"#66696e\",\"#ff001c\",\"#522d72\",\"#4d906b\",\"#a86d11\",\"#ff9e26\",\"#5ea3af\",\"#c88556\",\"#915997\",\"#a3a1ff\",\"#fdbaba\",\"#242a87\",\"#dbe6a8\",\"#97f2a7\",\"#6793d6\",\"#ba5b3f\",\"#3a5d91\",\"#364f2f\",\"#267c95\",\"#89959a\",\"#cfb356\",\"#004664\",\"#5e5d2f\",\"#8e8e41\",\"#ac3f13\",\"#69953b\",\"#a13d85\",\"#bfb6ba\",\"#acc667\",\"#6469cf\",\"#91af00\",\"#2be2da\",\"#016e36\",\"#ff7952\",\"#42807e\",\"#4fe800\",\"#995428\",\"#5d0a00\",\"#a30057\",\"#0c8700\",\"#5982a7\",\"#ffebfb\",\"#4b6901\",\"#8775d4\",\"#e6c6ff\",\"#a5ffda\",\"#d86e77\",\"#df014b\",\"#69675b\",\"#776ba1\",\"#7e8067\",\"#594685\",\"#0000ca\",\"#7c002a\",\"#97ff72\",\"#b5e2e1\",\"#db52c8\",\"#777734\",\"#57bd8e\",\"#1f77b3\",\"#ff7e0e\",\"#2ba02b\",\"#d62628\",\"#9367bc\",\"#8c564b\",\"#e277c1\",\"#7e7e7e\",\"#bcbc21\",\"#16bdcf\",\"#3a0182\",\"#004201\",\"#0fffa8\",\"#5d003f\",\"#bcbcff\",\"#d8afa1\",\"#b80080\",\"#004d52\",\"#6b6400\",\"#7c0100\",\"#6026ff\",\"#ffff9a\",\"#564964\",\"#8cb893\",\"#93fbff\",\"#018267\",\"#90ff00\",\"#8200a0\",\"#ac8944\",\"#5b3400\",\"#ffbff2\",\"#ff6e75\",\"#798cff\",\"#dd00ff\",\"#505646\",\"#004489\",\"#ffbf60\",\"#ff018c\",\"#bdc8cf\",\"#af97b5\",\"#b65600\",\"#017000\",\"#cd87ff\",\"#1cd646\",\"#bfebc3\",\"#7997b5\",\"#a56089\",\"#6e8956\",\"#bc7c75\",\"#8a2844\",\"#00acff\",\"#8ed4ff\",\"#4b6d77\",\"#00d4b1\",\"#9300f2\",\"#8a9500\",\"#5d5b9e\",\"#fddfba\",\"#00939e\",\"#ffdb00\",\"#00aa79\",\"#520067\",\"#000091\",\"#0a5d3d\",\"#a5e275\",\"#623b41\",\"#c6c689\",\"#ff9eb5\",\"#cd4f6b\",\"#ff07d6\",\"#8a3a05\",\"#7e3d70\",\"#ff4901\",\"#602ba5\",\"#1c00ff\",\"#e6dfff\",\"#aa3baf\",\"#d89c00\",\"#a3a39e\",\"#3f69ff\",\"#46490c\",\"#7b6985\",\"#6b978c\",\"#ff9a75\",\"#835bff\",\"#7c6b46\",\"#80b654\",\"#bc0049\",\"#fd93ff\",\"#5d0018\",\"#89d1d1\",\"#9c8cd3\",\"#da6d42\",\"#8a5700\",\"#3b5069\",\"#4b6b3b\",\"#edcfd8\",\"#cfedff\",\"#aa1500\",\"#dfff4f\",\"#ff2a56\",\"#d1499e\",\"#707cb8\",\"#598000\",\"#00e4fd\",\"#774b95\",\"#67d48c\",\"#3d3a72\",\"#ac413f\",\"#d6a166\",\"#c169cd\",\"#69595d\",\"#87aced\",\"#a0a569\",\"#d1aae6\",\"#870062\",\"#00fddb\",\"#672818\",\"#b342ff\",\"#0e59c4\",\"#168742\",\"#90d300\",\"#cd7900\",\"#f959ff\",\"#5b7466\",\"#8eaeb3\",\"#9c7c8c\",\"#4600c6\",\"#6b4d2d\",\"#a56d46\",\"#9e8972\",\"#a8afca\",\"#cd8ca7\",\"#00fd64\",\"#917900\",\"#ff62a1\",\"#f4ffd8\",\"#018cf0\",\"#13aca0\",\"#5b2d59\",\"#89859e\",\"#cfccba\",\"#d4afc4\",\"#dbdd6d\",\"#cffff4\",\"#006485\",\"#006962\",\"#a84167\",\"#2d97c4\",\"#a874ff\",\"#26ba5d\",\"#57b600\",\"#caffa7\",\"#a379aa\",\"#ffbc93\",\"#89e2c1\",\"#0fc8ff\",\"#d400c4\",\"#626d89\",\"#69858e\",\"#4b4d52\",\"#aa6067\",\"#79b5d4\",\"#2b5916\",\"#9a0024\",\"#bdd1f2\",\"#896e67\",\"#69a56b\",\"#855467\",\"#aecdba\",\"#87997e\",\"#cadb00\",\"#9a0390\",\"#ebbc1a\",\"#eb9cd1\",\"#70006e\",\"#b1a131\",\"#ca6b93\",\"#4146a3\",\"#e48c89\",\"#d44400\",\"#c68aca\",\"#b69597\",\"#d41f75\",\"#724bcc\",\"#674d00\",\"#672138\",\"#38564f\",\"#6ebaaa\",\"#853a31\",\"#a5d397\",\"#b8af8e\",\"#d8e4df\",\"#aa00df\",\"#cac1db\",\"#ffdf8c\",\"#e2524d\",\"#66696e\",\"#ff001c\",\"#522d72\",\"#4d906b\",\"#a86d11\",\"#ff9e26\",\"#5ea3af\",\"#c88556\",\"#915997\",\"#a3a1ff\",\"#fdbaba\",\"#242a87\",\"#dbe6a8\",\"#97f2a7\",\"#6793d6\",\"#ba5b3f\",\"#3a5d91\",\"#364f2f\",\"#267c95\",\"#89959a\",\"#cfb356\",\"#004664\",\"#5e5d2f\",\"#8e8e41\",\"#ac3f13\",\"#69953b\",\"#a13d85\",\"#bfb6ba\",\"#acc667\",\"#6469cf\",\"#91af00\",\"#2be2da\",\"#016e36\",\"#ff7952\",\"#42807e\",\"#4fe800\",\"#995428\",\"#5d0a00\",\"#a30057\",\"#0c8700\",\"#5982a7\",\"#ffebfb\",\"#4b6901\",\"#8775d4\",\"#e6c6ff\",\"#a5ffda\",\"#d86e77\",\"#df014b\",\"#69675b\",\"#776ba1\",\"#7e8067\",\"#594685\",\"#0000ca\",\"#7c002a\",\"#97ff72\",\"#b5e2e1\",\"#db52c8\",\"#777734\",\"#57bd8e\",\"#1f77b3\",\"#ff7e0e\",\"#2ba02b\",\"#d62628\",\"#9367bc\",\"#8c564b\",\"#e277c1\",\"#7e7e7e\",\"#bcbc21\",\"#16bdcf\",\"#3a0182\",\"#004201\",\"#0fffa8\",\"#5d003f\",\"#bcbcff\",\"#d8afa1\",\"#b80080\",\"#004d52\",\"#6b6400\",\"#7c0100\",\"#6026ff\",\"#ffff9a\",\"#564964\",\"#8cb893\",\"#93fbff\",\"#018267\",\"#90ff00\",\"#8200a0\",\"#ac8944\",\"#5b3400\",\"#ffbff2\",\"#ff6e75\",\"#798cff\",\"#dd00ff\",\"#505646\",\"#004489\",\"#ffbf60\"],\"factors\":[\"chui\",\"bilibino\",\"ust-nera\",\"ribeira grande\",\"atafu village\",\"tolanaro\",\"kuacjok\",\"grytviken\",\"puerto natales\",\"takoradi\",\"tiksi\",\"hefei\",\"port-aux-francais\",\"iqaluit\",\"kyren\",\"olonkinbyen\",\"avarua\",\"edinburgh of the seven seas\",\"aasiaat\",\"port elizabeth\",\"st. john's\",\"keyser\",\"vorgashor\",\"salinas\",\"weno\",\"es castell\",\"poyarkovo\",\"georgetown\",\"pionerskiy\",\"whitehorse\",\"ves'yegonsk\",\"flying fish cove\",\"alo\",\"waitangi\",\"khorinsk\",\"tazacorte\",\"rosales\",\"vilyuchinsk\",\"novaya ladoga\",\"west island\",\"cotoca\",\"geraldton\",\"anadyr\",\"saint-philippe\",\"bethel\",\"adamstown\",\"la passe\",\"suwayr\",\"kingston\",\"sanya\",\"bardai\",\"hamilton\",\"bredasdorp\",\"papatowai\",\"steinbach\",\"albany\",\"hillvue\",\"constantia\",\"tura\",\"eloi mendes\",\"nuku'alofa\",\"thompson\",\"saint-pierre\",\"blackmans bay\",\"margaret river\",\"alaghsas\",\"port mathurin\",\"nova sintra\",\"plettenberg bay\",\"myshkin\",\"kone\",\"howard springs\",\"udachny\",\"quellon\",\"piti village\",\"kuanda\",\"mount gambier\",\"mahenge\",\"antsiranana\",\"puerto ayora\",\"magadan\",\"sitka\",\"alice springs\",\"longyearbyen\",\"uturoa\",\"dunedin\",\"ilulissat\",\"colonia\",\"narasannapeta\",\"hermanus\",\"tongeren\",\"nabire\",\"yellowknife\",\"nadi\",\"fort bragg\",\"wailua homesteads\",\"buala\",\"gwanda\",\"bougouni\",\"vorkuta\",\"dampit\",\"kerikeri\",\"kavaratti\",\"kununurra\",\"iskateley\",\"dhidhdhoo\",\"isafjordur\",\"talnakh\",\"kourou\",\"kayenta\",\"bel ombre\",\"kavieng\",\"nalut\",\"sigli\",\"menongue\",\"nemuro\",\"severo-yeniseyskiy\",\"polyarnyy\",\"anchorage\",\"yung shue wan\",\"nago\",\"cururupu\",\"ushuaia\",\"tonghae\",\"okha\",\"kamaishi\",\"boende\",\"enewetak\",\"bojnurd\",\"santa ana de yacuma\",\"tazovsky\",\"ola\",\"marka\",\"qarayeri\",\"toliara\",\"malaya vishera\",\"sovetskaya gavan'\",\"petropavlovsk-kamchatsky\",\"chinhoyi\",\"sao desiderio\",\"sandnessjoen\",\"la ronge\",\"chapayevsk\",\"lompoc\",\"hawaiian paradise park\",\"cold lake\",\"orange\",\"tanda\",\"dharampuri\",\"ruiz\",\"badger\",\"mwene-ditu\",\"altay\",\"arraial do cabo\",\"victorica\",\"lebu\",\"bikenibeu village\",\"invercargill\",\"saipan\",\"kodiak\",\"nar'yan-mar\",\"taos\",\"krasnogorskoye\",\"chonchi\",\"touros\",\"marsh harbour\",\"mayma\",\"chillicothe\",\"guelmim\",\"vryburg\",\"callao\",\"tvoroyri\",\"ubinskoye\",\"punta arenas\",\"lihue\",\"gorom-gorom\",\"khandyga\",\"dudinka\",\"kapuskasing\",\"ulysses\",\"bejaia\",\"shaowu\",\"laguna\",\"tezu\",\"port alfred\",\"kupang\",\"batang\",\"betio village\",\"banff\",\"siwa oasis\",\"santiago\",\"riberalta\",\"holualoa\",\"cidreira\",\"borogontsy\",\"ust'-barguzin\",\"kailua-kona\",\"ancud\",\"kiseljak\",\"kruisfontein\",\"malindi\",\"college\",\"berdyaush\",\"zheshart\",\"aleg\",\"zaysan\",\"katsuren-haebaru\",\"novyy urgal\",\"stanley\",\"luganville\",\"taroa\",\"zhanaozen\",\"awjilah\",\"port douglas\",\"bratsk\",\"port lincoln\",\"acarau\",\"nuuk\",\"kidal\",\"ciudad lazaro cardenas\",\"banda aceh\",\"rongelap\",\"tual\",\"lamarque\",\"afaahiti\",\"miajadas\",\"freetown\",\"adrar\",\"namibe\",\"mejit\",\"iguatu\",\"palmer\",\"al bawiti\",\"new norfolk\",\"klyuchi\",\"olyokminsk\",\"igarka\",\"kapa'a\",\"keflavik\",\"palikir - national government center\",\"lazaro cardenas\",\"whitecourt\",\"cabinda\",\"bubaque\",\"sao joao da barra\",\"hepo\",\"gazipasa\",\"luderitz\",\"modimolle\",\"grand falls-windsor\",\"naze\",\"hithadhoo\",\"paracuru\",\"codajas\",\"olutanga\",\"miri\",\"conception bay south\",\"sovetskiy\",\"qaqortoq\",\"chilmari\",\"mikun'\",\"jamestown\",\"qarazhal\",\"holbrook\",\"tame\",\"santa rosalia\",\"gulf shores\",\"rovaniemi\",\"yarmouth\",\"chardara\",\"ceres\",\"bintulu\",\"natal\",\"robore\",\"broken hill\",\"goroka\",\"san patricio\",\"tejen\",\"bhimunipatnam\",\"turkmenbasy\",\"isangel\",\"luwuk\",\"brookings\",\"vernon\",\"onega\",\"vila franca do campo\",\"sumenep\",\"erenhot\",\"codrington\",\"cooper's town\",\"taoudenni\",\"hasaki\",\"msowero\",\"valparaiso\",\"gadzhiyevo\",\"san salvador\",\"bryne\",\"bentota\",\"lycksele\",\"kirakira\",\"carutapera\",\"salalah\",\"bobo-dioulasso\",\"talakan\",\"gorontalo\",\"troitsko-pechorsk\",\"carnarvon\",\"sumbe\",\"la paz\",\"yanggu\",\"aliwal north\",\"general cabrera\",\"mil'kovo\",\"alesund\",\"pachino\",\"corn island\",\"tinogasta\",\"berrahal\",\"bucerias\",\"remire-montjoly\",\"mount isa\",\"sinop\",\"nova vicosa\",\"tsiombe\",\"chitungwiza\",\"newman\",\"lydenburg\",\"cill airne\",\"burang\",\"kasongo-lunda\",\"tindouf\",\"glace bay\",\"susuman\",\"marquelia\",\"bonthe\",\"prado\",\"shalqar\",\"mayqayyng\",\"beira\",\"laojunmiao\",\"hermosillo\",\"malinyi\",\"sidi bennour\",\"martapura\",\"misawa\",\"antonio enes\",\"boa vista\",\"kayangel\",\"kaihua\",\"chilca\",\"ibadan\",\"tobelo\",\"minas de marcona\",\"port blair\",\"hadibu\",\"lakatoro\",\"muisne\",\"ugoofaaru\",\"colipapa\",\"sekong\",\"ankazoabo\",\"happy valley-goose bay\",\"nova zagora\",\"inirida\",\"thinadhoo\",\"puerto ayacucho\",\"kemnath\",\"mar del plata\",\"rio grande\",\"balqash\",\"bhag\",\"launceston\",\"aban\",\"aykhal\",\"bang saphan\",\"da lat\",\"barcelos\",\"coquimbo\",\"nguigmi\",\"brandon\",\"santa maria da vitoria\",\"owen sound\",\"kota tinggi\",\"sur\",\"margate\",\"haiku-pauwela\",\"ust'-kut\",\"palu\",\"kodinsk\",\"nogliki\",\"fortuna\",\"tobruk\",\"dalandzadgad\",\"santa cruz\",\"sligo\",\"belel\",\"muroto-misakicho\",\"orapa\",\"lisakovsk\",\"sechura\",\"tamandare\",\"fort morgan\",\"forster\",\"nadym\",\"at-bashi\",\"hammerfest\",\"velez rubio\",\"queenstown\",\"pitkyaranta\",\"sao paulo de olivenca\",\"kolosovka\",\"sao gabriel da cachoeira\",\"souillac\",\"chibougamau\",\"prince rupert\",\"novodvinsk\",\"port macquarie\",\"jayapura\",\"kolonia\",\"sinjai\",\"vadso\",\"fale old settlement\",\"ponta delgada\",\"naryn\",\"kribi\",\"masterton\",\"kantunilkin\",\"creel\",\"mo i rana\",\"an nuhud\",\"sola\",\"mahibadhoo\",\"miquelon\",\"qulsary\",\"guiuan\",\"hilo\",\"laibin\",\"buka\",\"pikalevo\",\"fisterra\",\"sinabang\",\"altai\",\"khovd\",\"papao\",\"utrik\",\"san antonio de pale\",\"utete\",\"goba\",\"quelimane\",\"korsakov\",\"banlung\",\"guerrero negro\",\"saint-louis\",\"smithers\",\"yaren\",\"sisimiut\",\"cumbum\",\"hassi messaoud\",\"vikulovo\",\"kudahuvadhoo\",\"brisas de zicatela\",\"priozersk\",\"port augusta\",\"vuktyl\",\"shohimardon\",\"leh\",\"lao cai\",\"faro\",\"jindrichuv hradec\",\"morondava\",\"santana\",\"nagqu\",\"hong kong\",\"luorong\",\"puerto baquerizo moreno\",\"garden city\",\"aransas pass\",\"yuzhno-kurilsk\",\"cidade velha\",\"huilong\",\"olinda\",\"cukai\",\"san isidro de curuguaty\",\"wynyard\",\"montepuez\",\"shumerlya\",\"asilah\",\"kittila\",\"tortoli\",\"kapit\",\"kudat\",\"sao felix do xingu\",\"nova xavantina\",\"plav\",\"faya-largeau\",\"malakal\",\"coxen hole\",\"yakeshi\",\"corato\",\"kouroussa\",\"seven pagodas\",\"illizi\",\"pacific grove\",\"saint-jean-de-maurienne\",\"datong\",\"metlili chaamba\",\"cangzhou\",\"chichibu\",\"izberbash\",\"walvis bay\",\"yeppoon\",\"ondjiva\",\"boguchany\",\"sevastopol\",\"lagunas\",\"alfredo v. bonfil\",\"galle\",\"kitui\",\"vila velha\",\"sergeyevka\",\"nanchang\",\"mogadishu\",\"leesville\",\"richards bay\",\"fauske\",\"marina di massa\",\"kiunga\",\"dwarka\",\"ulimang\",\"boi\",\"araguari\",\"kirensk\",\"bozeman\",\"ventspils\",\"puerto escondido\",\"resplendor\",\"adler\",\"coahuayana de hidalgo\",\"barra dos coqueiros\",\"la sarre\",\"greymouth\",\"seminole\",\"marathon\",\"tinajo\",\"akureyri\",\"manaure\",\"richmond hill\",\"lyubim\",\"banaz\"]}}},\"fill_color\":{\"type\":\"field\",\"field\":\"color\",\"transform\":{\"id\":\"p1149\"}},\"hatch_color\":{\"type\":\"field\",\"field\":\"color\",\"transform\":{\"id\":\"p1149\"}}}},\"selection_glyph\":{\"type\":\"object\",\"name\":\"Scatter\",\"id\":\"p1158\",\"attributes\":{\"tags\":[\"apply_ranges\"],\"x\":{\"type\":\"field\",\"field\":\"Lng\"},\"y\":{\"type\":\"field\",\"field\":\"Lat\"},\"size\":{\"type\":\"field\",\"field\":\"size\"},\"line_color\":{\"type\":\"field\",\"field\":\"color\",\"transform\":{\"id\":\"p1149\"}},\"fill_color\":{\"type\":\"field\",\"field\":\"color\",\"transform\":{\"id\":\"p1149\"}},\"hatch_color\":{\"type\":\"field\",\"field\":\"color\",\"transform\":{\"id\":\"p1149\"}}}},\"nonselection_glyph\":{\"type\":\"object\",\"name\":\"Scatter\",\"id\":\"p1157\",\"attributes\":{\"tags\":[\"apply_ranges\"],\"x\":{\"type\":\"field\",\"field\":\"Lng\"},\"y\":{\"type\":\"field\",\"field\":\"Lat\"},\"size\":{\"type\":\"field\",\"field\":\"size\"},\"line_color\":{\"type\":\"field\",\"field\":\"color\",\"transform\":{\"id\":\"p1149\"}},\"line_alpha\":{\"type\":\"value\",\"value\":0.1},\"fill_color\":{\"type\":\"field\",\"field\":\"color\",\"transform\":{\"id\":\"p1149\"}},\"fill_alpha\":{\"type\":\"value\",\"value\":0.1},\"hatch_color\":{\"type\":\"field\",\"field\":\"color\",\"transform\":{\"id\":\"p1149\"}},\"hatch_alpha\":{\"type\":\"value\",\"value\":0.1}}},\"hover_glyph\":{\"type\":\"object\",\"name\":\"Scatter\",\"id\":\"p1159\",\"attributes\":{\"tags\":[\"apply_ranges\"],\"x\":{\"type\":\"field\",\"field\":\"Lng\"},\"y\":{\"type\":\"field\",\"field\":\"Lat\"},\"size\":{\"type\":\"field\",\"field\":\"size\"},\"line_color\":{\"type\":\"field\",\"field\":\"color\",\"transform\":{\"id\":\"p1149\"}},\"fill_color\":{\"type\":\"field\",\"field\":\"color\",\"transform\":{\"id\":\"p1149\"}},\"hatch_color\":{\"type\":\"field\",\"field\":\"color\",\"transform\":{\"id\":\"p1149\"}}}},\"muted_glyph\":{\"type\":\"object\",\"name\":\"Scatter\",\"id\":\"p1160\",\"attributes\":{\"tags\":[\"apply_ranges\"],\"x\":{\"type\":\"field\",\"field\":\"Lng\"},\"y\":{\"type\":\"field\",\"field\":\"Lat\"},\"size\":{\"type\":\"field\",\"field\":\"size\"},\"line_color\":{\"type\":\"field\",\"field\":\"color\",\"transform\":{\"id\":\"p1149\"}},\"line_alpha\":{\"type\":\"value\",\"value\":0.2},\"fill_color\":{\"type\":\"field\",\"field\":\"color\",\"transform\":{\"id\":\"p1149\"}},\"fill_alpha\":{\"type\":\"value\",\"value\":0.2},\"hatch_color\":{\"type\":\"field\",\"field\":\"color\",\"transform\":{\"id\":\"p1149\"}},\"hatch_alpha\":{\"type\":\"value\",\"value\":0.2}}}}}],\"toolbar\":{\"type\":\"object\",\"name\":\"Toolbar\",\"id\":\"p1121\",\"attributes\":{\"tools\":[{\"type\":\"object\",\"name\":\"WheelZoomTool\",\"id\":\"p1107\",\"attributes\":{\"tags\":[\"hv_created\"],\"zoom_on_axis\":false,\"zoom_together\":\"none\"}},{\"type\":\"object\",\"name\":\"HoverTool\",\"id\":\"p1111\",\"attributes\":{\"tags\":[\"hv_created\"],\"renderers\":[{\"id\":\"p1161\"}],\"tooltips\":[[\"Lng\",\"$x{custom}\"],[\"Lat\",\"$y{custom}\"],[\"City\",\"@{City}\"],[\"Humidity\",\"@{Humidity}\"],[\"Hotel Name\",\"@{Hotel_Name}\"],[\"Country\",\"@{Country}\"]],\"formatters\":{\"type\":\"map\",\"entries\":[[\"$x\",{\"type\":\"object\",\"name\":\"CustomJSHover\",\"id\":\"p1166\",\"attributes\":{\"code\":\"\\n        const projections = Bokeh.require(\\\"core/util/projections\\\");\\n        const {snap_x, snap_y} = special_vars\\n        const coords = projections.wgs84_mercator.invert(snap_x, snap_y)\\n        return \\\"\\\" + (coords[0]).toFixed(4)\\n    \"}}],[\"$y\",{\"type\":\"object\",\"name\":\"CustomJSHover\",\"id\":\"p1167\",\"attributes\":{\"code\":\"\\n        const projections = Bokeh.require(\\\"core/util/projections\\\");\\n        const {snap_x, snap_y} = special_vars\\n        const coords = projections.wgs84_mercator.invert(snap_x, snap_y)\\n        return \\\"\\\" + (coords[1]).toFixed(4)\\n    \"}}]]}}},{\"type\":\"object\",\"name\":\"SaveTool\",\"id\":\"p1134\"},{\"type\":\"object\",\"name\":\"PanTool\",\"id\":\"p1135\"},{\"type\":\"object\",\"name\":\"BoxZoomTool\",\"id\":\"p1136\",\"attributes\":{\"overlay\":{\"type\":\"object\",\"name\":\"BoxAnnotation\",\"id\":\"p1137\",\"attributes\":{\"syncable\":false,\"level\":\"overlay\",\"visible\":false,\"left_units\":\"canvas\",\"right_units\":\"canvas\",\"bottom_units\":\"canvas\",\"top_units\":\"canvas\",\"line_color\":\"black\",\"line_alpha\":1.0,\"line_width\":2,\"line_dash\":[4,4],\"fill_color\":\"lightgrey\",\"fill_alpha\":0.5}},\"match_aspect\":true}},{\"type\":\"object\",\"name\":\"ResetTool\",\"id\":\"p1138\"}],\"active_drag\":{\"id\":\"p1135\"}}},\"left\":[{\"type\":\"object\",\"name\":\"LinearAxis\",\"id\":\"p1129\",\"attributes\":{\"ticker\":{\"type\":\"object\",\"name\":\"MercatorTicker\",\"id\":\"p1141\",\"attributes\":{\"mantissas\":[1,2,5],\"dimension\":\"lat\"}},\"formatter\":{\"type\":\"object\",\"name\":\"MercatorTickFormatter\",\"id\":\"p1142\",\"attributes\":{\"dimension\":\"lat\"}},\"axis_label\":\"y\",\"major_label_policy\":{\"type\":\"object\",\"name\":\"AllLabels\",\"id\":\"p1132\"}}}],\"right\":[{\"type\":\"object\",\"name\":\"Legend\",\"id\":\"p1164\",\"attributes\":{\"location\":[0,0],\"click_policy\":\"mute\",\"items\":[{\"type\":\"object\",\"name\":\"LegendItem\",\"id\":\"p1165\",\"attributes\":{\"label\":{\"type\":\"field\",\"field\":\"color\"},\"renderers\":[{\"id\":\"p1161\"}]}}]}}],\"below\":[{\"type\":\"object\",\"name\":\"LinearAxis\",\"id\":\"p1124\",\"attributes\":{\"ticker\":{\"type\":\"object\",\"name\":\"MercatorTicker\",\"id\":\"p1139\",\"attributes\":{\"mantissas\":[1,2,5],\"dimension\":\"lon\"}},\"formatter\":{\"type\":\"object\",\"name\":\"MercatorTickFormatter\",\"id\":\"p1140\",\"attributes\":{\"dimension\":\"lon\"}},\"axis_label\":\"x\",\"major_label_policy\":{\"type\":\"object\",\"name\":\"AllLabels\",\"id\":\"p1127\"}}}],\"center\":[{\"type\":\"object\",\"name\":\"Grid\",\"id\":\"p1128\",\"attributes\":{\"axis\":{\"id\":\"p1124\"},\"grid_line_color\":null}},{\"type\":\"object\",\"name\":\"Grid\",\"id\":\"p1133\",\"attributes\":{\"dimension\":1,\"axis\":{\"id\":\"p1129\"},\"grid_line_color\":null}}],\"frame_width\":800,\"frame_height\":600,\"min_border_top\":10,\"min_border_bottom\":10,\"min_border_left\":10,\"min_border_right\":10,\"output_backend\":\"webgl\",\"match_aspect\":true}},{\"type\":\"object\",\"name\":\"Spacer\",\"id\":\"p1169\",\"attributes\":{\"name\":\"HSpacer01747\",\"stylesheets\":[\"\\n:host(.pn-loading.pn-arc):before, .pn-loading.pn-arc:before {\\n  background-image: url(\\\"data:image/svg+xml;base64,PHN2ZyB4bWxucz0iaHR0cDovL3d3dy53My5vcmcvMjAwMC9zdmciIHN0eWxlPSJtYXJnaW46IGF1dG87IGJhY2tncm91bmQ6IG5vbmU7IGRpc3BsYXk6IGJsb2NrOyBzaGFwZS1yZW5kZXJpbmc6IGF1dG87IiB2aWV3Qm94PSIwIDAgMTAwIDEwMCIgcHJlc2VydmVBc3BlY3RSYXRpbz0ieE1pZFlNaWQiPiAgPGNpcmNsZSBjeD0iNTAiIGN5PSI1MCIgZmlsbD0ibm9uZSIgc3Ryb2tlPSIjYzNjM2MzIiBzdHJva2Utd2lkdGg9IjEwIiByPSIzNSIgc3Ryb2tlLWRhc2hhcnJheT0iMTY0LjkzMzYxNDMxMzQ2NDE1IDU2Ljk3Nzg3MTQzNzgyMTM4Ij4gICAgPGFuaW1hdGVUcmFuc2Zvcm0gYXR0cmlidXRlTmFtZT0idHJhbnNmb3JtIiB0eXBlPSJyb3RhdGUiIHJlcGVhdENvdW50PSJpbmRlZmluaXRlIiBkdXI9IjFzIiB2YWx1ZXM9IjAgNTAgNTA7MzYwIDUwIDUwIiBrZXlUaW1lcz0iMDsxIj48L2FuaW1hdGVUcmFuc2Zvcm0+ICA8L2NpcmNsZT48L3N2Zz4=\\\");\\n  background-size: auto calc(min(50%, 400px));\\n}\",{\"id\":\"p1094\"},{\"id\":\"p1092\"},{\"id\":\"p1093\"}],\"margin\":0,\"sizing_mode\":\"stretch_width\",\"align\":\"start\"}}]}}],\"defs\":[{\"type\":\"model\",\"name\":\"ReactiveHTML1\"},{\"type\":\"model\",\"name\":\"FlexBox1\",\"properties\":[{\"name\":\"align_content\",\"kind\":\"Any\",\"default\":\"flex-start\"},{\"name\":\"align_items\",\"kind\":\"Any\",\"default\":\"flex-start\"},{\"name\":\"flex_direction\",\"kind\":\"Any\",\"default\":\"row\"},{\"name\":\"flex_wrap\",\"kind\":\"Any\",\"default\":\"wrap\"},{\"name\":\"justify_content\",\"kind\":\"Any\",\"default\":\"flex-start\"}]},{\"type\":\"model\",\"name\":\"FloatPanel1\",\"properties\":[{\"name\":\"config\",\"kind\":\"Any\",\"default\":{\"type\":\"map\"}},{\"name\":\"contained\",\"kind\":\"Any\",\"default\":true},{\"name\":\"position\",\"kind\":\"Any\",\"default\":\"right-top\"},{\"name\":\"offsetx\",\"kind\":\"Any\",\"default\":null},{\"name\":\"offsety\",\"kind\":\"Any\",\"default\":null},{\"name\":\"theme\",\"kind\":\"Any\",\"default\":\"primary\"},{\"name\":\"status\",\"kind\":\"Any\",\"default\":\"normalized\"}]},{\"type\":\"model\",\"name\":\"GridStack1\",\"properties\":[{\"name\":\"mode\",\"kind\":\"Any\",\"default\":\"warn\"},{\"name\":\"ncols\",\"kind\":\"Any\",\"default\":null},{\"name\":\"nrows\",\"kind\":\"Any\",\"default\":null},{\"name\":\"allow_resize\",\"kind\":\"Any\",\"default\":true},{\"name\":\"allow_drag\",\"kind\":\"Any\",\"default\":true},{\"name\":\"state\",\"kind\":\"Any\",\"default\":[]}]},{\"type\":\"model\",\"name\":\"drag1\",\"properties\":[{\"name\":\"slider_width\",\"kind\":\"Any\",\"default\":5},{\"name\":\"slider_color\",\"kind\":\"Any\",\"default\":\"black\"},{\"name\":\"value\",\"kind\":\"Any\",\"default\":50}]},{\"type\":\"model\",\"name\":\"click1\",\"properties\":[{\"name\":\"terminal_output\",\"kind\":\"Any\",\"default\":\"\"},{\"name\":\"debug_name\",\"kind\":\"Any\",\"default\":\"\"},{\"name\":\"clears\",\"kind\":\"Any\",\"default\":0}]},{\"type\":\"model\",\"name\":\"FastWrapper1\",\"properties\":[{\"name\":\"object\",\"kind\":\"Any\",\"default\":null},{\"name\":\"style\",\"kind\":\"Any\",\"default\":null}]},{\"type\":\"model\",\"name\":\"NotificationAreaBase1\",\"properties\":[{\"name\":\"js_events\",\"kind\":\"Any\",\"default\":{\"type\":\"map\"}},{\"name\":\"position\",\"kind\":\"Any\",\"default\":\"bottom-right\"},{\"name\":\"_clear\",\"kind\":\"Any\",\"default\":0}]},{\"type\":\"model\",\"name\":\"NotificationArea1\",\"properties\":[{\"name\":\"js_events\",\"kind\":\"Any\",\"default\":{\"type\":\"map\"}},{\"name\":\"notifications\",\"kind\":\"Any\",\"default\":[]},{\"name\":\"position\",\"kind\":\"Any\",\"default\":\"bottom-right\"},{\"name\":\"_clear\",\"kind\":\"Any\",\"default\":0},{\"name\":\"types\",\"kind\":\"Any\",\"default\":[{\"type\":\"map\",\"entries\":[[\"type\",\"warning\"],[\"background\",\"#ffc107\"],[\"icon\",{\"type\":\"map\",\"entries\":[[\"className\",\"fas fa-exclamation-triangle\"],[\"tagName\",\"i\"],[\"color\",\"white\"]]}]]},{\"type\":\"map\",\"entries\":[[\"type\",\"info\"],[\"background\",\"#007bff\"],[\"icon\",{\"type\":\"map\",\"entries\":[[\"className\",\"fas fa-info-circle\"],[\"tagName\",\"i\"],[\"color\",\"white\"]]}]]}]}]},{\"type\":\"model\",\"name\":\"Notification\",\"properties\":[{\"name\":\"background\",\"kind\":\"Any\",\"default\":null},{\"name\":\"duration\",\"kind\":\"Any\",\"default\":3000},{\"name\":\"icon\",\"kind\":\"Any\",\"default\":null},{\"name\":\"message\",\"kind\":\"Any\",\"default\":\"\"},{\"name\":\"notification_type\",\"kind\":\"Any\",\"default\":null},{\"name\":\"_destroyed\",\"kind\":\"Any\",\"default\":false}]},{\"type\":\"model\",\"name\":\"TemplateActions1\",\"properties\":[{\"name\":\"open_modal\",\"kind\":\"Any\",\"default\":0},{\"name\":\"close_modal\",\"kind\":\"Any\",\"default\":0}]},{\"type\":\"model\",\"name\":\"BootstrapTemplateActions1\",\"properties\":[{\"name\":\"open_modal\",\"kind\":\"Any\",\"default\":0},{\"name\":\"close_modal\",\"kind\":\"Any\",\"default\":0}]},{\"type\":\"model\",\"name\":\"MaterialTemplateActions1\",\"properties\":[{\"name\":\"open_modal\",\"kind\":\"Any\",\"default\":0},{\"name\":\"close_modal\",\"kind\":\"Any\",\"default\":0}]}]}};\n",
       "  var render_items = [{\"docid\":\"2526b307-0b37-4b29-a550-2eaafd2d660e\",\"roots\":{\"p1091\":\"faac4bd3-44cc-4031-9d4b-a3df8fdd7669\"},\"root_ids\":[\"p1091\"]}];\n",
       "  var docs = Object.values(docs_json)\n",
       "  if (!docs) {\n",
       "    return\n",
       "  }\n",
       "  const py_version = docs[0].version.replace('rc', '-rc.').replace('.dev', '-dev.')\n",
       "  const is_dev = py_version.indexOf(\"+\") !== -1 || py_version.indexOf(\"-\") !== -1\n",
       "  function embed_document(root) {\n",
       "    var Bokeh = get_bokeh(root)\n",
       "    Bokeh.embed.embed_items_notebook(docs_json, render_items);\n",
       "    for (const render_item of render_items) {\n",
       "      for (const root_id of render_item.root_ids) {\n",
       "\tconst id_el = document.getElementById(root_id)\n",
       "\tif (id_el.children.length && (id_el.children[0].className === 'bk-root')) {\n",
       "\t  const root_el = id_el.children[0]\n",
       "\t  root_el.id = root_el.id + '-rendered'\n",
       "\t}\n",
       "      }\n",
       "    }\n",
       "  }\n",
       "  function get_bokeh(root) {\n",
       "    if (root.Bokeh === undefined) {\n",
       "      return null\n",
       "    } else if (root.Bokeh.version !== py_version && !is_dev) {\n",
       "      if (root.Bokeh.versions === undefined || !root.Bokeh.versions.has(py_version)) {\n",
       "\treturn null\n",
       "      }\n",
       "      return root.Bokeh.versions.get(py_version);\n",
       "    } else if (root.Bokeh.version === py_version) {\n",
       "      return root.Bokeh\n",
       "    }\n",
       "    return null\n",
       "  }\n",
       "  function is_loaded(root) {\n",
       "    var Bokeh = get_bokeh(root)\n",
       "    return (Bokeh != null && Bokeh.Panel !== undefined)\n",
       "  }\n",
       "  if (is_loaded(root)) {\n",
       "    embed_document(root);\n",
       "  } else {\n",
       "    var attempts = 0;\n",
       "    var timer = setInterval(function(root) {\n",
       "      if (is_loaded(root)) {\n",
       "        clearInterval(timer);\n",
       "        embed_document(root);\n",
       "      } else if (document.readyState == \"complete\") {\n",
       "        attempts++;\n",
       "        if (attempts > 200) {\n",
       "          clearInterval(timer);\n",
       "\t  var Bokeh = get_bokeh(root)\n",
       "\t  if (Bokeh == null || Bokeh.Panel == null) {\n",
       "            console.warn(\"Panel: ERROR: Unable to run Panel code because Bokeh or Panel library is missing\");\n",
       "\t  } else {\n",
       "\t    console.warn(\"Panel: WARNING: Attempting to render but not all required libraries could be resolved.\")\n",
       "\t    embed_document(root)\n",
       "\t  }\n",
       "        }\n",
       "      }\n",
       "    }, 25, root)\n",
       "  }\n",
       "})(window);</script>"
      ],
      "text/plain": [
       ":Overlay\n",
       "   .Tiles.I  :Tiles   [x,y]\n",
       "   .Points.I :Points   [Lng,Lat]   (City,Humidity,Hotel Name,Country)"
      ]
     },
     "execution_count": 8,
     "metadata": {
      "application/vnd.holoviews_exec.v0+json": {
       "id": "p1091"
      }
     },
     "output_type": "execute_result"
    }
   ],
   "source": [
    "%%capture --no-display\n",
    "\n",
    "# Configure the map plot\n",
    "map_plot2 = hotel_df.hvplot.points(\"Lng\", \"Lat\", geo = True, tiles = \"OSM\", frame_width = 800, frame_height = 600, size = \"Humidity\", color = \"City\", hover_cols = [\"Hotel Name\", \"Country\"])\n",
    "\n",
    "# Display the map\n",
    "map_plot2"
   ]
  },
  {
   "cell_type": "code",
   "execution_count": null,
   "metadata": {},
   "outputs": [],
   "source": []
  }
 ],
 "metadata": {
  "kernelspec": {
   "display_name": "Python 3 (ipykernel)",
   "language": "python",
   "name": "python3"
  },
  "language_info": {
   "codemirror_mode": {
    "name": "ipython",
    "version": 3
   },
   "file_extension": ".py",
   "mimetype": "text/x-python",
   "name": "python",
   "nbconvert_exporter": "python",
   "pygments_lexer": "ipython3",
   "version": "3.10.9"
  },
  "latex_envs": {
   "LaTeX_envs_menu_present": true,
   "autoclose": false,
   "autocomplete": true,
   "bibliofile": "biblio.bib",
   "cite_by": "apalike",
   "current_citInitial": 1,
   "eqLabelWithNumbers": true,
   "eqNumInitial": 1,
   "hotkeys": {
    "equation": "Ctrl-E",
    "itemize": "Ctrl-I"
   },
   "labels_anchors": false,
   "latex_user_defs": false,
   "report_style_numbering": false,
   "user_envs_cfg": false
  }
 },
 "nbformat": 4,
 "nbformat_minor": 4
}
